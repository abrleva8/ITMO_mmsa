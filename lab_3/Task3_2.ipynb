{
 "cells": [
  {
   "cell_type": "markdown",
   "metadata": {},
   "source": [
    "# Task 3\n",
    "\n",
    "\n",
    "Performed by:</br>\n",
    "Emil Gaibaliev</br>\n",
    "Levon Abramian</br>\n",
    "Sofia Romanenko"
   ]
  },
  {
   "cell_type": "code",
   "execution_count": 33,
   "metadata": {
    "ExecuteTime": {
     "end_time": "2024-11-27T14:44:21.634958Z",
     "start_time": "2024-11-27T14:44:21.399567Z"
    }
   },
   "outputs": [],
   "source": [
    "# !pip install --upgrade pip\n",
    "# !pip install pgmpy -q\n",
    "# !pip install umap-learn -q\n",
    "\n",
    "# Core libraries\n",
    "import numpy as np\n",
    "import pandas as pd\n",
    "import matplotlib.pyplot as plt\n",
    "import seaborn as sns\n",
    "\n",
    "# Configure pandas and seaborn settings\n",
    "pd.set_option('display.float_format', lambda x: '%.3f' % x)  # Format pandas float display\n",
    "pd.options.mode.chained_assignment = None  # Suppress warnings for chained assignments\n",
    "sns.set_theme(rc={'figure.figsize': (11.7, 8.27)})  # Set default seaborn figure size\n",
    "\n",
    "# Libraries for advanced visualizations\n",
    "import plotly.express as px\n",
    "import networkx as nx\n",
    "\n",
    "# Libraries for clustering and dimensionality reduction\n",
    "from sklearn.cluster import KMeans\n",
    "from sklearn.decomposition import PCA\n",
    "from sklearn.manifold import TSNE\n",
    "import umap\n",
    "\n",
    "# Libraries for modeling and preprocessing\n",
    "from sklearn.linear_model import Lasso, LinearRegression\n",
    "from sklearn.preprocessing import StandardScaler\n",
    "from sklearn.model_selection import cross_val_score, train_test_split, KFold\n",
    "\n",
    "# Metrics and statistical tests\n",
    "from sklearn.metrics import root_mean_squared_error, r2_score, mean_absolute_error\n",
    "from scipy import stats\n",
    "from statsmodels.stats.outliers_influence import variance_inflation_factor\n",
    "from scipy.stats import wilcoxon, ttest_rel\n",
    "\n",
    "# Libraries for hierarchical clustering\n",
    "import scipy.cluster.hierarchy as sch\n",
    "\n",
    "# Libraries for graph-based and structured modeling\n",
    "from pgmpy.estimators import HillClimbSearch, BicScore\n",
    "\n",
    "# Collections\n",
    "from collections import defaultdict\n"
   ]
  },
  {
   "cell_type": "code",
   "execution_count": 2,
   "metadata": {
    "ExecuteTime": {
     "end_time": "2024-11-27T14:44:21.719886Z",
     "start_time": "2024-11-27T14:44:21.636975Z"
    }
   },
   "outputs": [],
   "source": [
    "data = pd.read_csv('./L1_data_output.csv')"
   ]
  },
  {
   "cell_type": "markdown",
   "metadata": {},
   "source": [
    "## Model with initial data"
   ]
  },
  {
   "cell_type": "code",
   "execution_count": 3,
   "metadata": {},
   "outputs": [],
   "source": [
    "initial = pd.read_csv('./real_estate_data.csv', sep='\\t')"
   ]
  },
  {
   "cell_type": "code",
   "execution_count": 4,
   "metadata": {},
   "outputs": [],
   "source": [
    "initial = initial.drop(columns=[\n",
    "    'first_day_exposition', 'ceiling_height', 'is_apartment', 'balcony', 'locality_name', 'parks_nearest', 'ponds_nearest'\n",
    "])\n",
    "initial = initial.dropna()\n"
   ]
  },
  {
   "cell_type": "code",
   "execution_count": 5,
   "metadata": {},
   "outputs": [],
   "source": [
    "X = initial.drop(columns=['last_price'])\n",
    "y = initial['last_price']"
   ]
  },
  {
   "cell_type": "code",
   "execution_count": 6,
   "metadata": {},
   "outputs": [],
   "source": [
    "X_train_init, X_test_init, y_train_init, y_test_init = train_test_split(X, y, test_size=0.25)"
   ]
  },
  {
   "cell_type": "code",
   "execution_count": 7,
   "metadata": {},
   "outputs": [
    {
     "name": "stdout",
     "output_type": "stream",
     "text": [
      "RMSE:5386341.45 R2:0.44 \n"
     ]
    }
   ],
   "source": [
    "model_init = LinearRegression()\n",
    "model_init.fit(X_train_init, y_train_init)\n",
    "y_pred = model_init.predict(X_test_init)\n",
    "print('RMSE:{:.2f} R2:{:.2f} '.format(\n",
    "        root_mean_squared_error(y_test_init, y_pred),\n",
    "        r2_score(y_test_init, y_pred)\n",
    "    )\n",
    ")"
   ]
  },
  {
   "cell_type": "markdown",
   "metadata": {},
   "source": [
    "## Model with Post-Univariate data"
   ]
  },
  {
   "cell_type": "code",
   "execution_count": 8,
   "metadata": {
    "ExecuteTime": {
     "end_time": "2024-11-27T14:44:31.783791Z",
     "start_time": "2024-11-27T14:44:31.777911Z"
    }
   },
   "outputs": [],
   "source": [
    "df_1 = data.sort_values(by=['publishing_year', 'publishing_month'])"
   ]
  },
  {
   "cell_type": "code",
   "execution_count": 9,
   "metadata": {
    "ExecuteTime": {
     "end_time": "2024-11-27T14:44:31.824746Z",
     "start_time": "2024-11-27T14:44:31.819714Z"
    }
   },
   "outputs": [],
   "source": [
    "X = df_1.drop(columns=['last_price'])\n",
    "y = df_1['last_price']"
   ]
  },
  {
   "cell_type": "code",
   "execution_count": 10,
   "metadata": {
    "ExecuteTime": {
     "end_time": "2024-11-27T14:44:31.935198Z",
     "start_time": "2024-11-27T14:44:31.931318Z"
    }
   },
   "outputs": [],
   "source": [
    "X_train_pr = X[:15000]\n",
    "y_train_pr = y[:15000]\n",
    "\n",
    "X_test_pr = X[15000:]\n",
    "y_test_pr = y[15000:]"
   ]
  },
  {
   "cell_type": "markdown",
   "metadata": {},
   "source": [
    "Sorting and dividing manually because of timeseries."
   ]
  },
  {
   "cell_type": "code",
   "execution_count": 11,
   "metadata": {
    "ExecuteTime": {
     "end_time": "2024-11-27T14:44:31.975744Z",
     "start_time": "2024-11-27T14:44:31.973005Z"
    }
   },
   "outputs": [
    {
     "name": "stdout",
     "output_type": "stream",
     "text": [
      "(15000, 19)\n",
      "(15000,)\n",
      "(6781, 19)\n",
      "(6781,)\n"
     ]
    }
   ],
   "source": [
    "print(X_train_pr.shape)\n",
    "print(y_train_pr.shape)\n",
    "\n",
    "print(X_test_pr.shape)\n",
    "print(y_test_pr.shape)"
   ]
  },
  {
   "cell_type": "code",
   "execution_count": 12,
   "metadata": {
    "ExecuteTime": {
     "end_time": "2024-11-27T14:44:32.095536Z",
     "start_time": "2024-11-27T14:44:32.075519Z"
    }
   },
   "outputs": [],
   "source": [
    "scaler = StandardScaler()\n",
    "X_train_st = scaler.fit_transform(X_train_pr)\n",
    "X_test_st = scaler.transform(X_test_pr)"
   ]
  },
  {
   "cell_type": "code",
   "execution_count": 13,
   "metadata": {
    "ExecuteTime": {
     "end_time": "2024-11-27T14:44:32.197290Z",
     "start_time": "2024-11-27T14:44:32.141239Z"
    }
   },
   "outputs": [
    {
     "name": "stdout",
     "output_type": "stream",
     "text": [
      "RMSE:1964178.56 R2:0.71 \n"
     ]
    }
   ],
   "source": [
    "model = LinearRegression()\n",
    "model.fit(X_train_st, y_train_pr)\n",
    "y_pred_pr = model.predict(X_test_st)\n",
    "print('RMSE:{:.2f} R2:{:.2f} '.format(\n",
    "        root_mean_squared_error(y_test_pr, y_pred_pr),\n",
    "        r2_score(y_test_pr, y_pred_pr)\n",
    "    )\n",
    ")"
   ]
  },
  {
   "cell_type": "markdown",
   "metadata": {},
   "source": [
    "## Model with Post-Multivariatevariate data"
   ]
  },
  {
   "cell_type": "code",
   "execution_count": 14,
   "metadata": {},
   "outputs": [],
   "source": [
    "df_2 = pd.read_csv('kmeans_2.csv')"
   ]
  },
  {
   "cell_type": "code",
   "execution_count": 15,
   "metadata": {},
   "outputs": [],
   "source": [
    "def get_metrics(df, target_col = 'last_price'):\n",
    "    X = df.drop(columns=[target_col])\n",
    "    y = df[target_col]\n",
    "    \n",
    "    X_train, X_test, y_train, y_test = train_test_split(X, y, test_size=0.25, random_state=42, shuffle=False)\n",
    "    scaler = StandardScaler()\n",
    "    X_train_st = scaler.fit_transform(X_train)\n",
    "    X_test_st = scaler.transform(X_test)\n",
    "\n",
    "    model = LinearRegression()\n",
    "    model.fit(X_train_st, y_train)\n",
    "    y_pred = model.predict(X_test_st)\n",
    "    print(f'MAE:\\t{mean_absolute_error(y_test, y_pred):_.2f}')\n",
    "    print(f'RMSE:\\t{root_mean_squared_error(y_test, y_pred):_.2f}')\n",
    "    print(f'R\\u00b2:\\t{r2_score(y_test, y_pred):.2f}')\n",
    "    return y_test, y_pred, X_test_st\n",
    "   "
   ]
  },
  {
   "cell_type": "code",
   "execution_count": 16,
   "metadata": {},
   "outputs": [
    {
     "name": "stdout",
     "output_type": "stream",
     "text": [
      "MAE:\t2_208_745.70\n",
      "RMSE:\t5_945_807.65\n",
      "R²:\t0.61\n"
     ]
    }
   ],
   "source": [
    "y_test_multi, y_pred_multi, X_test_st_2 = get_metrics(df_2)"
   ]
  },
  {
   "cell_type": "code",
   "execution_count": 17,
   "metadata": {
    "ExecuteTime": {
     "end_time": "2024-11-27T14:44:34.872555Z",
     "start_time": "2024-11-27T14:44:34.846575Z"
    }
   },
   "outputs": [
    {
     "name": "stdout",
     "output_type": "stream",
     "text": [
      "RMSE:2108068.88 R2:0.70 \n"
     ]
    }
   ],
   "source": [
    "X = data.drop(columns=['last_price'])\n",
    "y = data['last_price']\n",
    "\n",
    "X_train = X[:15000]\n",
    "y_train = y[:15000]\n",
    "\n",
    "X_test = X[15000:]\n",
    "y_test = y[15000:]\n",
    "\n",
    "model = LinearRegression()\n",
    "model.fit(X_train, y_train)\n",
    "y_pred = model.predict(X_test)\n",
    "print('RMSE:{:.2f} R2:{:.2f} '.format(\n",
    "        root_mean_squared_error(y_test, y_pred),\n",
    "        r2_score(y_test, y_pred)\n",
    "    )\n",
    ")"
   ]
  },
  {
   "cell_type": "markdown",
   "metadata": {},
   "source": [
    "It is clear that in this case, the asymmetry treating not only failed to improve the quality of predictions, but also led to its deterioration. This could happen for several reasons. For example, due to the loss of information in the process of artificial data distortion. Also, asymmetry is not always a problem, some data can be asymmetrical in nature."
   ]
  },
  {
   "cell_type": "markdown",
   "metadata": {},
   "source": [
    "## Model Performance Comparison with Classical Metrics"
   ]
  },
  {
   "cell_type": "markdown",
   "metadata": {},
   "source": [
    "### Post-Univariate vs Post-Multivariate"
   ]
  },
  {
   "cell_type": "code",
   "execution_count": 18,
   "metadata": {},
   "outputs": [
    {
     "name": "stdout",
     "output_type": "stream",
     "text": [
      "               Model        RMSE         MAE    R2  Adjusted R2\n",
      "0            Initial 5386341.448 2472036.328 0.441        0.438\n",
      "1    Post-Univariate 1964178.556 1189541.249 0.711        0.710\n",
      "2  Post-Multivariate 5945807.648 2208745.702 0.610        0.609\n"
     ]
    }
   ],
   "source": [
    "\n",
    "def adjusted_r2(r2, n, k):\n",
    "    return 1 - (1 - r2) * (n - 1) / (n - k - 1)\n",
    "\n",
    "\n",
    "rmse_initial = root_mean_squared_error(y_test_init, model_init.predict(X_test_init))\n",
    "mae_initial = mean_absolute_error(y_test_init, model_init.predict(X_test_init))\n",
    "r2_initial = r2_score(y_test_init, model_init.predict(X_test_init))\n",
    "adj_r2_initial = adjusted_r2(r2_initial, len(y_test_init), X_test_init.shape[1])\n",
    "\n",
    "\n",
    "rmse_univariate = root_mean_squared_error(y_test_pr, y_pred_pr)\n",
    "mae_univariate = mean_absolute_error(y_test_pr, y_pred_pr)\n",
    "r2_univariate = r2_score(y_test_pr, y_pred_pr)\n",
    "adj_r2_univariate = adjusted_r2(r2_univariate, len(y_test_pr), X_test_st.shape[1])\n",
    "\n",
    "rmse_multivariate = root_mean_squared_error(y_test_multi, y_pred_multi)\n",
    "mae_multivariate = mean_absolute_error(y_test_multi, y_pred_multi)\n",
    "r2_multivariate = r2_score(y_test_multi, y_pred_multi)\n",
    "adj_r2_multivariate = adjusted_r2(r2_multivariate, len(y_test_multi), X_test_st_2.shape[1])\n",
    "\n",
    "\n",
    "metrics_comparison = pd.DataFrame({\n",
    "    'Model': ['Initial', 'Post-Univariate', 'Post-Multivariate'],\n",
    "    'RMSE': [rmse_initial, rmse_univariate, rmse_multivariate],\n",
    "    'MAE': [mae_initial, mae_univariate, mae_multivariate],\n",
    "    'R2': [r2_initial, r2_univariate, r2_multivariate],\n",
    "    'Adjusted R2': [adj_r2_initial, adj_r2_univariate, adj_r2_multivariate]\n",
    "})\n",
    "\n",
    "print(metrics_comparison)"
   ]
  },
  {
   "cell_type": "code",
   "execution_count": 19,
   "metadata": {},
   "outputs": [
    {
     "data": {
      "image/png": "[encoded data removed]",
      "text/plain": [
       "<Figure size 800x500 with 1 Axes>"
      ]
     },
     "metadata": {},
     "output_type": "display_data"
    },
    {
     "data": {
      "image/png": "[encoded data removed]",
      "text/plain": [
       "<Figure size 800x500 with 1 Axes>"
      ]
     },
     "metadata": {},
     "output_type": "display_data"
    },
    {
     "data": {
      "image/png": "[encoded data removed]",
      "text/plain": [
       "<Figure size 800x500 with 1 Axes>"
      ]
     },
     "metadata": {},
     "output_type": "display_data"
    },
    {
     "data": {
      "image/png": "[encoded data removed]",
      "text/plain": [
       "<Figure size 800x500 with 1 Axes>"
      ]
     },
     "metadata": {},
     "output_type": "display_data"
    }
   ],
   "source": [
    "metrics = ['RMSE', 'MAE', 'R2', 'Adjusted R2']\n",
    "\n",
    "for metric in metrics:\n",
    "    plt.figure(figsize=(8, 5))\n",
    "    bars = plt.bar(metrics_comparison['Model'], metrics_comparison[metric], color=['blue', 'orange'])\n",
    "    plt.title(f'Comparison of {metric}', fontsize=14, fontweight='bold')\n",
    "    plt.ylabel(metric, fontsize=12)\n",
    "    plt.xlabel('Model', fontsize=12)\n",
    "    plt.xticks(rotation=0, fontsize=10)\n",
    "    plt.grid(axis='y', linestyle='--', alpha=0.7)\n",
    "\n",
    "\n",
    "    for bar in bars:\n",
    "        plt.text(\n",
    "            bar.get_x() + bar.get_width() / 2, \n",
    "            bar.get_height(), \n",
    "            f'{bar.get_height():.2f}' if metric != 'RMSE' else f'{bar.get_height():.0f}', \n",
    "            ha='center', \n",
    "            va='bottom', \n",
    "            fontsize=10\n",
    "        )\n",
    "\n",
    "    plt.show()"
   ]
  },
  {
   "cell_type": "markdown",
   "metadata": {},
   "source": [
    "Key Observations:\n",
    "\n",
    "1. Reduction in Error:\n",
    "\n",
    "- RMSE decreased from 5,388,559.38 to 1,964,178.56, representing a 3.63-fold improvement.\n",
    "- MAE was similarly reduced significantly, indicating that predictions became much closer to the actual values on average.\n",
    "\n",
    "2. Improved Predictive Strength:\n",
    "\n",
    "\n",
    "- R \n",
    "2\n",
    "  increased from 0.480 to 0.710, reflecting a notable improvement in the model's ability to explain the variance in the target variable.\n",
    "- Adjusted \n",
    "R \n",
    "2\n",
    " , which accounts for the number of predictors, also rose from 0.478 to 0.709, confirming that the improvement wasn't due to overfitting.\n",
    "\n",
    "3. Impact of Univariate Analysis:\n",
    "\n",
    "- Univariate analysis improved the model by handling outliers, noise, missing values, and adding relevant features.\n",
    "- This enhanced the quality of data used for training, which is critical for building a robust predictive model.\n"
   ]
  },
  {
   "cell_type": "markdown",
   "metadata": {},
   "source": [
    "### Post-multivariate"
   ]
  },
  {
   "cell_type": "code",
   "execution_count": 20,
   "metadata": {},
   "outputs": [],
   "source": [
    "metrics_comparison_mult = pd.read_csv('./Metrics_mult.csv')"
   ]
  },
  {
   "cell_type": "code",
   "execution_count": 21,
   "metadata": {},
   "outputs": [
    {
     "data": {
      "image/png": "[encoded data removed]",
      "text/plain": [
       "<Figure size 1400x600 with 1 Axes>"
      ]
     },
     "metadata": {},
     "output_type": "display_data"
    },
    {
     "data": {
      "image/png": "[encoded data removed]",
      "text/plain": [
       "<Figure size 1400x600 with 1 Axes>"
      ]
     },
     "metadata": {},
     "output_type": "display_data"
    },
    {
     "name": "stderr",
     "output_type": "stream",
     "text": [
      "C:\\Users\\Ilia\\AppData\\Local\\Temp\\ipykernel_17172\\3959666751.py:30: FutureWarning: \n",
      "\n",
      "Passing `palette` without assigning `hue` is deprecated and will be removed in v0.14.0. Assign the `x` variable to `hue` and set `legend=False` for the same effect.\n",
      "\n",
      "  sns.barplot(x=\"Section\", y=\"R²\", data=metrics_data, palette=\"viridis\")\n"
     ]
    },
    {
     "data": {
      "image/png": "[encoded data removed]",
      "text/plain": [
       "<Figure size 1000x600 with 1 Axes>"
      ]
     },
     "metadata": {},
     "output_type": "display_data"
    }
   ],
   "source": [
    "metrics_data = metrics_comparison_mult \n",
    "\n",
    "sns.set_style(\"whitegrid\")\n",
    "\n",
    "# Plot MAE comparison\n",
    "plt.figure(figsize=(14, 6))\n",
    "ax = sns.barplot(x=\"Section\", y=\"MAE\", data=metrics_data, color=\"blue\")\n",
    "for p in ax.patches:\n",
    "    ax.annotate(f'{p.get_height():.2f}', (p.get_x() + p.get_width() / 2., p.get_height()), \n",
    "                ha='center', va='center', fontsize=10, color='black', xytext=(0, 5),\n",
    "                textcoords='offset points')\n",
    "plt.title(\"Comparison of MAE\", fontsize=16)\n",
    "plt.ylabel(\"MAE Value\")\n",
    "plt.xticks(rotation=45)\n",
    "plt.show()\n",
    "\n",
    "# Plot RMSE comparison\n",
    "plt.figure(figsize=(14, 6))\n",
    "ax = sns.barplot(x=\"Section\", y=\"RMSE\", data=metrics_data, color=\"orange\")\n",
    "for p in ax.patches:\n",
    "    ax.annotate(f'{p.get_height():.2f}', (p.get_x() + p.get_width() / 2., p.get_height()), \n",
    "                ha='center', va='center', fontsize=10, color='black', xytext=(0, 5),\n",
    "                textcoords='offset points')\n",
    "plt.title(\"Comparison of RMSE\", fontsize=16)\n",
    "plt.ylabel(\"RMSE Value\")\n",
    "plt.xticks(rotation=45)\n",
    "plt.show()\n",
    "# Plot R² comparison\n",
    "plt.figure(figsize=(10, 6))\n",
    "sns.barplot(x=\"Section\", y=\"R²\", data=metrics_data, palette=\"viridis\")\n",
    "plt.title(\"R² Comparison\", fontsize=16)\n",
    "plt.ylabel(\"R² Value\")\n",
    "plt.xticks(rotation=45)\n",
    "plt.axhline(0, color=\"red\", linestyle=\"--\", linewidth=1)\n",
    "plt.show()"
   ]
  },
  {
   "cell_type": "markdown",
   "metadata": {},
   "source": [
    "1. MAE (Mean Absolute Error):\n",
    "- The highest MAE value is observed in the INITIAL MODEL, indicating a high average absolute prediction error at this stage.\n",
    "- After the Feature Selection and VIF Analysis stages, MAE significantly decreases, confirming that removing irrelevant features and addressing multicollinearity improves model accuracy.\n",
    "- Both t-SNE and UMAP show increased MAE, suggesting that these approaches are less effective for this task.\n",
    "- The Kmeans and Polynomial Features methods achieve the lowest MAE values, highlighting substantial improvements in prediction accuracy at these stages.\n",
    "- The Bayes method also demonstrates a low MAE, reflecting consistent improvements in accuracy.\n",
    "\n",
    "2. RMSE (Root Mean Square Error):\n",
    "- The RMSE graph follows a similar trend: the INITIAL MODEL has the highest RMSE, reflecting substantial prediction errors.\n",
    "- Optimization steps such as Feature Selection, VIF Analysis, and applying Kmeans lead to a significant reduction in RMSE.\n",
    "- Once again, t-SNE and UMAP display higher RMSE values, indicating their limited applicability to this problem.\n",
    "\n",
    "3. 𝑅2 (Coefficient of Determination):\n",
    "- The R2 graph shows clear improvements in model quality after optimization steps:\n",
    "  - The INITIAL MODEL has a negative 𝑅2 value (−8.84), signifying no predictive power.\n",
    "  - After feature optimization and methods like Kmeans and Polynomial Features,R2 improves to approximately 0.61, indicating better model alignment with the data.\n",
    "  - The Bayes method achieves the highest R2  value (0.72), confirming its high effectiveness for this task.\n",
    " \n",
    "\n",
    "4. Overall Conclusions:\n",
    "- Feature optimization (e.g., Feature Selection and VIF Analysis) is critical for improving model performance.\n",
    "- Non-linear modeling methods such as Kmeans and Polynomial Features deliver the best results in terms of MAE and RMSE.\n",
    "- The Bayes method exhibits the highest accuracy (𝑅2=0.72), making it highly suitable for the final model.\n"
   ]
  },
  {
   "cell_type": "markdown",
   "metadata": {},
   "source": [
    "## Statistical Comparison of Model Performance"
   ]
  },
  {
   "cell_type": "code",
   "execution_count": 22,
   "metadata": {},
   "outputs": [
    {
     "name": "stdout",
     "output_type": "stream",
     "text": [
      "initial_metrics [np.float64(5386341.448268147), np.float64(2472036.3281816323), np.float64(0.4405834290904378), np.float64(0.438362262898511)]\n",
      "post_univariate_metrics [np.float64(1964178.5558179228), np.float64(1189541.2491387406), np.float64(0.710680278340073), np.float64(0.7098672218822208)]\n"
     ]
    }
   ],
   "source": [
    "initial_metrics = metrics_comparison.iloc[0, 1:].tolist()  \n",
    "post_univariate_metrics = metrics_comparison.iloc[1, 1:].tolist()  \n",
    "\n",
    "print(\"initial_metrics\", initial_metrics)\n",
    "print(\"post_univariate_metrics\", post_univariate_metrics)\n"
   ]
  },
  {
   "cell_type": "code",
   "execution_count": 23,
   "metadata": {},
   "outputs": [],
   "source": [
    "if len(initial_metrics) != len(post_univariate_metrics):\n",
    "    raise ValueError(\"Both models must have the same number of observations.\")\n",
    "\n",
    "differences = np.array(initial_metrics) - np.array(post_univariate_metrics)"
   ]
  },
  {
   "cell_type": "code",
   "execution_count": 24,
   "metadata": {},
   "outputs": [
    {
     "name": "stdout",
     "output_type": "stream",
     "text": [
      "Paired T-Test Results:\n",
      "t-statistic: 1.4567, p-value: 0.2412\n"
     ]
    }
   ],
   "source": [
    "# Paired T-Test\n",
    "t_stat, p_value_ttest = ttest_rel(initial_metrics, post_univariate_metrics)\n",
    "print(\"Paired T-Test Results:\")\n",
    "print(f\"t-statistic: {t_stat:.4f}, p-value: {p_value_ttest:.4f}\")"
   ]
  },
  {
   "cell_type": "code",
   "execution_count": 25,
   "metadata": {},
   "outputs": [
    {
     "name": "stdout",
     "output_type": "stream",
     "text": [
      "\n",
      "Wilcoxon Signed-Rank Test Results:\n",
      "w-statistic: 3.0, p-value: 0.6250\n"
     ]
    }
   ],
   "source": [
    "# Wilcoxon Signed-Rank Test\n",
    "w_stat, p_value_wilcoxon = wilcoxon(initial_metrics, post_univariate_metrics)\n",
    "print(\"\\nWilcoxon Signed-Rank Test Results:\")\n",
    "print(f\"w-statistic: {w_stat}, p-value: {p_value_wilcoxon:.4f}\")"
   ]
  },
  {
   "cell_type": "code",
   "execution_count": 26,
   "metadata": {},
   "outputs": [
    {
     "name": "stdout",
     "output_type": "stream",
     "text": [
      "\n",
      "Interpretation:\n",
      "Paired T-Test: No significant difference between algorithms.\n",
      "Wilcoxon Signed-Rank Test: No significant difference between algorithms.\n"
     ]
    }
   ],
   "source": [
    "alpha = 0.05  \n",
    "print(\"\\nInterpretation:\")\n",
    "if p_value_ttest < alpha:\n",
    "    print(\"Paired T-Test: Significant difference between algorithms.\")\n",
    "else:\n",
    "    print(\"Paired T-Test: No significant difference between algorithms.\")\n",
    "\n",
    "if p_value_wilcoxon < alpha:\n",
    "    print(\"Wilcoxon Signed-Rank Test: Significant difference between algorithms.\")\n",
    "else:\n",
    "    print(\"Wilcoxon Signed-Rank Test: No significant difference between algorithms.\")"
   ]
  },
  {
   "cell_type": "code",
   "execution_count": 43,
   "metadata": {},
   "outputs": [],
   "source": [
    "from multiscorer import MultiScorer\n",
    "from sklearn.metrics import mean_absolute_error, root_mean_squared_error, r2_score, calinski_harabasz_score"
   ]
  },
  {
   "cell_type": "code",
   "execution_count": 52,
   "metadata": {},
   "outputs": [],
   "source": [
    "# create model\n",
    "def get_scores(df):\n",
    "    model = LinearRegression()\n",
    "    X = df.drop(columns=['last_price'])\n",
    "    y = df['last_price']\n",
    "    n_splits = 10\n",
    "    cv = KFold(n_splits=n_splits)\n",
    "    # evaluate model\n",
    "    scorers = ['neg_mean_absolute_error', 'neg_root_mean_squared_error', 'r2']\n",
    "    res_dict = {}\n",
    "    for score in scorers:\n",
    "        scores = cross_val_score(\n",
    "            model, X, y, scoring=score, cv=cv, n_jobs=-1)\n",
    "        # accuracy\n",
    "        res_dict[score] = scores\n",
    "    # print(res_dict)\n",
    "    return res_dict\n",
    "    "
   ]
  },
  {
   "cell_type": "code",
   "execution_count": 53,
   "metadata": {},
   "outputs": [],
   "source": [
    "initial_scores = get_scores(initial)\n",
    "df_1_scores = get_scores(df_1)\n",
    "df_2_scores = get_scores(df_2)"
   ]
  },
  {
   "cell_type": "code",
   "execution_count": 72,
   "metadata": {},
   "outputs": [],
   "source": [
    "def compare(df_1_scores, df_2_scores, method, name):\n",
    "    for key in initial_scores.keys():\n",
    "        print(key)\n",
    "        t_stat, p_value_ttest = method(df_1_scores[key], df_2_scores[key])\n",
    "        print(f\"Paired {name} Results:\")\n",
    "        print(f\"statistic: {t_stat:.4f}, p-value: {p_value_ttest:.4f}\")\n",
    "        print('--------')"
   ]
  },
  {
   "cell_type": "markdown",
   "metadata": {},
   "source": [
    "# T-test"
   ]
  },
  {
   "cell_type": "code",
   "execution_count": 74,
   "metadata": {},
   "outputs": [
    {
     "name": "stdout",
     "output_type": "stream",
     "text": [
      "neg_mean_absolute_error\n",
      "Paired t-test Results:\n",
      "statistic: -32.6308, p-value: 0.0000\n",
      "--------\n",
      "neg_root_mean_squared_error\n",
      "Paired t-test Results:\n",
      "statistic: -6.4228, p-value: 0.0001\n",
      "--------\n",
      "r2\n",
      "Paired t-test Results:\n",
      "statistic: -11.5458, p-value: 0.0000\n",
      "--------\n",
      "neg_mean_absolute_error\n",
      "Paired t-test Results:\n",
      "statistic: -2.9943, p-value: 0.0151\n",
      "--------\n",
      "neg_root_mean_squared_error\n",
      "Paired t-test Results:\n",
      "statistic: 0.3806, p-value: 0.7124\n",
      "--------\n",
      "r2\n",
      "Paired t-test Results:\n",
      "statistic: 0.7742, p-value: 0.4586\n",
      "--------\n",
      "neg_mean_absolute_error\n",
      "Paired t-test Results:\n",
      "statistic: -25.2325, p-value: 0.0000\n",
      "--------\n",
      "neg_root_mean_squared_error\n",
      "Paired t-test Results:\n",
      "statistic: -4.5643, p-value: 0.0014\n",
      "--------\n",
      "r2\n",
      "Paired t-test Results:\n",
      "statistic: -6.1447, p-value: 0.0002\n",
      "--------\n"
     ]
    }
   ],
   "source": [
    "compare(initial_scores, df_1_scores, ttest_rel, 't-test')\n",
    "compare(initial_scores, df_2_scores, ttest_rel, 't-test')\n",
    "compare(df_2_scores, df_1_scores, ttest_rel, 't-test')"
   ]
  },
  {
   "cell_type": "code",
   "execution_count": 75,
   "metadata": {},
   "outputs": [
    {
     "name": "stdout",
     "output_type": "stream",
     "text": [
      "neg_mean_absolute_error\n",
      "Paired Wilcoxon Signed-Rank Test Results:\n",
      "statistic: 0.0000, p-value: 0.0020\n",
      "--------\n",
      "neg_root_mean_squared_error\n",
      "Paired Wilcoxon Signed-Rank Test Results:\n",
      "statistic: 0.0000, p-value: 0.0020\n",
      "--------\n",
      "r2\n",
      "Paired Wilcoxon Signed-Rank Test Results:\n",
      "statistic: 0.0000, p-value: 0.0020\n",
      "--------\n",
      "neg_mean_absolute_error\n",
      "Paired Wilcoxon Signed-Rank Test Results:\n",
      "statistic: 4.0000, p-value: 0.0137\n",
      "--------\n",
      "neg_root_mean_squared_error\n",
      "Paired Wilcoxon Signed-Rank Test Results:\n",
      "statistic: 14.0000, p-value: 0.1934\n",
      "--------\n",
      "r2\n",
      "Paired Wilcoxon Signed-Rank Test Results:\n",
      "statistic: 26.0000, p-value: 0.9219\n",
      "--------\n",
      "neg_mean_absolute_error\n",
      "Paired Wilcoxon Signed-Rank Test Results:\n",
      "statistic: 0.0000, p-value: 0.0020\n",
      "--------\n",
      "neg_root_mean_squared_error\n",
      "Paired Wilcoxon Signed-Rank Test Results:\n",
      "statistic: 0.0000, p-value: 0.0020\n",
      "--------\n",
      "r2\n",
      "Paired Wilcoxon Signed-Rank Test Results:\n",
      "statistic: 0.0000, p-value: 0.0020\n",
      "--------\n"
     ]
    }
   ],
   "source": [
    "compare(initial_scores, df_1_scores, wilcoxon, 'Wilcoxon Signed-Rank Test')\n",
    "compare(initial_scores, df_2_scores, wilcoxon, 'Wilcoxon Signed-Rank Test')\n",
    "compare(df_2_scores, df_1_scores, wilcoxon, 'Wilcoxon Signed-Rank Test')"
   ]
  },
  {
   "cell_type": "code",
   "execution_count": 76,
   "metadata": {},
   "outputs": [],
   "source": [
    "from scipy.stats import friedmanchisquare"
   ]
  },
  {
   "cell_type": "code",
   "execution_count": 82,
   "metadata": {},
   "outputs": [
    {
     "name": "stdout",
     "output_type": "stream",
     "text": [
      "neg_mean_absolute_error\n",
      "Significant differences detected among models (p < 0.05). Proceeding with Nemenyi Test...\n",
      "---------\n",
      "neg_root_mean_squared_error\n",
      "Significant differences detected among models (p < 0.05). Proceeding with Nemenyi Test...\n",
      "---------\n",
      "r2\n",
      "Significant differences detected among models (p < 0.05). Proceeding with Nemenyi Test...\n",
      "---------\n"
     ]
    }
   ],
   "source": [
    "for key in initial_scores.keys():\n",
    "    print(key)\n",
    "    res = friedmanchisquare(initial_scores[key], df_1_scores[key], df_2_scores[key])\n",
    "    if res.pvalue < 0.05:\n",
    "        print(\"Significant differences detected among models (p < 0.05). Proceeding with Nemenyi Test...\")\n",
    "    else:\n",
    "        print(\"No significant differences detected among models (p >= 0.05).\")\n",
    "    print('---------')"
   ]
  },
  {
   "cell_type": "code",
   "execution_count": null,
   "metadata": {},
   "outputs": [],
   "source": [
    "# data = np.array([model_1_scores, model_2_scores, model_3_scores])"
   ]
  },
  {
   "cell_type": "code",
   "execution_count": 87,
   "metadata": {},
   "outputs": [],
   "source": [
    "from itertools import combinations"
   ]
  },
  {
   "cell_type": "code",
   "execution_count": 88,
   "metadata": {},
   "outputs": [
    {
     "name": "stdout",
     "output_type": "stream",
     "text": [
      "\n",
      "Average Ranks of Models:\n",
      "Model 1: 2.90\n",
      "Model 2: 1.00\n",
      "Model 3: 2.10\n",
      "\n",
      "Critical Difference (CD): 1.0478\n",
      "\n",
      "Nemenyi Test Pairwise Comparisons:\n",
      "Model 1 vs. Model 2: |Rank Diff| = 1.9000 -> Significant\n",
      "Model 1 vs. Model 3: |Rank Diff| = 0.8000 -> Not Significant\n",
      "Model 2 vs. Model 3: |Rank Diff| = 1.1000 -> Significant\n",
      "\n",
      "Average Ranks of Models:\n",
      "Model 1: 2.70\n",
      "Model 2: 1.00\n",
      "Model 3: 2.30\n",
      "\n",
      "Critical Difference (CD): 1.0478\n",
      "\n",
      "Nemenyi Test Pairwise Comparisons:\n",
      "Model 1 vs. Model 2: |Rank Diff| = 1.7000 -> Significant\n",
      "Model 1 vs. Model 3: |Rank Diff| = 0.4000 -> Not Significant\n",
      "Model 2 vs. Model 3: |Rank Diff| = 1.3000 -> Significant\n",
      "\n",
      "Average Ranks of Models:\n",
      "Model 1: 2.50\n",
      "Model 2: 1.00\n",
      "Model 3: 2.50\n",
      "\n",
      "Critical Difference (CD): 1.0478\n",
      "\n",
      "Nemenyi Test Pairwise Comparisons:\n",
      "Model 1 vs. Model 2: |Rank Diff| = 1.5000 -> Significant\n",
      "Model 1 vs. Model 3: |Rank Diff| = 0.0000 -> Not Significant\n",
      "Model 2 vs. Model 3: |Rank Diff| = 1.5000 -> Significant\n"
     ]
    }
   ],
   "source": [
    "for key in initial_scores.keys():\n",
    "    data = np.array([initial_scores[key], df_1_scores[key], df_2_scores[key]])\n",
    "    ranks = np.argsort(np.argsort(-data, axis=0), axis=0) + 1  # Rank within each column (higher score = better rank)\n",
    "    average_ranks = ranks.mean(axis=1)\n",
    "    print(\"\\nAverage Ranks of Models:\")\n",
    "    for i, avg_rank in enumerate(average_ranks):\n",
    "        print(f\"Model {i + 1}: {avg_rank:.2f}\")\n",
    "\n",
    "    n_models, n_samples = data.shape\n",
    "    q_alpha = 2.343  # Critical value for alpha=0.05 and k=3 models (from Nemenyi table)\n",
    "    cd = q_alpha * np.sqrt(n_models * (n_models + 1) / (6 * n_samples))\n",
    "    print(f\"\\nCritical Difference (CD): {cd:.4f}\")\n",
    "\n",
    "    print(\"\\nNemenyi Test Pairwise Comparisons:\")\n",
    "    significant_pairs = []\n",
    "    for (i, j) in combinations(range(n_models), 2):\n",
    "        diff = abs(average_ranks[i] - average_ranks[j])\n",
    "        significant = diff > cd\n",
    "        if significant:\n",
    "            significant_pairs.append((i + 1, j + 1))\n",
    "        print(f\"Model {i + 1} vs. Model {j + 1}: |Rank Diff| = {diff:.4f} -> {'Significant' if significant else 'Not Significant'}\")"
   ]
  },
  {
   "cell_type": "code",
   "execution_count": 144,
   "metadata": {},
   "outputs": [],
   "source": [
    "import math\n",
    "def calculate_aic(n, mse, num_params):\n",
    "    aic = n * math.log(mse) + 2 * num_params\n",
    "    return aic"
   ]
  },
  {
   "cell_type": "code",
   "execution_count": 145,
   "metadata": {},
   "outputs": [],
   "source": [
    "# calculate bic for regression\n",
    "def calculate_bic(n, mse, num_params):\n",
    "    bic = n * math.log(mse) + num_params * math.log(n)\n",
    "    return bic"
   ]
  },
  {
   "cell_type": "code",
   "execution_count": 146,
   "metadata": {},
   "outputs": [
    {
     "data": {
      "text/plain": [
       "np.float64(2324166.282531154)"
      ]
     },
     "execution_count": 146,
     "metadata": {},
     "output_type": "execute_result"
    }
   ],
   "source": [
    "np.abs(np.mean(initial_scores['neg_mean_absolute_error']))"
   ]
  },
  {
   "cell_type": "code",
   "execution_count": 147,
   "metadata": {},
   "outputs": [
    {
     "name": "stdout",
     "output_type": "stream",
     "text": [
      "neg_mean_absolute_error\n",
      "aic_initial=247.88307916805263: %.3f\n",
      "aic_1=317.62193710237807: %.3f\n",
      "aic_2=263.9434285137906: %.3f\n",
      "-----\n",
      "neg_root_mean_squared_error\n",
      "aic_initial=264.0660704200904: %.3f\n",
      "aic_1=327.86458133220697: %.3f\n",
      "aic_2=282.7328064276313: %.3f\n",
      "-----\n",
      "r2\n",
      "aic_initial=17.79319990731861: %.3f\n",
      "aic_1=31.313738091552032: %.3f\n",
      "aic_2=18.240065297534095: %.3f\n",
      "-----\n"
     ]
    }
   ],
   "source": [
    "aic_dict_initial = {}\n",
    "aic_dict_1 = {}\n",
    "aic_dict_2 = {}\n",
    "for key in initial_scores.keys():\n",
    "    print(key)\n",
    "    aic_initial = calculate_aic(initial.shape[1], np.abs(np.mean(initial_scores[key])), num_params=initial.shape[1] - 1)\n",
    "    aic_1 = calculate_aic(df_1.shape[1], np.abs(np.mean(df_1_scores[key])), num_params=df_1.shape[1] - 1)\n",
    "    aic_2 = calculate_aic(df_2.shape[1], np.abs(np.mean(df_2_scores[key])), num_params=df_2.shape[1] - 1)\n",
    "    print(f'{aic_initial=}: %.3f')\n",
    "    print(f'{aic_1=}: %.3f')\n",
    "    print(f'{aic_2=}: %.3f')\n",
    "    aic_dict_initial[key] = aic_initial\n",
    "    aic_dict_1[key] = aic_1\n",
    "    aic_dict_2[key] = aic_2\n",
    "    print('-----')"
   ]
  },
  {
   "cell_type": "code",
   "execution_count": 149,
   "metadata": {},
   "outputs": [
    {
     "name": "stdout",
     "output_type": "stream",
     "text": [
      "neg_mean_absolute_error\n",
      "bic_initial=257.79578198348355: %.3f\n",
      "bic_1=336.5408502999039: %.3f\n",
      "bic_2=275.5322593473873: %.3f\n",
      "-----\n",
      "neg_root_mean_squared_error\n",
      "bic_initial=273.9787732355213: %.3f\n",
      "bic_1=346.7834945297328: %.3f\n",
      "bic_2=294.32163726122803: %.3f\n",
      "-----\n",
      "r2\n",
      "bic_initial=27.70590272274955: %.3f\n",
      "bic_1=50.23265128907786: %.3f\n",
      "bic_2=29.82889613113081: %.3f\n",
      "-----\n"
     ]
    }
   ],
   "source": [
    "bic_dict_initial = {}\n",
    "bic_dict_1 = {}\n",
    "bic_dict_2 = {}\n",
    "for key in initial_scores.keys():\n",
    "    print(key)\n",
    "    bic_initial = calculate_bic(initial.shape[1], np.abs(np.mean(initial_scores[key])), num_params=initial.shape[1] - 1)\n",
    "    bic_1 = calculate_bic(df_1.shape[1], np.abs(np.mean(df_1_scores[key])), num_params=df_1.shape[1] - 1)\n",
    "    bic_2 = calculate_bic(df_2.shape[1], np.abs(np.mean(df_2_scores[key])), num_params=df_2.shape[1] - 1)\n",
    "    print(f'{bic_initial=}: %.3f')\n",
    "    print(f'{bic_1=}: %.3f')\n",
    "    print(f'{bic_2=}: %.3f')\n",
    "    bic_dict_initial[key] = bic_initial\n",
    "    bic_dict_1[key] = bic_1\n",
    "    bic_dict_2[key] = bic_2\n",
    "    print('-----')"
   ]
  },
  {
   "cell_type": "code",
   "execution_count": 156,
   "metadata": {},
   "outputs": [],
   "source": [
    "def bf_aic(aic_1, aic_2):\n",
    "    dif = aic_1 - aic_2\n",
    "    return np.exp(dif/2)\n",
    "\n",
    "def bf_bic(bic_1, bic_2):\n",
    "    dif = bic_1 - bic_2\n",
    "    return np.exp(-dif/2)"
   ]
  },
  {
   "cell_type": "code",
   "execution_count": 157,
   "metadata": {},
   "outputs": [
    {
     "name": "stdout",
     "output_type": "stream",
     "text": [
      "r2\n",
      "Initial vs 1\n",
      "0.0011589172764388878\n",
      "-----\n",
      "Initial vs 2\n",
      "0.799768718403604\n",
      "-----\n",
      "1 vs 2\n",
      "0.001449065523282994\n",
      "-----\n"
     ]
    }
   ],
   "source": [
    "key = 'r2'\n",
    "print(key)\n",
    "# Initial vs 1\n",
    "print('Initial vs 1')\n",
    "print(bf_aic(aic_dict_initial[key], aic_dict_1[key]))\n",
    "print('-----')\n",
    "\n",
    "# Initial vs 2\n",
    "print('Initial vs 2')\n",
    "print(bf_aic(aic_dict_initial[key], aic_dict_2[key]))\n",
    "print('-----')\n",
    "\n",
    "# 1 vs 2\n",
    "print('1 vs 2')\n",
    "print(bf_aic(aic_dict_2[key], aic_dict_1[key]))\n",
    "print('-----')"
   ]
  },
  {
   "cell_type": "code",
   "execution_count": 159,
   "metadata": {},
   "outputs": [
    {
     "name": "stdout",
     "output_type": "stream",
     "text": [
      "r2\n",
      "Initial vs 1\n",
      "77915.04014839743\n",
      "-----\n",
      "Initial vs 2\n",
      "2.890694267350467\n",
      "-----\n",
      "1 vs 2\n",
      "3.710059395265451e-05\n",
      "-----\n"
     ]
    }
   ],
   "source": [
    "key = 'r2'\n",
    "print(key)\n",
    "# Initial vs 1\n",
    "print('Initial vs 1')\n",
    "print(bf_bic(bic_dict_initial[key], bic_dict_1[key]))\n",
    "print('-----')\n",
    "\n",
    "# Initial vs 2\n",
    "print('Initial vs 2')\n",
    "print(bf_bic(bic_dict_initial[key], bic_dict_2[key]))\n",
    "print('-----')\n",
    "\n",
    "# 1 vs 2\n",
    "print('1 vs 2')\n",
    "print(bf_bic(bic_dict_1[key], bic_dict_2[key]))\n",
    "print('-----')"
   ]
  },
  {
   "cell_type": "code",
   "execution_count": null,
   "metadata": {},
   "outputs": [],
   "source": [
    "bf_aic(aic_dict[])"
   ]
  },
  {
   "cell_type": "markdown",
   "metadata": {},
   "source": [
    "## Best Model Selection "
   ]
  },
  {
   "cell_type": "markdown",
   "metadata": {},
   "source": [
    "initial_metrics"
   ]
  }
 ],
 "metadata": {
  "ExecuteTimeLog": [
   {
    "duration": 413,
    "start_time": "2022-12-04T18:07:16.770Z"
   },
   {
    "duration": 317,
    "start_time": "2022-12-04T18:08:08.906Z"
   },
   {
    "duration": 12,
    "start_time": "2022-12-04T18:08:19.213Z"
   },
   {
    "duration": 101,
    "start_time": "2022-12-04T18:08:40.643Z"
   },
   {
    "duration": 27,
    "start_time": "2022-12-04T18:08:41.226Z"
   },
   {
    "duration": 15,
    "start_time": "2022-12-04T18:13:11.853Z"
   },
   {
    "duration": 2323,
    "start_time": "2022-12-04T18:20:46.446Z"
   },
   {
    "duration": 17,
    "start_time": "2022-12-04T18:25:49.222Z"
   },
   {
    "duration": 5,
    "start_time": "2022-12-04T18:27:03.241Z"
   },
   {
    "duration": 7,
    "start_time": "2022-12-04T18:30:08.278Z"
   },
   {
    "duration": 4,
    "start_time": "2022-12-04T18:31:32.456Z"
   },
   {
    "duration": 6,
    "start_time": "2022-12-04T18:32:22.490Z"
   },
   {
    "duration": 5,
    "start_time": "2022-12-04T18:46:04.302Z"
   },
   {
    "duration": 6,
    "start_time": "2022-12-04T18:46:37.805Z"
   },
   {
    "duration": 4,
    "start_time": "2022-12-04T18:46:54.432Z"
   },
   {
    "duration": 6,
    "start_time": "2022-12-04T18:47:47.458Z"
   },
   {
    "duration": 66,
    "start_time": "2022-12-04T18:49:08.600Z"
   },
   {
    "duration": 13,
    "start_time": "2022-12-04T18:49:27.602Z"
   },
   {
    "duration": 9,
    "start_time": "2022-12-04T18:49:39.760Z"
   },
   {
    "duration": 12,
    "start_time": "2022-12-04T18:51:33.749Z"
   },
   {
    "duration": 18,
    "start_time": "2022-12-04T18:57:41.830Z"
   },
   {
    "duration": 16,
    "start_time": "2022-12-04T18:58:11.538Z"
   },
   {
    "duration": 12,
    "start_time": "2022-12-04T18:58:29.913Z"
   },
   {
    "duration": 8,
    "start_time": "2022-12-04T18:59:14.912Z"
   },
   {
    "duration": 391,
    "start_time": "2022-12-04T19:00:26.669Z"
   },
   {
    "duration": 89,
    "start_time": "2022-12-04T19:00:27.062Z"
   },
   {
    "duration": 26,
    "start_time": "2022-12-04T19:00:27.153Z"
   },
   {
    "duration": 21,
    "start_time": "2022-12-04T19:00:27.180Z"
   },
   {
    "duration": 1906,
    "start_time": "2022-12-04T19:00:27.203Z"
   },
   {
    "duration": 13,
    "start_time": "2022-12-04T19:00:29.110Z"
   },
   {
    "duration": 13,
    "start_time": "2022-12-04T19:00:29.124Z"
   },
   {
    "duration": 8,
    "start_time": "2022-12-04T19:00:29.139Z"
   },
   {
    "duration": 12,
    "start_time": "2022-12-04T19:00:29.148Z"
   },
   {
    "duration": 12,
    "start_time": "2022-12-04T19:00:29.161Z"
   },
   {
    "duration": 4,
    "start_time": "2022-12-04T19:00:29.175Z"
   },
   {
    "duration": 11,
    "start_time": "2022-12-04T19:00:29.180Z"
   },
   {
    "duration": 8,
    "start_time": "2022-12-04T19:00:29.192Z"
   },
   {
    "duration": 14,
    "start_time": "2022-12-04T19:00:29.202Z"
   },
   {
    "duration": 14,
    "start_time": "2022-12-04T19:00:29.217Z"
   },
   {
    "duration": 5,
    "start_time": "2022-12-04T19:00:29.232Z"
   },
   {
    "duration": 6,
    "start_time": "2022-12-04T19:00:40.781Z"
   },
   {
    "duration": 14,
    "start_time": "2022-12-04T19:00:47.859Z"
   },
   {
    "duration": 8,
    "start_time": "2022-12-04T19:00:51.310Z"
   },
   {
    "duration": 15,
    "start_time": "2022-12-04T19:02:12.893Z"
   },
   {
    "duration": 6,
    "start_time": "2022-12-04T19:03:27.710Z"
   },
   {
    "duration": 4,
    "start_time": "2022-12-04T19:03:35.989Z"
   },
   {
    "duration": 763,
    "start_time": "2022-12-04T19:04:42.205Z"
   },
   {
    "duration": 6,
    "start_time": "2022-12-04T19:04:52.890Z"
   },
   {
    "duration": 8,
    "start_time": "2022-12-04T19:05:54.126Z"
   },
   {
    "duration": 7,
    "start_time": "2022-12-04T20:41:27.308Z"
   },
   {
    "duration": 256,
    "start_time": "2022-12-04T20:42:01.413Z"
   },
   {
    "duration": 222,
    "start_time": "2022-12-04T20:42:22.299Z"
   },
   {
    "duration": 275,
    "start_time": "2022-12-04T20:44:14.077Z"
   },
   {
    "duration": 131,
    "start_time": "2022-12-04T20:44:19.745Z"
   },
   {
    "duration": 39,
    "start_time": "2022-12-04T20:52:32.752Z"
   },
   {
    "duration": 8,
    "start_time": "2022-12-04T20:53:25.288Z"
   },
   {
    "duration": 5,
    "start_time": "2022-12-04T21:05:27.909Z"
   },
   {
    "duration": 7,
    "start_time": "2022-12-04T21:05:43.792Z"
   },
   {
    "duration": 45,
    "start_time": "2022-12-04T21:06:55.228Z"
   },
   {
    "duration": 38,
    "start_time": "2022-12-04T21:07:40.329Z"
   },
   {
    "duration": 5,
    "start_time": "2022-12-04T21:08:18.741Z"
   },
   {
    "duration": 4,
    "start_time": "2022-12-04T21:08:29.879Z"
   },
   {
    "duration": 6,
    "start_time": "2022-12-04T21:10:36.817Z"
   },
   {
    "duration": 8,
    "start_time": "2022-12-04T21:10:49.166Z"
   },
   {
    "duration": 110,
    "start_time": "2022-12-04T21:11:46.387Z"
   },
   {
    "duration": 114,
    "start_time": "2022-12-04T21:11:58.191Z"
   },
   {
    "duration": 11,
    "start_time": "2022-12-04T21:12:39.008Z"
   },
   {
    "duration": 397,
    "start_time": "2022-12-04T21:14:20.560Z"
   },
   {
    "duration": 92,
    "start_time": "2022-12-04T21:14:20.959Z"
   },
   {
    "duration": 27,
    "start_time": "2022-12-04T21:14:21.053Z"
   },
   {
    "duration": 14,
    "start_time": "2022-12-04T21:14:21.082Z"
   },
   {
    "duration": 1892,
    "start_time": "2022-12-04T21:14:21.097Z"
   },
   {
    "duration": 13,
    "start_time": "2022-12-04T21:14:22.990Z"
   },
   {
    "duration": 5,
    "start_time": "2022-12-04T21:14:23.004Z"
   },
   {
    "duration": 10,
    "start_time": "2022-12-04T21:14:23.010Z"
   },
   {
    "duration": 4,
    "start_time": "2022-12-04T21:14:23.021Z"
   },
   {
    "duration": 5,
    "start_time": "2022-12-04T21:14:23.027Z"
   },
   {
    "duration": 5,
    "start_time": "2022-12-04T21:14:23.033Z"
   },
   {
    "duration": 6,
    "start_time": "2022-12-04T21:14:23.039Z"
   },
   {
    "duration": 31,
    "start_time": "2022-12-04T21:14:23.046Z"
   },
   {
    "duration": 5,
    "start_time": "2022-12-04T21:14:23.079Z"
   },
   {
    "duration": 13,
    "start_time": "2022-12-04T21:14:23.085Z"
   },
   {
    "duration": 6,
    "start_time": "2022-12-04T21:14:23.099Z"
   },
   {
    "duration": 19,
    "start_time": "2022-12-04T21:14:23.106Z"
   },
   {
    "duration": 7,
    "start_time": "2022-12-04T21:14:23.127Z"
   },
   {
    "duration": 12,
    "start_time": "2022-12-04T21:14:23.136Z"
   },
   {
    "duration": 28,
    "start_time": "2022-12-04T21:14:23.149Z"
   },
   {
    "duration": 4,
    "start_time": "2022-12-04T21:14:26.260Z"
   },
   {
    "duration": 6,
    "start_time": "2022-12-04T21:14:26.964Z"
   },
   {
    "duration": 196,
    "start_time": "2022-12-04T21:14:34.393Z"
   },
   {
    "duration": 213,
    "start_time": "2022-12-04T21:14:40.098Z"
   },
   {
    "duration": 75,
    "start_time": "2022-12-04T21:15:04.558Z"
   },
   {
    "duration": 26,
    "start_time": "2022-12-04T21:15:22.951Z"
   },
   {
    "duration": 36,
    "start_time": "2022-12-04T21:16:57.956Z"
   },
   {
    "duration": 36,
    "start_time": "2022-12-04T21:17:17.793Z"
   },
   {
    "duration": 351,
    "start_time": "2022-12-04T21:19:46.121Z"
   },
   {
    "duration": 94,
    "start_time": "2022-12-04T21:19:46.473Z"
   },
   {
    "duration": 28,
    "start_time": "2022-12-04T21:19:46.568Z"
   },
   {
    "duration": 14,
    "start_time": "2022-12-04T21:19:46.597Z"
   },
   {
    "duration": 2040,
    "start_time": "2022-12-04T21:19:46.613Z"
   },
   {
    "duration": 13,
    "start_time": "2022-12-04T21:19:48.655Z"
   },
   {
    "duration": 5,
    "start_time": "2022-12-04T21:19:48.670Z"
   },
   {
    "duration": 14,
    "start_time": "2022-12-04T21:19:48.677Z"
   },
   {
    "duration": 8,
    "start_time": "2022-12-04T21:19:48.692Z"
   },
   {
    "duration": 8,
    "start_time": "2022-12-04T21:19:48.701Z"
   },
   {
    "duration": 8,
    "start_time": "2022-12-04T21:19:48.710Z"
   },
   {
    "duration": 18,
    "start_time": "2022-12-04T21:19:48.719Z"
   },
   {
    "duration": 10,
    "start_time": "2022-12-04T21:19:48.739Z"
   },
   {
    "duration": 7,
    "start_time": "2022-12-04T21:19:48.753Z"
   },
   {
    "duration": 26,
    "start_time": "2022-12-04T21:19:48.762Z"
   },
   {
    "duration": 7,
    "start_time": "2022-12-04T21:19:48.790Z"
   },
   {
    "duration": 16,
    "start_time": "2022-12-04T21:19:48.798Z"
   },
   {
    "duration": 8,
    "start_time": "2022-12-04T21:19:48.816Z"
   },
   {
    "duration": 7,
    "start_time": "2022-12-04T21:19:48.825Z"
   },
   {
    "duration": 7,
    "start_time": "2022-12-04T21:19:48.833Z"
   },
   {
    "duration": 35,
    "start_time": "2022-12-04T21:19:48.842Z"
   },
   {
    "duration": 253,
    "start_time": "2022-12-04T21:19:48.879Z"
   },
   {
    "duration": 132,
    "start_time": "2022-12-04T21:19:49.134Z"
   },
   {
    "duration": 12,
    "start_time": "2022-12-04T21:19:49.268Z"
   },
   {
    "duration": 11,
    "start_time": "2022-12-04T21:19:49.281Z"
   },
   {
    "duration": 8,
    "start_time": "2022-12-04T21:19:54.114Z"
   },
   {
    "duration": 70,
    "start_time": "2022-12-04T21:19:55.754Z"
   },
   {
    "duration": 9,
    "start_time": "2022-12-04T21:21:28.531Z"
   },
   {
    "duration": 8,
    "start_time": "2022-12-04T21:22:58.492Z"
   },
   {
    "duration": 6,
    "start_time": "2022-12-04T21:23:27.072Z"
   },
   {
    "duration": 5,
    "start_time": "2022-12-04T21:24:06.439Z"
   },
   {
    "duration": 4,
    "start_time": "2022-12-04T21:24:09.629Z"
   },
   {
    "duration": 6,
    "start_time": "2022-12-04T21:24:18.771Z"
   },
   {
    "duration": 12,
    "start_time": "2022-12-04T21:24:33.994Z"
   },
   {
    "duration": 9,
    "start_time": "2022-12-04T21:24:55.453Z"
   },
   {
    "duration": 9,
    "start_time": "2022-12-04T21:25:03.184Z"
   },
   {
    "duration": 415,
    "start_time": "2022-12-04T21:25:53.766Z"
   },
   {
    "duration": 100,
    "start_time": "2022-12-04T21:25:54.184Z"
   },
   {
    "duration": 38,
    "start_time": "2022-12-04T21:25:54.287Z"
   },
   {
    "duration": 16,
    "start_time": "2022-12-04T21:25:54.326Z"
   },
   {
    "duration": 2193,
    "start_time": "2022-12-04T21:25:54.344Z"
   },
   {
    "duration": 16,
    "start_time": "2022-12-04T21:25:56.538Z"
   },
   {
    "duration": 52,
    "start_time": "2022-12-04T21:25:56.555Z"
   },
   {
    "duration": 18,
    "start_time": "2022-12-04T21:25:56.609Z"
   },
   {
    "duration": 6,
    "start_time": "2022-12-04T21:25:56.629Z"
   },
   {
    "duration": 10,
    "start_time": "2022-12-04T21:25:56.637Z"
   },
   {
    "duration": 9,
    "start_time": "2022-12-04T21:25:56.648Z"
   },
   {
    "duration": 6,
    "start_time": "2022-12-04T21:25:56.659Z"
   },
   {
    "duration": 6,
    "start_time": "2022-12-04T21:25:56.667Z"
   },
   {
    "duration": 20,
    "start_time": "2022-12-04T21:25:56.675Z"
   },
   {
    "duration": 16,
    "start_time": "2022-12-04T21:25:56.696Z"
   },
   {
    "duration": 6,
    "start_time": "2022-12-04T21:25:56.713Z"
   },
   {
    "duration": 13,
    "start_time": "2022-12-04T21:25:56.721Z"
   },
   {
    "duration": 7,
    "start_time": "2022-12-04T21:25:56.736Z"
   },
   {
    "duration": 4,
    "start_time": "2022-12-04T21:25:56.745Z"
   },
   {
    "duration": 5,
    "start_time": "2022-12-04T21:25:56.751Z"
   },
   {
    "duration": 26,
    "start_time": "2022-12-04T21:25:56.757Z"
   },
   {
    "duration": 250,
    "start_time": "2022-12-04T21:25:56.785Z"
   },
   {
    "duration": 140,
    "start_time": "2022-12-04T21:25:57.036Z"
   },
   {
    "duration": 7,
    "start_time": "2022-12-04T21:25:57.178Z"
   },
   {
    "duration": 18,
    "start_time": "2022-12-04T21:25:57.187Z"
   },
   {
    "duration": 19,
    "start_time": "2022-12-04T21:26:05.542Z"
   },
   {
    "duration": 9,
    "start_time": "2022-12-04T21:26:33.681Z"
   },
   {
    "duration": 7,
    "start_time": "2022-12-04T21:27:07.004Z"
   },
   {
    "duration": 8,
    "start_time": "2022-12-04T21:27:54.434Z"
   },
   {
    "duration": 7,
    "start_time": "2022-12-04T21:27:59.312Z"
   },
   {
    "duration": 45,
    "start_time": "2022-12-04T21:28:17.530Z"
   },
   {
    "duration": 107,
    "start_time": "2022-12-04T21:28:26.208Z"
   },
   {
    "duration": 12,
    "start_time": "2022-12-04T21:28:35.478Z"
   },
   {
    "duration": 5,
    "start_time": "2022-12-04T21:35:18.180Z"
   },
   {
    "duration": 564,
    "start_time": "2022-12-04T21:38:03.540Z"
   },
   {
    "duration": 4,
    "start_time": "2022-12-04T21:38:08.295Z"
   },
   {
    "duration": 12,
    "start_time": "2022-12-04T21:38:15.142Z"
   },
   {
    "duration": 42,
    "start_time": "2022-12-04T21:38:32.743Z"
   },
   {
    "duration": 43,
    "start_time": "2022-12-04T21:40:27.235Z"
   },
   {
    "duration": 8,
    "start_time": "2022-12-04T21:48:05.067Z"
   },
   {
    "duration": 34,
    "start_time": "2022-12-04T21:48:10.639Z"
   },
   {
    "duration": 11,
    "start_time": "2022-12-04T21:48:33.043Z"
   },
   {
    "duration": 12,
    "start_time": "2022-12-04T21:50:11.592Z"
   },
   {
    "duration": 13,
    "start_time": "2022-12-04T21:51:48.789Z"
   },
   {
    "duration": 3,
    "start_time": "2022-12-04T21:52:47.923Z"
   },
   {
    "duration": 43,
    "start_time": "2022-12-04T21:52:56.378Z"
   },
   {
    "duration": 11,
    "start_time": "2022-12-04T21:53:38.048Z"
   },
   {
    "duration": 5,
    "start_time": "2022-12-04T21:53:45.779Z"
   },
   {
    "duration": 44,
    "start_time": "2022-12-04T21:53:52.488Z"
   },
   {
    "duration": 7,
    "start_time": "2022-12-04T21:55:15.433Z"
   },
   {
    "duration": 7,
    "start_time": "2022-12-04T21:57:43.925Z"
   },
   {
    "duration": 10,
    "start_time": "2022-12-04T21:57:53.375Z"
   },
   {
    "duration": 6,
    "start_time": "2022-12-04T21:58:27.275Z"
   },
   {
    "duration": 54,
    "start_time": "2022-12-04T21:58:32.324Z"
   },
   {
    "duration": 12,
    "start_time": "2022-12-04T21:58:41.983Z"
   },
   {
    "duration": 4,
    "start_time": "2022-12-04T21:59:47.898Z"
   },
   {
    "duration": 13,
    "start_time": "2022-12-04T21:59:53.896Z"
   },
   {
    "duration": 367,
    "start_time": "2022-12-04T22:03:54.400Z"
   },
   {
    "duration": 101,
    "start_time": "2022-12-04T22:03:54.769Z"
   },
   {
    "duration": 39,
    "start_time": "2022-12-04T22:03:54.872Z"
   },
   {
    "duration": 16,
    "start_time": "2022-12-04T22:03:54.914Z"
   },
   {
    "duration": 2053,
    "start_time": "2022-12-04T22:03:54.932Z"
   },
   {
    "duration": 14,
    "start_time": "2022-12-04T22:03:56.987Z"
   },
   {
    "duration": 6,
    "start_time": "2022-12-04T22:03:57.002Z"
   },
   {
    "duration": 18,
    "start_time": "2022-12-04T22:03:57.009Z"
   },
   {
    "duration": 10,
    "start_time": "2022-12-04T22:03:57.029Z"
   },
   {
    "duration": 8,
    "start_time": "2022-12-04T22:03:57.042Z"
   },
   {
    "duration": 27,
    "start_time": "2022-12-04T22:03:57.051Z"
   },
   {
    "duration": 8,
    "start_time": "2022-12-04T22:03:57.080Z"
   },
   {
    "duration": 17,
    "start_time": "2022-12-04T22:03:57.089Z"
   },
   {
    "duration": 6,
    "start_time": "2022-12-04T22:03:57.107Z"
   },
   {
    "duration": 15,
    "start_time": "2022-12-04T22:03:57.115Z"
   },
   {
    "duration": 13,
    "start_time": "2022-12-04T22:03:57.132Z"
   },
   {
    "duration": 8,
    "start_time": "2022-12-04T22:03:57.147Z"
   },
   {
    "duration": 31,
    "start_time": "2022-12-04T22:03:57.157Z"
   },
   {
    "duration": 8,
    "start_time": "2022-12-04T22:03:57.189Z"
   },
   {
    "duration": 7,
    "start_time": "2022-12-04T22:03:57.198Z"
   },
   {
    "duration": 22,
    "start_time": "2022-12-04T22:03:57.206Z"
   },
   {
    "duration": 36,
    "start_time": "2022-12-04T22:03:57.230Z"
   },
   {
    "duration": 247,
    "start_time": "2022-12-04T22:03:57.268Z"
   },
   {
    "duration": 134,
    "start_time": "2022-12-04T22:03:57.517Z"
   },
   {
    "duration": 5,
    "start_time": "2022-12-04T22:03:57.653Z"
   },
   {
    "duration": 20,
    "start_time": "2022-12-04T22:03:57.660Z"
   },
   {
    "duration": 7,
    "start_time": "2022-12-04T22:03:57.681Z"
   },
   {
    "duration": 5,
    "start_time": "2022-12-04T22:03:57.691Z"
   },
   {
    "duration": 56,
    "start_time": "2022-12-04T22:03:57.697Z"
   },
   {
    "duration": 121,
    "start_time": "2022-12-04T22:03:57.755Z"
   },
   {
    "duration": 12,
    "start_time": "2022-12-04T22:03:57.878Z"
   },
   {
    "duration": 47,
    "start_time": "2022-12-04T22:03:57.891Z"
   },
   {
    "duration": 5,
    "start_time": "2022-12-04T22:03:57.939Z"
   },
   {
    "duration": 15,
    "start_time": "2022-12-04T22:03:57.945Z"
   },
   {
    "duration": 15,
    "start_time": "2022-12-04T22:03:57.962Z"
   },
   {
    "duration": 20,
    "start_time": "2022-12-04T22:03:57.979Z"
   },
   {
    "duration": 29,
    "start_time": "2022-12-04T22:03:58.001Z"
   },
   {
    "duration": 45,
    "start_time": "2022-12-04T22:03:58.032Z"
   },
   {
    "duration": 12,
    "start_time": "2022-12-04T22:07:47.597Z"
   },
   {
    "duration": 37,
    "start_time": "2022-12-04T22:10:34.592Z"
   },
   {
    "duration": 4,
    "start_time": "2022-12-04T22:11:48.680Z"
   },
   {
    "duration": 5,
    "start_time": "2022-12-04T22:12:02.773Z"
   },
   {
    "duration": 14,
    "start_time": "2022-12-04T22:12:06.894Z"
   },
   {
    "duration": 39,
    "start_time": "2022-12-04T22:12:13.977Z"
   },
   {
    "duration": 5,
    "start_time": "2022-12-04T22:14:03.432Z"
   },
   {
    "duration": 4,
    "start_time": "2022-12-04T22:14:18.679Z"
   },
   {
    "duration": 14,
    "start_time": "2022-12-04T22:14:23.811Z"
   },
   {
    "duration": 6,
    "start_time": "2022-12-04T22:16:29.411Z"
   },
   {
    "duration": 8,
    "start_time": "2022-12-04T22:16:42.350Z"
   },
   {
    "duration": 7,
    "start_time": "2022-12-04T22:18:05.160Z"
   },
   {
    "duration": 724,
    "start_time": "2022-12-04T22:20:20.109Z"
   },
   {
    "duration": 9,
    "start_time": "2022-12-04T22:20:31.171Z"
   },
   {
    "duration": 4,
    "start_time": "2022-12-04T22:24:55.673Z"
   },
   {
    "duration": 6,
    "start_time": "2022-12-04T22:25:09.397Z"
   },
   {
    "duration": 12,
    "start_time": "2022-12-04T22:25:15.631Z"
   },
   {
    "duration": 39,
    "start_time": "2022-12-04T22:25:25.734Z"
   },
   {
    "duration": 6,
    "start_time": "2022-12-04T22:26:59.487Z"
   },
   {
    "duration": 7,
    "start_time": "2022-12-04T22:27:07.259Z"
   },
   {
    "duration": 5,
    "start_time": "2022-12-04T22:28:26.093Z"
   },
   {
    "duration": 15,
    "start_time": "2022-12-04T22:28:32.447Z"
   },
   {
    "duration": 33,
    "start_time": "2022-12-04T22:28:35.193Z"
   },
   {
    "duration": 13,
    "start_time": "2022-12-04T22:30:13.646Z"
   },
   {
    "duration": 6,
    "start_time": "2022-12-04T22:32:10.773Z"
   },
   {
    "duration": 20,
    "start_time": "2022-12-04T22:32:53.998Z"
   },
   {
    "duration": 21,
    "start_time": "2022-12-04T22:34:25.328Z"
   },
   {
    "duration": 19,
    "start_time": "2022-12-04T22:34:37.263Z"
   },
   {
    "duration": 44,
    "start_time": "2022-12-05T11:08:46.399Z"
   },
   {
    "duration": 496,
    "start_time": "2022-12-05T11:08:55.783Z"
   },
   {
    "duration": 155,
    "start_time": "2022-12-05T11:08:56.281Z"
   },
   {
    "duration": 29,
    "start_time": "2022-12-05T11:08:56.437Z"
   },
   {
    "duration": 18,
    "start_time": "2022-12-05T11:08:56.468Z"
   },
   {
    "duration": 2198,
    "start_time": "2022-12-05T11:08:56.487Z"
   },
   {
    "duration": 14,
    "start_time": "2022-12-05T11:08:58.687Z"
   },
   {
    "duration": 5,
    "start_time": "2022-12-05T11:08:58.702Z"
   },
   {
    "duration": 6,
    "start_time": "2022-12-05T11:08:58.708Z"
   },
   {
    "duration": 10,
    "start_time": "2022-12-05T11:08:58.715Z"
   },
   {
    "duration": 4,
    "start_time": "2022-12-05T11:08:58.728Z"
   },
   {
    "duration": 8,
    "start_time": "2022-12-05T11:08:58.733Z"
   },
   {
    "duration": 7,
    "start_time": "2022-12-05T11:08:58.742Z"
   },
   {
    "duration": 7,
    "start_time": "2022-12-05T11:08:58.777Z"
   },
   {
    "duration": 5,
    "start_time": "2022-12-05T11:08:58.785Z"
   },
   {
    "duration": 6,
    "start_time": "2022-12-05T11:08:58.792Z"
   },
   {
    "duration": 13,
    "start_time": "2022-12-05T11:08:58.799Z"
   },
   {
    "duration": 5,
    "start_time": "2022-12-05T11:08:58.813Z"
   },
   {
    "duration": 14,
    "start_time": "2022-12-05T11:08:58.819Z"
   },
   {
    "duration": 45,
    "start_time": "2022-12-05T11:08:58.834Z"
   },
   {
    "duration": 5,
    "start_time": "2022-12-05T11:08:58.880Z"
   },
   {
    "duration": 4,
    "start_time": "2022-12-05T11:08:58.886Z"
   },
   {
    "duration": 8,
    "start_time": "2022-12-05T11:08:58.891Z"
   },
   {
    "duration": 262,
    "start_time": "2022-12-05T11:08:58.900Z"
   },
   {
    "duration": 140,
    "start_time": "2022-12-05T11:08:59.164Z"
   },
   {
    "duration": 5,
    "start_time": "2022-12-05T11:08:59.305Z"
   },
   {
    "duration": 10,
    "start_time": "2022-12-05T11:08:59.312Z"
   },
   {
    "duration": 8,
    "start_time": "2022-12-05T11:08:59.323Z"
   },
   {
    "duration": 5,
    "start_time": "2022-12-05T11:08:59.334Z"
   },
   {
    "duration": 67,
    "start_time": "2022-12-05T11:08:59.340Z"
   },
   {
    "duration": 126,
    "start_time": "2022-12-05T11:08:59.408Z"
   },
   {
    "duration": 12,
    "start_time": "2022-12-05T11:08:59.535Z"
   },
   {
    "duration": 50,
    "start_time": "2022-12-05T11:08:59.549Z"
   },
   {
    "duration": 5,
    "start_time": "2022-12-05T11:08:59.600Z"
   },
   {
    "duration": 10,
    "start_time": "2022-12-05T11:08:59.606Z"
   },
   {
    "duration": 8,
    "start_time": "2022-12-05T11:08:59.617Z"
   },
   {
    "duration": 8,
    "start_time": "2022-12-05T11:08:59.626Z"
   },
   {
    "duration": 4,
    "start_time": "2022-12-05T11:08:59.635Z"
   },
   {
    "duration": 5,
    "start_time": "2022-12-05T11:08:59.640Z"
   },
   {
    "duration": 34,
    "start_time": "2022-12-05T11:08:59.646Z"
   },
   {
    "duration": 70,
    "start_time": "2022-12-05T11:08:59.681Z"
   },
   {
    "duration": 6,
    "start_time": "2022-12-05T11:08:59.753Z"
   },
   {
    "duration": 4,
    "start_time": "2022-12-05T11:08:59.778Z"
   },
   {
    "duration": 10,
    "start_time": "2022-12-05T11:08:59.783Z"
   },
   {
    "duration": 13,
    "start_time": "2022-12-05T11:08:59.794Z"
   },
   {
    "duration": 8,
    "start_time": "2022-12-05T11:08:59.809Z"
   },
   {
    "duration": 4,
    "start_time": "2022-12-05T11:08:59.818Z"
   },
   {
    "duration": 6,
    "start_time": "2022-12-05T11:08:59.824Z"
   },
   {
    "duration": 6,
    "start_time": "2022-12-05T11:08:59.831Z"
   },
   {
    "duration": 3,
    "start_time": "2022-12-05T11:08:59.839Z"
   },
   {
    "duration": 47,
    "start_time": "2022-12-05T11:08:59.843Z"
   },
   {
    "duration": 18,
    "start_time": "2022-12-05T11:08:59.891Z"
   },
   {
    "duration": 19,
    "start_time": "2022-12-05T11:09:12.530Z"
   },
   {
    "duration": 22,
    "start_time": "2022-12-05T11:15:51.485Z"
   },
   {
    "duration": 11,
    "start_time": "2022-12-05T11:16:12.478Z"
   },
   {
    "duration": 68,
    "start_time": "2022-12-05T11:16:25.647Z"
   },
   {
    "duration": 12,
    "start_time": "2022-12-05T11:17:18.087Z"
   },
   {
    "duration": 402,
    "start_time": "2022-12-05T11:19:03.721Z"
   },
   {
    "duration": 101,
    "start_time": "2022-12-05T11:19:04.125Z"
   },
   {
    "duration": 29,
    "start_time": "2022-12-05T11:19:04.228Z"
   },
   {
    "duration": 20,
    "start_time": "2022-12-05T11:19:04.259Z"
   },
   {
    "duration": 2049,
    "start_time": "2022-12-05T11:19:04.281Z"
   },
   {
    "duration": 14,
    "start_time": "2022-12-05T11:19:06.331Z"
   },
   {
    "duration": 5,
    "start_time": "2022-12-05T11:19:06.347Z"
   },
   {
    "duration": 5,
    "start_time": "2022-12-05T11:19:06.354Z"
   },
   {
    "duration": 8,
    "start_time": "2022-12-05T11:19:06.361Z"
   },
   {
    "duration": 5,
    "start_time": "2022-12-05T11:19:06.377Z"
   },
   {
    "duration": 6,
    "start_time": "2022-12-05T11:19:06.384Z"
   },
   {
    "duration": 5,
    "start_time": "2022-12-05T11:19:06.392Z"
   },
   {
    "duration": 6,
    "start_time": "2022-12-05T11:19:06.398Z"
   },
   {
    "duration": 5,
    "start_time": "2022-12-05T11:19:06.406Z"
   },
   {
    "duration": 12,
    "start_time": "2022-12-05T11:19:06.413Z"
   },
   {
    "duration": 11,
    "start_time": "2022-12-05T11:19:06.427Z"
   },
   {
    "duration": 39,
    "start_time": "2022-12-05T11:19:06.440Z"
   },
   {
    "duration": 14,
    "start_time": "2022-12-05T11:19:06.481Z"
   },
   {
    "duration": 8,
    "start_time": "2022-12-05T11:19:06.497Z"
   },
   {
    "duration": 5,
    "start_time": "2022-12-05T11:19:06.506Z"
   },
   {
    "duration": 7,
    "start_time": "2022-12-05T11:19:06.513Z"
   },
   {
    "duration": 9,
    "start_time": "2022-12-05T11:19:06.521Z"
   },
   {
    "duration": 258,
    "start_time": "2022-12-05T11:19:06.532Z"
   },
   {
    "duration": 133,
    "start_time": "2022-12-05T11:19:06.791Z"
   },
   {
    "duration": 5,
    "start_time": "2022-12-05T11:19:06.925Z"
   },
   {
    "duration": 18,
    "start_time": "2022-12-05T11:19:06.932Z"
   },
   {
    "duration": 23,
    "start_time": "2022-12-05T11:19:06.951Z"
   },
   {
    "duration": 12,
    "start_time": "2022-12-05T11:19:06.975Z"
   },
   {
    "duration": 56,
    "start_time": "2022-12-05T11:19:06.988Z"
   },
   {
    "duration": 121,
    "start_time": "2022-12-05T11:19:07.045Z"
   },
   {
    "duration": 21,
    "start_time": "2022-12-05T11:19:07.167Z"
   },
   {
    "duration": 36,
    "start_time": "2022-12-05T11:19:07.190Z"
   },
   {
    "duration": 3,
    "start_time": "2022-12-05T11:19:07.228Z"
   },
   {
    "duration": 9,
    "start_time": "2022-12-05T11:19:07.233Z"
   },
   {
    "duration": 11,
    "start_time": "2022-12-05T11:19:07.243Z"
   },
   {
    "duration": 28,
    "start_time": "2022-12-05T11:19:07.255Z"
   },
   {
    "duration": 4,
    "start_time": "2022-12-05T11:19:07.285Z"
   },
   {
    "duration": 5,
    "start_time": "2022-12-05T11:19:07.290Z"
   },
   {
    "duration": 7,
    "start_time": "2022-12-05T11:19:07.297Z"
   },
   {
    "duration": 5,
    "start_time": "2022-12-05T11:19:07.305Z"
   },
   {
    "duration": 4,
    "start_time": "2022-12-05T11:19:07.314Z"
   },
   {
    "duration": 6,
    "start_time": "2022-12-05T11:19:07.319Z"
   },
   {
    "duration": 10,
    "start_time": "2022-12-05T11:19:07.326Z"
   },
   {
    "duration": 41,
    "start_time": "2022-12-05T11:19:07.337Z"
   },
   {
    "duration": 9,
    "start_time": "2022-12-05T11:19:07.380Z"
   },
   {
    "duration": 4,
    "start_time": "2022-12-05T11:19:07.391Z"
   },
   {
    "duration": 5,
    "start_time": "2022-12-05T11:19:07.396Z"
   },
   {
    "duration": 8,
    "start_time": "2022-12-05T11:19:07.402Z"
   },
   {
    "duration": 12,
    "start_time": "2022-12-05T11:19:07.411Z"
   },
   {
    "duration": 23,
    "start_time": "2022-12-05T11:19:07.425Z"
   },
   {
    "duration": 39,
    "start_time": "2022-12-05T11:19:07.449Z"
   },
   {
    "duration": 29,
    "start_time": "2022-12-05T11:19:07.489Z"
   },
   {
    "duration": 7,
    "start_time": "2022-12-05T11:24:03.963Z"
   },
   {
    "duration": 18,
    "start_time": "2022-12-05T11:24:26.536Z"
   },
   {
    "duration": 33,
    "start_time": "2022-12-05T11:25:27.142Z"
   },
   {
    "duration": 13,
    "start_time": "2022-12-05T11:30:11.970Z"
   },
   {
    "duration": 392,
    "start_time": "2022-12-05T17:54:49.357Z"
   },
   {
    "duration": 187,
    "start_time": "2022-12-05T17:54:49.751Z"
   },
   {
    "duration": 33,
    "start_time": "2022-12-05T17:54:49.940Z"
   },
   {
    "duration": 17,
    "start_time": "2022-12-05T17:54:49.976Z"
   },
   {
    "duration": 2581,
    "start_time": "2022-12-05T17:54:50.006Z"
   },
   {
    "duration": 30,
    "start_time": "2022-12-05T17:54:52.588Z"
   },
   {
    "duration": 7,
    "start_time": "2022-12-05T17:54:52.621Z"
   },
   {
    "duration": 7,
    "start_time": "2022-12-05T17:54:52.630Z"
   },
   {
    "duration": 19,
    "start_time": "2022-12-05T17:54:52.639Z"
   },
   {
    "duration": 15,
    "start_time": "2022-12-05T17:54:52.660Z"
   },
   {
    "duration": 41,
    "start_time": "2022-12-05T17:54:52.677Z"
   },
   {
    "duration": 5,
    "start_time": "2022-12-05T17:54:52.720Z"
   },
   {
    "duration": 9,
    "start_time": "2022-12-05T17:54:52.726Z"
   },
   {
    "duration": 5,
    "start_time": "2022-12-05T17:54:52.738Z"
   },
   {
    "duration": 7,
    "start_time": "2022-12-05T17:54:52.745Z"
   },
   {
    "duration": 18,
    "start_time": "2022-12-05T17:54:52.753Z"
   },
   {
    "duration": 39,
    "start_time": "2022-12-05T17:54:52.773Z"
   },
   {
    "duration": 24,
    "start_time": "2022-12-05T17:54:52.814Z"
   },
   {
    "duration": 11,
    "start_time": "2022-12-05T17:54:52.840Z"
   },
   {
    "duration": 5,
    "start_time": "2022-12-05T17:54:52.854Z"
   },
   {
    "duration": 7,
    "start_time": "2022-12-05T17:54:52.861Z"
   },
   {
    "duration": 32,
    "start_time": "2022-12-05T17:54:52.908Z"
   },
   {
    "duration": 278,
    "start_time": "2022-12-05T17:54:52.941Z"
   },
   {
    "duration": 157,
    "start_time": "2022-12-05T17:54:53.221Z"
   },
   {
    "duration": 6,
    "start_time": "2022-12-05T17:54:53.380Z"
   },
   {
    "duration": 32,
    "start_time": "2022-12-05T17:54:53.388Z"
   },
   {
    "duration": 9,
    "start_time": "2022-12-05T17:54:53.422Z"
   },
   {
    "duration": 11,
    "start_time": "2022-12-05T17:54:53.433Z"
   },
   {
    "duration": 77,
    "start_time": "2022-12-05T17:54:53.446Z"
   },
   {
    "duration": 145,
    "start_time": "2022-12-05T17:54:53.525Z"
   },
   {
    "duration": 14,
    "start_time": "2022-12-05T17:54:53.671Z"
   },
   {
    "duration": 142,
    "start_time": "2022-12-05T17:54:53.687Z"
   },
   {
    "duration": 4,
    "start_time": "2022-12-05T17:54:53.831Z"
   },
   {
    "duration": 16,
    "start_time": "2022-12-05T17:54:53.838Z"
   },
   {
    "duration": 12,
    "start_time": "2022-12-05T17:54:53.856Z"
   },
   {
    "duration": 38,
    "start_time": "2022-12-05T17:54:53.870Z"
   },
   {
    "duration": 6,
    "start_time": "2022-12-05T17:54:53.917Z"
   },
   {
    "duration": 10,
    "start_time": "2022-12-05T17:54:53.925Z"
   },
   {
    "duration": 6,
    "start_time": "2022-12-05T17:54:53.937Z"
   },
   {
    "duration": 7,
    "start_time": "2022-12-05T17:54:53.945Z"
   },
   {
    "duration": 5,
    "start_time": "2022-12-05T17:54:53.957Z"
   },
   {
    "duration": 49,
    "start_time": "2022-12-05T17:54:53.964Z"
   },
   {
    "duration": 9,
    "start_time": "2022-12-05T17:54:54.015Z"
   },
   {
    "duration": 27,
    "start_time": "2022-12-05T17:54:54.026Z"
   },
   {
    "duration": 23,
    "start_time": "2022-12-05T17:54:54.055Z"
   },
   {
    "duration": 22,
    "start_time": "2022-12-05T17:54:54.080Z"
   },
   {
    "duration": 39,
    "start_time": "2022-12-05T17:54:54.104Z"
   },
   {
    "duration": 29,
    "start_time": "2022-12-05T17:54:54.145Z"
   },
   {
    "duration": 23,
    "start_time": "2022-12-05T17:54:54.176Z"
   },
   {
    "duration": 48,
    "start_time": "2022-12-05T17:54:54.201Z"
   },
   {
    "duration": 34,
    "start_time": "2022-12-05T17:54:54.250Z"
   },
   {
    "duration": 19,
    "start_time": "2022-12-05T17:54:59.243Z"
   },
   {
    "duration": 30,
    "start_time": "2022-12-05T17:55:05.786Z"
   },
   {
    "duration": 13,
    "start_time": "2022-12-05T17:56:38.558Z"
   },
   {
    "duration": 26,
    "start_time": "2022-12-05T17:56:40.992Z"
   },
   {
    "duration": 19,
    "start_time": "2022-12-05T17:59:22.087Z"
   },
   {
    "duration": 19,
    "start_time": "2022-12-05T17:59:23.218Z"
   },
   {
    "duration": 14,
    "start_time": "2022-12-05T18:00:59.739Z"
   },
   {
    "duration": 27,
    "start_time": "2022-12-05T18:01:01.435Z"
   },
   {
    "duration": 386,
    "start_time": "2022-12-05T18:01:52.451Z"
   },
   {
    "duration": 98,
    "start_time": "2022-12-05T18:01:52.839Z"
   },
   {
    "duration": 35,
    "start_time": "2022-12-05T18:01:52.939Z"
   },
   {
    "duration": 42,
    "start_time": "2022-12-05T18:01:52.976Z"
   },
   {
    "duration": 2376,
    "start_time": "2022-12-05T18:01:53.021Z"
   },
   {
    "duration": 20,
    "start_time": "2022-12-05T18:01:55.399Z"
   },
   {
    "duration": 47,
    "start_time": "2022-12-05T18:01:55.421Z"
   },
   {
    "duration": 40,
    "start_time": "2022-12-05T18:01:55.470Z"
   },
   {
    "duration": 53,
    "start_time": "2022-12-05T18:01:55.512Z"
   },
   {
    "duration": 33,
    "start_time": "2022-12-05T18:01:55.566Z"
   },
   {
    "duration": 45,
    "start_time": "2022-12-05T18:01:55.601Z"
   },
   {
    "duration": 37,
    "start_time": "2022-12-05T18:01:55.648Z"
   },
   {
    "duration": 50,
    "start_time": "2022-12-05T18:01:55.687Z"
   },
   {
    "duration": 29,
    "start_time": "2022-12-05T18:01:55.741Z"
   },
   {
    "duration": 22,
    "start_time": "2022-12-05T18:01:55.772Z"
   },
   {
    "duration": 41,
    "start_time": "2022-12-05T18:01:55.796Z"
   },
   {
    "duration": 45,
    "start_time": "2022-12-05T18:01:55.838Z"
   },
   {
    "duration": 48,
    "start_time": "2022-12-05T18:01:55.885Z"
   },
   {
    "duration": 30,
    "start_time": "2022-12-05T18:01:55.934Z"
   },
   {
    "duration": 35,
    "start_time": "2022-12-05T18:01:55.966Z"
   },
   {
    "duration": 34,
    "start_time": "2022-12-05T18:01:56.002Z"
   },
   {
    "duration": 37,
    "start_time": "2022-12-05T18:01:56.038Z"
   },
   {
    "duration": 298,
    "start_time": "2022-12-05T18:01:56.077Z"
   },
   {
    "duration": 149,
    "start_time": "2022-12-05T18:01:56.376Z"
   },
   {
    "duration": 6,
    "start_time": "2022-12-05T18:01:56.527Z"
   },
   {
    "duration": 32,
    "start_time": "2022-12-05T18:01:56.535Z"
   },
   {
    "duration": 49,
    "start_time": "2022-12-05T18:01:56.568Z"
   },
   {
    "duration": 20,
    "start_time": "2022-12-05T18:01:56.619Z"
   },
   {
    "duration": 60,
    "start_time": "2022-12-05T18:01:56.641Z"
   },
   {
    "duration": 139,
    "start_time": "2022-12-05T18:01:56.703Z"
   },
   {
    "duration": 13,
    "start_time": "2022-12-05T18:01:56.844Z"
   },
   {
    "duration": 65,
    "start_time": "2022-12-05T18:01:56.858Z"
   },
   {
    "duration": 4,
    "start_time": "2022-12-05T18:01:56.928Z"
   },
   {
    "duration": 31,
    "start_time": "2022-12-05T18:01:56.933Z"
   },
   {
    "duration": 27,
    "start_time": "2022-12-05T18:01:56.965Z"
   },
   {
    "duration": 34,
    "start_time": "2022-12-05T18:01:56.993Z"
   },
   {
    "duration": 23,
    "start_time": "2022-12-05T18:01:57.028Z"
   },
   {
    "duration": 10,
    "start_time": "2022-12-05T18:01:57.053Z"
   },
   {
    "duration": 21,
    "start_time": "2022-12-05T18:01:57.064Z"
   },
   {
    "duration": 11,
    "start_time": "2022-12-05T18:01:57.086Z"
   },
   {
    "duration": 36,
    "start_time": "2022-12-05T18:01:57.100Z"
   },
   {
    "duration": 31,
    "start_time": "2022-12-05T18:01:57.137Z"
   },
   {
    "duration": 21,
    "start_time": "2022-12-05T18:01:57.170Z"
   },
   {
    "duration": 36,
    "start_time": "2022-12-05T18:01:57.193Z"
   },
   {
    "duration": 38,
    "start_time": "2022-12-05T18:01:57.231Z"
   },
   {
    "duration": 22,
    "start_time": "2022-12-05T18:01:57.271Z"
   },
   {
    "duration": 38,
    "start_time": "2022-12-05T18:01:57.295Z"
   },
   {
    "duration": 16,
    "start_time": "2022-12-05T18:01:57.335Z"
   },
   {
    "duration": 17,
    "start_time": "2022-12-05T18:01:57.353Z"
   },
   {
    "duration": 40,
    "start_time": "2022-12-05T18:01:57.372Z"
   },
   {
    "duration": 22,
    "start_time": "2022-12-05T18:02:10.894Z"
   },
   {
    "duration": 69,
    "start_time": "2022-12-05T18:02:51.933Z"
   },
   {
    "duration": 175,
    "start_time": "2022-12-05T18:03:38.998Z"
   },
   {
    "duration": 13,
    "start_time": "2022-12-05T18:03:43.712Z"
   },
   {
    "duration": 18,
    "start_time": "2022-12-05T18:04:11.104Z"
   },
   {
    "duration": 14,
    "start_time": "2022-12-05T18:04:11.143Z"
   },
   {
    "duration": 15,
    "start_time": "2022-12-05T18:04:11.422Z"
   },
   {
    "duration": 28,
    "start_time": "2022-12-05T18:04:12.566Z"
   },
   {
    "duration": 16,
    "start_time": "2022-12-05T18:05:35.962Z"
   },
   {
    "duration": 15,
    "start_time": "2022-12-05T18:12:58.361Z"
   },
   {
    "duration": 10,
    "start_time": "2022-12-05T18:13:01.161Z"
   },
   {
    "duration": 407,
    "start_time": "2022-12-05T18:14:04.829Z"
   },
   {
    "duration": 99,
    "start_time": "2022-12-05T18:14:05.238Z"
   },
   {
    "duration": 32,
    "start_time": "2022-12-05T18:14:05.339Z"
   },
   {
    "duration": 45,
    "start_time": "2022-12-05T18:14:05.373Z"
   },
   {
    "duration": 2173,
    "start_time": "2022-12-05T18:14:05.420Z"
   },
   {
    "duration": 14,
    "start_time": "2022-12-05T18:14:07.595Z"
   },
   {
    "duration": 15,
    "start_time": "2022-12-05T18:14:07.610Z"
   },
   {
    "duration": 5,
    "start_time": "2022-12-05T18:14:07.626Z"
   },
   {
    "duration": 14,
    "start_time": "2022-12-05T18:14:07.633Z"
   },
   {
    "duration": 4,
    "start_time": "2022-12-05T18:14:07.649Z"
   },
   {
    "duration": 5,
    "start_time": "2022-12-05T18:14:07.655Z"
   },
   {
    "duration": 4,
    "start_time": "2022-12-05T18:14:07.662Z"
   },
   {
    "duration": 5,
    "start_time": "2022-12-05T18:14:07.668Z"
   },
   {
    "duration": 15,
    "start_time": "2022-12-05T18:14:07.706Z"
   },
   {
    "duration": 9,
    "start_time": "2022-12-05T18:14:07.723Z"
   },
   {
    "duration": 13,
    "start_time": "2022-12-05T18:14:07.733Z"
   },
   {
    "duration": 6,
    "start_time": "2022-12-05T18:14:07.747Z"
   },
   {
    "duration": 19,
    "start_time": "2022-12-05T18:14:07.754Z"
   },
   {
    "duration": 38,
    "start_time": "2022-12-05T18:14:07.774Z"
   },
   {
    "duration": 9,
    "start_time": "2022-12-05T18:14:07.813Z"
   },
   {
    "duration": 6,
    "start_time": "2022-12-05T18:14:07.823Z"
   },
   {
    "duration": 9,
    "start_time": "2022-12-05T18:14:07.830Z"
   },
   {
    "duration": 339,
    "start_time": "2022-12-05T18:14:07.841Z"
   },
   {
    "duration": 194,
    "start_time": "2022-12-05T18:14:08.184Z"
   },
   {
    "duration": 6,
    "start_time": "2022-12-05T18:14:08.380Z"
   },
   {
    "duration": 25,
    "start_time": "2022-12-05T18:14:08.387Z"
   },
   {
    "duration": 15,
    "start_time": "2022-12-05T18:14:08.413Z"
   },
   {
    "duration": 7,
    "start_time": "2022-12-05T18:14:08.430Z"
   },
   {
    "duration": 68,
    "start_time": "2022-12-05T18:14:08.439Z"
   },
   {
    "duration": 140,
    "start_time": "2022-12-05T18:14:08.518Z"
   },
   {
    "duration": 15,
    "start_time": "2022-12-05T18:14:08.661Z"
   },
   {
    "duration": 61,
    "start_time": "2022-12-05T18:14:08.678Z"
   },
   {
    "duration": 4,
    "start_time": "2022-12-05T18:14:08.741Z"
   },
   {
    "duration": 36,
    "start_time": "2022-12-05T18:14:08.746Z"
   },
   {
    "duration": 19,
    "start_time": "2022-12-05T18:14:08.784Z"
   },
   {
    "duration": 27,
    "start_time": "2022-12-05T18:14:08.806Z"
   },
   {
    "duration": 13,
    "start_time": "2022-12-05T18:14:08.834Z"
   },
   {
    "duration": 14,
    "start_time": "2022-12-05T18:14:08.849Z"
   },
   {
    "duration": 13,
    "start_time": "2022-12-05T18:14:08.865Z"
   },
   {
    "duration": 11,
    "start_time": "2022-12-05T18:14:08.880Z"
   },
   {
    "duration": 32,
    "start_time": "2022-12-05T18:14:08.895Z"
   },
   {
    "duration": 19,
    "start_time": "2022-12-05T18:14:08.929Z"
   },
   {
    "duration": 34,
    "start_time": "2022-12-05T18:14:08.949Z"
   },
   {
    "duration": 33,
    "start_time": "2022-12-05T18:14:08.985Z"
   },
   {
    "duration": 33,
    "start_time": "2022-12-05T18:14:09.020Z"
   },
   {
    "duration": 27,
    "start_time": "2022-12-05T18:14:09.054Z"
   },
   {
    "duration": 37,
    "start_time": "2022-12-05T18:14:09.083Z"
   },
   {
    "duration": 43,
    "start_time": "2022-12-05T18:14:09.122Z"
   },
   {
    "duration": 21,
    "start_time": "2022-12-05T18:14:09.167Z"
   },
   {
    "duration": 50,
    "start_time": "2022-12-05T18:14:09.190Z"
   },
   {
    "duration": 17,
    "start_time": "2022-12-05T18:14:09.242Z"
   },
   {
    "duration": 19,
    "start_time": "2022-12-05T18:14:09.261Z"
   },
   {
    "duration": 18,
    "start_time": "2022-12-05T18:14:09.282Z"
   },
   {
    "duration": 42,
    "start_time": "2022-12-05T18:14:09.302Z"
   },
   {
    "duration": 30,
    "start_time": "2022-12-05T18:14:09.346Z"
   },
   {
    "duration": 46,
    "start_time": "2022-12-05T18:14:09.377Z"
   },
   {
    "duration": 9,
    "start_time": "2022-12-05T18:14:09.425Z"
   },
   {
    "duration": 19,
    "start_time": "2022-12-05T18:20:09.255Z"
   },
   {
    "duration": 3,
    "start_time": "2022-12-06T14:30:30.622Z"
   },
   {
    "duration": 161,
    "start_time": "2022-12-06T14:30:30.627Z"
   },
   {
    "duration": 27,
    "start_time": "2022-12-06T14:30:30.790Z"
   },
   {
    "duration": 24,
    "start_time": "2022-12-06T14:30:30.818Z"
   },
   {
    "duration": 2065,
    "start_time": "2022-12-06T14:30:30.845Z"
   },
   {
    "duration": 14,
    "start_time": "2022-12-06T14:30:32.911Z"
   },
   {
    "duration": 4,
    "start_time": "2022-12-06T14:30:32.927Z"
   },
   {
    "duration": 7,
    "start_time": "2022-12-06T14:30:32.932Z"
   },
   {
    "duration": 8,
    "start_time": "2022-12-06T14:30:32.941Z"
   },
   {
    "duration": 7,
    "start_time": "2022-12-06T14:30:32.951Z"
   },
   {
    "duration": 5,
    "start_time": "2022-12-06T14:30:32.960Z"
   },
   {
    "duration": 41,
    "start_time": "2022-12-06T14:30:32.967Z"
   },
   {
    "duration": 14,
    "start_time": "2022-12-06T14:30:33.009Z"
   },
   {
    "duration": 6,
    "start_time": "2022-12-06T14:30:33.026Z"
   },
   {
    "duration": 7,
    "start_time": "2022-12-06T14:30:33.033Z"
   },
   {
    "duration": 20,
    "start_time": "2022-12-06T14:30:33.042Z"
   },
   {
    "duration": 6,
    "start_time": "2022-12-06T14:30:33.064Z"
   },
   {
    "duration": 38,
    "start_time": "2022-12-06T14:30:33.071Z"
   },
   {
    "duration": 8,
    "start_time": "2022-12-06T14:30:33.111Z"
   },
   {
    "duration": 6,
    "start_time": "2022-12-06T14:30:33.121Z"
   },
   {
    "duration": 7,
    "start_time": "2022-12-06T14:30:33.129Z"
   },
   {
    "duration": 7,
    "start_time": "2022-12-06T14:30:33.138Z"
   },
   {
    "duration": 280,
    "start_time": "2022-12-06T14:30:33.147Z"
   },
   {
    "duration": 244,
    "start_time": "2022-12-06T14:30:33.429Z"
   },
   {
    "duration": 6,
    "start_time": "2022-12-06T14:30:33.675Z"
   },
   {
    "duration": 23,
    "start_time": "2022-12-06T14:30:33.682Z"
   },
   {
    "duration": 9,
    "start_time": "2022-12-06T14:30:33.707Z"
   },
   {
    "duration": 6,
    "start_time": "2022-12-06T14:30:33.717Z"
   },
   {
    "duration": 42,
    "start_time": "2022-12-06T14:30:33.725Z"
   },
   {
    "duration": 148,
    "start_time": "2022-12-06T14:30:33.769Z"
   },
   {
    "duration": 13,
    "start_time": "2022-12-06T14:30:33.918Z"
   },
   {
    "duration": 37,
    "start_time": "2022-12-06T14:30:33.933Z"
   },
   {
    "duration": 4,
    "start_time": "2022-12-06T14:30:33.972Z"
   },
   {
    "duration": 35,
    "start_time": "2022-12-06T14:30:33.977Z"
   },
   {
    "duration": 11,
    "start_time": "2022-12-06T14:30:34.014Z"
   },
   {
    "duration": 7,
    "start_time": "2022-12-06T14:30:34.026Z"
   },
   {
    "duration": 4,
    "start_time": "2022-12-06T14:30:34.035Z"
   },
   {
    "duration": 5,
    "start_time": "2022-12-06T14:30:34.040Z"
   },
   {
    "duration": 5,
    "start_time": "2022-12-06T14:30:34.047Z"
   },
   {
    "duration": 5,
    "start_time": "2022-12-06T14:30:34.054Z"
   },
   {
    "duration": 5,
    "start_time": "2022-12-06T14:30:34.063Z"
   },
   {
    "duration": 5,
    "start_time": "2022-12-06T14:30:34.105Z"
   },
   {
    "duration": 11,
    "start_time": "2022-12-06T14:30:34.112Z"
   },
   {
    "duration": 8,
    "start_time": "2022-12-06T14:30:34.125Z"
   },
   {
    "duration": 11,
    "start_time": "2022-12-06T14:30:34.134Z"
   },
   {
    "duration": 5,
    "start_time": "2022-12-06T14:30:34.147Z"
   },
   {
    "duration": 16,
    "start_time": "2022-12-06T14:30:34.154Z"
   },
   {
    "duration": 33,
    "start_time": "2022-12-06T14:30:34.172Z"
   },
   {
    "duration": 5,
    "start_time": "2022-12-06T14:30:34.208Z"
   },
   {
    "duration": 19,
    "start_time": "2022-12-06T14:30:34.215Z"
   },
   {
    "duration": 18,
    "start_time": "2022-12-06T14:30:34.236Z"
   },
   {
    "duration": 9,
    "start_time": "2022-12-06T14:30:34.256Z"
   },
   {
    "duration": 47,
    "start_time": "2022-12-06T14:30:34.267Z"
   },
   {
    "duration": 14,
    "start_time": "2022-12-06T14:30:34.316Z"
   },
   {
    "duration": 16,
    "start_time": "2022-12-06T14:30:34.332Z"
   },
   {
    "duration": 28,
    "start_time": "2022-12-06T14:30:34.349Z"
   },
   {
    "duration": 31,
    "start_time": "2022-12-06T14:30:34.379Z"
   },
   {
    "duration": 24,
    "start_time": "2022-12-06T14:30:34.412Z"
   },
   {
    "duration": 69,
    "start_time": "2022-12-06T14:44:10.234Z"
   },
   {
    "duration": 33,
    "start_time": "2022-12-06T14:46:38.763Z"
   },
   {
    "duration": 4,
    "start_time": "2022-12-06T14:48:05.689Z"
   },
   {
    "duration": 36,
    "start_time": "2022-12-06T14:48:08.661Z"
   },
   {
    "duration": 70,
    "start_time": "2022-12-06T14:48:24.292Z"
   },
   {
    "duration": 5,
    "start_time": "2022-12-06T14:48:54.821Z"
   },
   {
    "duration": 37,
    "start_time": "2022-12-06T14:49:00.178Z"
   },
   {
    "duration": 10,
    "start_time": "2022-12-06T14:53:29.738Z"
   },
   {
    "duration": 6,
    "start_time": "2022-12-06T14:53:42.095Z"
   },
   {
    "duration": 33,
    "start_time": "2022-12-06T14:53:46.688Z"
   },
   {
    "duration": 6,
    "start_time": "2022-12-06T14:56:55.544Z"
   },
   {
    "duration": 28,
    "start_time": "2022-12-06T14:56:58.079Z"
   },
   {
    "duration": 426,
    "start_time": "2022-12-06T14:57:19.813Z"
   },
   {
    "duration": 91,
    "start_time": "2022-12-06T14:57:20.241Z"
   },
   {
    "duration": 30,
    "start_time": "2022-12-06T14:57:20.334Z"
   },
   {
    "duration": 18,
    "start_time": "2022-12-06T14:57:20.366Z"
   },
   {
    "duration": 2059,
    "start_time": "2022-12-06T14:57:20.386Z"
   },
   {
    "duration": 14,
    "start_time": "2022-12-06T14:57:22.447Z"
   },
   {
    "duration": 5,
    "start_time": "2022-12-06T14:57:22.463Z"
   },
   {
    "duration": 27,
    "start_time": "2022-12-06T14:57:22.470Z"
   },
   {
    "duration": 19,
    "start_time": "2022-12-06T14:57:22.499Z"
   },
   {
    "duration": 9,
    "start_time": "2022-12-06T14:57:22.521Z"
   },
   {
    "duration": 9,
    "start_time": "2022-12-06T14:57:22.532Z"
   },
   {
    "duration": 4,
    "start_time": "2022-12-06T14:57:22.543Z"
   },
   {
    "duration": 6,
    "start_time": "2022-12-06T14:57:22.548Z"
   },
   {
    "duration": 4,
    "start_time": "2022-12-06T14:57:22.556Z"
   },
   {
    "duration": 5,
    "start_time": "2022-12-06T14:57:22.562Z"
   },
   {
    "duration": 31,
    "start_time": "2022-12-06T14:57:22.568Z"
   },
   {
    "duration": 6,
    "start_time": "2022-12-06T14:57:22.601Z"
   },
   {
    "duration": 26,
    "start_time": "2022-12-06T14:57:22.609Z"
   },
   {
    "duration": 8,
    "start_time": "2022-12-06T14:57:22.636Z"
   },
   {
    "duration": 7,
    "start_time": "2022-12-06T14:57:22.645Z"
   },
   {
    "duration": 5,
    "start_time": "2022-12-06T14:57:22.653Z"
   },
   {
    "duration": 8,
    "start_time": "2022-12-06T14:57:22.659Z"
   },
   {
    "duration": 258,
    "start_time": "2022-12-06T14:57:22.668Z"
   },
   {
    "duration": 142,
    "start_time": "2022-12-06T14:57:22.928Z"
   },
   {
    "duration": 6,
    "start_time": "2022-12-06T14:57:23.071Z"
   },
   {
    "duration": 16,
    "start_time": "2022-12-06T14:57:23.079Z"
   },
   {
    "duration": 16,
    "start_time": "2022-12-06T14:57:23.097Z"
   },
   {
    "duration": 6,
    "start_time": "2022-12-06T14:57:23.118Z"
   },
   {
    "duration": 50,
    "start_time": "2022-12-06T14:57:23.125Z"
   },
   {
    "duration": 133,
    "start_time": "2022-12-06T14:57:23.177Z"
   },
   {
    "duration": 13,
    "start_time": "2022-12-06T14:57:23.312Z"
   },
   {
    "duration": 36,
    "start_time": "2022-12-06T14:57:23.327Z"
   },
   {
    "duration": 4,
    "start_time": "2022-12-06T14:57:23.365Z"
   },
   {
    "duration": 24,
    "start_time": "2022-12-06T14:57:23.370Z"
   },
   {
    "duration": 6,
    "start_time": "2022-12-06T14:57:23.405Z"
   },
   {
    "duration": 13,
    "start_time": "2022-12-06T14:57:23.413Z"
   },
   {
    "duration": 7,
    "start_time": "2022-12-06T14:57:23.428Z"
   },
   {
    "duration": 8,
    "start_time": "2022-12-06T14:57:23.437Z"
   },
   {
    "duration": 13,
    "start_time": "2022-12-06T14:57:23.447Z"
   },
   {
    "duration": 6,
    "start_time": "2022-12-06T14:57:23.462Z"
   },
   {
    "duration": 4,
    "start_time": "2022-12-06T14:57:23.470Z"
   },
   {
    "duration": 5,
    "start_time": "2022-12-06T14:57:23.475Z"
   },
   {
    "duration": 31,
    "start_time": "2022-12-06T14:57:23.482Z"
   },
   {
    "duration": 8,
    "start_time": "2022-12-06T14:57:23.514Z"
   },
   {
    "duration": 9,
    "start_time": "2022-12-06T14:57:23.523Z"
   },
   {
    "duration": 5,
    "start_time": "2022-12-06T14:57:23.533Z"
   },
   {
    "duration": 5,
    "start_time": "2022-12-06T14:57:23.539Z"
   },
   {
    "duration": 6,
    "start_time": "2022-12-06T14:57:23.546Z"
   },
   {
    "duration": 4,
    "start_time": "2022-12-06T14:57:23.554Z"
   },
   {
    "duration": 62,
    "start_time": "2022-12-06T14:57:23.559Z"
   },
   {
    "duration": 18,
    "start_time": "2022-12-06T14:57:23.622Z"
   },
   {
    "duration": 8,
    "start_time": "2022-12-06T14:57:23.641Z"
   },
   {
    "duration": 14,
    "start_time": "2022-12-06T14:57:23.650Z"
   },
   {
    "duration": 40,
    "start_time": "2022-12-06T14:57:23.665Z"
   },
   {
    "duration": 15,
    "start_time": "2022-12-06T14:57:23.706Z"
   },
   {
    "duration": 29,
    "start_time": "2022-12-06T14:57:23.722Z"
   },
   {
    "duration": 10,
    "start_time": "2022-12-06T14:57:23.752Z"
   },
   {
    "duration": 18,
    "start_time": "2022-12-06T14:57:23.764Z"
   },
   {
    "duration": 36,
    "start_time": "2022-12-06T14:57:23.804Z"
   },
   {
    "duration": 5,
    "start_time": "2022-12-06T14:57:23.841Z"
   },
   {
    "duration": 9,
    "start_time": "2022-12-06T14:57:23.847Z"
   },
   {
    "duration": 1317,
    "start_time": "2022-12-06T14:57:23.857Z"
   },
   {
    "duration": 0,
    "start_time": "2022-12-06T14:57:25.176Z"
   },
   {
    "duration": 44,
    "start_time": "2022-12-06T14:57:47.444Z"
   },
   {
    "duration": 8,
    "start_time": "2022-12-06T14:58:35.575Z"
   },
   {
    "duration": 8,
    "start_time": "2022-12-06T14:58:59.443Z"
   },
   {
    "duration": 10,
    "start_time": "2022-12-06T15:00:00.054Z"
   },
   {
    "duration": 5,
    "start_time": "2022-12-06T15:01:12.179Z"
   },
   {
    "duration": 31,
    "start_time": "2022-12-06T15:01:16.194Z"
   },
   {
    "duration": 6,
    "start_time": "2022-12-06T15:01:53.752Z"
   },
   {
    "duration": 29,
    "start_time": "2022-12-06T15:01:56.616Z"
   },
   {
    "duration": 357,
    "start_time": "2022-12-06T15:02:09.563Z"
   },
   {
    "duration": 88,
    "start_time": "2022-12-06T15:02:09.922Z"
   },
   {
    "duration": 29,
    "start_time": "2022-12-06T15:02:10.012Z"
   },
   {
    "duration": 20,
    "start_time": "2022-12-06T15:02:10.043Z"
   },
   {
    "duration": 2156,
    "start_time": "2022-12-06T15:02:10.065Z"
   },
   {
    "duration": 13,
    "start_time": "2022-12-06T15:02:12.223Z"
   },
   {
    "duration": 60,
    "start_time": "2022-12-06T15:02:12.238Z"
   },
   {
    "duration": 52,
    "start_time": "2022-12-06T15:02:12.300Z"
   },
   {
    "duration": 57,
    "start_time": "2022-12-06T15:02:12.353Z"
   },
   {
    "duration": 37,
    "start_time": "2022-12-06T15:02:12.412Z"
   },
   {
    "duration": 83,
    "start_time": "2022-12-06T15:02:12.451Z"
   },
   {
    "duration": 53,
    "start_time": "2022-12-06T15:02:12.535Z"
   },
   {
    "duration": 61,
    "start_time": "2022-12-06T15:02:12.590Z"
   },
   {
    "duration": 13,
    "start_time": "2022-12-06T15:02:12.654Z"
   },
   {
    "duration": 31,
    "start_time": "2022-12-06T15:02:12.669Z"
   },
   {
    "duration": 52,
    "start_time": "2022-12-06T15:02:12.702Z"
   },
   {
    "duration": 19,
    "start_time": "2022-12-06T15:02:12.756Z"
   },
   {
    "duration": 48,
    "start_time": "2022-12-06T15:02:12.777Z"
   },
   {
    "duration": 24,
    "start_time": "2022-12-06T15:02:12.827Z"
   },
   {
    "duration": 38,
    "start_time": "2022-12-06T15:02:12.853Z"
   },
   {
    "duration": 27,
    "start_time": "2022-12-06T15:02:12.893Z"
   },
   {
    "duration": 49,
    "start_time": "2022-12-06T15:02:12.921Z"
   },
   {
    "duration": 307,
    "start_time": "2022-12-06T15:02:12.972Z"
   },
   {
    "duration": 166,
    "start_time": "2022-12-06T15:02:13.281Z"
   },
   {
    "duration": 6,
    "start_time": "2022-12-06T15:02:13.448Z"
   },
   {
    "duration": 33,
    "start_time": "2022-12-06T15:02:13.456Z"
   },
   {
    "duration": 29,
    "start_time": "2022-12-06T15:02:13.491Z"
   },
   {
    "duration": 21,
    "start_time": "2022-12-06T15:02:13.522Z"
   },
   {
    "duration": 89,
    "start_time": "2022-12-06T15:02:13.546Z"
   },
   {
    "duration": 145,
    "start_time": "2022-12-06T15:02:13.637Z"
   },
   {
    "duration": 22,
    "start_time": "2022-12-06T15:02:13.784Z"
   },
   {
    "duration": 56,
    "start_time": "2022-12-06T15:02:13.808Z"
   },
   {
    "duration": 30,
    "start_time": "2022-12-06T15:02:13.866Z"
   },
   {
    "duration": 33,
    "start_time": "2022-12-06T15:02:13.897Z"
   },
   {
    "duration": 38,
    "start_time": "2022-12-06T15:02:13.932Z"
   },
   {
    "duration": 28,
    "start_time": "2022-12-06T15:02:13.972Z"
   },
   {
    "duration": 19,
    "start_time": "2022-12-06T15:02:14.001Z"
   },
   {
    "duration": 30,
    "start_time": "2022-12-06T15:02:14.021Z"
   },
   {
    "duration": 23,
    "start_time": "2022-12-06T15:02:14.053Z"
   },
   {
    "duration": 26,
    "start_time": "2022-12-06T15:02:14.077Z"
   },
   {
    "duration": 14,
    "start_time": "2022-12-06T15:02:14.106Z"
   },
   {
    "duration": 22,
    "start_time": "2022-12-06T15:02:14.121Z"
   },
   {
    "duration": 22,
    "start_time": "2022-12-06T15:02:14.145Z"
   },
   {
    "duration": 23,
    "start_time": "2022-12-06T15:02:14.169Z"
   },
   {
    "duration": 18,
    "start_time": "2022-12-06T15:02:14.193Z"
   },
   {
    "duration": 22,
    "start_time": "2022-12-06T15:02:14.212Z"
   },
   {
    "duration": 21,
    "start_time": "2022-12-06T15:02:14.236Z"
   },
   {
    "duration": 21,
    "start_time": "2022-12-06T15:02:14.258Z"
   },
   {
    "duration": 26,
    "start_time": "2022-12-06T15:02:14.281Z"
   },
   {
    "duration": 31,
    "start_time": "2022-12-06T15:02:14.309Z"
   },
   {
    "duration": 21,
    "start_time": "2022-12-06T15:02:14.341Z"
   },
   {
    "duration": 43,
    "start_time": "2022-12-06T15:02:14.363Z"
   },
   {
    "duration": 41,
    "start_time": "2022-12-06T15:02:14.408Z"
   },
   {
    "duration": 55,
    "start_time": "2022-12-06T15:02:14.451Z"
   },
   {
    "duration": 32,
    "start_time": "2022-12-06T15:02:14.509Z"
   },
   {
    "duration": 36,
    "start_time": "2022-12-06T15:02:14.542Z"
   },
   {
    "duration": 10,
    "start_time": "2022-12-06T15:02:14.580Z"
   },
   {
    "duration": 28,
    "start_time": "2022-12-06T15:02:14.592Z"
   },
   {
    "duration": 40,
    "start_time": "2022-12-06T15:02:14.622Z"
   },
   {
    "duration": 20,
    "start_time": "2022-12-06T15:02:14.664Z"
   },
   {
    "duration": 23,
    "start_time": "2022-12-06T15:02:14.686Z"
   },
   {
    "duration": 18,
    "start_time": "2022-12-06T15:02:14.711Z"
   },
   {
    "duration": 20,
    "start_time": "2022-12-06T15:02:14.731Z"
   },
   {
    "duration": 37,
    "start_time": "2022-12-06T15:02:19.147Z"
   },
   {
    "duration": 5,
    "start_time": "2022-12-06T15:02:19.231Z"
   },
   {
    "duration": 8,
    "start_time": "2022-12-06T15:02:20.798Z"
   },
   {
    "duration": 40,
    "start_time": "2022-12-06T15:02:26.691Z"
   },
   {
    "duration": 81,
    "start_time": "2022-12-06T15:09:20.335Z"
   },
   {
    "duration": 4,
    "start_time": "2022-12-06T15:10:26.757Z"
   },
   {
    "duration": 10,
    "start_time": "2022-12-06T15:10:31.082Z"
   },
   {
    "duration": 4,
    "start_time": "2022-12-06T15:11:28.807Z"
   },
   {
    "duration": 11,
    "start_time": "2022-12-06T15:11:29.428Z"
   },
   {
    "duration": 4,
    "start_time": "2022-12-06T15:27:50.334Z"
   },
   {
    "duration": 15,
    "start_time": "2022-12-06T15:27:51.447Z"
   },
   {
    "duration": 11,
    "start_time": "2022-12-06T15:28:42.353Z"
   },
   {
    "duration": 11,
    "start_time": "2022-12-06T15:28:46.079Z"
   },
   {
    "duration": 3,
    "start_time": "2022-12-06T15:34:26.789Z"
   },
   {
    "duration": 12,
    "start_time": "2022-12-06T15:34:27.325Z"
   },
   {
    "duration": 4,
    "start_time": "2022-12-06T15:36:01.452Z"
   },
   {
    "duration": 12,
    "start_time": "2022-12-06T15:36:01.889Z"
   },
   {
    "duration": 3,
    "start_time": "2022-12-06T15:36:22.277Z"
   },
   {
    "duration": 11,
    "start_time": "2022-12-06T15:36:22.698Z"
   },
   {
    "duration": 3,
    "start_time": "2022-12-06T15:36:26.858Z"
   },
   {
    "duration": 13,
    "start_time": "2022-12-06T15:36:27.432Z"
   },
   {
    "duration": 321,
    "start_time": "2022-12-06T15:38:43.958Z"
   },
   {
    "duration": 34,
    "start_time": "2022-12-06T15:38:48.202Z"
   },
   {
    "duration": 5,
    "start_time": "2022-12-06T15:45:51.812Z"
   },
   {
    "duration": 31,
    "start_time": "2022-12-06T15:45:54.870Z"
   },
   {
    "duration": 6,
    "start_time": "2022-12-06T15:47:56.528Z"
   },
   {
    "duration": 32,
    "start_time": "2022-12-06T15:47:59.848Z"
   },
   {
    "duration": 15,
    "start_time": "2022-12-06T15:48:28.262Z"
   },
   {
    "duration": 5,
    "start_time": "2022-12-06T15:48:50.070Z"
   },
   {
    "duration": 5,
    "start_time": "2022-12-06T15:49:10.090Z"
   },
   {
    "duration": 16,
    "start_time": "2022-12-06T15:49:20.138Z"
   },
   {
    "duration": 5,
    "start_time": "2022-12-06T15:49:44.795Z"
   },
   {
    "duration": 5,
    "start_time": "2022-12-06T15:49:48.019Z"
   },
   {
    "duration": 5,
    "start_time": "2022-12-06T15:50:04.557Z"
   },
   {
    "duration": 30,
    "start_time": "2022-12-06T15:50:16.404Z"
   },
   {
    "duration": 1107,
    "start_time": "2022-12-06T15:50:56.391Z"
   },
   {
    "duration": 8,
    "start_time": "2022-12-06T15:51:11.590Z"
   },
   {
    "duration": 4,
    "start_time": "2022-12-06T15:51:25.593Z"
   },
   {
    "duration": 5,
    "start_time": "2022-12-06T15:52:48.375Z"
   },
   {
    "duration": 31,
    "start_time": "2022-12-06T15:52:56.456Z"
   },
   {
    "duration": 30,
    "start_time": "2022-12-06T15:53:39.888Z"
   },
   {
    "duration": 5,
    "start_time": "2022-12-06T15:54:16.136Z"
   },
   {
    "duration": 35,
    "start_time": "2022-12-06T15:54:19.741Z"
   },
   {
    "duration": 30,
    "start_time": "2022-12-06T19:57:34.186Z"
   },
   {
    "duration": 218,
    "start_time": "2022-12-06T20:22:04.307Z"
   },
   {
    "duration": 73,
    "start_time": "2022-12-06T20:24:27.852Z"
   },
   {
    "duration": 242,
    "start_time": "2022-12-06T20:24:33.438Z"
   },
   {
    "duration": 9,
    "start_time": "2022-12-06T20:25:37.588Z"
   },
   {
    "duration": 214,
    "start_time": "2022-12-06T20:29:15.700Z"
   },
   {
    "duration": 239,
    "start_time": "2022-12-06T20:32:20.932Z"
   },
   {
    "duration": 349,
    "start_time": "2022-12-06T20:33:44.094Z"
   },
   {
    "duration": 8,
    "start_time": "2022-12-06T20:34:02.006Z"
   },
   {
    "duration": 13,
    "start_time": "2022-12-06T20:55:45.863Z"
   },
   {
    "duration": 8,
    "start_time": "2022-12-06T20:57:16.405Z"
   },
   {
    "duration": 246,
    "start_time": "2022-12-06T21:04:49.772Z"
   },
   {
    "duration": 244,
    "start_time": "2022-12-06T21:05:33.953Z"
   },
   {
    "duration": 150,
    "start_time": "2022-12-06T21:05:48.410Z"
   },
   {
    "duration": 133,
    "start_time": "2022-12-06T21:05:59.906Z"
   },
   {
    "duration": 224,
    "start_time": "2022-12-06T21:06:06.815Z"
   },
   {
    "duration": 136,
    "start_time": "2022-12-06T21:06:26.327Z"
   },
   {
    "duration": 142,
    "start_time": "2022-12-06T21:06:32.364Z"
   },
   {
    "duration": 378,
    "start_time": "2022-12-06T21:06:40.278Z"
   },
   {
    "duration": 9,
    "start_time": "2022-12-06T21:06:58.502Z"
   },
   {
    "duration": 8,
    "start_time": "2022-12-06T21:08:56.021Z"
   },
   {
    "duration": 7,
    "start_time": "2022-12-06T21:09:13.066Z"
   },
   {
    "duration": 223,
    "start_time": "2022-12-06T21:11:21.657Z"
   },
   {
    "duration": 227,
    "start_time": "2022-12-06T21:11:56.313Z"
   },
   {
    "duration": 7,
    "start_time": "2022-12-06T21:12:21.750Z"
   },
   {
    "duration": 26,
    "start_time": "2022-12-06T21:14:24.245Z"
   },
   {
    "duration": 7,
    "start_time": "2022-12-06T21:18:10.808Z"
   },
   {
    "duration": 7,
    "start_time": "2022-12-06T21:18:18.422Z"
   },
   {
    "duration": 5,
    "start_time": "2022-12-06T21:18:27.318Z"
   },
   {
    "duration": 4,
    "start_time": "2022-12-06T21:19:03.286Z"
   },
   {
    "duration": 244,
    "start_time": "2022-12-06T21:19:50.945Z"
   },
   {
    "duration": 168,
    "start_time": "2022-12-06T21:19:58.294Z"
   },
   {
    "duration": 227,
    "start_time": "2022-12-06T21:20:03.172Z"
   },
   {
    "duration": 6,
    "start_time": "2022-12-06T21:25:10.164Z"
   },
   {
    "duration": 8,
    "start_time": "2022-12-06T21:25:35.327Z"
   },
   {
    "duration": 33,
    "start_time": "2022-12-06T21:28:58.669Z"
   },
   {
    "duration": 374,
    "start_time": "2022-12-06T21:29:14.918Z"
   },
   {
    "duration": 219,
    "start_time": "2022-12-06T21:29:47.199Z"
   },
   {
    "duration": 154,
    "start_time": "2022-12-06T21:29:57.695Z"
   },
   {
    "duration": 125,
    "start_time": "2022-12-06T21:30:01.909Z"
   },
   {
    "duration": 139,
    "start_time": "2022-12-06T21:30:04.992Z"
   },
   {
    "duration": 110,
    "start_time": "2022-12-06T21:30:23.139Z"
   },
   {
    "duration": 137,
    "start_time": "2022-12-06T21:30:33.393Z"
   },
   {
    "duration": 139,
    "start_time": "2022-12-06T21:30:37.339Z"
   },
   {
    "duration": 122,
    "start_time": "2022-12-06T21:30:40.017Z"
   },
   {
    "duration": 124,
    "start_time": "2022-12-06T21:30:43.219Z"
   },
   {
    "duration": 237,
    "start_time": "2022-12-06T21:31:24.158Z"
   },
   {
    "duration": 134,
    "start_time": "2022-12-06T21:31:45.381Z"
   },
   {
    "duration": 137,
    "start_time": "2022-12-06T21:32:43.275Z"
   },
   {
    "duration": 247,
    "start_time": "2022-12-06T21:38:41.154Z"
   },
   {
    "duration": 420,
    "start_time": "2022-12-06T21:39:18.329Z"
   },
   {
    "duration": 218,
    "start_time": "2022-12-06T21:39:24.036Z"
   },
   {
    "duration": 216,
    "start_time": "2022-12-06T21:39:26.026Z"
   },
   {
    "duration": 225,
    "start_time": "2022-12-06T21:39:29.797Z"
   },
   {
    "duration": 137,
    "start_time": "2022-12-06T21:39:38.413Z"
   },
   {
    "duration": 34,
    "start_time": "2022-12-06T21:39:49.829Z"
   },
   {
    "duration": 1440,
    "start_time": "2022-12-06T21:40:01.184Z"
   },
   {
    "duration": 207,
    "start_time": "2022-12-06T21:40:09.154Z"
   },
   {
    "duration": 243,
    "start_time": "2022-12-06T21:40:14.541Z"
   },
   {
    "duration": 272,
    "start_time": "2022-12-06T21:40:19.960Z"
   },
   {
    "duration": 214,
    "start_time": "2022-12-06T21:40:24.770Z"
   },
   {
    "duration": 256,
    "start_time": "2022-12-06T21:40:33.239Z"
   },
   {
    "duration": 8,
    "start_time": "2022-12-06T21:41:07.770Z"
   },
   {
    "duration": 222,
    "start_time": "2022-12-06T21:41:37.646Z"
   },
   {
    "duration": 208,
    "start_time": "2022-12-06T21:41:44.232Z"
   },
   {
    "duration": 478,
    "start_time": "2022-12-06T21:41:52.499Z"
   },
   {
    "duration": 248,
    "start_time": "2022-12-06T21:42:52.281Z"
   },
   {
    "duration": 240,
    "start_time": "2022-12-06T21:45:12.705Z"
   },
   {
    "duration": 249,
    "start_time": "2022-12-06T21:45:54.958Z"
   },
   {
    "duration": 248,
    "start_time": "2022-12-06T21:46:01.749Z"
   },
   {
    "duration": 232,
    "start_time": "2022-12-06T21:46:11.660Z"
   },
   {
    "duration": 138,
    "start_time": "2022-12-06T21:46:15.267Z"
   },
   {
    "duration": 7,
    "start_time": "2022-12-06T21:47:15.069Z"
   },
   {
    "duration": 35,
    "start_time": "2022-12-06T21:48:59.675Z"
   },
   {
    "duration": 8,
    "start_time": "2022-12-06T21:49:14.929Z"
   },
   {
    "duration": 224,
    "start_time": "2022-12-06T21:51:03.728Z"
   },
   {
    "duration": 147,
    "start_time": "2022-12-06T21:51:20.518Z"
   },
   {
    "duration": 150,
    "start_time": "2022-12-06T21:51:38.960Z"
   },
   {
    "duration": 5,
    "start_time": "2022-12-06T21:52:01.165Z"
   },
   {
    "duration": 234,
    "start_time": "2022-12-06T21:56:53.902Z"
   },
   {
    "duration": 245,
    "start_time": "2022-12-06T21:57:28.701Z"
   },
   {
    "duration": 253,
    "start_time": "2022-12-06T21:59:30.833Z"
   },
   {
    "duration": 6,
    "start_time": "2022-12-06T22:00:20.796Z"
   },
   {
    "duration": 207,
    "start_time": "2022-12-06T22:05:50.209Z"
   },
   {
    "duration": 501,
    "start_time": "2022-12-06T22:06:46.614Z"
   },
   {
    "duration": 252,
    "start_time": "2022-12-06T22:09:17.930Z"
   },
   {
    "duration": 221,
    "start_time": "2022-12-06T22:09:59.739Z"
   },
   {
    "duration": 35,
    "start_time": "2022-12-06T22:12:52.090Z"
   },
   {
    "duration": 135,
    "start_time": "2022-12-06T22:13:23.299Z"
   },
   {
    "duration": 119,
    "start_time": "2022-12-06T22:14:14.729Z"
   },
   {
    "duration": 48,
    "start_time": "2022-12-07T14:41:04.196Z"
   },
   {
    "duration": 422,
    "start_time": "2022-12-07T14:41:14.934Z"
   },
   {
    "duration": 366,
    "start_time": "2022-12-07T14:41:15.358Z"
   },
   {
    "duration": 41,
    "start_time": "2022-12-07T14:41:15.726Z"
   },
   {
    "duration": 14,
    "start_time": "2022-12-07T14:41:15.769Z"
   },
   {
    "duration": 2465,
    "start_time": "2022-12-07T14:41:15.785Z"
   },
   {
    "duration": 15,
    "start_time": "2022-12-07T14:41:18.252Z"
   },
   {
    "duration": 5,
    "start_time": "2022-12-07T14:41:18.269Z"
   },
   {
    "duration": 6,
    "start_time": "2022-12-07T14:41:18.276Z"
   },
   {
    "duration": 15,
    "start_time": "2022-12-07T14:41:18.283Z"
   },
   {
    "duration": 17,
    "start_time": "2022-12-07T14:41:18.299Z"
   },
   {
    "duration": 8,
    "start_time": "2022-12-07T14:41:18.318Z"
   },
   {
    "duration": 10,
    "start_time": "2022-12-07T14:41:18.327Z"
   },
   {
    "duration": 15,
    "start_time": "2022-12-07T14:41:18.338Z"
   },
   {
    "duration": 5,
    "start_time": "2022-12-07T14:41:18.356Z"
   },
   {
    "duration": 11,
    "start_time": "2022-12-07T14:41:18.363Z"
   },
   {
    "duration": 27,
    "start_time": "2022-12-07T14:41:18.375Z"
   },
   {
    "duration": 10,
    "start_time": "2022-12-07T14:41:18.404Z"
   },
   {
    "duration": 26,
    "start_time": "2022-12-07T14:41:18.416Z"
   },
   {
    "duration": 11,
    "start_time": "2022-12-07T14:41:18.444Z"
   },
   {
    "duration": 6,
    "start_time": "2022-12-07T14:41:18.456Z"
   },
   {
    "duration": 9,
    "start_time": "2022-12-07T14:41:18.463Z"
   },
   {
    "duration": 33,
    "start_time": "2022-12-07T14:41:18.473Z"
   },
   {
    "duration": 273,
    "start_time": "2022-12-07T14:41:18.508Z"
   },
   {
    "duration": 176,
    "start_time": "2022-12-07T14:41:18.782Z"
   },
   {
    "duration": 6,
    "start_time": "2022-12-07T14:41:18.960Z"
   },
   {
    "duration": 18,
    "start_time": "2022-12-07T14:41:18.968Z"
   },
   {
    "duration": 10,
    "start_time": "2022-12-07T14:41:18.988Z"
   },
   {
    "duration": 17,
    "start_time": "2022-12-07T14:41:19.001Z"
   },
   {
    "duration": 55,
    "start_time": "2022-12-07T14:41:19.020Z"
   },
   {
    "duration": 178,
    "start_time": "2022-12-07T14:41:19.077Z"
   },
   {
    "duration": 16,
    "start_time": "2022-12-07T14:41:19.257Z"
   },
   {
    "duration": 6,
    "start_time": "2022-12-07T14:41:19.275Z"
   },
   {
    "duration": 19,
    "start_time": "2022-12-07T14:41:19.297Z"
   },
   {
    "duration": 18,
    "start_time": "2022-12-07T14:41:19.318Z"
   },
   {
    "duration": 12,
    "start_time": "2022-12-07T14:41:19.338Z"
   },
   {
    "duration": 4,
    "start_time": "2022-12-07T14:41:19.351Z"
   },
   {
    "duration": 10,
    "start_time": "2022-12-07T14:41:19.357Z"
   },
   {
    "duration": 8,
    "start_time": "2022-12-07T14:41:19.369Z"
   },
   {
    "duration": 13,
    "start_time": "2022-12-07T14:41:19.379Z"
   },
   {
    "duration": 88,
    "start_time": "2022-12-07T14:41:19.397Z"
   },
   {
    "duration": 9,
    "start_time": "2022-12-07T14:41:19.491Z"
   },
   {
    "duration": 9,
    "start_time": "2022-12-07T14:41:19.501Z"
   },
   {
    "duration": 7,
    "start_time": "2022-12-07T14:41:19.512Z"
   },
   {
    "duration": 12,
    "start_time": "2022-12-07T14:41:19.521Z"
   },
   {
    "duration": 5,
    "start_time": "2022-12-07T14:41:19.535Z"
   },
   {
    "duration": 9,
    "start_time": "2022-12-07T14:41:19.542Z"
   },
   {
    "duration": 48,
    "start_time": "2022-12-07T14:41:19.553Z"
   },
   {
    "duration": 6,
    "start_time": "2022-12-07T14:41:19.603Z"
   },
   {
    "duration": 32,
    "start_time": "2022-12-07T14:41:19.611Z"
   },
   {
    "duration": 18,
    "start_time": "2022-12-07T14:41:19.645Z"
   },
   {
    "duration": 39,
    "start_time": "2022-12-07T14:41:19.665Z"
   },
   {
    "duration": 14,
    "start_time": "2022-12-07T14:41:19.706Z"
   },
   {
    "duration": 22,
    "start_time": "2022-12-07T14:41:19.722Z"
   },
   {
    "duration": 17,
    "start_time": "2022-12-07T14:41:19.745Z"
   },
   {
    "duration": 51,
    "start_time": "2022-12-07T14:41:19.763Z"
   },
   {
    "duration": 13,
    "start_time": "2022-12-07T14:41:19.816Z"
   },
   {
    "duration": 21,
    "start_time": "2022-12-07T14:41:19.831Z"
   },
   {
    "duration": 7,
    "start_time": "2022-12-07T14:41:19.855Z"
   },
   {
    "duration": 37,
    "start_time": "2022-12-07T14:41:19.864Z"
   },
   {
    "duration": 11,
    "start_time": "2022-12-07T14:41:19.903Z"
   },
   {
    "duration": 13,
    "start_time": "2022-12-07T14:41:19.917Z"
   },
   {
    "duration": 5,
    "start_time": "2022-12-07T14:41:19.933Z"
   },
   {
    "duration": 345,
    "start_time": "2022-12-07T14:41:19.941Z"
   },
   {
    "duration": 11,
    "start_time": "2022-12-07T14:41:20.288Z"
   },
   {
    "duration": 17,
    "start_time": "2022-12-07T14:41:20.301Z"
   },
   {
    "duration": 9,
    "start_time": "2022-12-07T14:41:20.319Z"
   },
   {
    "duration": 7,
    "start_time": "2022-12-07T14:41:20.330Z"
   },
   {
    "duration": 247,
    "start_time": "2022-12-07T14:41:20.339Z"
   },
   {
    "duration": 291,
    "start_time": "2022-12-07T14:41:20.588Z"
   },
   {
    "duration": 7,
    "start_time": "2022-12-07T14:41:20.881Z"
   },
   {
    "duration": 275,
    "start_time": "2022-12-07T14:41:20.889Z"
   },
   {
    "duration": 273,
    "start_time": "2022-12-07T14:41:21.166Z"
   },
   {
    "duration": 7,
    "start_time": "2022-12-07T14:41:21.440Z"
   },
   {
    "duration": 13,
    "start_time": "2022-12-07T14:41:21.448Z"
   },
   {
    "duration": 343,
    "start_time": "2022-12-07T14:41:21.462Z"
   },
   {
    "duration": 271,
    "start_time": "2022-12-07T14:41:21.807Z"
   },
   {
    "duration": 19,
    "start_time": "2022-12-07T14:41:22.080Z"
   },
   {
    "duration": 10,
    "start_time": "2022-12-07T14:41:22.101Z"
   },
   {
    "duration": 8,
    "start_time": "2022-12-07T14:41:22.113Z"
   },
   {
    "duration": 287,
    "start_time": "2022-12-07T14:41:22.123Z"
   },
   {
    "duration": 323,
    "start_time": "2022-12-07T14:41:22.412Z"
   },
   {
    "duration": 160,
    "start_time": "2022-12-07T14:41:22.737Z"
   },
   {
    "duration": 7,
    "start_time": "2022-12-07T14:41:22.898Z"
   },
   {
    "duration": 49,
    "start_time": "2022-12-07T14:41:22.907Z"
   },
   {
    "duration": 4,
    "start_time": "2022-12-07T14:41:22.958Z"
   },
   {
    "duration": 5,
    "start_time": "2022-12-07T14:41:22.964Z"
   },
   {
    "duration": 359,
    "start_time": "2022-12-07T14:41:22.970Z"
   },
   {
    "duration": 304,
    "start_time": "2022-12-07T14:41:23.331Z"
   },
   {
    "duration": 8,
    "start_time": "2022-12-07T14:41:23.637Z"
   },
   {
    "duration": 9,
    "start_time": "2022-12-07T14:41:23.647Z"
   },
   {
    "duration": 9,
    "start_time": "2022-12-07T14:41:23.658Z"
   },
   {
    "duration": 218,
    "start_time": "2022-12-07T14:41:23.669Z"
   },
   {
    "duration": 13,
    "start_time": "2022-12-07T14:41:23.889Z"
   },
   {
    "duration": 267,
    "start_time": "2022-12-07T14:41:23.904Z"
   },
   {
    "duration": 269,
    "start_time": "2022-12-07T14:41:24.173Z"
   },
   {
    "duration": 285,
    "start_time": "2022-12-07T14:41:24.444Z"
   },
   {
    "duration": 368,
    "start_time": "2022-12-07T14:41:24.733Z"
   },
   {
    "duration": 36,
    "start_time": "2022-12-07T14:41:25.103Z"
   },
   {
    "duration": 159,
    "start_time": "2022-12-07T14:41:25.140Z"
   },
   {
    "duration": 192,
    "start_time": "2022-12-07T14:41:25.301Z"
   },
   {
    "duration": 400,
    "start_time": "2022-12-07T14:41:31.282Z"
   },
   {
    "duration": 230,
    "start_time": "2022-12-07T14:52:07.814Z"
   },
   {
    "duration": 30,
    "start_time": "2022-12-07T14:55:19.226Z"
   },
   {
    "duration": 45,
    "start_time": "2022-12-07T14:55:49.166Z"
   },
   {
    "duration": 8,
    "start_time": "2022-12-07T14:55:54.137Z"
   },
   {
    "duration": 4,
    "start_time": "2022-12-07T14:58:42.459Z"
   },
   {
    "duration": 5,
    "start_time": "2022-12-07T14:58:53.093Z"
   },
   {
    "duration": 8,
    "start_time": "2022-12-07T14:59:12.519Z"
   },
   {
    "duration": 4,
    "start_time": "2022-12-07T15:14:14.289Z"
   },
   {
    "duration": 10,
    "start_time": "2022-12-07T15:15:11.000Z"
   },
   {
    "duration": 156,
    "start_time": "2022-12-07T15:15:16.809Z"
   },
   {
    "duration": 15,
    "start_time": "2022-12-07T15:17:57.253Z"
   },
   {
    "duration": 28,
    "start_time": "2022-12-07T15:18:03.067Z"
   },
   {
    "duration": 864,
    "start_time": "2022-12-07T15:18:51.642Z"
   },
   {
    "duration": 1030,
    "start_time": "2022-12-07T15:18:53.933Z"
   },
   {
    "duration": 888,
    "start_time": "2022-12-07T15:19:26.209Z"
   },
   {
    "duration": 159,
    "start_time": "2022-12-07T15:20:02.430Z"
   },
   {
    "duration": 925,
    "start_time": "2022-12-07T15:21:45.085Z"
   },
   {
    "duration": 183,
    "start_time": "2022-12-07T15:21:54.759Z"
   },
   {
    "duration": 175,
    "start_time": "2022-12-07T15:22:09.455Z"
   },
   {
    "duration": 220,
    "start_time": "2022-12-07T15:22:34.739Z"
   },
   {
    "duration": 198,
    "start_time": "2022-12-07T15:22:38.944Z"
   },
   {
    "duration": 267,
    "start_time": "2022-12-07T15:24:18.271Z"
   },
   {
    "duration": 6,
    "start_time": "2022-12-07T15:25:08.638Z"
   },
   {
    "duration": 222,
    "start_time": "2022-12-07T15:28:58.397Z"
   },
   {
    "duration": 208,
    "start_time": "2022-12-07T15:29:37.357Z"
   },
   {
    "duration": 215,
    "start_time": "2022-12-07T15:29:50.395Z"
   },
   {
    "duration": 6,
    "start_time": "2022-12-07T15:30:14.637Z"
   },
   {
    "duration": 188,
    "start_time": "2022-12-07T15:33:24.055Z"
   },
   {
    "duration": 805,
    "start_time": "2022-12-07T15:33:59.085Z"
   },
   {
    "duration": 170,
    "start_time": "2022-12-07T15:34:04.207Z"
   },
   {
    "duration": 194,
    "start_time": "2022-12-07T15:34:22.372Z"
   },
   {
    "duration": 6,
    "start_time": "2022-12-07T15:34:41.800Z"
   },
   {
    "duration": 195,
    "start_time": "2022-12-07T15:36:33.313Z"
   },
   {
    "duration": 194,
    "start_time": "2022-12-07T15:36:48.232Z"
   },
   {
    "duration": 228,
    "start_time": "2022-12-07T15:37:04.345Z"
   },
   {
    "duration": 9,
    "start_time": "2022-12-07T15:37:23.957Z"
   },
   {
    "duration": 8,
    "start_time": "2022-12-07T15:37:27.609Z"
   },
   {
    "duration": 209,
    "start_time": "2022-12-07T15:38:00.488Z"
   },
   {
    "duration": 416,
    "start_time": "2022-12-07T15:38:08.511Z"
   },
   {
    "duration": 193,
    "start_time": "2022-12-07T15:38:11.954Z"
   },
   {
    "duration": 231,
    "start_time": "2022-12-07T15:39:15.881Z"
   },
   {
    "duration": 192,
    "start_time": "2022-12-07T15:39:26.480Z"
   },
   {
    "duration": 5,
    "start_time": "2022-12-07T15:41:12.063Z"
   },
   {
    "duration": 198,
    "start_time": "2022-12-07T15:43:12.376Z"
   },
   {
    "duration": 291,
    "start_time": "2022-12-07T15:43:30.317Z"
   },
   {
    "duration": 167,
    "start_time": "2022-12-07T15:44:54.155Z"
   },
   {
    "duration": 215,
    "start_time": "2022-12-07T15:45:54.995Z"
   },
   {
    "duration": 108,
    "start_time": "2022-12-07T15:47:16.146Z"
   },
   {
    "duration": 153,
    "start_time": "2022-12-07T15:47:21.687Z"
   },
   {
    "duration": 36,
    "start_time": "2022-12-07T15:51:07.192Z"
   },
   {
    "duration": 179,
    "start_time": "2022-12-07T15:51:15.028Z"
   },
   {
    "duration": 169,
    "start_time": "2022-12-07T15:51:47.123Z"
   },
   {
    "duration": 5,
    "start_time": "2022-12-07T15:52:13.562Z"
   },
   {
    "duration": 170,
    "start_time": "2022-12-07T15:53:26.478Z"
   },
   {
    "duration": 5,
    "start_time": "2022-12-07T15:53:40.244Z"
   },
   {
    "duration": 169,
    "start_time": "2022-12-07T15:54:58.850Z"
   },
   {
    "duration": 5,
    "start_time": "2022-12-07T15:55:12.265Z"
   },
   {
    "duration": 57,
    "start_time": "2022-12-07T20:34:42.931Z"
   },
   {
    "duration": 453,
    "start_time": "2022-12-07T20:34:51.139Z"
   },
   {
    "duration": 305,
    "start_time": "2022-12-07T20:34:51.593Z"
   },
   {
    "duration": 34,
    "start_time": "2022-12-07T20:34:51.900Z"
   },
   {
    "duration": 23,
    "start_time": "2022-12-07T20:34:51.937Z"
   },
   {
    "duration": 2400,
    "start_time": "2022-12-07T20:34:51.962Z"
   },
   {
    "duration": 16,
    "start_time": "2022-12-07T20:34:54.364Z"
   },
   {
    "duration": 6,
    "start_time": "2022-12-07T20:34:54.381Z"
   },
   {
    "duration": 7,
    "start_time": "2022-12-07T20:34:54.388Z"
   },
   {
    "duration": 11,
    "start_time": "2022-12-07T20:34:54.396Z"
   },
   {
    "duration": 6,
    "start_time": "2022-12-07T20:34:54.410Z"
   },
   {
    "duration": 5,
    "start_time": "2022-12-07T20:34:54.418Z"
   },
   {
    "duration": 30,
    "start_time": "2022-12-07T20:34:54.426Z"
   },
   {
    "duration": 7,
    "start_time": "2022-12-07T20:34:54.458Z"
   },
   {
    "duration": 5,
    "start_time": "2022-12-07T20:34:54.467Z"
   },
   {
    "duration": 7,
    "start_time": "2022-12-07T20:34:54.474Z"
   },
   {
    "duration": 13,
    "start_time": "2022-12-07T20:34:54.482Z"
   },
   {
    "duration": 7,
    "start_time": "2022-12-07T20:34:54.496Z"
   },
   {
    "duration": 52,
    "start_time": "2022-12-07T20:34:54.505Z"
   },
   {
    "duration": 8,
    "start_time": "2022-12-07T20:34:54.559Z"
   },
   {
    "duration": 5,
    "start_time": "2022-12-07T20:34:54.569Z"
   },
   {
    "duration": 6,
    "start_time": "2022-12-07T20:34:54.576Z"
   },
   {
    "duration": 8,
    "start_time": "2022-12-07T20:34:54.584Z"
   },
   {
    "duration": 379,
    "start_time": "2022-12-07T20:34:54.594Z"
   },
   {
    "duration": 143,
    "start_time": "2022-12-07T20:34:54.975Z"
   },
   {
    "duration": 7,
    "start_time": "2022-12-07T20:34:55.120Z"
   },
   {
    "duration": 10,
    "start_time": "2022-12-07T20:34:55.129Z"
   },
   {
    "duration": 21,
    "start_time": "2022-12-07T20:34:55.141Z"
   },
   {
    "duration": 6,
    "start_time": "2022-12-07T20:34:55.166Z"
   },
   {
    "duration": 58,
    "start_time": "2022-12-07T20:34:55.174Z"
   },
   {
    "duration": 149,
    "start_time": "2022-12-07T20:34:55.235Z"
   },
   {
    "duration": 14,
    "start_time": "2022-12-07T20:34:55.386Z"
   },
   {
    "duration": 9,
    "start_time": "2022-12-07T20:34:55.401Z"
   },
   {
    "duration": 13,
    "start_time": "2022-12-07T20:34:55.412Z"
   },
   {
    "duration": 29,
    "start_time": "2022-12-07T20:34:55.427Z"
   },
   {
    "duration": 10,
    "start_time": "2022-12-07T20:34:55.457Z"
   },
   {
    "duration": 13,
    "start_time": "2022-12-07T20:34:55.469Z"
   },
   {
    "duration": 17,
    "start_time": "2022-12-07T20:34:55.484Z"
   },
   {
    "duration": 6,
    "start_time": "2022-12-07T20:34:55.502Z"
   },
   {
    "duration": 4,
    "start_time": "2022-12-07T20:34:55.510Z"
   },
   {
    "duration": 83,
    "start_time": "2022-12-07T20:34:55.516Z"
   },
   {
    "duration": 7,
    "start_time": "2022-12-07T20:34:55.601Z"
   },
   {
    "duration": 8,
    "start_time": "2022-12-07T20:34:55.609Z"
   },
   {
    "duration": 7,
    "start_time": "2022-12-07T20:34:55.619Z"
   },
   {
    "duration": 30,
    "start_time": "2022-12-07T20:34:55.627Z"
   },
   {
    "duration": 5,
    "start_time": "2022-12-07T20:34:55.658Z"
   },
   {
    "duration": 4,
    "start_time": "2022-12-07T20:34:55.665Z"
   },
   {
    "duration": 8,
    "start_time": "2022-12-07T20:34:55.671Z"
   },
   {
    "duration": 4,
    "start_time": "2022-12-07T20:34:55.681Z"
   },
   {
    "duration": 20,
    "start_time": "2022-12-07T20:34:55.687Z"
   },
   {
    "duration": 58,
    "start_time": "2022-12-07T20:34:55.709Z"
   },
   {
    "duration": 11,
    "start_time": "2022-12-07T20:34:55.769Z"
   },
   {
    "duration": 17,
    "start_time": "2022-12-07T20:34:55.782Z"
   },
   {
    "duration": 21,
    "start_time": "2022-12-07T20:34:55.801Z"
   },
   {
    "duration": 40,
    "start_time": "2022-12-07T20:34:55.824Z"
   },
   {
    "duration": 28,
    "start_time": "2022-12-07T20:34:55.866Z"
   },
   {
    "duration": 10,
    "start_time": "2022-12-07T20:34:55.896Z"
   },
   {
    "duration": 18,
    "start_time": "2022-12-07T20:34:55.907Z"
   },
   {
    "duration": 28,
    "start_time": "2022-12-07T20:34:55.927Z"
   },
   {
    "duration": 9,
    "start_time": "2022-12-07T20:34:55.957Z"
   },
   {
    "duration": 5,
    "start_time": "2022-12-07T20:34:55.968Z"
   },
   {
    "duration": 9,
    "start_time": "2022-12-07T20:34:55.974Z"
   },
   {
    "duration": 3,
    "start_time": "2022-12-07T20:34:55.985Z"
   },
   {
    "duration": 287,
    "start_time": "2022-12-07T20:34:55.989Z"
   },
   {
    "duration": 5,
    "start_time": "2022-12-07T20:34:56.278Z"
   },
   {
    "duration": 4,
    "start_time": "2022-12-07T20:34:56.285Z"
   },
   {
    "duration": 4,
    "start_time": "2022-12-07T20:34:56.291Z"
   },
   {
    "duration": 5,
    "start_time": "2022-12-07T20:34:56.297Z"
   },
   {
    "duration": 277,
    "start_time": "2022-12-07T20:34:56.303Z"
   },
   {
    "duration": 265,
    "start_time": "2022-12-07T20:34:56.582Z"
   },
   {
    "duration": 6,
    "start_time": "2022-12-07T20:34:56.854Z"
   },
   {
    "duration": 264,
    "start_time": "2022-12-07T20:34:56.862Z"
   },
   {
    "duration": 251,
    "start_time": "2022-12-07T20:34:57.128Z"
   },
   {
    "duration": 6,
    "start_time": "2022-12-07T20:34:57.381Z"
   },
   {
    "duration": 8,
    "start_time": "2022-12-07T20:34:57.389Z"
   },
   {
    "duration": 357,
    "start_time": "2022-12-07T20:34:57.398Z"
   },
   {
    "duration": 258,
    "start_time": "2022-12-07T20:34:57.756Z"
   },
   {
    "duration": 6,
    "start_time": "2022-12-07T20:34:58.016Z"
   },
   {
    "duration": 10,
    "start_time": "2022-12-07T20:34:58.023Z"
   },
   {
    "duration": 26,
    "start_time": "2022-12-07T20:34:58.034Z"
   },
   {
    "duration": 263,
    "start_time": "2022-12-07T20:34:58.062Z"
   },
   {
    "duration": 266,
    "start_time": "2022-12-07T20:34:58.327Z"
   },
   {
    "duration": 146,
    "start_time": "2022-12-07T20:34:58.600Z"
   },
   {
    "duration": 12,
    "start_time": "2022-12-07T20:34:58.748Z"
   },
   {
    "duration": 28,
    "start_time": "2022-12-07T20:34:58.762Z"
   },
   {
    "duration": 5,
    "start_time": "2022-12-07T20:34:58.791Z"
   },
   {
    "duration": 5,
    "start_time": "2022-12-07T20:34:58.798Z"
   },
   {
    "duration": 282,
    "start_time": "2022-12-07T20:34:58.804Z"
   },
   {
    "duration": 276,
    "start_time": "2022-12-07T20:34:59.088Z"
   },
   {
    "duration": 6,
    "start_time": "2022-12-07T20:34:59.366Z"
   },
   {
    "duration": 8,
    "start_time": "2022-12-07T20:34:59.373Z"
   },
   {
    "duration": 7,
    "start_time": "2022-12-07T20:34:59.382Z"
   },
   {
    "duration": 177,
    "start_time": "2022-12-07T20:34:59.390Z"
   },
   {
    "duration": 6,
    "start_time": "2022-12-07T20:34:59.568Z"
   },
   {
    "duration": 256,
    "start_time": "2022-12-07T20:34:59.576Z"
   },
   {
    "duration": 279,
    "start_time": "2022-12-07T20:34:59.834Z"
   },
   {
    "duration": 274,
    "start_time": "2022-12-07T20:35:00.115Z"
   },
   {
    "duration": 259,
    "start_time": "2022-12-07T20:35:00.391Z"
   },
   {
    "duration": 144,
    "start_time": "2022-12-07T20:35:00.652Z"
   },
   {
    "duration": 149,
    "start_time": "2022-12-07T20:35:00.798Z"
   },
   {
    "duration": 408,
    "start_time": "2022-12-07T20:35:00.949Z"
   },
   {
    "duration": 257,
    "start_time": "2022-12-07T20:35:01.358Z"
   },
   {
    "duration": 9,
    "start_time": "2022-12-07T20:35:01.616Z"
   },
   {
    "duration": 15,
    "start_time": "2022-12-07T20:35:01.627Z"
   },
   {
    "duration": 18,
    "start_time": "2022-12-07T20:35:01.644Z"
   },
   {
    "duration": 12,
    "start_time": "2022-12-07T20:35:01.663Z"
   },
   {
    "duration": 172,
    "start_time": "2022-12-07T20:35:01.677Z"
   },
   {
    "duration": 216,
    "start_time": "2022-12-07T20:35:01.855Z"
   },
   {
    "duration": 232,
    "start_time": "2022-12-07T20:35:02.073Z"
   },
   {
    "duration": 6,
    "start_time": "2022-12-07T20:35:02.307Z"
   },
   {
    "duration": 224,
    "start_time": "2022-12-07T20:35:02.314Z"
   },
   {
    "duration": 218,
    "start_time": "2022-12-07T20:35:02.539Z"
   },
   {
    "duration": 5,
    "start_time": "2022-12-07T20:35:02.759Z"
   },
   {
    "duration": 199,
    "start_time": "2022-12-07T20:35:02.765Z"
   },
   {
    "duration": 229,
    "start_time": "2022-12-07T20:35:02.966Z"
   },
   {
    "duration": 6,
    "start_time": "2022-12-07T20:35:03.197Z"
   },
   {
    "duration": 222,
    "start_time": "2022-12-07T20:35:03.204Z"
   },
   {
    "duration": 5,
    "start_time": "2022-12-07T20:35:03.428Z"
   },
   {
    "duration": 185,
    "start_time": "2022-12-07T20:35:03.434Z"
   },
   {
    "duration": 203,
    "start_time": "2022-12-07T20:35:03.621Z"
   },
   {
    "duration": 213,
    "start_time": "2022-12-07T20:35:03.826Z"
   },
   {
    "duration": 15,
    "start_time": "2022-12-07T20:35:04.041Z"
   },
   {
    "duration": 206,
    "start_time": "2022-12-07T20:35:04.058Z"
   },
   {
    "duration": 5,
    "start_time": "2022-12-07T20:35:04.266Z"
   },
   {
    "duration": 219,
    "start_time": "2022-12-07T20:35:04.273Z"
   },
   {
    "duration": 8,
    "start_time": "2022-12-07T20:35:04.494Z"
   },
   {
    "duration": 59,
    "start_time": "2022-12-07T20:35:04.504Z"
   },
   {
    "duration": 9,
    "start_time": "2022-12-07T20:35:36.841Z"
   },
   {
    "duration": 8,
    "start_time": "2022-12-07T20:35:42.803Z"
   },
   {
    "duration": 43,
    "start_time": "2022-12-07T20:37:06.733Z"
   },
   {
    "duration": 11,
    "start_time": "2022-12-07T20:37:40.063Z"
   },
   {
    "duration": 13,
    "start_time": "2022-12-07T20:38:19.763Z"
   },
   {
    "duration": 14,
    "start_time": "2022-12-07T20:38:36.222Z"
   },
   {
    "duration": 8,
    "start_time": "2022-12-07T20:38:39.643Z"
   },
   {
    "duration": 14,
    "start_time": "2022-12-07T20:38:50.214Z"
   },
   {
    "duration": 8,
    "start_time": "2022-12-07T20:38:55.849Z"
   },
   {
    "duration": 15,
    "start_time": "2022-12-07T20:39:11.716Z"
   },
   {
    "duration": 8,
    "start_time": "2022-12-07T20:39:37.134Z"
   },
   {
    "duration": 32,
    "start_time": "2022-12-07T20:42:09.787Z"
   },
   {
    "duration": 27,
    "start_time": "2022-12-07T20:42:52.750Z"
   },
   {
    "duration": 42,
    "start_time": "2022-12-07T20:43:03.719Z"
   },
   {
    "duration": 20,
    "start_time": "2022-12-07T20:43:54.736Z"
   },
   {
    "duration": 25,
    "start_time": "2022-12-07T20:45:13.229Z"
   },
   {
    "duration": 4,
    "start_time": "2022-12-07T20:46:01.003Z"
   },
   {
    "duration": 25,
    "start_time": "2022-12-07T20:46:06.345Z"
   },
   {
    "duration": 32,
    "start_time": "2022-12-07T20:46:41.035Z"
   },
   {
    "duration": 26,
    "start_time": "2022-12-07T20:46:55.615Z"
   },
   {
    "duration": 25,
    "start_time": "2022-12-07T20:47:04.849Z"
   },
   {
    "duration": 30,
    "start_time": "2022-12-07T20:47:14.784Z"
   },
   {
    "duration": 25,
    "start_time": "2022-12-07T20:47:37.959Z"
   },
   {
    "duration": 31,
    "start_time": "2022-12-07T20:53:59.020Z"
   },
   {
    "duration": 14,
    "start_time": "2022-12-07T20:55:32.443Z"
   },
   {
    "duration": 31,
    "start_time": "2022-12-07T20:55:41.204Z"
   },
   {
    "duration": 17,
    "start_time": "2022-12-07T20:56:48.444Z"
   },
   {
    "duration": 158,
    "start_time": "2022-12-07T20:58:00.763Z"
   },
   {
    "duration": 6,
    "start_time": "2022-12-07T21:00:21.696Z"
   },
   {
    "duration": 997,
    "start_time": "2022-12-08T00:23:05.721Z"
   },
   {
    "duration": 219,
    "start_time": "2022-12-08T00:23:06.720Z"
   },
   {
    "duration": 92,
    "start_time": "2022-12-08T00:23:06.941Z"
   },
   {
    "duration": 88,
    "start_time": "2022-12-08T00:23:07.034Z"
   },
   {
    "duration": 7217,
    "start_time": "2022-12-08T00:23:07.124Z"
   },
   {
    "duration": 74,
    "start_time": "2022-12-08T00:23:14.343Z"
   },
   {
    "duration": 1302,
    "start_time": "2022-12-08T00:23:14.419Z"
   },
   {
    "duration": 19,
    "start_time": "2022-12-08T00:23:15.724Z"
   },
   {
    "duration": 4,
    "start_time": "2022-12-08T00:23:15.817Z"
   },
   {
    "duration": 7,
    "start_time": "2022-12-08T00:23:15.823Z"
   },
   {
    "duration": 10,
    "start_time": "2022-12-08T00:23:15.832Z"
   },
   {
    "duration": 76,
    "start_time": "2022-12-08T00:23:15.843Z"
   },
   {
    "duration": 7,
    "start_time": "2022-12-08T00:23:15.921Z"
   },
   {
    "duration": 5,
    "start_time": "2022-12-08T00:23:15.929Z"
   },
   {
    "duration": 82,
    "start_time": "2022-12-08T00:23:15.935Z"
   },
   {
    "duration": 6,
    "start_time": "2022-12-08T00:23:16.019Z"
   },
   {
    "duration": 10,
    "start_time": "2022-12-08T00:23:16.027Z"
   },
   {
    "duration": 91,
    "start_time": "2022-12-08T00:23:16.039Z"
   },
   {
    "duration": 7,
    "start_time": "2022-12-08T00:23:16.132Z"
   },
   {
    "duration": 94,
    "start_time": "2022-12-08T00:23:16.141Z"
   },
   {
    "duration": 89,
    "start_time": "2022-12-08T00:23:16.237Z"
   },
   {
    "duration": 91,
    "start_time": "2022-12-08T00:23:16.328Z"
   },
   {
    "duration": 8,
    "start_time": "2022-12-08T00:23:16.422Z"
   },
   {
    "duration": 91,
    "start_time": "2022-12-08T00:23:16.432Z"
   },
   {
    "duration": 808,
    "start_time": "2022-12-08T00:23:16.525Z"
   },
   {
    "duration": 586,
    "start_time": "2022-12-08T00:23:17.338Z"
   },
   {
    "duration": 6,
    "start_time": "2022-12-08T00:23:17.926Z"
   },
   {
    "duration": 88,
    "start_time": "2022-12-08T00:23:17.933Z"
   },
   {
    "duration": 11,
    "start_time": "2022-12-08T00:23:18.024Z"
   },
   {
    "duration": 81,
    "start_time": "2022-12-08T00:23:18.036Z"
   },
   {
    "duration": 199,
    "start_time": "2022-12-08T00:23:18.119Z"
   },
   {
    "duration": 507,
    "start_time": "2022-12-08T00:23:18.320Z"
   },
   {
    "duration": 91,
    "start_time": "2022-12-08T00:23:18.828Z"
   },
   {
    "duration": 9,
    "start_time": "2022-12-08T00:23:18.921Z"
   },
   {
    "duration": 87,
    "start_time": "2022-12-08T00:23:18.931Z"
   },
   {
    "duration": 97,
    "start_time": "2022-12-08T00:23:19.020Z"
   },
   {
    "duration": 96,
    "start_time": "2022-12-08T00:23:19.119Z"
   },
   {
    "duration": 9,
    "start_time": "2022-12-08T00:23:19.217Z"
   },
   {
    "duration": 9,
    "start_time": "2022-12-08T00:23:19.227Z"
   },
   {
    "duration": 82,
    "start_time": "2022-12-08T00:23:19.238Z"
   },
   {
    "duration": 405,
    "start_time": "2022-12-08T00:23:19.322Z"
   },
   {
    "duration": 91,
    "start_time": "2022-12-08T00:23:19.728Z"
   },
   {
    "duration": 6,
    "start_time": "2022-12-08T00:23:19.820Z"
   },
   {
    "duration": 8,
    "start_time": "2022-12-08T00:23:19.828Z"
   },
   {
    "duration": 305,
    "start_time": "2022-12-08T00:23:19.916Z"
   },
   {
    "duration": 8,
    "start_time": "2022-12-08T00:23:20.223Z"
   },
   {
    "duration": 86,
    "start_time": "2022-12-08T00:23:20.232Z"
   },
   {
    "duration": 6,
    "start_time": "2022-12-08T00:23:20.320Z"
   },
   {
    "duration": 90,
    "start_time": "2022-12-08T00:23:20.327Z"
   },
   {
    "duration": 5,
    "start_time": "2022-12-08T00:23:20.419Z"
   },
   {
    "duration": 100,
    "start_time": "2022-12-08T00:23:20.425Z"
   },
   {
    "duration": 95,
    "start_time": "2022-12-08T00:23:20.526Z"
   },
   {
    "duration": 11,
    "start_time": "2022-12-08T00:23:20.623Z"
   },
   {
    "duration": 23,
    "start_time": "2022-12-08T00:23:20.715Z"
   },
   {
    "duration": 103,
    "start_time": "2022-12-08T00:23:20.817Z"
   },
   {
    "duration": 96,
    "start_time": "2022-12-08T00:23:20.923Z"
   },
   {
    "duration": 107,
    "start_time": "2022-12-08T00:23:21.021Z"
   },
   {
    "duration": 91,
    "start_time": "2022-12-08T00:23:21.130Z"
   },
   {
    "duration": 94,
    "start_time": "2022-12-08T00:23:21.223Z"
   },
   {
    "duration": 111,
    "start_time": "2022-12-08T00:23:21.319Z"
   },
   {
    "duration": 100,
    "start_time": "2022-12-08T00:23:21.433Z"
   },
   {
    "duration": 282,
    "start_time": "2022-12-08T00:23:21.535Z"
   },
   {
    "duration": 8,
    "start_time": "2022-12-08T00:23:21.818Z"
   },
   {
    "duration": 1291,
    "start_time": "2022-12-08T00:23:21.827Z"
   },
   {
    "duration": 1216,
    "start_time": "2022-12-08T00:23:23.120Z"
   },
   {
    "duration": 479,
    "start_time": "2022-12-08T00:23:24.339Z"
   },
   {
    "duration": 410,
    "start_time": "2022-12-08T00:23:24.819Z"
   },
   {
    "duration": 85,
    "start_time": "2022-12-08T00:23:25.231Z"
   },
   {
    "duration": 6,
    "start_time": "2022-12-08T00:23:25.318Z"
   },
   {
    "duration": 14,
    "start_time": "2022-12-08T00:23:25.325Z"
   },
   {
    "duration": 75,
    "start_time": "2022-12-08T00:23:25.341Z"
   },
   {
    "duration": 6,
    "start_time": "2022-12-08T00:23:25.417Z"
   },
   {
    "duration": 7,
    "start_time": "2022-12-08T00:23:25.425Z"
   },
   {
    "duration": 1286,
    "start_time": "2022-12-08T00:23:25.434Z"
   },
   {
    "duration": 6,
    "start_time": "2022-12-08T00:23:26.723Z"
   },
   {
    "duration": 7,
    "start_time": "2022-12-08T00:23:26.731Z"
   },
   {
    "duration": 77,
    "start_time": "2022-12-08T00:23:26.740Z"
   },
   {
    "duration": 4,
    "start_time": "2022-12-08T00:23:26.819Z"
   },
   {
    "duration": 810,
    "start_time": "2022-12-08T00:23:26.825Z"
   },
   {
    "duration": 824,
    "start_time": "2022-12-08T00:23:27.715Z"
   },
   {
    "duration": 76,
    "start_time": "2022-12-08T00:23:28.540Z"
   },
   {
    "duration": 998,
    "start_time": "2022-12-08T00:23:28.618Z"
   },
   {
    "duration": 719,
    "start_time": "2022-12-08T00:23:29.617Z"
   },
   {
    "duration": 81,
    "start_time": "2022-12-08T00:23:30.337Z"
   },
   {
    "duration": 12,
    "start_time": "2022-12-08T00:23:30.419Z"
   },
   {
    "duration": 810,
    "start_time": "2022-12-08T00:23:30.433Z"
   },
   {
    "duration": 1014,
    "start_time": "2022-12-08T00:23:31.245Z"
   },
   {
    "duration": 6,
    "start_time": "2022-12-08T00:23:32.315Z"
   },
   {
    "duration": 8,
    "start_time": "2022-12-08T00:23:32.322Z"
   },
   {
    "duration": 8,
    "start_time": "2022-12-08T00:23:32.331Z"
   },
   {
    "duration": 512,
    "start_time": "2022-12-08T00:23:32.341Z"
   },
   {
    "duration": 566,
    "start_time": "2022-12-08T00:23:32.854Z"
   },
   {
    "duration": 233,
    "start_time": "2022-12-08T00:23:33.421Z"
   },
   {
    "duration": 62,
    "start_time": "2022-12-08T00:23:33.655Z"
   },
   {
    "duration": 31,
    "start_time": "2022-12-08T00:23:33.719Z"
   },
   {
    "duration": 65,
    "start_time": "2022-12-08T00:23:33.751Z"
   },
   {
    "duration": 7,
    "start_time": "2022-12-08T00:23:33.818Z"
   },
   {
    "duration": 495,
    "start_time": "2022-12-08T00:23:33.826Z"
   },
   {
    "duration": 237,
    "start_time": "2022-12-08T00:23:34.322Z"
   },
   {
    "duration": 6,
    "start_time": "2022-12-08T00:23:34.615Z"
   },
   {
    "duration": 8,
    "start_time": "2022-12-08T00:23:34.623Z"
   },
   {
    "duration": 10,
    "start_time": "2022-12-08T00:23:34.632Z"
   },
   {
    "duration": 316,
    "start_time": "2022-12-08T00:23:34.644Z"
   },
   {
    "duration": 58,
    "start_time": "2022-12-08T00:23:34.962Z"
   },
   {
    "duration": 815,
    "start_time": "2022-12-08T00:23:35.022Z"
   },
   {
    "duration": 700,
    "start_time": "2022-12-08T00:23:35.839Z"
   },
   {
    "duration": 507,
    "start_time": "2022-12-08T00:23:36.541Z"
   },
   {
    "duration": 481,
    "start_time": "2022-12-08T00:23:37.050Z"
   },
   {
    "duration": 225,
    "start_time": "2022-12-08T00:23:37.533Z"
   },
   {
    "duration": 231,
    "start_time": "2022-12-08T00:23:37.815Z"
   },
   {
    "duration": 488,
    "start_time": "2022-12-08T00:23:38.048Z"
   },
   {
    "duration": 780,
    "start_time": "2022-12-08T00:23:38.538Z"
   },
   {
    "duration": 8,
    "start_time": "2022-12-08T00:23:39.319Z"
   },
   {
    "duration": 12,
    "start_time": "2022-12-08T00:23:39.329Z"
   },
   {
    "duration": 21,
    "start_time": "2022-12-08T00:23:39.343Z"
   },
   {
    "duration": 53,
    "start_time": "2022-12-08T00:23:39.366Z"
   },
   {
    "duration": 321,
    "start_time": "2022-12-08T00:23:39.420Z"
   },
   {
    "duration": 410,
    "start_time": "2022-12-08T00:23:39.742Z"
   },
   {
    "duration": 465,
    "start_time": "2022-12-08T00:23:40.154Z"
   },
   {
    "duration": 5,
    "start_time": "2022-12-08T00:23:40.621Z"
   },
   {
    "duration": 407,
    "start_time": "2022-12-08T00:23:40.627Z"
   },
   {
    "duration": 481,
    "start_time": "2022-12-08T00:23:41.035Z"
   },
   {
    "duration": 5,
    "start_time": "2022-12-08T00:23:41.518Z"
   },
   {
    "duration": 328,
    "start_time": "2022-12-08T00:23:41.524Z"
   },
   {
    "duration": 406,
    "start_time": "2022-12-08T00:23:41.853Z"
   },
   {
    "duration": 59,
    "start_time": "2022-12-08T00:23:42.260Z"
   },
   {
    "duration": 421,
    "start_time": "2022-12-08T00:23:42.320Z"
   },
   {
    "duration": 6,
    "start_time": "2022-12-08T00:23:42.743Z"
   },
   {
    "duration": 375,
    "start_time": "2022-12-08T00:23:42.750Z"
   },
   {
    "duration": 314,
    "start_time": "2022-12-08T00:23:43.126Z"
   },
   {
    "duration": 382,
    "start_time": "2022-12-08T00:23:43.441Z"
   },
   {
    "duration": 4,
    "start_time": "2022-12-08T00:23:43.825Z"
   },
   {
    "duration": 385,
    "start_time": "2022-12-08T00:23:43.831Z"
   },
   {
    "duration": 5,
    "start_time": "2022-12-08T00:23:44.217Z"
   },
   {
    "duration": 326,
    "start_time": "2022-12-08T00:23:44.224Z"
   },
   {
    "duration": 65,
    "start_time": "2022-12-08T00:23:44.552Z"
   },
   {
    "duration": 25,
    "start_time": "2022-12-08T00:23:44.619Z"
   },
   {
    "duration": 76,
    "start_time": "2022-12-08T00:23:44.646Z"
   },
   {
    "duration": 297,
    "start_time": "2022-12-08T00:23:44.724Z"
   },
   {
    "duration": 6,
    "start_time": "2022-12-08T00:23:45.023Z"
   },
   {
    "duration": 917,
    "start_time": "2022-12-08T09:39:03.212Z"
   },
   {
    "duration": 282,
    "start_time": "2022-12-08T09:39:04.131Z"
   },
   {
    "duration": 26,
    "start_time": "2022-12-08T09:39:04.415Z"
   },
   {
    "duration": 16,
    "start_time": "2022-12-08T09:39:04.514Z"
   },
   {
    "duration": 7887,
    "start_time": "2022-12-08T09:39:04.532Z"
   },
   {
    "duration": 6,
    "start_time": "2022-12-08T09:39:12.421Z"
   },
   {
    "duration": 904,
    "start_time": "2022-12-08T09:39:12.429Z"
   },
   {
    "duration": 84,
    "start_time": "2022-12-08T09:39:13.335Z"
   },
   {
    "duration": 95,
    "start_time": "2022-12-08T09:39:13.421Z"
   },
   {
    "duration": 12,
    "start_time": "2022-12-08T09:39:13.520Z"
   },
   {
    "duration": 95,
    "start_time": "2022-12-08T09:39:13.534Z"
   },
   {
    "duration": 90,
    "start_time": "2022-12-08T09:39:13.631Z"
   },
   {
    "duration": 11,
    "start_time": "2022-12-08T09:39:13.724Z"
   },
   {
    "duration": 77,
    "start_time": "2022-12-08T09:39:13.737Z"
   },
   {
    "duration": 7,
    "start_time": "2022-12-08T09:39:13.817Z"
   },
   {
    "duration": 7,
    "start_time": "2022-12-08T09:39:13.827Z"
   },
   {
    "duration": 8,
    "start_time": "2022-12-08T09:39:13.913Z"
   },
   {
    "duration": 95,
    "start_time": "2022-12-08T09:39:13.923Z"
   },
   {
    "duration": 8,
    "start_time": "2022-12-08T09:39:14.020Z"
   },
   {
    "duration": 97,
    "start_time": "2022-12-08T09:39:14.030Z"
   },
   {
    "duration": 90,
    "start_time": "2022-12-08T09:39:14.128Z"
   },
   {
    "duration": 7,
    "start_time": "2022-12-08T09:39:14.220Z"
   },
   {
    "duration": 10,
    "start_time": "2022-12-08T09:39:14.229Z"
   },
   {
    "duration": 12,
    "start_time": "2022-12-08T09:39:14.314Z"
   },
   {
    "duration": 908,
    "start_time": "2022-12-08T09:39:14.328Z"
   },
   {
    "duration": 492,
    "start_time": "2022-12-08T09:39:15.237Z"
   },
   {
    "duration": 7,
    "start_time": "2022-12-08T09:39:15.731Z"
   },
   {
    "duration": 11,
    "start_time": "2022-12-08T09:39:15.817Z"
   },
   {
    "duration": 83,
    "start_time": "2022-12-08T09:39:15.831Z"
   },
   {
    "duration": 8,
    "start_time": "2022-12-08T09:39:15.916Z"
   },
   {
    "duration": 116,
    "start_time": "2022-12-08T09:39:15.926Z"
   },
   {
    "duration": 422,
    "start_time": "2022-12-08T09:39:16.113Z"
   },
   {
    "duration": 92,
    "start_time": "2022-12-08T09:39:16.538Z"
   },
   {
    "duration": 5,
    "start_time": "2022-12-08T09:39:16.632Z"
   },
   {
    "duration": 84,
    "start_time": "2022-12-08T09:39:16.640Z"
   },
   {
    "duration": 9,
    "start_time": "2022-12-08T09:39:16.726Z"
   },
   {
    "duration": 11,
    "start_time": "2022-12-08T09:39:16.813Z"
   },
   {
    "duration": 8,
    "start_time": "2022-12-08T09:39:16.826Z"
   },
   {
    "duration": 81,
    "start_time": "2022-12-08T09:39:16.837Z"
   },
   {
    "duration": 18,
    "start_time": "2022-12-08T09:39:16.920Z"
   },
   {
    "duration": 77,
    "start_time": "2022-12-08T09:39:16.940Z"
   },
   {
    "duration": 8,
    "start_time": "2022-12-08T09:39:17.019Z"
   },
   {
    "duration": 6,
    "start_time": "2022-12-08T09:39:17.029Z"
   },
   {
    "duration": 283,
    "start_time": "2022-12-08T09:39:17.037Z"
   },
   {
    "duration": 8,
    "start_time": "2022-12-08T09:39:17.322Z"
   },
   {
    "duration": 87,
    "start_time": "2022-12-08T09:39:17.332Z"
   },
   {
    "duration": 5,
    "start_time": "2022-12-08T09:39:17.420Z"
   },
   {
    "duration": 10,
    "start_time": "2022-12-08T09:39:17.427Z"
   },
   {
    "duration": 84,
    "start_time": "2022-12-08T09:39:17.439Z"
   },
   {
    "duration": 6,
    "start_time": "2022-12-08T09:39:17.525Z"
   },
   {
    "duration": 97,
    "start_time": "2022-12-08T09:39:17.532Z"
   },
   {
    "duration": 92,
    "start_time": "2022-12-08T09:39:17.631Z"
   },
   {
    "duration": 9,
    "start_time": "2022-12-08T09:39:17.725Z"
   },
   {
    "duration": 85,
    "start_time": "2022-12-08T09:39:17.736Z"
   },
   {
    "duration": 16,
    "start_time": "2022-12-08T09:39:17.823Z"
   },
   {
    "duration": 15,
    "start_time": "2022-12-08T09:39:17.912Z"
   },
   {
    "duration": 96,
    "start_time": "2022-12-08T09:39:17.929Z"
   },
   {
    "duration": 11,
    "start_time": "2022-12-08T09:39:18.027Z"
   },
   {
    "duration": 14,
    "start_time": "2022-12-08T09:39:18.114Z"
   },
   {
    "duration": 108,
    "start_time": "2022-12-08T09:39:18.130Z"
   },
   {
    "duration": 85,
    "start_time": "2022-12-08T09:39:18.239Z"
   },
   {
    "duration": 199,
    "start_time": "2022-12-08T09:39:18.326Z"
   },
   {
    "duration": 9,
    "start_time": "2022-12-08T09:39:18.528Z"
   },
   {
    "duration": 1376,
    "start_time": "2022-12-08T09:39:18.539Z"
   },
   {
    "duration": 1126,
    "start_time": "2022-12-08T09:39:19.917Z"
   },
   {
    "duration": 508,
    "start_time": "2022-12-08T09:39:21.113Z"
   },
   {
    "duration": 594,
    "start_time": "2022-12-08T09:39:21.624Z"
   },
   {
    "duration": 20,
    "start_time": "2022-12-08T09:39:22.220Z"
   },
   {
    "duration": 8,
    "start_time": "2022-12-08T09:39:22.314Z"
   },
   {
    "duration": 13,
    "start_time": "2022-12-08T09:39:22.324Z"
   },
   {
    "duration": 77,
    "start_time": "2022-12-08T09:39:22.339Z"
   },
   {
    "duration": 9,
    "start_time": "2022-12-08T09:39:22.418Z"
   },
   {
    "duration": 5,
    "start_time": "2022-12-08T09:39:22.429Z"
   },
   {
    "duration": 1129,
    "start_time": "2022-12-08T09:39:22.512Z"
   },
   {
    "duration": 76,
    "start_time": "2022-12-08T09:39:23.643Z"
   },
   {
    "duration": 19,
    "start_time": "2022-12-08T09:39:23.720Z"
   },
   {
    "duration": 73,
    "start_time": "2022-12-08T09:39:23.741Z"
   },
   {
    "duration": 16,
    "start_time": "2022-12-08T09:39:23.816Z"
   },
   {
    "duration": 897,
    "start_time": "2022-12-08T09:39:23.834Z"
   },
   {
    "duration": 882,
    "start_time": "2022-12-08T09:39:24.733Z"
   },
   {
    "duration": 9,
    "start_time": "2022-12-08T09:39:25.617Z"
   },
   {
    "duration": 1085,
    "start_time": "2022-12-08T09:39:25.633Z"
   },
   {
    "duration": 1030,
    "start_time": "2022-12-08T09:39:26.720Z"
   },
   {
    "duration": 64,
    "start_time": "2022-12-08T09:39:27.751Z"
   },
   {
    "duration": 14,
    "start_time": "2022-12-08T09:39:27.817Z"
   },
   {
    "duration": 906,
    "start_time": "2022-12-08T09:39:27.832Z"
   },
   {
    "duration": 1496,
    "start_time": "2022-12-08T09:39:28.740Z"
   },
   {
    "duration": 6,
    "start_time": "2022-12-08T09:39:30.238Z"
   },
   {
    "duration": 10,
    "start_time": "2022-12-08T09:39:30.313Z"
   },
   {
    "duration": 118,
    "start_time": "2022-12-08T09:39:30.324Z"
   },
   {
    "duration": 981,
    "start_time": "2022-12-08T09:39:30.444Z"
   },
   {
    "duration": 913,
    "start_time": "2022-12-08T09:39:31.428Z"
   },
   {
    "duration": 502,
    "start_time": "2022-12-08T09:39:32.414Z"
   },
   {
    "duration": 8,
    "start_time": "2022-12-08T09:39:32.918Z"
   },
   {
    "duration": 205,
    "start_time": "2022-12-08T09:39:32.928Z"
   },
   {
    "duration": 79,
    "start_time": "2022-12-08T09:39:33.135Z"
   },
   {
    "duration": 6,
    "start_time": "2022-12-08T09:39:33.217Z"
   },
   {
    "duration": 1104,
    "start_time": "2022-12-08T09:39:33.225Z"
   },
   {
    "duration": 595,
    "start_time": "2022-12-08T09:39:34.332Z"
   },
   {
    "duration": 9,
    "start_time": "2022-12-08T09:39:34.929Z"
   },
   {
    "duration": 7,
    "start_time": "2022-12-08T09:39:35.012Z"
   },
   {
    "duration": 13,
    "start_time": "2022-12-08T09:39:35.021Z"
   },
   {
    "duration": 699,
    "start_time": "2022-12-08T09:39:35.114Z"
   },
   {
    "duration": 7,
    "start_time": "2022-12-08T09:39:35.815Z"
   },
   {
    "duration": 1393,
    "start_time": "2022-12-08T09:39:35.824Z"
   },
   {
    "duration": 897,
    "start_time": "2022-12-08T09:39:37.218Z"
   },
   {
    "duration": 799,
    "start_time": "2022-12-08T09:39:38.117Z"
   },
   {
    "duration": 817,
    "start_time": "2022-12-08T09:39:38.919Z"
   },
   {
    "duration": 687,
    "start_time": "2022-12-08T09:39:39.738Z"
   },
   {
    "duration": 588,
    "start_time": "2022-12-08T09:39:40.427Z"
   },
   {
    "duration": 721,
    "start_time": "2022-12-08T09:39:41.017Z"
   },
   {
    "duration": 1205,
    "start_time": "2022-12-08T09:39:41.740Z"
   },
   {
    "duration": 10,
    "start_time": "2022-12-08T09:39:43.015Z"
   },
   {
    "duration": 87,
    "start_time": "2022-12-08T09:39:43.027Z"
   },
   {
    "duration": 29,
    "start_time": "2022-12-08T09:39:43.116Z"
   },
   {
    "duration": 76,
    "start_time": "2022-12-08T09:39:43.147Z"
   },
   {
    "duration": 894,
    "start_time": "2022-12-08T09:39:43.225Z"
   },
   {
    "duration": 896,
    "start_time": "2022-12-08T09:39:44.121Z"
   },
   {
    "duration": 994,
    "start_time": "2022-12-08T09:39:45.019Z"
   },
   {
    "duration": 6,
    "start_time": "2022-12-08T09:39:46.015Z"
   },
   {
    "duration": 911,
    "start_time": "2022-12-08T09:39:46.022Z"
   },
   {
    "duration": 1104,
    "start_time": "2022-12-08T09:39:47.013Z"
   },
   {
    "duration": 7,
    "start_time": "2022-12-08T09:39:48.119Z"
   },
   {
    "duration": 1199,
    "start_time": "2022-12-08T09:39:48.128Z"
   },
   {
    "duration": 784,
    "start_time": "2022-12-08T09:39:49.329Z"
   },
   {
    "duration": 6,
    "start_time": "2022-12-08T09:39:50.115Z"
   },
   {
    "duration": 791,
    "start_time": "2022-12-08T09:39:50.122Z"
   },
   {
    "duration": 7,
    "start_time": "2022-12-08T09:39:50.916Z"
   },
   {
    "duration": 811,
    "start_time": "2022-12-08T09:39:50.925Z"
   },
   {
    "duration": 775,
    "start_time": "2022-12-08T09:39:51.738Z"
   },
   {
    "duration": 600,
    "start_time": "2022-12-08T09:39:52.515Z"
   },
   {
    "duration": 6,
    "start_time": "2022-12-08T09:39:53.118Z"
   },
   {
    "duration": 615,
    "start_time": "2022-12-08T09:39:53.126Z"
   },
   {
    "duration": 75,
    "start_time": "2022-12-08T09:39:53.743Z"
   },
   {
    "duration": 717,
    "start_time": "2022-12-08T09:39:53.821Z"
   },
   {
    "duration": 7,
    "start_time": "2022-12-08T09:39:54.612Z"
   },
   {
    "duration": 116,
    "start_time": "2022-12-08T09:39:54.621Z"
   },
   {
    "duration": 88,
    "start_time": "2022-12-08T09:39:54.739Z"
   },
   {
    "duration": 497,
    "start_time": "2022-12-08T09:39:54.829Z"
   },
   {
    "duration": 7,
    "start_time": "2022-12-08T09:39:55.328Z"
   },
   {
    "duration": 19,
    "start_time": "2022-12-08T10:48:46.820Z"
   },
   {
    "duration": 21,
    "start_time": "2022-12-08T10:49:09.539Z"
   },
   {
    "duration": 450,
    "start_time": "2022-12-08T11:10:49.140Z"
   },
   {
    "duration": 110,
    "start_time": "2022-12-08T11:10:49.593Z"
   },
   {
    "duration": 37,
    "start_time": "2022-12-08T11:10:49.705Z"
   },
   {
    "duration": 16,
    "start_time": "2022-12-08T11:10:49.744Z"
   },
   {
    "duration": 2587,
    "start_time": "2022-12-08T11:10:49.764Z"
   },
   {
    "duration": 5,
    "start_time": "2022-12-08T11:10:52.353Z"
   },
   {
    "duration": 274,
    "start_time": "2022-12-08T11:10:52.360Z"
   },
   {
    "duration": 15,
    "start_time": "2022-12-08T11:10:52.636Z"
   },
   {
    "duration": 9,
    "start_time": "2022-12-08T11:10:52.652Z"
   },
   {
    "duration": 11,
    "start_time": "2022-12-08T11:10:52.663Z"
   },
   {
    "duration": 12,
    "start_time": "2022-12-08T11:10:52.676Z"
   },
   {
    "duration": 25,
    "start_time": "2022-12-08T11:10:52.689Z"
   },
   {
    "duration": 8,
    "start_time": "2022-12-08T11:10:52.715Z"
   },
   {
    "duration": 15,
    "start_time": "2022-12-08T11:10:52.729Z"
   },
   {
    "duration": 8,
    "start_time": "2022-12-08T11:10:52.746Z"
   },
   {
    "duration": 6,
    "start_time": "2022-12-08T11:10:52.756Z"
   },
   {
    "duration": 8,
    "start_time": "2022-12-08T11:10:52.764Z"
   },
   {
    "duration": 44,
    "start_time": "2022-12-08T11:10:52.773Z"
   },
   {
    "duration": 10,
    "start_time": "2022-12-08T11:10:52.819Z"
   },
   {
    "duration": 27,
    "start_time": "2022-12-08T11:10:52.831Z"
   },
   {
    "duration": 11,
    "start_time": "2022-12-08T11:10:52.860Z"
   },
   {
    "duration": 7,
    "start_time": "2022-12-08T11:10:52.873Z"
   },
   {
    "duration": 5,
    "start_time": "2022-12-08T11:10:52.881Z"
   },
   {
    "duration": 28,
    "start_time": "2022-12-08T11:10:52.888Z"
   },
   {
    "duration": 323,
    "start_time": "2022-12-08T11:10:52.918Z"
   },
   {
    "duration": 182,
    "start_time": "2022-12-08T11:10:53.244Z"
   },
   {
    "duration": 8,
    "start_time": "2022-12-08T11:10:53.428Z"
   },
   {
    "duration": 12,
    "start_time": "2022-12-08T11:10:53.439Z"
   },
   {
    "duration": 13,
    "start_time": "2022-12-08T11:10:53.453Z"
   },
   {
    "duration": 9,
    "start_time": "2022-12-08T11:10:53.468Z"
   },
   {
    "duration": 79,
    "start_time": "2022-12-08T11:10:53.479Z"
   },
   {
    "duration": 163,
    "start_time": "2022-12-08T11:10:53.561Z"
   },
   {
    "duration": 17,
    "start_time": "2022-12-08T11:10:53.727Z"
   },
   {
    "duration": 5,
    "start_time": "2022-12-08T11:10:53.747Z"
   },
   {
    "duration": 18,
    "start_time": "2022-12-08T11:10:53.754Z"
   },
   {
    "duration": 9,
    "start_time": "2022-12-08T11:10:53.775Z"
   },
   {
    "duration": 28,
    "start_time": "2022-12-08T11:10:53.814Z"
   },
   {
    "duration": 5,
    "start_time": "2022-12-08T11:10:53.844Z"
   },
   {
    "duration": 8,
    "start_time": "2022-12-08T11:10:53.852Z"
   },
   {
    "duration": 10,
    "start_time": "2022-12-08T11:10:53.863Z"
   },
   {
    "duration": 5,
    "start_time": "2022-12-08T11:10:53.978Z"
   },
   {
    "duration": 8,
    "start_time": "2022-12-08T11:10:53.985Z"
   },
   {
    "duration": 21,
    "start_time": "2022-12-08T11:10:53.995Z"
   },
   {
    "duration": 12,
    "start_time": "2022-12-08T11:10:54.017Z"
   },
   {
    "duration": 13,
    "start_time": "2022-12-08T11:10:54.032Z"
   },
   {
    "duration": 14,
    "start_time": "2022-12-08T11:10:54.047Z"
   },
   {
    "duration": 5,
    "start_time": "2022-12-08T11:10:54.063Z"
   },
   {
    "duration": 9,
    "start_time": "2022-12-08T11:10:54.070Z"
   },
   {
    "duration": 33,
    "start_time": "2022-12-08T11:10:54.081Z"
   },
   {
    "duration": 7,
    "start_time": "2022-12-08T11:10:54.116Z"
   },
   {
    "duration": 40,
    "start_time": "2022-12-08T11:10:54.125Z"
   },
   {
    "duration": 27,
    "start_time": "2022-12-08T11:10:54.167Z"
   },
   {
    "duration": 25,
    "start_time": "2022-12-08T11:10:54.196Z"
   },
   {
    "duration": 31,
    "start_time": "2022-12-08T11:10:54.224Z"
   },
   {
    "duration": 22,
    "start_time": "2022-12-08T11:10:54.257Z"
   },
   {
    "duration": 20,
    "start_time": "2022-12-08T11:10:54.282Z"
   },
   {
    "duration": 66,
    "start_time": "2022-12-08T11:10:54.304Z"
   },
   {
    "duration": 11,
    "start_time": "2022-12-08T11:10:54.373Z"
   },
   {
    "duration": 12,
    "start_time": "2022-12-08T11:10:54.386Z"
   },
   {
    "duration": 31,
    "start_time": "2022-12-08T11:10:54.400Z"
   },
   {
    "duration": 17,
    "start_time": "2022-12-08T11:10:54.435Z"
   },
   {
    "duration": 69,
    "start_time": "2022-12-08T11:10:54.454Z"
   },
   {
    "duration": 13,
    "start_time": "2022-12-08T11:10:54.525Z"
   },
   {
    "duration": 470,
    "start_time": "2022-12-08T11:10:54.540Z"
   },
   {
    "duration": 382,
    "start_time": "2022-12-08T11:10:55.012Z"
   },
   {
    "duration": 178,
    "start_time": "2022-12-08T11:10:55.397Z"
   },
   {
    "duration": 176,
    "start_time": "2022-12-08T11:10:55.577Z"
   },
   {
    "duration": 17,
    "start_time": "2022-12-08T11:10:55.755Z"
   },
   {
    "duration": 54,
    "start_time": "2022-12-08T11:10:55.773Z"
   },
   {
    "duration": 34,
    "start_time": "2022-12-08T11:10:55.829Z"
   },
   {
    "duration": 45,
    "start_time": "2022-12-08T11:10:55.865Z"
   },
   {
    "duration": 27,
    "start_time": "2022-12-08T11:10:55.913Z"
   },
   {
    "duration": 15,
    "start_time": "2022-12-08T11:10:55.943Z"
   },
   {
    "duration": 17,
    "start_time": "2022-12-08T11:10:55.960Z"
   },
   {
    "duration": 461,
    "start_time": "2022-12-08T11:10:55.979Z"
   },
   {
    "duration": 6,
    "start_time": "2022-12-08T11:10:56.442Z"
   },
   {
    "duration": 34,
    "start_time": "2022-12-08T11:10:56.449Z"
   },
   {
    "duration": 9,
    "start_time": "2022-12-08T11:10:56.485Z"
   },
   {
    "duration": 45,
    "start_time": "2022-12-08T11:10:56.496Z"
   },
   {
    "duration": 281,
    "start_time": "2022-12-08T11:10:56.542Z"
   },
   {
    "duration": 326,
    "start_time": "2022-12-08T11:10:56.825Z"
   },
   {
    "duration": 7,
    "start_time": "2022-12-08T11:10:57.153Z"
   },
   {
    "duration": 288,
    "start_time": "2022-12-08T11:10:57.162Z"
   },
   {
    "duration": 319,
    "start_time": "2022-12-08T11:10:57.452Z"
   },
   {
    "duration": 6,
    "start_time": "2022-12-08T11:10:57.774Z"
   },
   {
    "duration": 10,
    "start_time": "2022-12-08T11:10:57.781Z"
   },
   {
    "duration": 313,
    "start_time": "2022-12-08T11:10:57.793Z"
   },
   {
    "duration": 395,
    "start_time": "2022-12-08T11:10:58.108Z"
   },
   {
    "duration": 13,
    "start_time": "2022-12-08T11:10:58.505Z"
   },
   {
    "duration": 21,
    "start_time": "2022-12-08T11:10:58.520Z"
   },
   {
    "duration": 9,
    "start_time": "2022-12-08T11:10:58.544Z"
   },
   {
    "duration": 318,
    "start_time": "2022-12-08T11:10:58.555Z"
   },
   {
    "duration": 319,
    "start_time": "2022-12-08T11:10:58.875Z"
   },
   {
    "duration": 165,
    "start_time": "2022-12-08T11:10:59.196Z"
   },
   {
    "duration": 6,
    "start_time": "2022-12-08T11:10:59.363Z"
   },
   {
    "duration": 51,
    "start_time": "2022-12-08T11:10:59.371Z"
   },
   {
    "duration": 8,
    "start_time": "2022-12-08T11:10:59.423Z"
   },
   {
    "duration": 9,
    "start_time": "2022-12-08T11:10:59.433Z"
   },
   {
    "duration": 309,
    "start_time": "2022-12-08T11:10:59.444Z"
   },
   {
    "duration": 178,
    "start_time": "2022-12-08T11:10:59.754Z"
   },
   {
    "duration": 8,
    "start_time": "2022-12-08T11:10:59.934Z"
   },
   {
    "duration": 10,
    "start_time": "2022-12-08T11:10:59.943Z"
   },
   {
    "duration": 10,
    "start_time": "2022-12-08T11:10:59.955Z"
   },
   {
    "duration": 292,
    "start_time": "2022-12-08T11:10:59.968Z"
   },
   {
    "duration": 13,
    "start_time": "2022-12-08T11:11:00.278Z"
   },
   {
    "duration": 605,
    "start_time": "2022-12-08T11:11:00.293Z"
   },
   {
    "duration": 360,
    "start_time": "2022-12-08T11:11:00.899Z"
   },
   {
    "duration": 334,
    "start_time": "2022-12-08T11:11:01.261Z"
   },
   {
    "duration": 307,
    "start_time": "2022-12-08T11:11:01.597Z"
   },
   {
    "duration": 168,
    "start_time": "2022-12-08T11:11:01.906Z"
   },
   {
    "duration": 198,
    "start_time": "2022-12-08T11:11:02.076Z"
   },
   {
    "duration": 303,
    "start_time": "2022-12-08T11:11:02.276Z"
   },
   {
    "duration": 494,
    "start_time": "2022-12-08T11:11:02.583Z"
   },
   {
    "duration": 9,
    "start_time": "2022-12-08T11:11:03.079Z"
   },
   {
    "duration": 7,
    "start_time": "2022-12-08T11:11:03.091Z"
   },
   {
    "duration": 6,
    "start_time": "2022-12-08T11:11:03.113Z"
   },
   {
    "duration": 25,
    "start_time": "2022-12-08T11:11:03.122Z"
   },
   {
    "duration": 222,
    "start_time": "2022-12-08T11:11:03.149Z"
   },
   {
    "duration": 244,
    "start_time": "2022-12-08T11:11:03.373Z"
   },
   {
    "duration": 250,
    "start_time": "2022-12-08T11:11:03.619Z"
   },
   {
    "duration": 7,
    "start_time": "2022-12-08T11:11:03.870Z"
   },
   {
    "duration": 258,
    "start_time": "2022-12-08T11:11:03.887Z"
   },
   {
    "duration": 264,
    "start_time": "2022-12-08T11:11:04.147Z"
   },
   {
    "duration": 7,
    "start_time": "2022-12-08T11:11:04.413Z"
   },
   {
    "duration": 272,
    "start_time": "2022-12-08T11:11:04.422Z"
   },
   {
    "duration": 282,
    "start_time": "2022-12-08T11:11:04.697Z"
   },
   {
    "duration": 7,
    "start_time": "2022-12-08T11:11:04.981Z"
   },
   {
    "duration": 262,
    "start_time": "2022-12-08T11:11:04.990Z"
   },
   {
    "duration": 7,
    "start_time": "2022-12-08T11:11:05.254Z"
   },
   {
    "duration": 268,
    "start_time": "2022-12-08T11:11:05.264Z"
   },
   {
    "duration": 205,
    "start_time": "2022-12-08T11:11:05.534Z"
   },
   {
    "duration": 223,
    "start_time": "2022-12-08T11:11:05.741Z"
   },
   {
    "duration": 7,
    "start_time": "2022-12-08T11:11:05.966Z"
   },
   {
    "duration": 233,
    "start_time": "2022-12-08T11:11:05.975Z"
   },
   {
    "duration": 7,
    "start_time": "2022-12-08T11:11:06.210Z"
   },
   {
    "duration": 222,
    "start_time": "2022-12-08T11:11:06.219Z"
   },
   {
    "duration": 7,
    "start_time": "2022-12-08T11:11:06.443Z"
   },
   {
    "duration": 35,
    "start_time": "2022-12-08T11:11:06.453Z"
   },
   {
    "duration": 33,
    "start_time": "2022-12-08T11:11:06.491Z"
   },
   {
    "duration": 242,
    "start_time": "2022-12-08T11:11:06.526Z"
   },
   {
    "duration": 7,
    "start_time": "2022-12-08T11:11:06.770Z"
   },
   {
    "duration": 49,
    "start_time": "2022-12-08T22:30:20.807Z"
   },
   {
    "duration": 406,
    "start_time": "2022-12-08T22:30:26.658Z"
   },
   {
    "duration": 153,
    "start_time": "2022-12-08T22:30:27.066Z"
   },
   {
    "duration": 24,
    "start_time": "2022-12-08T22:30:27.220Z"
   },
   {
    "duration": 19,
    "start_time": "2022-12-08T22:30:27.246Z"
   },
   {
    "duration": 2275,
    "start_time": "2022-12-08T22:30:27.266Z"
   },
   {
    "duration": 4,
    "start_time": "2022-12-08T22:30:29.543Z"
   },
   {
    "duration": 247,
    "start_time": "2022-12-08T22:30:29.549Z"
   },
   {
    "duration": 13,
    "start_time": "2022-12-08T22:30:29.798Z"
   },
   {
    "duration": 16,
    "start_time": "2022-12-08T22:30:29.813Z"
   },
   {
    "duration": 24,
    "start_time": "2022-12-08T22:30:29.832Z"
   },
   {
    "duration": 44,
    "start_time": "2022-12-08T22:30:29.857Z"
   },
   {
    "duration": 18,
    "start_time": "2022-12-08T22:30:29.903Z"
   },
   {
    "duration": 29,
    "start_time": "2022-12-08T22:30:29.922Z"
   },
   {
    "duration": 39,
    "start_time": "2022-12-08T22:30:29.953Z"
   },
   {
    "duration": 94,
    "start_time": "2022-12-08T22:30:29.993Z"
   },
   {
    "duration": 88,
    "start_time": "2022-12-08T22:30:30.088Z"
   },
   {
    "duration": 199,
    "start_time": "2022-12-08T22:30:30.178Z"
   },
   {
    "duration": 121,
    "start_time": "2022-12-08T22:30:30.379Z"
   },
   {
    "duration": 61,
    "start_time": "2022-12-08T22:30:30.502Z"
   },
   {
    "duration": 205,
    "start_time": "2022-12-08T22:30:30.565Z"
   },
   {
    "duration": 195,
    "start_time": "2022-12-08T22:30:30.772Z"
   },
   {
    "duration": 172,
    "start_time": "2022-12-08T22:30:30.969Z"
   },
   {
    "duration": 100,
    "start_time": "2022-12-08T22:30:31.143Z"
   },
   {
    "duration": 91,
    "start_time": "2022-12-08T22:30:31.244Z"
   },
   {
    "duration": 360,
    "start_time": "2022-12-08T22:30:31.337Z"
   },
   {
    "duration": 146,
    "start_time": "2022-12-08T22:30:31.698Z"
   },
   {
    "duration": 5,
    "start_time": "2022-12-08T22:30:31.846Z"
   },
   {
    "duration": 107,
    "start_time": "2022-12-08T22:30:31.855Z"
   },
   {
    "duration": 10,
    "start_time": "2022-12-08T22:30:31.963Z"
   },
   {
    "duration": 12,
    "start_time": "2022-12-08T22:30:31.974Z"
   },
   {
    "duration": 60,
    "start_time": "2022-12-08T22:30:31.987Z"
   },
   {
    "duration": 132,
    "start_time": "2022-12-08T22:30:32.049Z"
   },
   {
    "duration": 14,
    "start_time": "2022-12-08T22:30:32.183Z"
   },
   {
    "duration": 33,
    "start_time": "2022-12-08T22:30:32.200Z"
   },
   {
    "duration": 34,
    "start_time": "2022-12-08T22:30:32.235Z"
   },
   {
    "duration": 39,
    "start_time": "2022-12-08T22:30:32.271Z"
   },
   {
    "duration": 27,
    "start_time": "2022-12-08T22:30:32.312Z"
   },
   {
    "duration": 10,
    "start_time": "2022-12-08T22:30:32.341Z"
   },
   {
    "duration": 33,
    "start_time": "2022-12-08T22:30:32.353Z"
   },
   {
    "duration": 15,
    "start_time": "2022-12-08T22:30:32.387Z"
   },
   {
    "duration": 19,
    "start_time": "2022-12-08T22:30:32.403Z"
   },
   {
    "duration": 24,
    "start_time": "2022-12-08T22:30:32.424Z"
   },
   {
    "duration": 12,
    "start_time": "2022-12-08T22:30:32.449Z"
   },
   {
    "duration": 51,
    "start_time": "2022-12-08T22:30:32.463Z"
   },
   {
    "duration": 21,
    "start_time": "2022-12-08T22:30:32.515Z"
   },
   {
    "duration": 30,
    "start_time": "2022-12-08T22:30:32.537Z"
   },
   {
    "duration": 13,
    "start_time": "2022-12-08T22:30:32.568Z"
   },
   {
    "duration": 13,
    "start_time": "2022-12-08T22:30:32.582Z"
   },
   {
    "duration": 27,
    "start_time": "2022-12-08T22:30:32.596Z"
   },
   {
    "duration": 9,
    "start_time": "2022-12-08T22:30:32.625Z"
   },
   {
    "duration": 36,
    "start_time": "2022-12-08T22:30:32.636Z"
   },
   {
    "duration": 23,
    "start_time": "2022-12-08T22:30:32.673Z"
   },
   {
    "duration": 20,
    "start_time": "2022-12-08T22:30:32.698Z"
   },
   {
    "duration": 34,
    "start_time": "2022-12-08T22:30:32.719Z"
   },
   {
    "duration": 30,
    "start_time": "2022-12-08T22:30:32.755Z"
   },
   {
    "duration": 46,
    "start_time": "2022-12-08T22:30:32.786Z"
   },
   {
    "duration": 43,
    "start_time": "2022-12-08T22:30:32.834Z"
   },
   {
    "duration": 10,
    "start_time": "2022-12-08T22:30:32.879Z"
   },
   {
    "duration": 30,
    "start_time": "2022-12-08T22:30:32.891Z"
   },
   {
    "duration": 33,
    "start_time": "2022-12-08T22:30:32.922Z"
   },
   {
    "duration": 12,
    "start_time": "2022-12-08T22:30:32.957Z"
   },
   {
    "duration": 66,
    "start_time": "2022-12-08T22:30:32.970Z"
   },
   {
    "duration": 9,
    "start_time": "2022-12-08T22:30:33.038Z"
   },
   {
    "duration": 296,
    "start_time": "2022-12-08T22:30:33.049Z"
   },
   {
    "duration": 307,
    "start_time": "2022-12-08T22:30:33.347Z"
   },
   {
    "duration": 133,
    "start_time": "2022-12-08T22:30:33.656Z"
   },
   {
    "duration": 154,
    "start_time": "2022-12-08T22:30:33.791Z"
   },
   {
    "duration": 16,
    "start_time": "2022-12-08T22:30:33.947Z"
   },
   {
    "duration": 15,
    "start_time": "2022-12-08T22:30:33.965Z"
   },
   {
    "duration": 24,
    "start_time": "2022-12-08T22:30:33.982Z"
   },
   {
    "duration": 28,
    "start_time": "2022-12-08T22:30:34.008Z"
   },
   {
    "duration": 16,
    "start_time": "2022-12-08T22:30:34.037Z"
   },
   {
    "duration": 16,
    "start_time": "2022-12-08T22:30:34.055Z"
   },
   {
    "duration": 26,
    "start_time": "2022-12-08T22:30:34.072Z"
   },
   {
    "duration": 442,
    "start_time": "2022-12-08T22:30:34.100Z"
   },
   {
    "duration": 6,
    "start_time": "2022-12-08T22:30:34.544Z"
   },
   {
    "duration": 32,
    "start_time": "2022-12-08T22:30:34.551Z"
   },
   {
    "duration": 25,
    "start_time": "2022-12-08T22:30:34.584Z"
   },
   {
    "duration": 27,
    "start_time": "2022-12-08T22:30:34.611Z"
   },
   {
    "duration": 243,
    "start_time": "2022-12-08T22:30:34.639Z"
   },
   {
    "duration": 264,
    "start_time": "2022-12-08T22:30:34.884Z"
   },
   {
    "duration": 8,
    "start_time": "2022-12-08T22:30:35.155Z"
   },
   {
    "duration": 258,
    "start_time": "2022-12-08T22:30:35.165Z"
   },
   {
    "duration": 275,
    "start_time": "2022-12-08T22:30:35.427Z"
   },
   {
    "duration": 6,
    "start_time": "2022-12-08T22:30:35.704Z"
   },
   {
    "duration": 18,
    "start_time": "2022-12-08T22:30:35.712Z"
   },
   {
    "duration": 342,
    "start_time": "2022-12-08T22:30:35.732Z"
   },
   {
    "duration": 277,
    "start_time": "2022-12-08T22:30:36.076Z"
   },
   {
    "duration": 6,
    "start_time": "2022-12-08T22:30:36.355Z"
   },
   {
    "duration": 16,
    "start_time": "2022-12-08T22:30:36.362Z"
   },
   {
    "duration": 9,
    "start_time": "2022-12-08T22:30:36.380Z"
   },
   {
    "duration": 276,
    "start_time": "2022-12-08T22:30:36.391Z"
   },
   {
    "duration": 260,
    "start_time": "2022-12-08T22:30:36.669Z"
   },
   {
    "duration": 152,
    "start_time": "2022-12-08T22:30:36.931Z"
   },
   {
    "duration": 6,
    "start_time": "2022-12-08T22:30:37.085Z"
   },
   {
    "duration": 58,
    "start_time": "2022-12-08T22:30:37.093Z"
   },
   {
    "duration": 8,
    "start_time": "2022-12-08T22:30:37.152Z"
   },
   {
    "duration": 22,
    "start_time": "2022-12-08T22:30:37.162Z"
   },
   {
    "duration": 269,
    "start_time": "2022-12-08T22:30:37.186Z"
   },
   {
    "duration": 153,
    "start_time": "2022-12-08T22:30:37.456Z"
   },
   {
    "duration": 17,
    "start_time": "2022-12-08T22:30:37.611Z"
   },
   {
    "duration": 12,
    "start_time": "2022-12-08T22:30:37.630Z"
   },
   {
    "duration": 21,
    "start_time": "2022-12-08T22:30:37.644Z"
   },
   {
    "duration": 276,
    "start_time": "2022-12-08T22:30:37.666Z"
   },
   {
    "duration": 5,
    "start_time": "2022-12-08T22:30:37.944Z"
   },
   {
    "duration": 286,
    "start_time": "2022-12-08T22:30:37.950Z"
   },
   {
    "duration": 267,
    "start_time": "2022-12-08T22:30:38.238Z"
   },
   {
    "duration": 265,
    "start_time": "2022-12-08T22:30:38.507Z"
   },
   {
    "duration": 259,
    "start_time": "2022-12-08T22:30:38.773Z"
   },
   {
    "duration": 134,
    "start_time": "2022-12-08T22:30:39.034Z"
   },
   {
    "duration": 143,
    "start_time": "2022-12-08T22:30:39.170Z"
   },
   {
    "duration": 372,
    "start_time": "2022-12-08T22:30:39.315Z"
   },
   {
    "duration": 252,
    "start_time": "2022-12-08T22:30:39.688Z"
   },
   {
    "duration": 8,
    "start_time": "2022-12-08T22:30:39.942Z"
   },
   {
    "duration": 22,
    "start_time": "2022-12-08T22:30:39.951Z"
   },
   {
    "duration": 15,
    "start_time": "2022-12-08T22:30:39.975Z"
   },
   {
    "duration": 20,
    "start_time": "2022-12-08T22:30:39.992Z"
   },
   {
    "duration": 168,
    "start_time": "2022-12-08T22:30:40.014Z"
   },
   {
    "duration": 197,
    "start_time": "2022-12-08T22:30:40.185Z"
   },
   {
    "duration": 227,
    "start_time": "2022-12-08T22:30:40.384Z"
   },
   {
    "duration": 13,
    "start_time": "2022-12-08T22:30:40.613Z"
   },
   {
    "duration": 214,
    "start_time": "2022-12-08T22:30:40.628Z"
   },
   {
    "duration": 218,
    "start_time": "2022-12-08T22:30:40.844Z"
   },
   {
    "duration": 5,
    "start_time": "2022-12-08T22:30:41.064Z"
   },
   {
    "duration": 187,
    "start_time": "2022-12-08T22:30:41.071Z"
   },
   {
    "duration": 202,
    "start_time": "2022-12-08T22:30:41.259Z"
   },
   {
    "duration": 5,
    "start_time": "2022-12-08T22:30:41.463Z"
   },
   {
    "duration": 269,
    "start_time": "2022-12-08T22:30:41.469Z"
   },
   {
    "duration": 5,
    "start_time": "2022-12-08T22:30:41.740Z"
   },
   {
    "duration": 195,
    "start_time": "2022-12-08T22:30:41.746Z"
   },
   {
    "duration": 169,
    "start_time": "2022-12-08T22:30:41.942Z"
   },
   {
    "duration": 182,
    "start_time": "2022-12-08T22:30:42.113Z"
   },
   {
    "duration": 5,
    "start_time": "2022-12-08T22:30:42.297Z"
   },
   {
    "duration": 195,
    "start_time": "2022-12-08T22:30:42.303Z"
   },
   {
    "duration": 5,
    "start_time": "2022-12-08T22:30:42.500Z"
   },
   {
    "duration": 198,
    "start_time": "2022-12-08T22:30:42.507Z"
   },
   {
    "duration": 6,
    "start_time": "2022-12-08T22:30:42.707Z"
   },
   {
    "duration": 43,
    "start_time": "2022-12-08T22:30:42.714Z"
   },
   {
    "duration": 29,
    "start_time": "2022-12-08T22:30:42.758Z"
   },
   {
    "duration": 167,
    "start_time": "2022-12-08T22:30:42.788Z"
   },
   {
    "duration": 5,
    "start_time": "2022-12-08T22:30:42.957Z"
   },
   {
    "duration": 36,
    "start_time": "2022-12-08T22:35:47.758Z"
   },
   {
    "duration": 93,
    "start_time": "2022-12-08T22:39:35.851Z"
   },
   {
    "duration": 92,
    "start_time": "2022-12-08T22:40:42.402Z"
   },
   {
    "duration": 69,
    "start_time": "2022-12-08T22:41:20.893Z"
   },
   {
    "duration": 3,
    "start_time": "2022-12-08T22:47:37.712Z"
   },
   {
    "duration": 102,
    "start_time": "2022-12-08T22:47:37.719Z"
   },
   {
    "duration": 23,
    "start_time": "2022-12-08T22:47:37.823Z"
   },
   {
    "duration": 15,
    "start_time": "2022-12-08T22:47:37.847Z"
   },
   {
    "duration": 2114,
    "start_time": "2022-12-08T22:47:37.864Z"
   },
   {
    "duration": 5,
    "start_time": "2022-12-08T22:47:39.980Z"
   },
   {
    "duration": 249,
    "start_time": "2022-12-08T22:47:39.987Z"
   },
   {
    "duration": 15,
    "start_time": "2022-12-08T22:47:40.237Z"
   },
   {
    "duration": 6,
    "start_time": "2022-12-08T22:47:40.254Z"
   },
   {
    "duration": 12,
    "start_time": "2022-12-08T22:47:40.261Z"
   },
   {
    "duration": 11,
    "start_time": "2022-12-08T22:47:40.276Z"
   },
   {
    "duration": 8,
    "start_time": "2022-12-08T22:47:40.288Z"
   },
   {
    "duration": 30,
    "start_time": "2022-12-08T22:47:40.298Z"
   },
   {
    "duration": 5,
    "start_time": "2022-12-08T22:47:40.330Z"
   },
   {
    "duration": 15,
    "start_time": "2022-12-08T22:47:40.337Z"
   },
   {
    "duration": 12,
    "start_time": "2022-12-08T22:47:40.354Z"
   },
   {
    "duration": 15,
    "start_time": "2022-12-08T22:47:40.368Z"
   },
   {
    "duration": 15,
    "start_time": "2022-12-08T22:47:40.385Z"
   },
   {
    "duration": 7,
    "start_time": "2022-12-08T22:47:40.402Z"
   },
   {
    "duration": 28,
    "start_time": "2022-12-08T22:47:40.411Z"
   },
   {
    "duration": 9,
    "start_time": "2022-12-08T22:47:40.441Z"
   },
   {
    "duration": 10,
    "start_time": "2022-12-08T22:47:40.451Z"
   },
   {
    "duration": 8,
    "start_time": "2022-12-08T22:47:40.463Z"
   },
   {
    "duration": 14,
    "start_time": "2022-12-08T22:47:40.473Z"
   },
   {
    "duration": 280,
    "start_time": "2022-12-08T22:47:40.488Z"
   },
   {
    "duration": 155,
    "start_time": "2022-12-08T22:47:40.771Z"
   },
   {
    "duration": 6,
    "start_time": "2022-12-08T22:47:40.928Z"
   },
   {
    "duration": 16,
    "start_time": "2022-12-08T22:47:40.936Z"
   },
   {
    "duration": 33,
    "start_time": "2022-12-08T22:47:40.957Z"
   },
   {
    "duration": 88,
    "start_time": "2022-12-08T22:47:40.992Z"
   },
   {
    "duration": 6,
    "start_time": "2022-12-08T22:47:41.082Z"
   },
   {
    "duration": 51,
    "start_time": "2022-12-08T22:47:41.089Z"
   },
   {
    "duration": 149,
    "start_time": "2022-12-08T22:47:41.142Z"
   },
   {
    "duration": 15,
    "start_time": "2022-12-08T22:47:41.293Z"
   },
   {
    "duration": 5,
    "start_time": "2022-12-08T22:47:41.310Z"
   },
   {
    "duration": 9,
    "start_time": "2022-12-08T22:47:41.327Z"
   },
   {
    "duration": 24,
    "start_time": "2022-12-08T22:47:41.337Z"
   },
   {
    "duration": 18,
    "start_time": "2022-12-08T22:47:41.362Z"
   },
   {
    "duration": 6,
    "start_time": "2022-12-08T22:47:41.381Z"
   },
   {
    "duration": 10,
    "start_time": "2022-12-08T22:47:41.389Z"
   },
   {
    "duration": 7,
    "start_time": "2022-12-08T22:47:41.401Z"
   },
   {
    "duration": 21,
    "start_time": "2022-12-08T22:47:41.410Z"
   },
   {
    "duration": 8,
    "start_time": "2022-12-08T22:47:41.433Z"
   },
   {
    "duration": 6,
    "start_time": "2022-12-08T22:47:41.443Z"
   },
   {
    "duration": 11,
    "start_time": "2022-12-08T22:47:41.451Z"
   },
   {
    "duration": 10,
    "start_time": "2022-12-08T22:47:41.464Z"
   },
   {
    "duration": 12,
    "start_time": "2022-12-08T22:47:41.476Z"
   },
   {
    "duration": 41,
    "start_time": "2022-12-08T22:47:41.489Z"
   },
   {
    "duration": 14,
    "start_time": "2022-12-08T22:47:41.533Z"
   },
   {
    "duration": 16,
    "start_time": "2022-12-08T22:47:41.549Z"
   },
   {
    "duration": 5,
    "start_time": "2022-12-08T22:47:41.567Z"
   },
   {
    "duration": 34,
    "start_time": "2022-12-08T22:47:41.574Z"
   },
   {
    "duration": 28,
    "start_time": "2022-12-08T22:47:41.611Z"
   },
   {
    "duration": 15,
    "start_time": "2022-12-08T22:47:41.643Z"
   },
   {
    "duration": 14,
    "start_time": "2022-12-08T22:47:41.660Z"
   },
   {
    "duration": 20,
    "start_time": "2022-12-08T22:47:41.676Z"
   },
   {
    "duration": 40,
    "start_time": "2022-12-08T22:47:41.698Z"
   },
   {
    "duration": 26,
    "start_time": "2022-12-08T22:47:41.739Z"
   },
   {
    "duration": 11,
    "start_time": "2022-12-08T22:47:41.767Z"
   },
   {
    "duration": 12,
    "start_time": "2022-12-08T22:47:41.780Z"
   },
   {
    "duration": 43,
    "start_time": "2022-12-08T22:47:41.794Z"
   },
   {
    "duration": 12,
    "start_time": "2022-12-08T22:47:41.839Z"
   },
   {
    "duration": 20,
    "start_time": "2022-12-08T22:47:41.852Z"
   },
   {
    "duration": 8,
    "start_time": "2022-12-08T22:47:41.873Z"
   },
   {
    "duration": 538,
    "start_time": "2022-12-08T22:47:41.882Z"
   },
   {
    "duration": 307,
    "start_time": "2022-12-08T22:47:42.422Z"
   },
   {
    "duration": 141,
    "start_time": "2022-12-08T22:47:42.731Z"
   },
   {
    "duration": 146,
    "start_time": "2022-12-08T22:47:42.874Z"
   },
   {
    "duration": 17,
    "start_time": "2022-12-08T22:47:43.026Z"
   },
   {
    "duration": 15,
    "start_time": "2022-12-08T22:47:43.045Z"
   },
   {
    "duration": 9,
    "start_time": "2022-12-08T22:47:43.061Z"
   },
   {
    "duration": 9,
    "start_time": "2022-12-08T22:47:43.072Z"
   },
   {
    "duration": 7,
    "start_time": "2022-12-08T22:47:43.083Z"
   },
   {
    "duration": 35,
    "start_time": "2022-12-08T22:47:43.092Z"
   },
   {
    "duration": 2,
    "start_time": "2022-12-08T22:47:43.129Z"
   },
   {
    "duration": 275,
    "start_time": "2022-12-08T22:47:43.133Z"
   },
   {
    "duration": 7,
    "start_time": "2022-12-08T22:47:43.410Z"
   },
   {
    "duration": 11,
    "start_time": "2022-12-08T22:47:43.418Z"
   },
   {
    "duration": 10,
    "start_time": "2022-12-08T22:47:43.430Z"
   },
   {
    "duration": 17,
    "start_time": "2022-12-08T22:47:43.442Z"
   },
   {
    "duration": 230,
    "start_time": "2022-12-08T22:47:43.461Z"
   },
   {
    "duration": 263,
    "start_time": "2022-12-08T22:47:43.692Z"
   },
   {
    "duration": 6,
    "start_time": "2022-12-08T22:47:43.961Z"
   },
   {
    "duration": 252,
    "start_time": "2022-12-08T22:47:43.969Z"
   },
   {
    "duration": 442,
    "start_time": "2022-12-08T22:47:44.222Z"
   },
   {
    "duration": 7,
    "start_time": "2022-12-08T22:47:44.665Z"
   },
   {
    "duration": 13,
    "start_time": "2022-12-08T22:47:44.673Z"
   },
   {
    "duration": 264,
    "start_time": "2022-12-08T22:47:44.687Z"
   },
   {
    "duration": 271,
    "start_time": "2022-12-08T22:47:44.952Z"
   },
   {
    "duration": 7,
    "start_time": "2022-12-08T22:47:45.226Z"
   },
   {
    "duration": 16,
    "start_time": "2022-12-08T22:47:45.234Z"
   },
   {
    "duration": 8,
    "start_time": "2022-12-08T22:47:45.252Z"
   },
   {
    "duration": 330,
    "start_time": "2022-12-08T22:47:45.262Z"
   },
   {
    "duration": 277,
    "start_time": "2022-12-08T22:47:45.594Z"
   },
   {
    "duration": 147,
    "start_time": "2022-12-08T22:47:45.872Z"
   },
   {
    "duration": 6,
    "start_time": "2022-12-08T22:47:46.026Z"
   },
   {
    "duration": 35,
    "start_time": "2022-12-08T22:47:46.033Z"
   },
   {
    "duration": 6,
    "start_time": "2022-12-08T22:47:46.069Z"
   },
   {
    "duration": 13,
    "start_time": "2022-12-08T22:47:46.076Z"
   },
   {
    "duration": 264,
    "start_time": "2022-12-08T22:47:46.090Z"
   },
   {
    "duration": 146,
    "start_time": "2022-12-08T22:47:46.355Z"
   },
   {
    "duration": 6,
    "start_time": "2022-12-08T22:47:46.503Z"
   },
   {
    "duration": 55,
    "start_time": "2022-12-08T22:47:46.510Z"
   },
   {
    "duration": 28,
    "start_time": "2022-12-08T22:47:46.567Z"
   },
   {
    "duration": 185,
    "start_time": "2022-12-08T22:47:46.597Z"
   },
   {
    "duration": 5,
    "start_time": "2022-12-08T22:47:46.784Z"
   },
   {
    "duration": 263,
    "start_time": "2022-12-08T22:47:46.791Z"
   },
   {
    "duration": 464,
    "start_time": "2022-12-08T22:47:47.056Z"
   },
   {
    "duration": 262,
    "start_time": "2022-12-08T22:47:47.525Z"
   },
   {
    "duration": 261,
    "start_time": "2022-12-08T22:47:47.789Z"
   },
   {
    "duration": 156,
    "start_time": "2022-12-08T22:47:48.052Z"
   },
   {
    "duration": 140,
    "start_time": "2022-12-08T22:47:48.209Z"
   },
   {
    "duration": 248,
    "start_time": "2022-12-08T22:47:48.350Z"
   },
   {
    "duration": 247,
    "start_time": "2022-12-08T22:47:48.600Z"
   },
   {
    "duration": 7,
    "start_time": "2022-12-08T22:47:48.849Z"
   },
   {
    "duration": 14,
    "start_time": "2022-12-08T22:47:48.858Z"
   },
   {
    "duration": 23,
    "start_time": "2022-12-08T22:47:48.874Z"
   },
   {
    "duration": 18,
    "start_time": "2022-12-08T22:47:48.899Z"
   },
   {
    "duration": 149,
    "start_time": "2022-12-08T22:47:48.918Z"
   },
   {
    "duration": 209,
    "start_time": "2022-12-08T22:47:49.068Z"
   },
   {
    "duration": 217,
    "start_time": "2022-12-08T22:47:49.278Z"
   },
   {
    "duration": 5,
    "start_time": "2022-12-08T22:47:49.496Z"
   },
   {
    "duration": 207,
    "start_time": "2022-12-08T22:47:49.503Z"
   },
   {
    "duration": 227,
    "start_time": "2022-12-08T22:47:49.712Z"
   },
   {
    "duration": 5,
    "start_time": "2022-12-08T22:47:49.941Z"
   },
   {
    "duration": 198,
    "start_time": "2022-12-08T22:47:49.948Z"
   },
   {
    "duration": 212,
    "start_time": "2022-12-08T22:47:50.148Z"
   },
   {
    "duration": 5,
    "start_time": "2022-12-08T22:47:50.362Z"
   },
   {
    "duration": 219,
    "start_time": "2022-12-08T22:47:50.369Z"
   },
   {
    "duration": 5,
    "start_time": "2022-12-08T22:47:50.590Z"
   },
   {
    "duration": 181,
    "start_time": "2022-12-08T22:47:50.596Z"
   },
   {
    "duration": 179,
    "start_time": "2022-12-08T22:47:50.779Z"
   },
   {
    "duration": 199,
    "start_time": "2022-12-08T22:47:50.959Z"
   },
   {
    "duration": 5,
    "start_time": "2022-12-08T22:47:51.160Z"
   },
   {
    "duration": 219,
    "start_time": "2022-12-08T22:47:51.166Z"
   },
   {
    "duration": 5,
    "start_time": "2022-12-08T22:47:51.387Z"
   },
   {
    "duration": 193,
    "start_time": "2022-12-08T22:47:51.394Z"
   },
   {
    "duration": 6,
    "start_time": "2022-12-08T22:47:51.589Z"
   },
   {
    "duration": 43,
    "start_time": "2022-12-08T22:47:51.597Z"
   },
   {
    "duration": 17,
    "start_time": "2022-12-08T22:47:51.642Z"
   },
   {
    "duration": 303,
    "start_time": "2022-12-08T22:47:51.660Z"
   },
   {
    "duration": 5,
    "start_time": "2022-12-08T22:47:51.965Z"
   },
   {
    "duration": 3,
    "start_time": "2022-12-08T22:49:13.809Z"
   },
   {
    "duration": 65,
    "start_time": "2022-12-08T22:49:22.085Z"
   },
   {
    "duration": 3,
    "start_time": "2022-12-08T22:49:27.627Z"
   },
   {
    "duration": 239,
    "start_time": "2022-12-08T22:49:30.956Z"
   },
   {
    "duration": 8,
    "start_time": "2022-12-08T22:50:30.122Z"
   },
   {
    "duration": 4,
    "start_time": "2022-12-08T22:50:31.040Z"
   },
   {
    "duration": 3,
    "start_time": "2022-12-08T22:50:31.317Z"
   },
   {
    "duration": 4,
    "start_time": "2022-12-08T22:50:31.833Z"
   },
   {
    "duration": 4,
    "start_time": "2022-12-08T22:50:32.254Z"
   },
   {
    "duration": 3,
    "start_time": "2022-12-08T22:50:32.760Z"
   },
   {
    "duration": 4,
    "start_time": "2022-12-08T22:50:32.783Z"
   },
   {
    "duration": 4,
    "start_time": "2022-12-08T22:50:43.773Z"
   },
   {
    "duration": 4,
    "start_time": "2022-12-08T22:50:44.262Z"
   },
   {
    "duration": 7,
    "start_time": "2022-12-08T22:50:45.216Z"
   },
   {
    "duration": 4,
    "start_time": "2022-12-08T22:50:45.808Z"
   },
   {
    "duration": 14,
    "start_time": "2022-12-08T22:50:49.796Z"
   },
   {
    "duration": 16,
    "start_time": "2022-12-08T22:50:50.303Z"
   },
   {
    "duration": 15,
    "start_time": "2022-12-08T22:50:50.663Z"
   },
   {
    "duration": 414,
    "start_time": "2022-12-08T22:51:43.143Z"
   },
   {
    "duration": 95,
    "start_time": "2022-12-08T22:51:43.559Z"
   },
   {
    "duration": 26,
    "start_time": "2022-12-08T22:51:43.656Z"
   },
   {
    "duration": 15,
    "start_time": "2022-12-08T22:51:43.684Z"
   },
   {
    "duration": 2157,
    "start_time": "2022-12-08T22:51:43.700Z"
   },
   {
    "duration": 5,
    "start_time": "2022-12-08T22:51:45.858Z"
   },
   {
    "duration": 236,
    "start_time": "2022-12-08T22:51:45.864Z"
   },
   {
    "duration": 13,
    "start_time": "2022-12-08T22:51:46.102Z"
   },
   {
    "duration": 4,
    "start_time": "2022-12-08T22:51:46.126Z"
   },
   {
    "duration": 12,
    "start_time": "2022-12-08T22:51:46.132Z"
   },
   {
    "duration": 12,
    "start_time": "2022-12-08T22:51:46.145Z"
   },
   {
    "duration": 6,
    "start_time": "2022-12-08T22:51:46.158Z"
   },
   {
    "duration": 15,
    "start_time": "2022-12-08T22:51:46.166Z"
   },
   {
    "duration": 10,
    "start_time": "2022-12-08T22:51:46.183Z"
   },
   {
    "duration": 11,
    "start_time": "2022-12-08T22:51:46.195Z"
   },
   {
    "duration": 7,
    "start_time": "2022-12-08T22:51:46.207Z"
   },
   {
    "duration": 20,
    "start_time": "2022-12-08T22:51:46.216Z"
   },
   {
    "duration": 13,
    "start_time": "2022-12-08T22:51:46.237Z"
   },
   {
    "duration": 6,
    "start_time": "2022-12-08T22:51:46.251Z"
   },
   {
    "duration": 14,
    "start_time": "2022-12-08T22:51:46.258Z"
   },
   {
    "duration": 8,
    "start_time": "2022-12-08T22:51:46.273Z"
   },
   {
    "duration": 7,
    "start_time": "2022-12-08T22:51:46.282Z"
   },
   {
    "duration": 12,
    "start_time": "2022-12-08T22:51:46.290Z"
   },
   {
    "duration": 27,
    "start_time": "2022-12-08T22:51:46.303Z"
   },
   {
    "duration": 250,
    "start_time": "2022-12-08T22:51:46.331Z"
   },
   {
    "duration": 135,
    "start_time": "2022-12-08T22:51:46.583Z"
   },
   {
    "duration": 9,
    "start_time": "2022-12-08T22:51:46.720Z"
   },
   {
    "duration": 7,
    "start_time": "2022-12-08T22:51:46.733Z"
   },
   {
    "duration": 68,
    "start_time": "2022-12-08T22:51:46.742Z"
   },
   {
    "duration": 0,
    "start_time": "2022-12-08T22:51:46.828Z"
   },
   {
    "duration": 0,
    "start_time": "2022-12-08T22:51:46.829Z"
   },
   {
    "duration": 0,
    "start_time": "2022-12-08T22:51:46.830Z"
   },
   {
    "duration": 0,
    "start_time": "2022-12-08T22:51:46.831Z"
   },
   {
    "duration": 0,
    "start_time": "2022-12-08T22:51:46.832Z"
   },
   {
    "duration": 0,
    "start_time": "2022-12-08T22:51:46.833Z"
   },
   {
    "duration": 0,
    "start_time": "2022-12-08T22:51:46.834Z"
   },
   {
    "duration": 0,
    "start_time": "2022-12-08T22:51:46.835Z"
   },
   {
    "duration": 0,
    "start_time": "2022-12-08T22:51:46.836Z"
   },
   {
    "duration": 0,
    "start_time": "2022-12-08T22:51:46.837Z"
   },
   {
    "duration": 0,
    "start_time": "2022-12-08T22:51:46.837Z"
   },
   {
    "duration": 0,
    "start_time": "2022-12-08T22:51:46.839Z"
   },
   {
    "duration": 0,
    "start_time": "2022-12-08T22:51:46.839Z"
   },
   {
    "duration": 0,
    "start_time": "2022-12-08T22:51:46.840Z"
   },
   {
    "duration": 0,
    "start_time": "2022-12-08T22:51:46.841Z"
   },
   {
    "duration": 0,
    "start_time": "2022-12-08T22:51:46.842Z"
   },
   {
    "duration": 0,
    "start_time": "2022-12-08T22:51:46.844Z"
   },
   {
    "duration": 0,
    "start_time": "2022-12-08T22:51:46.844Z"
   },
   {
    "duration": 0,
    "start_time": "2022-12-08T22:51:46.845Z"
   },
   {
    "duration": 0,
    "start_time": "2022-12-08T22:51:46.846Z"
   },
   {
    "duration": 0,
    "start_time": "2022-12-08T22:51:46.847Z"
   },
   {
    "duration": 0,
    "start_time": "2022-12-08T22:51:46.848Z"
   },
   {
    "duration": 0,
    "start_time": "2022-12-08T22:51:46.849Z"
   },
   {
    "duration": 0,
    "start_time": "2022-12-08T22:51:46.849Z"
   },
   {
    "duration": 0,
    "start_time": "2022-12-08T22:51:46.850Z"
   },
   {
    "duration": 0,
    "start_time": "2022-12-08T22:51:46.851Z"
   },
   {
    "duration": 0,
    "start_time": "2022-12-08T22:51:46.852Z"
   },
   {
    "duration": 0,
    "start_time": "2022-12-08T22:51:46.853Z"
   },
   {
    "duration": 0,
    "start_time": "2022-12-08T22:51:46.854Z"
   },
   {
    "duration": 0,
    "start_time": "2022-12-08T22:51:46.855Z"
   },
   {
    "duration": 0,
    "start_time": "2022-12-08T22:51:46.856Z"
   },
   {
    "duration": 0,
    "start_time": "2022-12-08T22:51:46.857Z"
   },
   {
    "duration": 0,
    "start_time": "2022-12-08T22:51:46.858Z"
   },
   {
    "duration": 0,
    "start_time": "2022-12-08T22:51:46.858Z"
   },
   {
    "duration": 0,
    "start_time": "2022-12-08T22:51:46.859Z"
   },
   {
    "duration": 0,
    "start_time": "2022-12-08T22:51:46.860Z"
   },
   {
    "duration": 0,
    "start_time": "2022-12-08T22:51:46.861Z"
   },
   {
    "duration": 0,
    "start_time": "2022-12-08T22:51:46.862Z"
   },
   {
    "duration": 0,
    "start_time": "2022-12-08T22:51:46.863Z"
   },
   {
    "duration": 0,
    "start_time": "2022-12-08T22:51:46.864Z"
   },
   {
    "duration": 0,
    "start_time": "2022-12-08T22:51:46.927Z"
   },
   {
    "duration": 0,
    "start_time": "2022-12-08T22:51:46.928Z"
   },
   {
    "duration": 0,
    "start_time": "2022-12-08T22:51:46.929Z"
   },
   {
    "duration": 0,
    "start_time": "2022-12-08T22:51:46.930Z"
   },
   {
    "duration": 0,
    "start_time": "2022-12-08T22:51:46.931Z"
   },
   {
    "duration": 0,
    "start_time": "2022-12-08T22:51:46.932Z"
   },
   {
    "duration": 0,
    "start_time": "2022-12-08T22:51:46.933Z"
   },
   {
    "duration": 0,
    "start_time": "2022-12-08T22:51:46.934Z"
   },
   {
    "duration": 1,
    "start_time": "2022-12-08T22:51:46.934Z"
   },
   {
    "duration": 0,
    "start_time": "2022-12-08T22:51:46.935Z"
   },
   {
    "duration": 0,
    "start_time": "2022-12-08T22:51:46.936Z"
   },
   {
    "duration": 0,
    "start_time": "2022-12-08T22:51:46.937Z"
   },
   {
    "duration": 0,
    "start_time": "2022-12-08T22:51:46.938Z"
   },
   {
    "duration": 0,
    "start_time": "2022-12-08T22:51:46.939Z"
   },
   {
    "duration": 0,
    "start_time": "2022-12-08T22:51:46.940Z"
   },
   {
    "duration": 0,
    "start_time": "2022-12-08T22:51:46.941Z"
   },
   {
    "duration": 0,
    "start_time": "2022-12-08T22:51:46.942Z"
   },
   {
    "duration": 0,
    "start_time": "2022-12-08T22:51:46.943Z"
   },
   {
    "duration": 0,
    "start_time": "2022-12-08T22:51:46.944Z"
   },
   {
    "duration": 0,
    "start_time": "2022-12-08T22:51:46.945Z"
   },
   {
    "duration": 0,
    "start_time": "2022-12-08T22:51:46.946Z"
   },
   {
    "duration": 0,
    "start_time": "2022-12-08T22:51:46.947Z"
   },
   {
    "duration": 0,
    "start_time": "2022-12-08T22:51:46.948Z"
   },
   {
    "duration": 0,
    "start_time": "2022-12-08T22:51:46.949Z"
   },
   {
    "duration": 0,
    "start_time": "2022-12-08T22:51:46.950Z"
   },
   {
    "duration": 0,
    "start_time": "2022-12-08T22:51:46.951Z"
   },
   {
    "duration": 0,
    "start_time": "2022-12-08T22:51:46.952Z"
   },
   {
    "duration": 0,
    "start_time": "2022-12-08T22:51:46.953Z"
   },
   {
    "duration": 0,
    "start_time": "2022-12-08T22:51:46.953Z"
   },
   {
    "duration": 0,
    "start_time": "2022-12-08T22:51:46.955Z"
   },
   {
    "duration": 0,
    "start_time": "2022-12-08T22:51:46.955Z"
   },
   {
    "duration": 0,
    "start_time": "2022-12-08T22:51:46.956Z"
   },
   {
    "duration": 0,
    "start_time": "2022-12-08T22:51:46.957Z"
   },
   {
    "duration": 0,
    "start_time": "2022-12-08T22:51:46.958Z"
   },
   {
    "duration": 0,
    "start_time": "2022-12-08T22:51:46.959Z"
   },
   {
    "duration": 1,
    "start_time": "2022-12-08T22:51:46.959Z"
   },
   {
    "duration": 0,
    "start_time": "2022-12-08T22:51:46.960Z"
   },
   {
    "duration": 0,
    "start_time": "2022-12-08T22:51:46.961Z"
   },
   {
    "duration": 0,
    "start_time": "2022-12-08T22:51:46.963Z"
   },
   {
    "duration": 0,
    "start_time": "2022-12-08T22:51:46.963Z"
   },
   {
    "duration": 0,
    "start_time": "2022-12-08T22:51:46.964Z"
   },
   {
    "duration": 0,
    "start_time": "2022-12-08T22:51:47.026Z"
   },
   {
    "duration": 0,
    "start_time": "2022-12-08T22:51:47.027Z"
   },
   {
    "duration": 0,
    "start_time": "2022-12-08T22:51:47.028Z"
   },
   {
    "duration": 0,
    "start_time": "2022-12-08T22:51:47.029Z"
   },
   {
    "duration": 0,
    "start_time": "2022-12-08T22:51:47.030Z"
   },
   {
    "duration": 0,
    "start_time": "2022-12-08T22:51:47.031Z"
   },
   {
    "duration": 0,
    "start_time": "2022-12-08T22:51:47.032Z"
   },
   {
    "duration": 0,
    "start_time": "2022-12-08T22:51:47.033Z"
   },
   {
    "duration": 0,
    "start_time": "2022-12-08T22:51:47.034Z"
   },
   {
    "duration": 0,
    "start_time": "2022-12-08T22:51:47.035Z"
   },
   {
    "duration": 0,
    "start_time": "2022-12-08T22:51:47.036Z"
   },
   {
    "duration": 0,
    "start_time": "2022-12-08T22:51:47.037Z"
   },
   {
    "duration": 0,
    "start_time": "2022-12-08T22:51:47.038Z"
   },
   {
    "duration": 0,
    "start_time": "2022-12-08T22:51:47.039Z"
   },
   {
    "duration": 0,
    "start_time": "2022-12-08T22:51:47.040Z"
   },
   {
    "duration": 0,
    "start_time": "2022-12-08T22:51:47.041Z"
   },
   {
    "duration": 0,
    "start_time": "2022-12-08T22:51:47.042Z"
   },
   {
    "duration": 0,
    "start_time": "2022-12-08T22:51:47.043Z"
   },
   {
    "duration": 0,
    "start_time": "2022-12-08T22:51:47.044Z"
   },
   {
    "duration": 0,
    "start_time": "2022-12-08T22:51:47.045Z"
   },
   {
    "duration": 0,
    "start_time": "2022-12-08T22:51:47.046Z"
   },
   {
    "duration": 0,
    "start_time": "2022-12-08T22:51:47.047Z"
   },
   {
    "duration": 0,
    "start_time": "2022-12-08T22:51:47.048Z"
   },
   {
    "duration": 0,
    "start_time": "2022-12-08T22:51:47.049Z"
   },
   {
    "duration": 0,
    "start_time": "2022-12-08T22:51:47.050Z"
   },
   {
    "duration": 0,
    "start_time": "2022-12-08T22:51:47.051Z"
   },
   {
    "duration": 0,
    "start_time": "2022-12-08T22:51:47.052Z"
   },
   {
    "duration": 0,
    "start_time": "2022-12-08T22:51:47.053Z"
   },
   {
    "duration": 0,
    "start_time": "2022-12-08T22:51:47.054Z"
   },
   {
    "duration": 0,
    "start_time": "2022-12-08T22:51:47.055Z"
   },
   {
    "duration": 0,
    "start_time": "2022-12-08T22:51:47.056Z"
   },
   {
    "duration": 0,
    "start_time": "2022-12-08T22:51:47.057Z"
   },
   {
    "duration": 409,
    "start_time": "2022-12-08T22:54:59.756Z"
   },
   {
    "duration": 99,
    "start_time": "2022-12-08T22:55:00.167Z"
   },
   {
    "duration": 31,
    "start_time": "2022-12-08T22:55:00.268Z"
   },
   {
    "duration": 33,
    "start_time": "2022-12-08T22:55:00.301Z"
   },
   {
    "duration": 2197,
    "start_time": "2022-12-08T22:55:00.336Z"
   },
   {
    "duration": 4,
    "start_time": "2022-12-08T22:55:02.535Z"
   },
   {
    "duration": 230,
    "start_time": "2022-12-08T22:55:02.541Z"
   },
   {
    "duration": 14,
    "start_time": "2022-12-08T22:55:02.773Z"
   },
   {
    "duration": 41,
    "start_time": "2022-12-08T22:55:02.789Z"
   },
   {
    "duration": 20,
    "start_time": "2022-12-08T22:55:02.832Z"
   },
   {
    "duration": 36,
    "start_time": "2022-12-08T22:55:02.854Z"
   },
   {
    "duration": 33,
    "start_time": "2022-12-08T22:55:02.891Z"
   },
   {
    "duration": 15,
    "start_time": "2022-12-08T22:55:02.926Z"
   },
   {
    "duration": 36,
    "start_time": "2022-12-08T22:55:02.943Z"
   },
   {
    "duration": 14,
    "start_time": "2022-12-08T22:55:02.981Z"
   },
   {
    "duration": 6,
    "start_time": "2022-12-08T22:55:02.996Z"
   },
   {
    "duration": 15,
    "start_time": "2022-12-08T22:55:03.003Z"
   },
   {
    "duration": 25,
    "start_time": "2022-12-08T22:55:03.020Z"
   },
   {
    "duration": 13,
    "start_time": "2022-12-08T22:55:03.046Z"
   },
   {
    "duration": 23,
    "start_time": "2022-12-08T22:55:03.061Z"
   },
   {
    "duration": 22,
    "start_time": "2022-12-08T22:55:03.086Z"
   },
   {
    "duration": 34,
    "start_time": "2022-12-08T22:55:03.109Z"
   },
   {
    "duration": 10,
    "start_time": "2022-12-08T22:55:03.145Z"
   },
   {
    "duration": 18,
    "start_time": "2022-12-08T22:55:03.157Z"
   },
   {
    "duration": 266,
    "start_time": "2022-12-08T22:55:03.177Z"
   },
   {
    "duration": 152,
    "start_time": "2022-12-08T22:55:03.445Z"
   },
   {
    "duration": 6,
    "start_time": "2022-12-08T22:55:03.598Z"
   },
   {
    "duration": 19,
    "start_time": "2022-12-08T22:55:03.609Z"
   },
   {
    "duration": 71,
    "start_time": "2022-12-08T22:55:03.629Z"
   },
   {
    "duration": 26,
    "start_time": "2022-12-08T22:55:03.701Z"
   },
   {
    "duration": 52,
    "start_time": "2022-12-08T22:55:03.729Z"
   },
   {
    "duration": 151,
    "start_time": "2022-12-08T22:55:03.784Z"
   },
   {
    "duration": 16,
    "start_time": "2022-12-08T22:55:03.937Z"
   },
   {
    "duration": 12,
    "start_time": "2022-12-08T22:55:03.955Z"
   },
   {
    "duration": 40,
    "start_time": "2022-12-08T22:55:03.969Z"
   },
   {
    "duration": 54,
    "start_time": "2022-12-08T22:55:04.011Z"
   },
   {
    "duration": 19,
    "start_time": "2022-12-08T22:55:04.067Z"
   },
   {
    "duration": 48,
    "start_time": "2022-12-08T22:55:04.088Z"
   },
   {
    "duration": 34,
    "start_time": "2022-12-08T22:55:04.137Z"
   },
   {
    "duration": 25,
    "start_time": "2022-12-08T22:55:04.173Z"
   },
   {
    "duration": 29,
    "start_time": "2022-12-08T22:55:04.200Z"
   },
   {
    "duration": 20,
    "start_time": "2022-12-08T22:55:04.231Z"
   },
   {
    "duration": 23,
    "start_time": "2022-12-08T22:55:04.253Z"
   },
   {
    "duration": 27,
    "start_time": "2022-12-08T22:55:04.278Z"
   },
   {
    "duration": 103,
    "start_time": "2022-12-08T22:55:04.307Z"
   },
   {
    "duration": 16,
    "start_time": "2022-12-08T22:55:04.412Z"
   },
   {
    "duration": 12,
    "start_time": "2022-12-08T22:55:04.430Z"
   },
   {
    "duration": 12,
    "start_time": "2022-12-08T22:55:04.444Z"
   },
   {
    "duration": 9,
    "start_time": "2022-12-08T22:55:04.457Z"
   },
   {
    "duration": 3,
    "start_time": "2022-12-08T22:55:04.468Z"
   },
   {
    "duration": 23,
    "start_time": "2022-12-08T22:55:04.473Z"
   },
   {
    "duration": 31,
    "start_time": "2022-12-08T22:55:04.497Z"
   },
   {
    "duration": 8,
    "start_time": "2022-12-08T22:55:04.530Z"
   },
   {
    "duration": 11,
    "start_time": "2022-12-08T22:55:04.540Z"
   },
   {
    "duration": 19,
    "start_time": "2022-12-08T22:55:04.552Z"
   },
   {
    "duration": 14,
    "start_time": "2022-12-08T22:55:04.573Z"
   },
   {
    "duration": 44,
    "start_time": "2022-12-08T22:55:04.589Z"
   },
   {
    "duration": 10,
    "start_time": "2022-12-08T22:55:04.635Z"
   },
   {
    "duration": 8,
    "start_time": "2022-12-08T22:55:04.647Z"
   },
   {
    "duration": 20,
    "start_time": "2022-12-08T22:55:04.657Z"
   },
   {
    "duration": 13,
    "start_time": "2022-12-08T22:55:04.678Z"
   },
   {
    "duration": 80,
    "start_time": "2022-12-08T22:55:04.693Z"
   },
   {
    "duration": 9,
    "start_time": "2022-12-08T22:55:04.774Z"
   },
   {
    "duration": 328,
    "start_time": "2022-12-08T22:55:04.785Z"
   },
   {
    "duration": 329,
    "start_time": "2022-12-08T22:55:05.114Z"
   },
   {
    "duration": 167,
    "start_time": "2022-12-08T22:55:05.446Z"
   },
   {
    "duration": 145,
    "start_time": "2022-12-08T22:55:05.615Z"
   },
   {
    "duration": 16,
    "start_time": "2022-12-08T22:55:05.762Z"
   },
   {
    "duration": 16,
    "start_time": "2022-12-08T22:55:05.780Z"
   },
   {
    "duration": 5,
    "start_time": "2022-12-08T22:55:05.797Z"
   },
   {
    "duration": 7,
    "start_time": "2022-12-08T22:55:05.827Z"
   },
   {
    "duration": 8,
    "start_time": "2022-12-08T22:55:05.835Z"
   },
   {
    "duration": 8,
    "start_time": "2022-12-08T22:55:05.844Z"
   },
   {
    "duration": 3,
    "start_time": "2022-12-08T22:55:05.853Z"
   },
   {
    "duration": 390,
    "start_time": "2022-12-08T22:55:05.858Z"
   },
   {
    "duration": 5,
    "start_time": "2022-12-08T22:55:06.250Z"
   },
   {
    "duration": 11,
    "start_time": "2022-12-08T22:55:06.257Z"
   },
   {
    "duration": 9,
    "start_time": "2022-12-08T22:55:06.270Z"
   },
   {
    "duration": 16,
    "start_time": "2022-12-08T22:55:06.281Z"
   },
   {
    "duration": 243,
    "start_time": "2022-12-08T22:55:06.299Z"
   },
   {
    "duration": 277,
    "start_time": "2022-12-08T22:55:06.544Z"
   },
   {
    "duration": 6,
    "start_time": "2022-12-08T22:55:06.828Z"
   },
   {
    "duration": 266,
    "start_time": "2022-12-08T22:55:06.836Z"
   },
   {
    "duration": 267,
    "start_time": "2022-12-08T22:55:07.104Z"
   },
   {
    "duration": 7,
    "start_time": "2022-12-08T22:55:07.373Z"
   },
   {
    "duration": 11,
    "start_time": "2022-12-08T22:55:07.382Z"
   },
   {
    "duration": 277,
    "start_time": "2022-12-08T22:55:07.394Z"
   },
   {
    "duration": 374,
    "start_time": "2022-12-08T22:55:07.673Z"
   },
   {
    "duration": 6,
    "start_time": "2022-12-08T22:55:08.048Z"
   },
   {
    "duration": 28,
    "start_time": "2022-12-08T22:55:08.056Z"
   },
   {
    "duration": 40,
    "start_time": "2022-12-08T22:55:08.086Z"
   },
   {
    "duration": 285,
    "start_time": "2022-12-08T22:55:08.128Z"
   },
   {
    "duration": 284,
    "start_time": "2022-12-08T22:55:08.415Z"
   },
   {
    "duration": 157,
    "start_time": "2022-12-08T22:55:08.701Z"
   },
   {
    "duration": 7,
    "start_time": "2022-12-08T22:55:08.861Z"
   },
   {
    "duration": 35,
    "start_time": "2022-12-08T22:55:08.869Z"
   },
   {
    "duration": 6,
    "start_time": "2022-12-08T22:55:08.906Z"
   },
   {
    "duration": 6,
    "start_time": "2022-12-08T22:55:08.927Z"
   },
   {
    "duration": 282,
    "start_time": "2022-12-08T22:55:08.935Z"
   },
   {
    "duration": 160,
    "start_time": "2022-12-08T22:55:09.219Z"
   },
   {
    "duration": 7,
    "start_time": "2022-12-08T22:55:09.381Z"
   },
   {
    "duration": 21,
    "start_time": "2022-12-08T22:55:09.390Z"
   },
   {
    "duration": 13,
    "start_time": "2022-12-08T22:55:09.414Z"
   },
   {
    "duration": 180,
    "start_time": "2022-12-08T22:55:09.429Z"
   },
   {
    "duration": 6,
    "start_time": "2022-12-08T22:55:09.611Z"
   },
   {
    "duration": 378,
    "start_time": "2022-12-08T22:55:09.627Z"
   },
   {
    "duration": 292,
    "start_time": "2022-12-08T22:55:10.007Z"
   },
   {
    "duration": 275,
    "start_time": "2022-12-08T22:55:10.301Z"
   },
   {
    "duration": 258,
    "start_time": "2022-12-08T22:55:10.578Z"
   },
   {
    "duration": 166,
    "start_time": "2022-12-08T22:55:10.838Z"
   },
   {
    "duration": 148,
    "start_time": "2022-12-08T22:55:11.007Z"
   },
   {
    "duration": 393,
    "start_time": "2022-12-08T22:55:11.156Z"
   },
   {
    "duration": 279,
    "start_time": "2022-12-08T22:55:11.551Z"
   },
   {
    "duration": 7,
    "start_time": "2022-12-08T22:55:11.832Z"
   },
   {
    "duration": 4,
    "start_time": "2022-12-08T22:55:11.841Z"
   },
   {
    "duration": 7,
    "start_time": "2022-12-08T22:55:11.847Z"
   },
   {
    "duration": 9,
    "start_time": "2022-12-08T22:55:11.855Z"
   },
   {
    "duration": 186,
    "start_time": "2022-12-08T22:55:11.865Z"
   },
   {
    "duration": 211,
    "start_time": "2022-12-08T22:55:12.053Z"
   },
   {
    "duration": 224,
    "start_time": "2022-12-08T22:55:12.266Z"
   },
   {
    "duration": 6,
    "start_time": "2022-12-08T22:55:12.491Z"
   },
   {
    "duration": 217,
    "start_time": "2022-12-08T22:55:12.499Z"
   },
   {
    "duration": 216,
    "start_time": "2022-12-08T22:55:12.718Z"
   },
   {
    "duration": 5,
    "start_time": "2022-12-08T22:55:12.936Z"
   },
   {
    "duration": 194,
    "start_time": "2022-12-08T22:55:12.943Z"
   },
   {
    "duration": 209,
    "start_time": "2022-12-08T22:55:13.138Z"
   },
   {
    "duration": 5,
    "start_time": "2022-12-08T22:55:13.349Z"
   },
   {
    "duration": 223,
    "start_time": "2022-12-08T22:55:13.356Z"
   },
   {
    "duration": 6,
    "start_time": "2022-12-08T22:55:13.581Z"
   },
   {
    "duration": 199,
    "start_time": "2022-12-08T22:55:13.589Z"
   },
   {
    "duration": 190,
    "start_time": "2022-12-08T22:55:13.791Z"
   },
   {
    "duration": 195,
    "start_time": "2022-12-08T22:55:13.983Z"
   },
   {
    "duration": 6,
    "start_time": "2022-12-08T22:55:14.179Z"
   },
   {
    "duration": 195,
    "start_time": "2022-12-08T22:55:14.186Z"
   },
   {
    "duration": 5,
    "start_time": "2022-12-08T22:55:14.383Z"
   },
   {
    "duration": 184,
    "start_time": "2022-12-08T22:55:14.390Z"
   },
   {
    "duration": 5,
    "start_time": "2022-12-08T22:55:14.576Z"
   },
   {
    "duration": 27,
    "start_time": "2022-12-08T22:55:14.583Z"
   },
   {
    "duration": 30,
    "start_time": "2022-12-08T22:55:14.612Z"
   },
   {
    "duration": 158,
    "start_time": "2022-12-08T22:55:14.644Z"
   },
   {
    "duration": 5,
    "start_time": "2022-12-08T22:55:14.804Z"
   },
   {
    "duration": 65,
    "start_time": "2022-12-08T22:56:42.112Z"
   },
   {
    "duration": 73,
    "start_time": "2022-12-08T22:57:38.515Z"
   },
   {
    "duration": 5,
    "start_time": "2022-12-08T22:57:51.352Z"
   },
   {
    "duration": 4,
    "start_time": "2022-12-08T23:01:08.640Z"
   },
   {
    "duration": 7,
    "start_time": "2022-12-08T23:05:26.430Z"
   },
   {
    "duration": 9,
    "start_time": "2022-12-08T23:05:28.725Z"
   },
   {
    "duration": 9,
    "start_time": "2022-12-08T23:05:46.020Z"
   },
   {
    "duration": 6,
    "start_time": "2022-12-08T23:05:48.058Z"
   },
   {
    "duration": 61,
    "start_time": "2022-12-08T23:05:54.369Z"
   },
   {
    "duration": 5,
    "start_time": "2022-12-08T23:06:04.672Z"
   },
   {
    "duration": 60,
    "start_time": "2022-12-08T23:06:13.658Z"
   },
   {
    "duration": 387,
    "start_time": "2022-12-08T23:07:18.467Z"
   },
   {
    "duration": 98,
    "start_time": "2022-12-08T23:07:18.856Z"
   },
   {
    "duration": 26,
    "start_time": "2022-12-08T23:07:18.956Z"
   },
   {
    "duration": 36,
    "start_time": "2022-12-08T23:07:18.985Z"
   },
   {
    "duration": 2163,
    "start_time": "2022-12-08T23:07:19.022Z"
   },
   {
    "duration": 5,
    "start_time": "2022-12-08T23:07:21.187Z"
   },
   {
    "duration": 258,
    "start_time": "2022-12-08T23:07:21.194Z"
   },
   {
    "duration": 14,
    "start_time": "2022-12-08T23:07:21.454Z"
   },
   {
    "duration": 19,
    "start_time": "2022-12-08T23:07:21.470Z"
   },
   {
    "duration": 9,
    "start_time": "2022-12-08T23:07:21.492Z"
   },
   {
    "duration": 30,
    "start_time": "2022-12-08T23:07:21.503Z"
   },
   {
    "duration": 32,
    "start_time": "2022-12-08T23:07:21.535Z"
   },
   {
    "duration": 20,
    "start_time": "2022-12-08T23:07:21.568Z"
   },
   {
    "duration": 35,
    "start_time": "2022-12-08T23:07:21.590Z"
   },
   {
    "duration": 35,
    "start_time": "2022-12-08T23:07:21.627Z"
   },
   {
    "duration": 26,
    "start_time": "2022-12-08T23:07:21.664Z"
   },
   {
    "duration": 8,
    "start_time": "2022-12-08T23:07:21.692Z"
   },
   {
    "duration": 29,
    "start_time": "2022-12-08T23:07:21.702Z"
   },
   {
    "duration": 17,
    "start_time": "2022-12-08T23:07:21.733Z"
   },
   {
    "duration": 37,
    "start_time": "2022-12-08T23:07:21.751Z"
   },
   {
    "duration": 26,
    "start_time": "2022-12-08T23:07:21.790Z"
   },
   {
    "duration": 41,
    "start_time": "2022-12-08T23:07:21.818Z"
   },
   {
    "duration": 21,
    "start_time": "2022-12-08T23:07:21.860Z"
   },
   {
    "duration": 29,
    "start_time": "2022-12-08T23:07:21.883Z"
   },
   {
    "duration": 29,
    "start_time": "2022-12-08T23:07:21.914Z"
   },
   {
    "duration": 27,
    "start_time": "2022-12-08T23:07:21.945Z"
   },
   {
    "duration": 38,
    "start_time": "2022-12-08T23:07:21.973Z"
   },
   {
    "duration": 259,
    "start_time": "2022-12-08T23:07:22.015Z"
   },
   {
    "duration": 144,
    "start_time": "2022-12-08T23:07:22.276Z"
   },
   {
    "duration": 9,
    "start_time": "2022-12-08T23:07:22.421Z"
   },
   {
    "duration": 11,
    "start_time": "2022-12-08T23:07:22.431Z"
   },
   {
    "duration": 63,
    "start_time": "2022-12-08T23:07:22.443Z"
   },
   {
    "duration": 22,
    "start_time": "2022-12-08T23:07:22.508Z"
   },
   {
    "duration": 42,
    "start_time": "2022-12-08T23:07:22.531Z"
   },
   {
    "duration": 135,
    "start_time": "2022-12-08T23:07:22.575Z"
   },
   {
    "duration": 23,
    "start_time": "2022-12-08T23:07:22.711Z"
   },
   {
    "duration": 4,
    "start_time": "2022-12-08T23:07:22.735Z"
   },
   {
    "duration": 15,
    "start_time": "2022-12-08T23:07:22.741Z"
   },
   {
    "duration": 6,
    "start_time": "2022-12-08T23:07:22.758Z"
   },
   {
    "duration": 9,
    "start_time": "2022-12-08T23:07:22.766Z"
   },
   {
    "duration": 5,
    "start_time": "2022-12-08T23:07:22.777Z"
   },
   {
    "duration": 7,
    "start_time": "2022-12-08T23:07:22.784Z"
   },
   {
    "duration": 13,
    "start_time": "2022-12-08T23:07:22.793Z"
   },
   {
    "duration": 19,
    "start_time": "2022-12-08T23:07:22.808Z"
   },
   {
    "duration": 8,
    "start_time": "2022-12-08T23:07:22.829Z"
   },
   {
    "duration": 10,
    "start_time": "2022-12-08T23:07:22.839Z"
   },
   {
    "duration": 4,
    "start_time": "2022-12-08T23:07:22.851Z"
   },
   {
    "duration": 119,
    "start_time": "2022-12-08T23:07:22.857Z"
   },
   {
    "duration": 21,
    "start_time": "2022-12-08T23:07:22.978Z"
   },
   {
    "duration": 21,
    "start_time": "2022-12-08T23:07:23.000Z"
   },
   {
    "duration": 36,
    "start_time": "2022-12-08T23:07:23.023Z"
   },
   {
    "duration": 20,
    "start_time": "2022-12-08T23:07:23.060Z"
   },
   {
    "duration": 23,
    "start_time": "2022-12-08T23:07:23.082Z"
   },
   {
    "duration": 23,
    "start_time": "2022-12-08T23:07:23.107Z"
   },
   {
    "duration": 31,
    "start_time": "2022-12-08T23:07:23.132Z"
   },
   {
    "duration": 24,
    "start_time": "2022-12-08T23:07:23.165Z"
   },
   {
    "duration": 55,
    "start_time": "2022-12-08T23:07:23.191Z"
   },
   {
    "duration": 9,
    "start_time": "2022-12-08T23:07:23.248Z"
   },
   {
    "duration": 12,
    "start_time": "2022-12-08T23:07:23.258Z"
   },
   {
    "duration": 27,
    "start_time": "2022-12-08T23:07:23.271Z"
   },
   {
    "duration": 26,
    "start_time": "2022-12-08T23:07:23.300Z"
   },
   {
    "duration": 54,
    "start_time": "2022-12-08T23:07:23.328Z"
   },
   {
    "duration": 10,
    "start_time": "2022-12-08T23:07:23.384Z"
   },
   {
    "duration": 302,
    "start_time": "2022-12-08T23:07:23.396Z"
   },
   {
    "duration": 299,
    "start_time": "2022-12-08T23:07:23.700Z"
   },
   {
    "duration": 136,
    "start_time": "2022-12-08T23:07:24.001Z"
   },
   {
    "duration": 138,
    "start_time": "2022-12-08T23:07:24.139Z"
   },
   {
    "duration": 16,
    "start_time": "2022-12-08T23:07:24.279Z"
   },
   {
    "duration": 38,
    "start_time": "2022-12-08T23:07:24.297Z"
   },
   {
    "duration": 6,
    "start_time": "2022-12-08T23:07:24.337Z"
   },
   {
    "duration": 7,
    "start_time": "2022-12-08T23:07:24.345Z"
   },
   {
    "duration": 6,
    "start_time": "2022-12-08T23:07:24.354Z"
   },
   {
    "duration": 6,
    "start_time": "2022-12-08T23:07:24.362Z"
   },
   {
    "duration": 4,
    "start_time": "2022-12-08T23:07:24.370Z"
   },
   {
    "duration": 367,
    "start_time": "2022-12-08T23:07:24.375Z"
   },
   {
    "duration": 5,
    "start_time": "2022-12-08T23:07:24.744Z"
   },
   {
    "duration": 7,
    "start_time": "2022-12-08T23:07:24.751Z"
   },
   {
    "duration": 9,
    "start_time": "2022-12-08T23:07:24.760Z"
   },
   {
    "duration": 6,
    "start_time": "2022-12-08T23:07:24.770Z"
   },
   {
    "duration": 260,
    "start_time": "2022-12-08T23:07:24.777Z"
   },
   {
    "duration": 261,
    "start_time": "2022-12-08T23:07:25.038Z"
   },
   {
    "duration": 7,
    "start_time": "2022-12-08T23:07:25.305Z"
   },
   {
    "duration": 292,
    "start_time": "2022-12-08T23:07:25.313Z"
   },
   {
    "duration": 257,
    "start_time": "2022-12-08T23:07:25.607Z"
   },
   {
    "duration": 6,
    "start_time": "2022-12-08T23:07:25.866Z"
   },
   {
    "duration": 23,
    "start_time": "2022-12-08T23:07:25.873Z"
   },
   {
    "duration": 273,
    "start_time": "2022-12-08T23:07:25.897Z"
   },
   {
    "duration": 336,
    "start_time": "2022-12-08T23:07:26.171Z"
   },
   {
    "duration": 6,
    "start_time": "2022-12-08T23:07:26.508Z"
   },
   {
    "duration": 21,
    "start_time": "2022-12-08T23:07:26.515Z"
   },
   {
    "duration": 18,
    "start_time": "2022-12-08T23:07:26.537Z"
   },
   {
    "duration": 255,
    "start_time": "2022-12-08T23:07:26.557Z"
   },
   {
    "duration": 252,
    "start_time": "2022-12-08T23:07:26.814Z"
   },
   {
    "duration": 132,
    "start_time": "2022-12-08T23:07:27.068Z"
   },
   {
    "duration": 5,
    "start_time": "2022-12-08T23:07:27.202Z"
   },
   {
    "duration": 46,
    "start_time": "2022-12-08T23:07:27.209Z"
   },
   {
    "duration": 5,
    "start_time": "2022-12-08T23:07:27.256Z"
   },
   {
    "duration": 31,
    "start_time": "2022-12-08T23:07:27.263Z"
   },
   {
    "duration": 256,
    "start_time": "2022-12-08T23:07:27.296Z"
   },
   {
    "duration": 155,
    "start_time": "2022-12-08T23:07:27.554Z"
   },
   {
    "duration": 16,
    "start_time": "2022-12-08T23:07:27.711Z"
   },
   {
    "duration": 5,
    "start_time": "2022-12-08T23:07:27.728Z"
   },
   {
    "duration": 37,
    "start_time": "2022-12-08T23:07:27.734Z"
   },
   {
    "duration": 202,
    "start_time": "2022-12-08T23:07:27.773Z"
   },
   {
    "duration": 5,
    "start_time": "2022-12-08T23:07:27.977Z"
   },
   {
    "duration": 364,
    "start_time": "2022-12-08T23:07:27.984Z"
   },
   {
    "duration": 255,
    "start_time": "2022-12-08T23:07:28.349Z"
   },
   {
    "duration": 247,
    "start_time": "2022-12-08T23:07:28.606Z"
   },
   {
    "duration": 245,
    "start_time": "2022-12-08T23:07:28.854Z"
   },
   {
    "duration": 150,
    "start_time": "2022-12-08T23:07:29.100Z"
   },
   {
    "duration": 142,
    "start_time": "2022-12-08T23:07:29.252Z"
   },
   {
    "duration": 364,
    "start_time": "2022-12-08T23:07:29.396Z"
   },
   {
    "duration": 266,
    "start_time": "2022-12-08T23:07:29.762Z"
   },
   {
    "duration": 8,
    "start_time": "2022-12-08T23:07:30.030Z"
   },
   {
    "duration": 23,
    "start_time": "2022-12-08T23:07:30.040Z"
   },
   {
    "duration": 17,
    "start_time": "2022-12-08T23:07:30.065Z"
   },
   {
    "duration": 19,
    "start_time": "2022-12-08T23:07:30.083Z"
   },
   {
    "duration": 170,
    "start_time": "2022-12-08T23:07:30.104Z"
   },
   {
    "duration": 195,
    "start_time": "2022-12-08T23:07:30.276Z"
   },
   {
    "duration": 215,
    "start_time": "2022-12-08T23:07:30.473Z"
   },
   {
    "duration": 5,
    "start_time": "2022-12-08T23:07:30.690Z"
   },
   {
    "duration": 225,
    "start_time": "2022-12-08T23:07:30.696Z"
   },
   {
    "duration": 211,
    "start_time": "2022-12-08T23:07:30.926Z"
   },
   {
    "duration": 6,
    "start_time": "2022-12-08T23:07:31.139Z"
   },
   {
    "duration": 183,
    "start_time": "2022-12-08T23:07:31.146Z"
   },
   {
    "duration": 198,
    "start_time": "2022-12-08T23:07:31.331Z"
   },
   {
    "duration": 6,
    "start_time": "2022-12-08T23:07:31.531Z"
   },
   {
    "duration": 224,
    "start_time": "2022-12-08T23:07:31.539Z"
   },
   {
    "duration": 5,
    "start_time": "2022-12-08T23:07:31.765Z"
   },
   {
    "duration": 183,
    "start_time": "2022-12-08T23:07:31.771Z"
   },
   {
    "duration": 164,
    "start_time": "2022-12-08T23:07:31.956Z"
   },
   {
    "duration": 188,
    "start_time": "2022-12-08T23:07:32.126Z"
   },
   {
    "duration": 11,
    "start_time": "2022-12-08T23:07:32.316Z"
   },
   {
    "duration": 182,
    "start_time": "2022-12-08T23:07:32.329Z"
   },
   {
    "duration": 14,
    "start_time": "2022-12-08T23:07:32.513Z"
   },
   {
    "duration": 180,
    "start_time": "2022-12-08T23:07:32.528Z"
   },
   {
    "duration": 5,
    "start_time": "2022-12-08T23:07:32.709Z"
   },
   {
    "duration": 31,
    "start_time": "2022-12-08T23:07:32.725Z"
   },
   {
    "duration": 18,
    "start_time": "2022-12-08T23:07:32.758Z"
   },
   {
    "duration": 157,
    "start_time": "2022-12-08T23:07:32.777Z"
   },
   {
    "duration": 6,
    "start_time": "2022-12-08T23:07:32.935Z"
   },
   {
    "duration": 75,
    "start_time": "2022-12-08T23:11:10.954Z"
   },
   {
    "duration": 64,
    "start_time": "2022-12-08T23:11:20.596Z"
   },
   {
    "duration": 67,
    "start_time": "2022-12-08T23:11:29.237Z"
   },
   {
    "duration": 65,
    "start_time": "2022-12-08T23:12:34.040Z"
   },
   {
    "duration": 23,
    "start_time": "2022-12-08T23:14:05.481Z"
   },
   {
    "duration": 18,
    "start_time": "2022-12-08T23:16:11.561Z"
   },
   {
    "duration": 29,
    "start_time": "2022-12-08T23:16:39.156Z"
   },
   {
    "duration": 4,
    "start_time": "2022-12-08T23:17:59.695Z"
   },
   {
    "duration": 20,
    "start_time": "2022-12-08T23:18:18.980Z"
   },
   {
    "duration": 18,
    "start_time": "2022-12-08T23:18:58.862Z"
   },
   {
    "duration": 28,
    "start_time": "2022-12-08T23:19:09.356Z"
   },
   {
    "duration": 12,
    "start_time": "2022-12-08T23:19:21.433Z"
   },
   {
    "duration": 18,
    "start_time": "2022-12-08T23:19:26.492Z"
   },
   {
    "duration": 62,
    "start_time": "2022-12-08T23:19:53.899Z"
   },
   {
    "duration": 20,
    "start_time": "2022-12-08T23:20:09.706Z"
   },
   {
    "duration": 6,
    "start_time": "2022-12-08T23:22:49.298Z"
   },
   {
    "duration": 6,
    "start_time": "2022-12-08T23:28:47.645Z"
   },
   {
    "duration": 5,
    "start_time": "2022-12-08T23:29:01.772Z"
   },
   {
    "duration": 6,
    "start_time": "2022-12-08T23:29:04.872Z"
   },
   {
    "duration": 62,
    "start_time": "2022-12-08T23:29:10.066Z"
   },
   {
    "duration": 4,
    "start_time": "2022-12-09T11:13:31.693Z"
   },
   {
    "duration": 3,
    "start_time": "2022-12-09T11:13:49.944Z"
   },
   {
    "duration": 4,
    "start_time": "2022-12-09T11:14:00.759Z"
   },
   {
    "duration": 110,
    "start_time": "2022-12-09T11:14:00.767Z"
   },
   {
    "duration": 18,
    "start_time": "2022-12-09T11:14:00.879Z"
   },
   {
    "duration": 56,
    "start_time": "2022-12-09T11:14:00.899Z"
   },
   {
    "duration": 1835,
    "start_time": "2022-12-09T11:14:00.957Z"
   },
   {
    "duration": 4,
    "start_time": "2022-12-09T11:14:02.793Z"
   },
   {
    "duration": 214,
    "start_time": "2022-12-09T11:14:02.799Z"
   },
   {
    "duration": 14,
    "start_time": "2022-12-09T11:14:03.015Z"
   },
   {
    "duration": 4,
    "start_time": "2022-12-09T11:14:03.030Z"
   },
   {
    "duration": 8,
    "start_time": "2022-12-09T11:14:03.035Z"
   },
   {
    "duration": 7,
    "start_time": "2022-12-09T11:14:03.045Z"
   },
   {
    "duration": 13,
    "start_time": "2022-12-09T11:14:03.054Z"
   },
   {
    "duration": 6,
    "start_time": "2022-12-09T11:14:03.069Z"
   },
   {
    "duration": 5,
    "start_time": "2022-12-09T11:14:03.077Z"
   },
   {
    "duration": 5,
    "start_time": "2022-12-09T11:14:03.084Z"
   },
   {
    "duration": 6,
    "start_time": "2022-12-09T11:14:03.091Z"
   },
   {
    "duration": 29,
    "start_time": "2022-12-09T11:14:03.098Z"
   },
   {
    "duration": 38,
    "start_time": "2022-12-09T11:14:03.128Z"
   },
   {
    "duration": 5,
    "start_time": "2022-12-09T11:14:03.168Z"
   },
   {
    "duration": 13,
    "start_time": "2022-12-09T11:14:03.175Z"
   },
   {
    "duration": 7,
    "start_time": "2022-12-09T11:14:03.189Z"
   },
   {
    "duration": 17,
    "start_time": "2022-12-09T11:14:03.198Z"
   },
   {
    "duration": 7,
    "start_time": "2022-12-09T11:14:03.217Z"
   },
   {
    "duration": 7,
    "start_time": "2022-12-09T11:14:03.226Z"
   },
   {
    "duration": 9,
    "start_time": "2022-12-09T11:14:03.235Z"
   },
   {
    "duration": 17,
    "start_time": "2022-12-09T11:14:03.245Z"
   },
   {
    "duration": 16,
    "start_time": "2022-12-09T11:14:03.263Z"
   },
   {
    "duration": 223,
    "start_time": "2022-12-09T11:14:03.281Z"
   },
   {
    "duration": 130,
    "start_time": "2022-12-09T11:14:03.506Z"
   },
   {
    "duration": 5,
    "start_time": "2022-12-09T11:14:03.638Z"
   },
   {
    "duration": 9,
    "start_time": "2022-12-09T11:14:03.645Z"
   },
   {
    "duration": 58,
    "start_time": "2022-12-09T11:14:03.656Z"
   },
   {
    "duration": 6,
    "start_time": "2022-12-09T11:14:03.726Z"
   },
   {
    "duration": 7,
    "start_time": "2022-12-09T11:14:03.733Z"
   },
   {
    "duration": 38,
    "start_time": "2022-12-09T11:14:03.741Z"
   },
   {
    "duration": 136,
    "start_time": "2022-12-09T11:14:03.781Z"
   },
   {
    "duration": 13,
    "start_time": "2022-12-09T11:14:03.926Z"
   },
   {
    "duration": 3,
    "start_time": "2022-12-09T11:14:06.250Z"
   },
   {
    "duration": 5,
    "start_time": "2022-12-09T11:14:09.309Z"
   },
   {
    "duration": 10,
    "start_time": "2022-12-09T11:14:16.869Z"
   },
   {
    "duration": 6,
    "start_time": "2022-12-09T11:14:23.328Z"
   },
   {
    "duration": 138,
    "start_time": "2022-12-09T11:14:29.627Z"
   },
   {
    "duration": 133,
    "start_time": "2022-12-09T11:14:43.311Z"
   },
   {
    "duration": 142,
    "start_time": "2022-12-09T11:14:46.780Z"
   },
   {
    "duration": 397,
    "start_time": "2022-12-09T11:14:59.761Z"
   },
   {
    "duration": 161,
    "start_time": "2022-12-09T11:15:16.334Z"
   },
   {
    "duration": 160,
    "start_time": "2022-12-09T11:15:20.442Z"
   },
   {
    "duration": 152,
    "start_time": "2022-12-09T11:15:26.448Z"
   },
   {
    "duration": 6,
    "start_time": "2022-12-09T11:15:42.297Z"
   },
   {
    "duration": 31,
    "start_time": "2022-12-09T11:16:58.421Z"
   },
   {
    "duration": 33,
    "start_time": "2022-12-09T11:17:22.096Z"
   },
   {
    "duration": 6,
    "start_time": "2022-12-09T11:17:36.065Z"
   },
   {
    "duration": 7,
    "start_time": "2022-12-09T11:19:20.884Z"
   },
   {
    "duration": 128,
    "start_time": "2022-12-09T11:22:46.557Z"
   },
   {
    "duration": 279,
    "start_time": "2022-12-09T11:23:49.377Z"
   },
   {
    "duration": 34,
    "start_time": "2022-12-09T11:26:05.869Z"
   },
   {
    "duration": 7,
    "start_time": "2022-12-09T11:26:17.258Z"
   },
   {
    "duration": 121,
    "start_time": "2022-12-09T11:26:51.251Z"
   },
   {
    "duration": 233,
    "start_time": "2022-12-09T11:26:58.149Z"
   },
   {
    "duration": 247,
    "start_time": "2022-12-09T11:27:32.367Z"
   },
   {
    "duration": 8,
    "start_time": "2022-12-09T11:27:52.853Z"
   },
   {
    "duration": 6,
    "start_time": "2022-12-09T11:28:30.316Z"
   },
   {
    "duration": 5,
    "start_time": "2022-12-09T11:28:33.515Z"
   },
   {
    "duration": 7,
    "start_time": "2022-12-09T11:28:38.669Z"
   },
   {
    "duration": 7,
    "start_time": "2022-12-09T11:28:49.398Z"
   },
   {
    "duration": 6,
    "start_time": "2022-12-09T11:35:58.552Z"
   },
   {
    "duration": 7,
    "start_time": "2022-12-09T11:36:09.107Z"
   },
   {
    "duration": 6,
    "start_time": "2022-12-09T11:36:15.257Z"
   },
   {
    "duration": 6,
    "start_time": "2022-12-09T11:36:30.700Z"
   },
   {
    "duration": 7,
    "start_time": "2022-12-09T11:36:37.040Z"
   },
   {
    "duration": 7,
    "start_time": "2022-12-09T11:36:48.842Z"
   },
   {
    "duration": 8,
    "start_time": "2022-12-09T11:37:21.926Z"
   },
   {
    "duration": 36,
    "start_time": "2022-12-09T11:38:18.570Z"
   },
   {
    "duration": 42,
    "start_time": "2022-12-09T11:38:41.511Z"
   },
   {
    "duration": 372,
    "start_time": "2022-12-09T11:38:51.890Z"
   },
   {
    "duration": 90,
    "start_time": "2022-12-09T11:38:52.264Z"
   },
   {
    "duration": 24,
    "start_time": "2022-12-09T11:38:52.355Z"
   },
   {
    "duration": 13,
    "start_time": "2022-12-09T11:38:52.381Z"
   },
   {
    "duration": 2218,
    "start_time": "2022-12-09T11:38:52.395Z"
   },
   {
    "duration": 5,
    "start_time": "2022-12-09T11:38:54.614Z"
   },
   {
    "duration": 245,
    "start_time": "2022-12-09T11:38:54.620Z"
   },
   {
    "duration": 14,
    "start_time": "2022-12-09T11:38:54.867Z"
   },
   {
    "duration": 4,
    "start_time": "2022-12-09T11:38:54.883Z"
   },
   {
    "duration": 7,
    "start_time": "2022-12-09T11:38:54.890Z"
   },
   {
    "duration": 32,
    "start_time": "2022-12-09T11:38:54.899Z"
   },
   {
    "duration": 5,
    "start_time": "2022-12-09T11:38:54.936Z"
   },
   {
    "duration": 13,
    "start_time": "2022-12-09T11:38:54.943Z"
   },
   {
    "duration": 5,
    "start_time": "2022-12-09T11:38:54.957Z"
   },
   {
    "duration": 7,
    "start_time": "2022-12-09T11:38:54.964Z"
   },
   {
    "duration": 5,
    "start_time": "2022-12-09T11:38:54.973Z"
   },
   {
    "duration": 20,
    "start_time": "2022-12-09T11:38:54.980Z"
   },
   {
    "duration": 41,
    "start_time": "2022-12-09T11:38:55.002Z"
   },
   {
    "duration": 6,
    "start_time": "2022-12-09T11:38:55.045Z"
   },
   {
    "duration": 35,
    "start_time": "2022-12-09T11:38:55.053Z"
   },
   {
    "duration": 8,
    "start_time": "2022-12-09T11:38:55.089Z"
   },
   {
    "duration": 18,
    "start_time": "2022-12-09T11:38:55.099Z"
   },
   {
    "duration": 7,
    "start_time": "2022-12-09T11:38:55.118Z"
   },
   {
    "duration": 21,
    "start_time": "2022-12-09T11:38:55.127Z"
   },
   {
    "duration": 5,
    "start_time": "2022-12-09T11:38:55.149Z"
   },
   {
    "duration": 4,
    "start_time": "2022-12-09T11:38:55.156Z"
   },
   {
    "duration": 8,
    "start_time": "2022-12-09T11:38:55.161Z"
   },
   {
    "duration": 281,
    "start_time": "2022-12-09T11:38:55.173Z"
   },
   {
    "duration": 162,
    "start_time": "2022-12-09T11:38:55.456Z"
   },
   {
    "duration": 12,
    "start_time": "2022-12-09T11:38:55.621Z"
   },
   {
    "duration": 21,
    "start_time": "2022-12-09T11:38:55.637Z"
   },
   {
    "duration": 100,
    "start_time": "2022-12-09T11:38:55.660Z"
   },
   {
    "duration": 6,
    "start_time": "2022-12-09T11:38:55.761Z"
   },
   {
    "duration": 8,
    "start_time": "2022-12-09T11:38:55.769Z"
   },
   {
    "duration": 62,
    "start_time": "2022-12-09T11:38:55.779Z"
   },
   {
    "duration": 131,
    "start_time": "2022-12-09T11:38:55.843Z"
   },
   {
    "duration": 13,
    "start_time": "2022-12-09T11:38:55.975Z"
   },
   {
    "duration": 5,
    "start_time": "2022-12-09T11:38:55.990Z"
   },
   {
    "duration": 262,
    "start_time": "2022-12-09T11:38:55.996Z"
   },
   {
    "duration": 6,
    "start_time": "2022-12-09T11:38:56.260Z"
   },
   {
    "duration": 7,
    "start_time": "2022-12-09T11:38:56.267Z"
   },
   {
    "duration": 311,
    "start_time": "2022-12-09T11:38:56.276Z"
   },
   {
    "duration": 6,
    "start_time": "2022-12-09T11:38:56.589Z"
   },
   {
    "duration": 241,
    "start_time": "2022-12-09T11:38:56.596Z"
   },
   {
    "duration": 35,
    "start_time": "2022-12-09T11:38:59.642Z"
   },
   {
    "duration": 4,
    "start_time": "2022-12-09T11:39:14.900Z"
   },
   {
    "duration": 6,
    "start_time": "2022-12-09T11:39:23.735Z"
   },
   {
    "duration": 6,
    "start_time": "2022-12-09T11:40:32.661Z"
   },
   {
    "duration": 188,
    "start_time": "2022-12-09T11:40:41.086Z"
   },
   {
    "duration": 136,
    "start_time": "2022-12-09T11:40:44.253Z"
   },
   {
    "duration": 8,
    "start_time": "2022-12-09T11:42:21.009Z"
   },
   {
    "duration": 264,
    "start_time": "2022-12-09T11:42:32.884Z"
   },
   {
    "duration": 92,
    "start_time": "2022-12-09T11:42:57.263Z"
   },
   {
    "duration": 367,
    "start_time": "2022-12-09T11:42:59.887Z"
   },
   {
    "duration": 38,
    "start_time": "2022-12-09T11:43:50.230Z"
   },
   {
    "duration": 47,
    "start_time": "2022-12-09T11:44:15.516Z"
   },
   {
    "duration": 476,
    "start_time": "2022-12-09T11:44:35.263Z"
   },
   {
    "duration": 97,
    "start_time": "2022-12-09T11:44:35.742Z"
   },
   {
    "duration": 35,
    "start_time": "2022-12-09T11:44:35.841Z"
   },
   {
    "duration": 19,
    "start_time": "2022-12-09T11:44:35.878Z"
   },
   {
    "duration": 2134,
    "start_time": "2022-12-09T11:44:35.899Z"
   },
   {
    "duration": 5,
    "start_time": "2022-12-09T11:44:38.035Z"
   },
   {
    "duration": 239,
    "start_time": "2022-12-09T11:44:38.042Z"
   },
   {
    "duration": 13,
    "start_time": "2022-12-09T11:44:38.283Z"
   },
   {
    "duration": 10,
    "start_time": "2022-12-09T11:44:38.298Z"
   },
   {
    "duration": 19,
    "start_time": "2022-12-09T11:44:38.311Z"
   },
   {
    "duration": 18,
    "start_time": "2022-12-09T11:44:38.332Z"
   },
   {
    "duration": 6,
    "start_time": "2022-12-09T11:44:38.352Z"
   },
   {
    "duration": 10,
    "start_time": "2022-12-09T11:44:38.360Z"
   },
   {
    "duration": 8,
    "start_time": "2022-12-09T11:44:38.372Z"
   },
   {
    "duration": 15,
    "start_time": "2022-12-09T11:44:38.382Z"
   },
   {
    "duration": 28,
    "start_time": "2022-12-09T11:44:38.400Z"
   },
   {
    "duration": 7,
    "start_time": "2022-12-09T11:44:38.430Z"
   },
   {
    "duration": 28,
    "start_time": "2022-12-09T11:44:38.439Z"
   },
   {
    "duration": 7,
    "start_time": "2022-12-09T11:44:38.469Z"
   },
   {
    "duration": 30,
    "start_time": "2022-12-09T11:44:38.478Z"
   },
   {
    "duration": 24,
    "start_time": "2022-12-09T11:44:38.510Z"
   },
   {
    "duration": 14,
    "start_time": "2022-12-09T11:44:38.535Z"
   },
   {
    "duration": 28,
    "start_time": "2022-12-09T11:44:38.551Z"
   },
   {
    "duration": 6,
    "start_time": "2022-12-09T11:44:38.581Z"
   },
   {
    "duration": 7,
    "start_time": "2022-12-09T11:44:38.589Z"
   },
   {
    "duration": 7,
    "start_time": "2022-12-09T11:44:38.598Z"
   },
   {
    "duration": 21,
    "start_time": "2022-12-09T11:44:38.607Z"
   },
   {
    "duration": 283,
    "start_time": "2022-12-09T11:44:38.632Z"
   },
   {
    "duration": 135,
    "start_time": "2022-12-09T11:44:38.917Z"
   },
   {
    "duration": 7,
    "start_time": "2022-12-09T11:44:39.053Z"
   },
   {
    "duration": 17,
    "start_time": "2022-12-09T11:44:39.062Z"
   },
   {
    "duration": 97,
    "start_time": "2022-12-09T11:44:39.081Z"
   },
   {
    "duration": 6,
    "start_time": "2022-12-09T11:44:39.180Z"
   },
   {
    "duration": 7,
    "start_time": "2022-12-09T11:44:39.187Z"
   },
   {
    "duration": 54,
    "start_time": "2022-12-09T11:44:39.196Z"
   },
   {
    "duration": 138,
    "start_time": "2022-12-09T11:44:39.252Z"
   },
   {
    "duration": 19,
    "start_time": "2022-12-09T11:44:39.392Z"
   },
   {
    "duration": 7,
    "start_time": "2022-12-09T11:44:39.426Z"
   },
   {
    "duration": 249,
    "start_time": "2022-12-09T11:44:39.435Z"
   },
   {
    "duration": 7,
    "start_time": "2022-12-09T11:44:39.686Z"
   },
   {
    "duration": 13,
    "start_time": "2022-12-09T11:44:39.694Z"
   },
   {
    "duration": 338,
    "start_time": "2022-12-09T11:44:39.709Z"
   },
   {
    "duration": 6,
    "start_time": "2022-12-09T11:44:40.049Z"
   },
   {
    "duration": 242,
    "start_time": "2022-12-09T11:44:40.057Z"
   },
   {
    "duration": 8,
    "start_time": "2022-12-09T11:44:40.304Z"
   },
   {
    "duration": 66,
    "start_time": "2022-12-09T11:44:40.314Z"
   },
   {
    "duration": 271,
    "start_time": "2022-12-09T11:44:40.382Z"
   },
   {
    "duration": 10,
    "start_time": "2022-12-09T11:44:40.655Z"
   },
   {
    "duration": 35,
    "start_time": "2022-12-09T11:44:43.333Z"
   },
   {
    "duration": 7,
    "start_time": "2022-12-09T11:44:57.809Z"
   },
   {
    "duration": 7,
    "start_time": "2022-12-09T11:45:06.774Z"
   },
   {
    "duration": 263,
    "start_time": "2022-12-09T11:46:52.817Z"
   },
   {
    "duration": 355,
    "start_time": "2022-12-09T11:47:02.138Z"
   },
   {
    "duration": 20,
    "start_time": "2022-12-09T11:48:55.983Z"
   },
   {
    "duration": 19,
    "start_time": "2022-12-09T11:49:03.546Z"
   },
   {
    "duration": 31,
    "start_time": "2022-12-09T11:49:24.099Z"
   },
   {
    "duration": 60,
    "start_time": "2022-12-09T11:49:27.693Z"
   },
   {
    "duration": 65,
    "start_time": "2022-12-09T11:49:38.892Z"
   },
   {
    "duration": 7,
    "start_time": "2022-12-09T11:51:06.364Z"
   },
   {
    "duration": 42,
    "start_time": "2022-12-09T11:52:44.109Z"
   },
   {
    "duration": 400,
    "start_time": "2022-12-09T11:53:40.985Z"
   },
   {
    "duration": 103,
    "start_time": "2022-12-09T11:53:41.387Z"
   },
   {
    "duration": 38,
    "start_time": "2022-12-09T11:53:41.491Z"
   },
   {
    "duration": 21,
    "start_time": "2022-12-09T11:53:41.534Z"
   },
   {
    "duration": 2395,
    "start_time": "2022-12-09T11:53:41.557Z"
   },
   {
    "duration": 5,
    "start_time": "2022-12-09T11:53:43.954Z"
   },
   {
    "duration": 307,
    "start_time": "2022-12-09T11:53:43.962Z"
   },
   {
    "duration": 19,
    "start_time": "2022-12-09T11:53:44.271Z"
   },
   {
    "duration": 4,
    "start_time": "2022-12-09T11:53:44.293Z"
   },
   {
    "duration": 10,
    "start_time": "2022-12-09T11:53:44.300Z"
   },
   {
    "duration": 40,
    "start_time": "2022-12-09T11:53:44.311Z"
   },
   {
    "duration": 15,
    "start_time": "2022-12-09T11:53:44.354Z"
   },
   {
    "duration": 15,
    "start_time": "2022-12-09T11:53:44.370Z"
   },
   {
    "duration": 6,
    "start_time": "2022-12-09T11:53:44.387Z"
   },
   {
    "duration": 9,
    "start_time": "2022-12-09T11:53:44.396Z"
   },
   {
    "duration": 8,
    "start_time": "2022-12-09T11:53:44.407Z"
   },
   {
    "duration": 15,
    "start_time": "2022-12-09T11:53:44.417Z"
   },
   {
    "duration": 47,
    "start_time": "2022-12-09T11:53:44.434Z"
   },
   {
    "duration": 7,
    "start_time": "2022-12-09T11:53:44.484Z"
   },
   {
    "duration": 26,
    "start_time": "2022-12-09T11:53:44.493Z"
   },
   {
    "duration": 24,
    "start_time": "2022-12-09T11:53:44.521Z"
   },
   {
    "duration": 20,
    "start_time": "2022-12-09T11:53:44.554Z"
   },
   {
    "duration": 9,
    "start_time": "2022-12-09T11:53:44.576Z"
   },
   {
    "duration": 12,
    "start_time": "2022-12-09T11:53:44.587Z"
   },
   {
    "duration": 11,
    "start_time": "2022-12-09T11:53:44.601Z"
   },
   {
    "duration": 13,
    "start_time": "2022-12-09T11:53:44.614Z"
   },
   {
    "duration": 36,
    "start_time": "2022-12-09T11:53:44.633Z"
   },
   {
    "duration": 349,
    "start_time": "2022-12-09T11:53:44.673Z"
   },
   {
    "duration": 167,
    "start_time": "2022-12-09T11:53:45.032Z"
   },
   {
    "duration": 6,
    "start_time": "2022-12-09T11:53:45.201Z"
   },
   {
    "duration": 12,
    "start_time": "2022-12-09T11:53:45.209Z"
   },
   {
    "duration": 64,
    "start_time": "2022-12-09T11:53:45.229Z"
   },
   {
    "duration": 6,
    "start_time": "2022-12-09T11:53:45.295Z"
   },
   {
    "duration": 31,
    "start_time": "2022-12-09T11:53:45.302Z"
   },
   {
    "duration": 45,
    "start_time": "2022-12-09T11:53:45.340Z"
   },
   {
    "duration": 151,
    "start_time": "2022-12-09T11:53:45.387Z"
   },
   {
    "duration": 17,
    "start_time": "2022-12-09T11:53:45.546Z"
   },
   {
    "duration": 19,
    "start_time": "2022-12-09T11:53:45.565Z"
   },
   {
    "duration": 306,
    "start_time": "2022-12-09T11:53:45.586Z"
   },
   {
    "duration": 6,
    "start_time": "2022-12-09T11:53:45.893Z"
   },
   {
    "duration": 23,
    "start_time": "2022-12-09T11:53:45.900Z"
   },
   {
    "duration": 334,
    "start_time": "2022-12-09T11:53:45.925Z"
   },
   {
    "duration": 5,
    "start_time": "2022-12-09T11:53:46.261Z"
   },
   {
    "duration": 253,
    "start_time": "2022-12-09T11:53:46.268Z"
   },
   {
    "duration": 14,
    "start_time": "2022-12-09T11:53:46.525Z"
   },
   {
    "duration": 37,
    "start_time": "2022-12-09T11:53:46.546Z"
   },
   {
    "duration": 259,
    "start_time": "2022-12-09T11:53:46.585Z"
   },
   {
    "duration": 6,
    "start_time": "2022-12-09T11:53:46.846Z"
   },
   {
    "duration": 8,
    "start_time": "2022-12-09T11:53:46.854Z"
   },
   {
    "duration": 9,
    "start_time": "2022-12-09T11:53:46.864Z"
   },
   {
    "duration": 7,
    "start_time": "2022-12-09T11:53:46.874Z"
   },
   {
    "duration": 7,
    "start_time": "2022-12-09T11:53:46.882Z"
   },
   {
    "duration": 13,
    "start_time": "2022-12-09T11:53:46.891Z"
   },
   {
    "duration": 21,
    "start_time": "2022-12-09T11:53:46.906Z"
   },
   {
    "duration": 31,
    "start_time": "2022-12-09T11:53:46.934Z"
   },
   {
    "duration": 10,
    "start_time": "2022-12-09T11:53:46.966Z"
   },
   {
    "duration": 11,
    "start_time": "2022-12-09T11:53:46.978Z"
   },
   {
    "duration": 14,
    "start_time": "2022-12-09T11:53:46.991Z"
   },
   {
    "duration": 4,
    "start_time": "2022-12-09T11:53:47.006Z"
   },
   {
    "duration": 10,
    "start_time": "2022-12-09T11:53:47.012Z"
   },
   {
    "duration": 52,
    "start_time": "2022-12-09T11:53:47.023Z"
   },
   {
    "duration": 4,
    "start_time": "2022-12-09T11:53:47.076Z"
   },
   {
    "duration": 41,
    "start_time": "2022-12-09T11:53:49.314Z"
   },
   {
    "duration": 4,
    "start_time": "2022-12-09T11:54:57.786Z"
   },
   {
    "duration": 141,
    "start_time": "2022-12-09T11:55:03.420Z"
   },
   {
    "duration": 251,
    "start_time": "2022-12-09T11:55:24.945Z"
   },
   {
    "duration": 325,
    "start_time": "2022-12-09T11:55:37.867Z"
   },
   {
    "duration": 6,
    "start_time": "2022-12-09T11:55:48.074Z"
   },
   {
    "duration": 6,
    "start_time": "2022-12-09T11:56:22.698Z"
   },
   {
    "duration": 7,
    "start_time": "2022-12-09T11:56:31.058Z"
   },
   {
    "duration": 6,
    "start_time": "2022-12-09T11:56:36.450Z"
   },
   {
    "duration": 8,
    "start_time": "2022-12-09T11:56:40.481Z"
   },
   {
    "duration": 9,
    "start_time": "2022-12-09T11:56:43.350Z"
   },
   {
    "duration": 278,
    "start_time": "2022-12-09T11:56:59.707Z"
   },
   {
    "duration": 257,
    "start_time": "2022-12-09T11:57:09.061Z"
   },
   {
    "duration": 422,
    "start_time": "2022-12-09T11:57:28.974Z"
   },
   {
    "duration": 300,
    "start_time": "2022-12-09T11:57:39.250Z"
   },
   {
    "duration": 479,
    "start_time": "2022-12-09T11:57:44.252Z"
   },
   {
    "duration": 34,
    "start_time": "2022-12-09T11:58:44.054Z"
   },
   {
    "duration": 396,
    "start_time": "2022-12-09T11:59:13.872Z"
   },
   {
    "duration": 421,
    "start_time": "2022-12-09T11:59:20.995Z"
   },
   {
    "duration": 410,
    "start_time": "2022-12-09T11:59:26.937Z"
   },
   {
    "duration": 36,
    "start_time": "2022-12-09T12:00:01.384Z"
   },
   {
    "duration": 5,
    "start_time": "2022-12-09T12:00:42.816Z"
   },
   {
    "duration": 473,
    "start_time": "2022-12-09T12:01:03.219Z"
   },
   {
    "duration": 400,
    "start_time": "2022-12-09T12:01:09.446Z"
   },
   {
    "duration": 33,
    "start_time": "2022-12-09T12:01:27.644Z"
   },
   {
    "duration": 396,
    "start_time": "2022-12-09T12:01:43.641Z"
   },
   {
    "duration": 85,
    "start_time": "2022-12-09T12:01:44.042Z"
   },
   {
    "duration": 27,
    "start_time": "2022-12-09T12:01:44.134Z"
   },
   {
    "duration": 15,
    "start_time": "2022-12-09T12:01:44.162Z"
   },
   {
    "duration": 2246,
    "start_time": "2022-12-09T12:01:44.179Z"
   },
   {
    "duration": 11,
    "start_time": "2022-12-09T12:01:46.427Z"
   },
   {
    "duration": 233,
    "start_time": "2022-12-09T12:01:46.440Z"
   },
   {
    "duration": 13,
    "start_time": "2022-12-09T12:01:46.675Z"
   },
   {
    "duration": 5,
    "start_time": "2022-12-09T12:01:46.690Z"
   },
   {
    "duration": 9,
    "start_time": "2022-12-09T12:01:46.698Z"
   },
   {
    "duration": 11,
    "start_time": "2022-12-09T12:01:46.726Z"
   },
   {
    "duration": 14,
    "start_time": "2022-12-09T12:01:46.739Z"
   },
   {
    "duration": 9,
    "start_time": "2022-12-09T12:01:46.754Z"
   },
   {
    "duration": 8,
    "start_time": "2022-12-09T12:01:46.765Z"
   },
   {
    "duration": 7,
    "start_time": "2022-12-09T12:01:46.775Z"
   },
   {
    "duration": 10,
    "start_time": "2022-12-09T12:01:46.784Z"
   },
   {
    "duration": 5,
    "start_time": "2022-12-09T12:01:46.795Z"
   },
   {
    "duration": 34,
    "start_time": "2022-12-09T12:01:46.801Z"
   },
   {
    "duration": 7,
    "start_time": "2022-12-09T12:01:46.838Z"
   },
   {
    "duration": 15,
    "start_time": "2022-12-09T12:01:46.846Z"
   },
   {
    "duration": 7,
    "start_time": "2022-12-09T12:01:46.863Z"
   },
   {
    "duration": 7,
    "start_time": "2022-12-09T12:01:46.871Z"
   },
   {
    "duration": 7,
    "start_time": "2022-12-09T12:01:46.880Z"
   },
   {
    "duration": 6,
    "start_time": "2022-12-09T12:01:46.888Z"
   },
   {
    "duration": 42,
    "start_time": "2022-12-09T12:01:46.895Z"
   },
   {
    "duration": 5,
    "start_time": "2022-12-09T12:01:46.940Z"
   },
   {
    "duration": 10,
    "start_time": "2022-12-09T12:01:46.946Z"
   },
   {
    "duration": 250,
    "start_time": "2022-12-09T12:01:46.959Z"
   },
   {
    "duration": 134,
    "start_time": "2022-12-09T12:01:47.211Z"
   },
   {
    "duration": 6,
    "start_time": "2022-12-09T12:01:47.348Z"
   },
   {
    "duration": 10,
    "start_time": "2022-12-09T12:01:47.356Z"
   },
   {
    "duration": 85,
    "start_time": "2022-12-09T12:01:47.367Z"
   },
   {
    "duration": 6,
    "start_time": "2022-12-09T12:01:47.453Z"
   },
   {
    "duration": 6,
    "start_time": "2022-12-09T12:01:47.460Z"
   },
   {
    "duration": 48,
    "start_time": "2022-12-09T12:01:47.467Z"
   },
   {
    "duration": 137,
    "start_time": "2022-12-09T12:01:47.517Z"
   },
   {
    "duration": 13,
    "start_time": "2022-12-09T12:01:47.655Z"
   },
   {
    "duration": 5,
    "start_time": "2022-12-09T12:01:47.669Z"
   },
   {
    "duration": 264,
    "start_time": "2022-12-09T12:01:47.675Z"
   },
   {
    "duration": 6,
    "start_time": "2022-12-09T12:01:47.945Z"
   },
   {
    "duration": 8,
    "start_time": "2022-12-09T12:01:47.952Z"
   },
   {
    "duration": 306,
    "start_time": "2022-12-09T12:01:47.961Z"
   },
   {
    "duration": 6,
    "start_time": "2022-12-09T12:01:48.269Z"
   },
   {
    "duration": 268,
    "start_time": "2022-12-09T12:01:48.276Z"
   },
   {
    "duration": 7,
    "start_time": "2022-12-09T12:01:48.546Z"
   },
   {
    "duration": 42,
    "start_time": "2022-12-09T12:01:48.555Z"
   },
   {
    "duration": 255,
    "start_time": "2022-12-09T12:01:48.599Z"
   },
   {
    "duration": 5,
    "start_time": "2022-12-09T12:01:48.856Z"
   },
   {
    "duration": 4,
    "start_time": "2022-12-09T12:01:48.862Z"
   },
   {
    "duration": 407,
    "start_time": "2022-12-09T12:01:48.868Z"
   },
   {
    "duration": 43,
    "start_time": "2022-12-09T12:01:55.572Z"
   },
   {
    "duration": 153,
    "start_time": "2022-12-09T12:02:20.945Z"
   },
   {
    "duration": 4,
    "start_time": "2022-12-09T12:04:36.409Z"
   },
   {
    "duration": 137,
    "start_time": "2022-12-09T12:04:40.696Z"
   },
   {
    "duration": 239,
    "start_time": "2022-12-09T12:04:45.017Z"
   },
   {
    "duration": 215,
    "start_time": "2022-12-09T12:05:37.855Z"
   },
   {
    "duration": 230,
    "start_time": "2022-12-09T12:05:46.481Z"
   },
   {
    "duration": 7,
    "start_time": "2022-12-09T12:05:57.585Z"
   },
   {
    "duration": 7,
    "start_time": "2022-12-09T12:06:05.677Z"
   },
   {
    "duration": 7,
    "start_time": "2022-12-09T12:06:09.585Z"
   },
   {
    "duration": 8,
    "start_time": "2022-12-09T12:06:15.136Z"
   },
   {
    "duration": 7,
    "start_time": "2022-12-09T12:06:17.648Z"
   },
   {
    "duration": 6,
    "start_time": "2022-12-09T12:06:22.274Z"
   },
   {
    "duration": 6,
    "start_time": "2022-12-09T12:06:35.292Z"
   },
   {
    "duration": 24,
    "start_time": "2022-12-09T12:08:52.416Z"
   },
   {
    "duration": 5,
    "start_time": "2022-12-09T12:09:04.266Z"
   },
   {
    "duration": 5,
    "start_time": "2022-12-09T12:09:51.866Z"
   },
   {
    "duration": 5,
    "start_time": "2022-12-09T12:10:00.141Z"
   },
   {
    "duration": 5,
    "start_time": "2022-12-09T12:10:03.544Z"
   },
   {
    "duration": 5,
    "start_time": "2022-12-09T12:10:12.976Z"
   },
   {
    "duration": 5,
    "start_time": "2022-12-09T12:10:18.664Z"
   },
   {
    "duration": 5,
    "start_time": "2022-12-09T12:10:27.453Z"
   },
   {
    "duration": 5,
    "start_time": "2022-12-09T12:10:30.726Z"
   },
   {
    "duration": 5,
    "start_time": "2022-12-09T12:10:42.895Z"
   },
   {
    "duration": 5,
    "start_time": "2022-12-09T12:10:58.834Z"
   },
   {
    "duration": 32,
    "start_time": "2022-12-09T12:13:09.763Z"
   },
   {
    "duration": 68,
    "start_time": "2022-12-09T12:13:24.542Z"
   },
   {
    "duration": 35,
    "start_time": "2022-12-09T12:13:32.034Z"
   },
   {
    "duration": 33,
    "start_time": "2022-12-09T12:13:49.461Z"
   },
   {
    "duration": 75,
    "start_time": "2022-12-09T12:14:25.533Z"
   },
   {
    "duration": 35,
    "start_time": "2022-12-09T12:14:30.456Z"
   },
   {
    "duration": 36,
    "start_time": "2022-12-09T12:14:45.715Z"
   },
   {
    "duration": 41,
    "start_time": "2022-12-09T12:14:51.617Z"
   },
   {
    "duration": 34,
    "start_time": "2022-12-09T12:14:56.900Z"
   },
   {
    "duration": 32,
    "start_time": "2022-12-09T12:15:03.162Z"
   },
   {
    "duration": 51,
    "start_time": "2022-12-09T12:15:12.616Z"
   },
   {
    "duration": 39,
    "start_time": "2022-12-09T12:15:17.215Z"
   },
   {
    "duration": 34,
    "start_time": "2022-12-09T12:15:26.880Z"
   },
   {
    "duration": 14,
    "start_time": "2022-12-09T12:16:16.868Z"
   },
   {
    "duration": 32,
    "start_time": "2022-12-09T12:16:32.147Z"
   },
   {
    "duration": 32,
    "start_time": "2022-12-09T12:17:52.141Z"
   },
   {
    "duration": 38,
    "start_time": "2022-12-09T12:20:01.415Z"
   },
   {
    "duration": 34,
    "start_time": "2022-12-09T12:20:18.235Z"
   },
   {
    "duration": 7,
    "start_time": "2022-12-09T12:27:51.050Z"
   },
   {
    "duration": 5,
    "start_time": "2022-12-09T12:28:05.704Z"
   },
   {
    "duration": 6,
    "start_time": "2022-12-09T12:28:19.858Z"
   },
   {
    "duration": 4,
    "start_time": "2022-12-09T12:28:30.326Z"
   },
   {
    "duration": 262,
    "start_time": "2022-12-09T12:28:55.019Z"
   },
   {
    "duration": 6,
    "start_time": "2022-12-09T12:28:59.325Z"
   },
   {
    "duration": 5,
    "start_time": "2022-12-09T12:29:12.006Z"
   },
   {
    "duration": 5,
    "start_time": "2022-12-09T12:29:13.190Z"
   },
   {
    "duration": 33,
    "start_time": "2022-12-09T12:30:03.072Z"
   },
   {
    "duration": 365,
    "start_time": "2022-12-09T12:30:17.579Z"
   },
   {
    "duration": 88,
    "start_time": "2022-12-09T12:30:17.946Z"
   },
   {
    "duration": 25,
    "start_time": "2022-12-09T12:30:18.035Z"
   },
   {
    "duration": 13,
    "start_time": "2022-12-09T12:30:18.062Z"
   },
   {
    "duration": 2065,
    "start_time": "2022-12-09T12:30:18.076Z"
   },
   {
    "duration": 4,
    "start_time": "2022-12-09T12:30:20.142Z"
   },
   {
    "duration": 249,
    "start_time": "2022-12-09T12:30:20.148Z"
   },
   {
    "duration": 13,
    "start_time": "2022-12-09T12:30:20.398Z"
   },
   {
    "duration": 17,
    "start_time": "2022-12-09T12:30:20.412Z"
   },
   {
    "duration": 13,
    "start_time": "2022-12-09T12:30:20.432Z"
   },
   {
    "duration": 11,
    "start_time": "2022-12-09T12:30:20.447Z"
   },
   {
    "duration": 5,
    "start_time": "2022-12-09T12:30:20.460Z"
   },
   {
    "duration": 6,
    "start_time": "2022-12-09T12:30:20.466Z"
   },
   {
    "duration": 6,
    "start_time": "2022-12-09T12:30:20.474Z"
   },
   {
    "duration": 6,
    "start_time": "2022-12-09T12:30:20.481Z"
   },
   {
    "duration": 4,
    "start_time": "2022-12-09T12:30:20.489Z"
   },
   {
    "duration": 33,
    "start_time": "2022-12-09T12:30:20.494Z"
   },
   {
    "duration": 12,
    "start_time": "2022-12-09T12:30:20.529Z"
   },
   {
    "duration": 5,
    "start_time": "2022-12-09T12:30:20.542Z"
   },
   {
    "duration": 16,
    "start_time": "2022-12-09T12:30:20.549Z"
   },
   {
    "duration": 8,
    "start_time": "2022-12-09T12:30:20.566Z"
   },
   {
    "duration": 13,
    "start_time": "2022-12-09T12:30:20.576Z"
   },
   {
    "duration": 9,
    "start_time": "2022-12-09T12:30:20.591Z"
   },
   {
    "duration": 8,
    "start_time": "2022-12-09T12:30:20.626Z"
   },
   {
    "duration": 16,
    "start_time": "2022-12-09T12:30:20.636Z"
   },
   {
    "duration": 5,
    "start_time": "2022-12-09T12:30:20.653Z"
   },
   {
    "duration": 5,
    "start_time": "2022-12-09T12:30:20.659Z"
   },
   {
    "duration": 4,
    "start_time": "2022-12-09T12:30:20.668Z"
   },
   {
    "duration": 11,
    "start_time": "2022-12-09T12:30:20.673Z"
   },
   {
    "duration": 267,
    "start_time": "2022-12-09T12:30:20.685Z"
   },
   {
    "duration": 146,
    "start_time": "2022-12-09T12:30:20.954Z"
   },
   {
    "duration": 5,
    "start_time": "2022-12-09T12:30:21.102Z"
   },
   {
    "duration": 19,
    "start_time": "2022-12-09T12:30:21.108Z"
   },
   {
    "duration": 62,
    "start_time": "2022-12-09T12:30:21.129Z"
   },
   {
    "duration": 5,
    "start_time": "2022-12-09T12:30:21.193Z"
   },
   {
    "duration": 26,
    "start_time": "2022-12-09T12:30:21.200Z"
   },
   {
    "duration": 44,
    "start_time": "2022-12-09T12:30:21.228Z"
   },
   {
    "duration": 133,
    "start_time": "2022-12-09T12:30:21.274Z"
   },
   {
    "duration": 25,
    "start_time": "2022-12-09T12:30:21.409Z"
   },
   {
    "duration": 7,
    "start_time": "2022-12-09T12:30:21.435Z"
   },
   {
    "duration": 266,
    "start_time": "2022-12-09T12:30:21.443Z"
   },
   {
    "duration": 16,
    "start_time": "2022-12-09T12:30:21.711Z"
   },
   {
    "duration": 10,
    "start_time": "2022-12-09T12:30:21.729Z"
   },
   {
    "duration": 311,
    "start_time": "2022-12-09T12:30:21.741Z"
   },
   {
    "duration": 7,
    "start_time": "2022-12-09T12:30:22.053Z"
   },
   {
    "duration": 243,
    "start_time": "2022-12-09T12:30:22.062Z"
   },
   {
    "duration": 6,
    "start_time": "2022-12-09T12:30:22.306Z"
   },
   {
    "duration": 64,
    "start_time": "2022-12-09T12:30:22.313Z"
   },
   {
    "duration": 233,
    "start_time": "2022-12-09T12:30:22.379Z"
   },
   {
    "duration": 13,
    "start_time": "2022-12-09T12:30:22.613Z"
   },
   {
    "duration": 4,
    "start_time": "2022-12-09T12:30:22.628Z"
   },
   {
    "duration": 348,
    "start_time": "2022-12-09T12:30:22.633Z"
   },
   {
    "duration": 44,
    "start_time": "2022-12-09T12:30:22.983Z"
   },
   {
    "duration": 316,
    "start_time": "2022-12-09T12:30:23.030Z"
   },
   {
    "duration": 6,
    "start_time": "2022-12-09T12:30:23.347Z"
   },
   {
    "duration": 7,
    "start_time": "2022-12-09T12:30:23.354Z"
   },
   {
    "duration": 6,
    "start_time": "2022-12-09T12:30:23.362Z"
   },
   {
    "duration": 36,
    "start_time": "2022-12-09T12:30:33.078Z"
   },
   {
    "duration": 5,
    "start_time": "2022-12-09T12:30:47.769Z"
   },
   {
    "duration": 4,
    "start_time": "2022-12-09T12:32:08.989Z"
   },
   {
    "duration": 5,
    "start_time": "2022-12-09T12:32:09.402Z"
   },
   {
    "duration": 3,
    "start_time": "2022-12-09T12:32:27.061Z"
   },
   {
    "duration": 93,
    "start_time": "2022-12-09T12:32:27.068Z"
   },
   {
    "duration": 20,
    "start_time": "2022-12-09T12:32:27.164Z"
   },
   {
    "duration": 16,
    "start_time": "2022-12-09T12:32:27.186Z"
   },
   {
    "duration": 1746,
    "start_time": "2022-12-09T12:32:27.228Z"
   },
   {
    "duration": 4,
    "start_time": "2022-12-09T12:32:28.976Z"
   },
   {
    "duration": 329,
    "start_time": "2022-12-09T12:32:28.982Z"
   },
   {
    "duration": 19,
    "start_time": "2022-12-09T12:32:29.313Z"
   },
   {
    "duration": 5,
    "start_time": "2022-12-09T12:32:29.334Z"
   },
   {
    "duration": 21,
    "start_time": "2022-12-09T12:32:29.341Z"
   },
   {
    "duration": 29,
    "start_time": "2022-12-09T12:32:29.364Z"
   },
   {
    "duration": 26,
    "start_time": "2022-12-09T12:32:29.394Z"
   },
   {
    "duration": 21,
    "start_time": "2022-12-09T12:32:29.422Z"
   },
   {
    "duration": 18,
    "start_time": "2022-12-09T12:32:29.444Z"
   },
   {
    "duration": 15,
    "start_time": "2022-12-09T12:32:29.464Z"
   },
   {
    "duration": 22,
    "start_time": "2022-12-09T12:32:29.481Z"
   },
   {
    "duration": 24,
    "start_time": "2022-12-09T12:32:29.505Z"
   },
   {
    "duration": 27,
    "start_time": "2022-12-09T12:32:29.531Z"
   },
   {
    "duration": 21,
    "start_time": "2022-12-09T12:32:29.560Z"
   },
   {
    "duration": 27,
    "start_time": "2022-12-09T12:32:29.583Z"
   },
   {
    "duration": 10,
    "start_time": "2022-12-09T12:32:29.612Z"
   },
   {
    "duration": 34,
    "start_time": "2022-12-09T12:32:29.624Z"
   },
   {
    "duration": 33,
    "start_time": "2022-12-09T12:32:29.660Z"
   },
   {
    "duration": 29,
    "start_time": "2022-12-09T12:32:29.695Z"
   },
   {
    "duration": 21,
    "start_time": "2022-12-09T12:32:29.726Z"
   },
   {
    "duration": 7,
    "start_time": "2022-12-09T12:32:29.749Z"
   },
   {
    "duration": 27,
    "start_time": "2022-12-09T12:32:29.758Z"
   },
   {
    "duration": 23,
    "start_time": "2022-12-09T12:32:29.786Z"
   },
   {
    "duration": 10,
    "start_time": "2022-12-09T12:32:29.813Z"
   },
   {
    "duration": 260,
    "start_time": "2022-12-09T12:32:29.825Z"
   },
   {
    "duration": 146,
    "start_time": "2022-12-09T12:32:30.087Z"
   },
   {
    "duration": 6,
    "start_time": "2022-12-09T12:32:30.235Z"
   },
   {
    "duration": 18,
    "start_time": "2022-12-09T12:32:30.242Z"
   },
   {
    "duration": 72,
    "start_time": "2022-12-09T12:32:30.262Z"
   },
   {
    "duration": 6,
    "start_time": "2022-12-09T12:32:30.336Z"
   },
   {
    "duration": 21,
    "start_time": "2022-12-09T12:32:30.344Z"
   },
   {
    "duration": 47,
    "start_time": "2022-12-09T12:32:30.367Z"
   },
   {
    "duration": 119,
    "start_time": "2022-12-09T12:32:30.416Z"
   },
   {
    "duration": 14,
    "start_time": "2022-12-09T12:32:30.537Z"
   },
   {
    "duration": 25,
    "start_time": "2022-12-09T12:32:30.552Z"
   },
   {
    "duration": 169,
    "start_time": "2022-12-09T12:32:30.579Z"
   },
   {
    "duration": 6,
    "start_time": "2022-12-09T12:32:30.750Z"
   },
   {
    "duration": 15,
    "start_time": "2022-12-09T12:32:30.758Z"
   },
   {
    "duration": 316,
    "start_time": "2022-12-09T12:32:30.775Z"
   },
   {
    "duration": 6,
    "start_time": "2022-12-09T12:32:31.093Z"
   },
   {
    "duration": 342,
    "start_time": "2022-12-09T12:32:31.101Z"
   },
   {
    "duration": 7,
    "start_time": "2022-12-09T12:32:31.445Z"
   },
   {
    "duration": 42,
    "start_time": "2022-12-09T12:32:31.454Z"
   },
   {
    "duration": 304,
    "start_time": "2022-12-09T12:32:31.498Z"
   },
   {
    "duration": 6,
    "start_time": "2022-12-09T12:32:31.805Z"
   },
   {
    "duration": 24,
    "start_time": "2022-12-09T12:32:31.812Z"
   },
   {
    "duration": 369,
    "start_time": "2022-12-09T12:32:31.838Z"
   },
   {
    "duration": 44,
    "start_time": "2022-12-09T12:32:32.209Z"
   },
   {
    "duration": 263,
    "start_time": "2022-12-09T12:32:34.963Z"
   },
   {
    "duration": 6,
    "start_time": "2022-12-09T12:32:36.404Z"
   },
   {
    "duration": 30,
    "start_time": "2022-12-09T12:36:06.422Z"
   },
   {
    "duration": 5,
    "start_time": "2022-12-09T12:36:08.306Z"
   },
   {
    "duration": 405,
    "start_time": "2022-12-09T12:36:31.860Z"
   },
   {
    "duration": 99,
    "start_time": "2022-12-09T12:36:32.266Z"
   },
   {
    "duration": 27,
    "start_time": "2022-12-09T12:36:32.367Z"
   },
   {
    "duration": 30,
    "start_time": "2022-12-09T12:36:32.396Z"
   },
   {
    "duration": 2052,
    "start_time": "2022-12-09T12:36:32.429Z"
   },
   {
    "duration": 5,
    "start_time": "2022-12-09T12:36:34.483Z"
   },
   {
    "duration": 220,
    "start_time": "2022-12-09T12:36:34.489Z"
   },
   {
    "duration": 24,
    "start_time": "2022-12-09T12:36:34.711Z"
   },
   {
    "duration": 5,
    "start_time": "2022-12-09T12:36:34.737Z"
   },
   {
    "duration": 15,
    "start_time": "2022-12-09T12:36:34.744Z"
   },
   {
    "duration": 11,
    "start_time": "2022-12-09T12:36:34.761Z"
   },
   {
    "duration": 7,
    "start_time": "2022-12-09T12:36:34.773Z"
   },
   {
    "duration": 9,
    "start_time": "2022-12-09T12:36:34.781Z"
   },
   {
    "duration": 4,
    "start_time": "2022-12-09T12:36:34.793Z"
   },
   {
    "duration": 29,
    "start_time": "2022-12-09T12:36:34.798Z"
   },
   {
    "duration": 4,
    "start_time": "2022-12-09T12:36:34.829Z"
   },
   {
    "duration": 10,
    "start_time": "2022-12-09T12:36:34.834Z"
   },
   {
    "duration": 20,
    "start_time": "2022-12-09T12:36:34.845Z"
   },
   {
    "duration": 6,
    "start_time": "2022-12-09T12:36:34.867Z"
   },
   {
    "duration": 13,
    "start_time": "2022-12-09T12:36:34.874Z"
   },
   {
    "duration": 7,
    "start_time": "2022-12-09T12:36:34.889Z"
   },
   {
    "duration": 55,
    "start_time": "2022-12-09T12:36:34.898Z"
   },
   {
    "duration": 4,
    "start_time": "2022-12-09T12:36:34.955Z"
   },
   {
    "duration": 9,
    "start_time": "2022-12-09T12:36:34.960Z"
   },
   {
    "duration": 10,
    "start_time": "2022-12-09T12:36:34.970Z"
   },
   {
    "duration": 5,
    "start_time": "2022-12-09T12:36:34.981Z"
   },
   {
    "duration": 10,
    "start_time": "2022-12-09T12:36:34.987Z"
   },
   {
    "duration": 29,
    "start_time": "2022-12-09T12:36:34.999Z"
   },
   {
    "duration": 19,
    "start_time": "2022-12-09T12:36:35.029Z"
   },
   {
    "duration": 238,
    "start_time": "2022-12-09T12:36:35.050Z"
   },
   {
    "duration": 135,
    "start_time": "2022-12-09T12:36:35.290Z"
   },
   {
    "duration": 5,
    "start_time": "2022-12-09T12:36:35.427Z"
   },
   {
    "duration": 23,
    "start_time": "2022-12-09T12:36:35.434Z"
   },
   {
    "duration": 80,
    "start_time": "2022-12-09T12:36:35.459Z"
   },
   {
    "duration": 7,
    "start_time": "2022-12-09T12:36:35.541Z"
   },
   {
    "duration": 23,
    "start_time": "2022-12-09T12:36:35.550Z"
   },
   {
    "duration": 54,
    "start_time": "2022-12-09T12:36:35.575Z"
   },
   {
    "duration": 154,
    "start_time": "2022-12-09T12:36:35.632Z"
   },
   {
    "duration": 16,
    "start_time": "2022-12-09T12:36:35.788Z"
   },
   {
    "duration": 6,
    "start_time": "2022-12-09T12:36:35.806Z"
   },
   {
    "duration": 247,
    "start_time": "2022-12-09T12:36:35.829Z"
   },
   {
    "duration": 6,
    "start_time": "2022-12-09T12:36:36.078Z"
   },
   {
    "duration": 10,
    "start_time": "2022-12-09T12:36:36.085Z"
   },
   {
    "duration": 296,
    "start_time": "2022-12-09T12:36:36.096Z"
   },
   {
    "duration": 6,
    "start_time": "2022-12-09T12:36:36.393Z"
   },
   {
    "duration": 233,
    "start_time": "2022-12-09T12:36:36.401Z"
   },
   {
    "duration": 6,
    "start_time": "2022-12-09T12:36:36.636Z"
   },
   {
    "duration": 39,
    "start_time": "2022-12-09T12:36:36.643Z"
   },
   {
    "duration": 245,
    "start_time": "2022-12-09T12:36:36.684Z"
   },
   {
    "duration": 5,
    "start_time": "2022-12-09T12:36:36.930Z"
   },
   {
    "duration": 8,
    "start_time": "2022-12-09T12:36:36.937Z"
   },
   {
    "duration": 363,
    "start_time": "2022-12-09T12:36:36.946Z"
   },
   {
    "duration": 42,
    "start_time": "2022-12-09T12:36:37.311Z"
   },
   {
    "duration": 338,
    "start_time": "2022-12-09T12:36:40.217Z"
   },
   {
    "duration": 8,
    "start_time": "2022-12-09T12:36:41.543Z"
   },
   {
    "duration": 29,
    "start_time": "2022-12-09T12:38:06.101Z"
   },
   {
    "duration": 5,
    "start_time": "2022-12-09T12:38:06.719Z"
   },
   {
    "duration": 442,
    "start_time": "2022-12-09T12:38:21.202Z"
   },
   {
    "duration": 94,
    "start_time": "2022-12-09T12:38:21.647Z"
   },
   {
    "duration": 23,
    "start_time": "2022-12-09T12:38:21.743Z"
   },
   {
    "duration": 34,
    "start_time": "2022-12-09T12:38:21.768Z"
   },
   {
    "duration": 2121,
    "start_time": "2022-12-09T12:38:21.804Z"
   },
   {
    "duration": 6,
    "start_time": "2022-12-09T12:38:23.928Z"
   },
   {
    "duration": 247,
    "start_time": "2022-12-09T12:38:23.935Z"
   },
   {
    "duration": 13,
    "start_time": "2022-12-09T12:38:24.184Z"
   },
   {
    "duration": 27,
    "start_time": "2022-12-09T12:38:24.198Z"
   },
   {
    "duration": 28,
    "start_time": "2022-12-09T12:38:24.228Z"
   },
   {
    "duration": 30,
    "start_time": "2022-12-09T12:38:24.258Z"
   },
   {
    "duration": 22,
    "start_time": "2022-12-09T12:38:24.290Z"
   },
   {
    "duration": 53,
    "start_time": "2022-12-09T12:38:24.314Z"
   },
   {
    "duration": 27,
    "start_time": "2022-12-09T12:38:24.368Z"
   },
   {
    "duration": 23,
    "start_time": "2022-12-09T12:38:24.396Z"
   },
   {
    "duration": 26,
    "start_time": "2022-12-09T12:38:24.420Z"
   },
   {
    "duration": 7,
    "start_time": "2022-12-09T12:38:24.448Z"
   },
   {
    "duration": 40,
    "start_time": "2022-12-09T12:38:24.457Z"
   },
   {
    "duration": 15,
    "start_time": "2022-12-09T12:38:24.498Z"
   },
   {
    "duration": 29,
    "start_time": "2022-12-09T12:38:24.514Z"
   },
   {
    "duration": 29,
    "start_time": "2022-12-09T12:38:24.544Z"
   },
   {
    "duration": 54,
    "start_time": "2022-12-09T12:38:24.574Z"
   },
   {
    "duration": 4,
    "start_time": "2022-12-09T12:38:24.630Z"
   },
   {
    "duration": 33,
    "start_time": "2022-12-09T12:38:24.635Z"
   },
   {
    "duration": 23,
    "start_time": "2022-12-09T12:38:24.670Z"
   },
   {
    "duration": 24,
    "start_time": "2022-12-09T12:38:24.694Z"
   },
   {
    "duration": 28,
    "start_time": "2022-12-09T12:38:24.720Z"
   },
   {
    "duration": 6,
    "start_time": "2022-12-09T12:38:24.751Z"
   },
   {
    "duration": 31,
    "start_time": "2022-12-09T12:38:24.759Z"
   },
   {
    "duration": 277,
    "start_time": "2022-12-09T12:38:24.792Z"
   },
   {
    "duration": 135,
    "start_time": "2022-12-09T12:38:25.070Z"
   },
   {
    "duration": 5,
    "start_time": "2022-12-09T12:38:25.207Z"
   },
   {
    "duration": 28,
    "start_time": "2022-12-09T12:38:25.214Z"
   },
   {
    "duration": 98,
    "start_time": "2022-12-09T12:38:25.243Z"
   },
   {
    "duration": 6,
    "start_time": "2022-12-09T12:38:25.343Z"
   },
   {
    "duration": 41,
    "start_time": "2022-12-09T12:38:25.351Z"
   },
   {
    "duration": 97,
    "start_time": "2022-12-09T12:38:25.394Z"
   },
   {
    "duration": 185,
    "start_time": "2022-12-09T12:38:25.493Z"
   },
   {
    "duration": 14,
    "start_time": "2022-12-09T12:38:25.680Z"
   },
   {
    "duration": 31,
    "start_time": "2022-12-09T12:38:25.695Z"
   },
   {
    "duration": 278,
    "start_time": "2022-12-09T12:38:25.727Z"
   },
   {
    "duration": 6,
    "start_time": "2022-12-09T12:38:26.007Z"
   },
   {
    "duration": 45,
    "start_time": "2022-12-09T12:38:26.014Z"
   },
   {
    "duration": 311,
    "start_time": "2022-12-09T12:38:26.061Z"
   },
   {
    "duration": 6,
    "start_time": "2022-12-09T12:38:26.373Z"
   },
   {
    "duration": 252,
    "start_time": "2022-12-09T12:38:26.381Z"
   },
   {
    "duration": 6,
    "start_time": "2022-12-09T12:38:26.634Z"
   },
   {
    "duration": 71,
    "start_time": "2022-12-09T12:38:26.642Z"
   },
   {
    "duration": 218,
    "start_time": "2022-12-09T12:38:26.715Z"
   },
   {
    "duration": 6,
    "start_time": "2022-12-09T12:38:26.934Z"
   },
   {
    "duration": 31,
    "start_time": "2022-12-09T12:38:26.942Z"
   },
   {
    "duration": 372,
    "start_time": "2022-12-09T12:38:26.975Z"
   },
   {
    "duration": 36,
    "start_time": "2022-12-09T12:38:27.349Z"
   },
   {
    "duration": 316,
    "start_time": "2022-12-09T12:38:29.218Z"
   },
   {
    "duration": 6,
    "start_time": "2022-12-09T12:38:30.769Z"
   },
   {
    "duration": 34,
    "start_time": "2022-12-09T12:38:41.247Z"
   },
   {
    "duration": 9,
    "start_time": "2022-12-09T12:40:27.753Z"
   },
   {
    "duration": 133,
    "start_time": "2022-12-09T12:40:37.029Z"
   },
   {
    "duration": 283,
    "start_time": "2022-12-09T12:40:50.526Z"
   },
   {
    "duration": 231,
    "start_time": "2022-12-09T12:40:58.357Z"
   },
   {
    "duration": 28,
    "start_time": "2022-12-09T12:41:15.692Z"
   },
   {
    "duration": 29,
    "start_time": "2022-12-09T12:41:20.531Z"
   },
   {
    "duration": 28,
    "start_time": "2022-12-09T12:41:30.459Z"
   },
   {
    "duration": 37,
    "start_time": "2022-12-09T12:41:35.604Z"
   },
   {
    "duration": 23,
    "start_time": "2022-12-09T12:41:39.136Z"
   },
   {
    "duration": 28,
    "start_time": "2022-12-09T12:41:45.123Z"
   },
   {
    "duration": 6,
    "start_time": "2022-12-09T12:42:06.247Z"
   },
   {
    "duration": 6,
    "start_time": "2022-12-09T12:42:25.459Z"
   },
   {
    "duration": 6,
    "start_time": "2022-12-09T12:43:22.040Z"
   },
   {
    "duration": 5,
    "start_time": "2022-12-09T12:43:27.340Z"
   },
   {
    "duration": 5,
    "start_time": "2022-12-09T12:43:34.417Z"
   },
   {
    "duration": 5,
    "start_time": "2022-12-09T12:43:37.640Z"
   },
   {
    "duration": 38,
    "start_time": "2022-12-09T12:44:06.879Z"
   },
   {
    "duration": 9,
    "start_time": "2022-12-09T12:44:12.379Z"
   },
   {
    "duration": 8,
    "start_time": "2022-12-09T12:44:22.482Z"
   },
   {
    "duration": 8,
    "start_time": "2022-12-09T12:44:26.813Z"
   },
   {
    "duration": 8,
    "start_time": "2022-12-09T12:44:35.240Z"
   },
   {
    "duration": 4,
    "start_time": "2022-12-09T12:45:45.329Z"
   },
   {
    "duration": 6,
    "start_time": "2022-12-09T12:45:54.465Z"
   },
   {
    "duration": 128,
    "start_time": "2022-12-09T12:46:02.817Z"
   },
   {
    "duration": 149,
    "start_time": "2022-12-09T12:46:18.953Z"
   },
   {
    "duration": 5,
    "start_time": "2022-12-09T12:46:42.221Z"
   },
   {
    "duration": 6,
    "start_time": "2022-12-09T12:47:37.533Z"
   },
   {
    "duration": 50,
    "start_time": "2022-12-09T12:48:11.030Z"
   },
   {
    "duration": 8,
    "start_time": "2022-12-09T12:48:24.367Z"
   },
   {
    "duration": 6,
    "start_time": "2022-12-09T12:48:32.439Z"
   },
   {
    "duration": 4,
    "start_time": "2022-12-09T12:50:09.812Z"
   },
   {
    "duration": 84,
    "start_time": "2022-12-09T12:50:09.820Z"
   },
   {
    "duration": 18,
    "start_time": "2022-12-09T12:50:09.906Z"
   },
   {
    "duration": 16,
    "start_time": "2022-12-09T12:50:09.926Z"
   },
   {
    "duration": 1889,
    "start_time": "2022-12-09T12:50:09.944Z"
   },
   {
    "duration": 4,
    "start_time": "2022-12-09T12:50:11.835Z"
   },
   {
    "duration": 236,
    "start_time": "2022-12-09T12:50:11.840Z"
   },
   {
    "duration": 15,
    "start_time": "2022-12-09T12:50:12.077Z"
   },
   {
    "duration": 5,
    "start_time": "2022-12-09T12:50:12.094Z"
   },
   {
    "duration": 19,
    "start_time": "2022-12-09T12:50:12.101Z"
   },
   {
    "duration": 44,
    "start_time": "2022-12-09T12:50:12.125Z"
   },
   {
    "duration": 15,
    "start_time": "2022-12-09T12:50:12.170Z"
   },
   {
    "duration": 8,
    "start_time": "2022-12-09T12:50:12.186Z"
   },
   {
    "duration": 4,
    "start_time": "2022-12-09T12:50:12.195Z"
   },
   {
    "duration": 6,
    "start_time": "2022-12-09T12:50:12.201Z"
   },
   {
    "duration": 4,
    "start_time": "2022-12-09T12:50:12.209Z"
   },
   {
    "duration": 6,
    "start_time": "2022-12-09T12:50:12.214Z"
   },
   {
    "duration": 11,
    "start_time": "2022-12-09T12:50:12.222Z"
   },
   {
    "duration": 6,
    "start_time": "2022-12-09T12:50:12.234Z"
   },
   {
    "duration": 13,
    "start_time": "2022-12-09T12:50:12.242Z"
   },
   {
    "duration": 7,
    "start_time": "2022-12-09T12:50:12.257Z"
   },
   {
    "duration": 28,
    "start_time": "2022-12-09T12:50:12.265Z"
   },
   {
    "duration": 3,
    "start_time": "2022-12-09T12:50:12.295Z"
   },
   {
    "duration": 5,
    "start_time": "2022-12-09T12:50:12.327Z"
   },
   {
    "duration": 18,
    "start_time": "2022-12-09T12:50:12.333Z"
   },
   {
    "duration": 9,
    "start_time": "2022-12-09T12:50:12.353Z"
   },
   {
    "duration": 27,
    "start_time": "2022-12-09T12:50:12.363Z"
   },
   {
    "duration": 22,
    "start_time": "2022-12-09T12:50:12.391Z"
   },
   {
    "duration": 18,
    "start_time": "2022-12-09T12:50:12.417Z"
   },
   {
    "duration": 249,
    "start_time": "2022-12-09T12:50:12.437Z"
   },
   {
    "duration": 238,
    "start_time": "2022-12-09T12:50:12.688Z"
   },
   {
    "duration": 5,
    "start_time": "2022-12-09T12:50:12.928Z"
   },
   {
    "duration": 26,
    "start_time": "2022-12-09T12:50:12.934Z"
   },
   {
    "duration": 75,
    "start_time": "2022-12-09T12:50:12.962Z"
   },
   {
    "duration": 5,
    "start_time": "2022-12-09T12:50:13.039Z"
   },
   {
    "duration": 17,
    "start_time": "2022-12-09T12:50:13.046Z"
   },
   {
    "duration": 43,
    "start_time": "2022-12-09T12:50:13.064Z"
   },
   {
    "duration": 122,
    "start_time": "2022-12-09T12:50:13.108Z"
   },
   {
    "duration": 13,
    "start_time": "2022-12-09T12:50:13.232Z"
   },
   {
    "duration": 10,
    "start_time": "2022-12-09T12:50:13.246Z"
   },
   {
    "duration": 174,
    "start_time": "2022-12-09T12:50:13.257Z"
   },
   {
    "duration": 5,
    "start_time": "2022-12-09T12:50:13.433Z"
   },
   {
    "duration": 19,
    "start_time": "2022-12-09T12:50:13.439Z"
   },
   {
    "duration": 308,
    "start_time": "2022-12-09T12:50:13.459Z"
   },
   {
    "duration": 5,
    "start_time": "2022-12-09T12:50:13.768Z"
   },
   {
    "duration": 255,
    "start_time": "2022-12-09T12:50:13.775Z"
   },
   {
    "duration": 6,
    "start_time": "2022-12-09T12:50:14.032Z"
   },
   {
    "duration": 34,
    "start_time": "2022-12-09T12:50:14.039Z"
   },
   {
    "duration": 220,
    "start_time": "2022-12-09T12:50:14.074Z"
   },
   {
    "duration": 5,
    "start_time": "2022-12-09T12:50:14.296Z"
   },
   {
    "duration": 33,
    "start_time": "2022-12-09T12:50:14.302Z"
   },
   {
    "duration": 452,
    "start_time": "2022-12-09T12:50:14.337Z"
   },
   {
    "duration": 7,
    "start_time": "2022-12-09T12:50:14.790Z"
   },
   {
    "duration": 253,
    "start_time": "2022-12-09T12:50:14.799Z"
   },
   {
    "duration": 5,
    "start_time": "2022-12-09T12:50:15.054Z"
   },
   {
    "duration": 11,
    "start_time": "2022-12-09T12:50:15.061Z"
   },
   {
    "duration": 255,
    "start_time": "2022-12-09T12:50:15.073Z"
   },
   {
    "duration": 5,
    "start_time": "2022-12-09T12:50:15.330Z"
   },
   {
    "duration": 9,
    "start_time": "2022-12-09T12:50:15.336Z"
   },
   {
    "duration": 8,
    "start_time": "2022-12-09T12:50:15.346Z"
   },
   {
    "duration": 7,
    "start_time": "2022-12-09T12:50:15.356Z"
   },
   {
    "duration": 209,
    "start_time": "2022-12-09T12:50:15.365Z"
   },
   {
    "duration": 7,
    "start_time": "2022-12-09T12:50:15.577Z"
   },
   {
    "duration": 23,
    "start_time": "2022-12-09T12:50:15.586Z"
   },
   {
    "duration": 8,
    "start_time": "2022-12-09T12:50:15.611Z"
   },
   {
    "duration": 15,
    "start_time": "2022-12-09T12:50:15.621Z"
   },
   {
    "duration": 11,
    "start_time": "2022-12-09T12:50:15.638Z"
   },
   {
    "duration": 25,
    "start_time": "2022-12-09T12:50:15.651Z"
   },
   {
    "duration": 7,
    "start_time": "2022-12-09T12:50:15.677Z"
   },
   {
    "duration": 11,
    "start_time": "2022-12-09T12:50:15.685Z"
   },
   {
    "duration": 8,
    "start_time": "2022-12-09T12:50:15.698Z"
   },
   {
    "duration": 15,
    "start_time": "2022-12-09T12:50:15.708Z"
   },
   {
    "duration": 6,
    "start_time": "2022-12-09T12:50:15.725Z"
   },
   {
    "duration": 10,
    "start_time": "2022-12-09T12:50:15.733Z"
   },
   {
    "duration": 18,
    "start_time": "2022-12-09T12:50:15.744Z"
   },
   {
    "duration": 9,
    "start_time": "2022-12-09T12:50:15.764Z"
   },
   {
    "duration": 23,
    "start_time": "2022-12-09T12:50:15.775Z"
   },
   {
    "duration": 15,
    "start_time": "2022-12-09T12:50:15.800Z"
   },
   {
    "duration": 38,
    "start_time": "2022-12-09T12:50:15.816Z"
   },
   {
    "duration": 17,
    "start_time": "2022-12-09T12:50:15.856Z"
   },
   {
    "duration": 15,
    "start_time": "2022-12-09T12:50:15.875Z"
   },
   {
    "duration": 7,
    "start_time": "2022-12-09T12:50:15.891Z"
   },
   {
    "duration": 10,
    "start_time": "2022-12-09T12:50:15.926Z"
   },
   {
    "duration": 16,
    "start_time": "2022-12-09T12:50:15.937Z"
   },
   {
    "duration": 11,
    "start_time": "2022-12-09T12:50:15.955Z"
   },
   {
    "duration": 24,
    "start_time": "2022-12-09T12:50:15.968Z"
   },
   {
    "duration": 10,
    "start_time": "2022-12-09T12:50:15.993Z"
   },
   {
    "duration": 9,
    "start_time": "2022-12-09T12:50:16.027Z"
   },
   {
    "duration": 19,
    "start_time": "2022-12-09T12:50:16.038Z"
   },
   {
    "duration": 11,
    "start_time": "2022-12-09T12:50:16.059Z"
   },
   {
    "duration": 74,
    "start_time": "2022-12-09T12:50:16.072Z"
   },
   {
    "duration": 7,
    "start_time": "2022-12-09T12:50:16.148Z"
   },
   {
    "duration": 301,
    "start_time": "2022-12-09T12:50:16.157Z"
   },
   {
    "duration": 394,
    "start_time": "2022-12-09T12:50:16.460Z"
   },
   {
    "duration": 129,
    "start_time": "2022-12-09T12:50:16.856Z"
   },
   {
    "duration": 139,
    "start_time": "2022-12-09T12:50:16.987Z"
   },
   {
    "duration": 15,
    "start_time": "2022-12-09T12:50:17.127Z"
   },
   {
    "duration": 13,
    "start_time": "2022-12-09T12:50:17.144Z"
   },
   {
    "duration": 5,
    "start_time": "2022-12-09T12:50:17.158Z"
   },
   {
    "duration": 9,
    "start_time": "2022-12-09T12:50:17.165Z"
   },
   {
    "duration": 6,
    "start_time": "2022-12-09T12:50:17.175Z"
   },
   {
    "duration": 11,
    "start_time": "2022-12-09T12:50:17.182Z"
   },
   {
    "duration": 3,
    "start_time": "2022-12-09T12:50:17.194Z"
   },
   {
    "duration": 244,
    "start_time": "2022-12-09T12:50:17.227Z"
   },
   {
    "duration": 5,
    "start_time": "2022-12-09T12:50:17.473Z"
   },
   {
    "duration": 6,
    "start_time": "2022-12-09T12:50:17.479Z"
   },
   {
    "duration": 4,
    "start_time": "2022-12-09T12:50:17.486Z"
   },
   {
    "duration": 7,
    "start_time": "2022-12-09T12:50:17.491Z"
   },
   {
    "duration": 237,
    "start_time": "2022-12-09T12:50:17.499Z"
   },
   {
    "duration": 246,
    "start_time": "2022-12-09T12:50:17.737Z"
   },
   {
    "duration": 6,
    "start_time": "2022-12-09T12:50:17.985Z"
   },
   {
    "duration": 320,
    "start_time": "2022-12-09T12:50:17.992Z"
   },
   {
    "duration": 223,
    "start_time": "2022-12-09T12:50:18.313Z"
   },
   {
    "duration": 6,
    "start_time": "2022-12-09T12:50:18.538Z"
   },
   {
    "duration": 30,
    "start_time": "2022-12-09T12:50:18.546Z"
   },
   {
    "duration": 228,
    "start_time": "2022-12-09T12:50:18.578Z"
   },
   {
    "duration": 267,
    "start_time": "2022-12-09T12:50:18.808Z"
   },
   {
    "duration": 8,
    "start_time": "2022-12-09T12:50:19.085Z"
   },
   {
    "duration": 20,
    "start_time": "2022-12-09T12:50:19.095Z"
   },
   {
    "duration": 10,
    "start_time": "2022-12-09T12:50:19.117Z"
   },
   {
    "duration": 258,
    "start_time": "2022-12-09T12:50:19.129Z"
   },
   {
    "duration": 246,
    "start_time": "2022-12-09T12:50:19.389Z"
   },
   {
    "duration": 245,
    "start_time": "2022-12-09T12:50:19.637Z"
   },
   {
    "duration": 5,
    "start_time": "2022-12-09T12:50:19.884Z"
   },
   {
    "duration": 41,
    "start_time": "2022-12-09T12:50:19.891Z"
   },
   {
    "duration": 6,
    "start_time": "2022-12-09T12:50:19.933Z"
   },
   {
    "duration": 10,
    "start_time": "2022-12-09T12:50:19.940Z"
   },
   {
    "duration": 243,
    "start_time": "2022-12-09T12:50:19.952Z"
   },
   {
    "duration": 167,
    "start_time": "2022-12-09T12:50:20.196Z"
   },
   {
    "duration": 7,
    "start_time": "2022-12-09T12:50:20.365Z"
   },
   {
    "duration": 16,
    "start_time": "2022-12-09T12:50:20.374Z"
   },
   {
    "duration": 12,
    "start_time": "2022-12-09T12:50:20.392Z"
   },
   {
    "duration": 173,
    "start_time": "2022-12-09T12:50:23.557Z"
   },
   {
    "duration": 149,
    "start_time": "2022-12-09T12:50:34.793Z"
   },
   {
    "duration": 3,
    "start_time": "2022-12-09T12:52:01.195Z"
   },
   {
    "duration": 100,
    "start_time": "2022-12-09T12:52:01.203Z"
   },
   {
    "duration": 18,
    "start_time": "2022-12-09T12:52:01.305Z"
   },
   {
    "duration": 36,
    "start_time": "2022-12-09T12:52:01.324Z"
   },
   {
    "duration": 2093,
    "start_time": "2022-12-09T12:52:01.362Z"
   },
   {
    "duration": 4,
    "start_time": "2022-12-09T12:52:03.457Z"
   },
   {
    "duration": 241,
    "start_time": "2022-12-09T12:52:03.462Z"
   },
   {
    "duration": 22,
    "start_time": "2022-12-09T12:52:03.704Z"
   },
   {
    "duration": 12,
    "start_time": "2022-12-09T12:52:03.728Z"
   },
   {
    "duration": 31,
    "start_time": "2022-12-09T12:52:03.742Z"
   },
   {
    "duration": 22,
    "start_time": "2022-12-09T12:52:03.778Z"
   },
   {
    "duration": 34,
    "start_time": "2022-12-09T12:52:03.802Z"
   },
   {
    "duration": 48,
    "start_time": "2022-12-09T12:52:03.837Z"
   },
   {
    "duration": 25,
    "start_time": "2022-12-09T12:52:03.887Z"
   },
   {
    "duration": 20,
    "start_time": "2022-12-09T12:52:03.914Z"
   },
   {
    "duration": 27,
    "start_time": "2022-12-09T12:52:03.937Z"
   },
   {
    "duration": 11,
    "start_time": "2022-12-09T12:52:03.966Z"
   },
   {
    "duration": 22,
    "start_time": "2022-12-09T12:52:03.979Z"
   },
   {
    "duration": 8,
    "start_time": "2022-12-09T12:52:04.003Z"
   },
   {
    "duration": 21,
    "start_time": "2022-12-09T12:52:04.012Z"
   },
   {
    "duration": 18,
    "start_time": "2022-12-09T12:52:04.035Z"
   },
   {
    "duration": 43,
    "start_time": "2022-12-09T12:52:04.055Z"
   },
   {
    "duration": 26,
    "start_time": "2022-12-09T12:52:04.100Z"
   },
   {
    "duration": 9,
    "start_time": "2022-12-09T12:52:04.129Z"
   },
   {
    "duration": 22,
    "start_time": "2022-12-09T12:52:04.141Z"
   },
   {
    "duration": 14,
    "start_time": "2022-12-09T12:52:04.166Z"
   },
   {
    "duration": 24,
    "start_time": "2022-12-09T12:52:04.183Z"
   },
   {
    "duration": 17,
    "start_time": "2022-12-09T12:52:04.209Z"
   },
   {
    "duration": 9,
    "start_time": "2022-12-09T12:52:04.233Z"
   },
   {
    "duration": 339,
    "start_time": "2022-12-09T12:52:04.244Z"
   },
   {
    "duration": 146,
    "start_time": "2022-12-09T12:52:04.585Z"
   },
   {
    "duration": 6,
    "start_time": "2022-12-09T12:52:04.733Z"
   },
   {
    "duration": 11,
    "start_time": "2022-12-09T12:52:04.741Z"
   },
   {
    "duration": 100,
    "start_time": "2022-12-09T12:52:04.754Z"
   },
   {
    "duration": 7,
    "start_time": "2022-12-09T12:52:04.857Z"
   },
   {
    "duration": 11,
    "start_time": "2022-12-09T12:52:04.866Z"
   },
   {
    "duration": 51,
    "start_time": "2022-12-09T12:52:04.880Z"
   },
   {
    "duration": 176,
    "start_time": "2022-12-09T12:52:04.932Z"
   },
   {
    "duration": 19,
    "start_time": "2022-12-09T12:52:05.110Z"
   },
   {
    "duration": 8,
    "start_time": "2022-12-09T12:52:05.133Z"
   },
   {
    "duration": 177,
    "start_time": "2022-12-09T12:52:05.143Z"
   },
   {
    "duration": 8,
    "start_time": "2022-12-09T12:52:05.321Z"
   },
   {
    "duration": 8,
    "start_time": "2022-12-09T12:52:05.331Z"
   },
   {
    "duration": 455,
    "start_time": "2022-12-09T12:52:05.340Z"
   },
   {
    "duration": 6,
    "start_time": "2022-12-09T12:52:05.797Z"
   },
   {
    "duration": 262,
    "start_time": "2022-12-09T12:52:05.804Z"
   },
   {
    "duration": 7,
    "start_time": "2022-12-09T12:52:06.069Z"
   },
   {
    "duration": 25,
    "start_time": "2022-12-09T12:52:06.077Z"
   },
   {
    "duration": 287,
    "start_time": "2022-12-09T12:52:06.104Z"
   },
   {
    "duration": 7,
    "start_time": "2022-12-09T12:52:06.392Z"
   },
   {
    "duration": 7,
    "start_time": "2022-12-09T12:52:06.401Z"
   },
   {
    "duration": 368,
    "start_time": "2022-12-09T12:52:06.425Z"
   },
   {
    "duration": 9,
    "start_time": "2022-12-09T12:52:06.795Z"
   },
   {
    "duration": 263,
    "start_time": "2022-12-09T12:52:06.806Z"
   },
   {
    "duration": 7,
    "start_time": "2022-12-09T12:52:07.070Z"
   },
   {
    "duration": 9,
    "start_time": "2022-12-09T12:52:07.079Z"
   },
   {
    "duration": 406,
    "start_time": "2022-12-09T12:52:07.090Z"
   },
   {
    "duration": 6,
    "start_time": "2022-12-09T12:52:07.497Z"
   },
   {
    "duration": 8,
    "start_time": "2022-12-09T12:52:07.504Z"
   },
   {
    "duration": 18,
    "start_time": "2022-12-09T12:52:07.513Z"
   },
   {
    "duration": 7,
    "start_time": "2022-12-09T12:52:07.532Z"
   },
   {
    "duration": 168,
    "start_time": "2022-12-09T12:52:07.540Z"
   },
   {
    "duration": 6,
    "start_time": "2022-12-09T12:52:07.710Z"
   },
   {
    "duration": 14,
    "start_time": "2022-12-09T12:52:07.727Z"
   },
   {
    "duration": 7,
    "start_time": "2022-12-09T12:52:07.743Z"
   },
   {
    "duration": 17,
    "start_time": "2022-12-09T12:52:07.751Z"
   },
   {
    "duration": 9,
    "start_time": "2022-12-09T12:52:07.769Z"
   },
   {
    "duration": 7,
    "start_time": "2022-12-09T12:52:07.780Z"
   },
   {
    "duration": 7,
    "start_time": "2022-12-09T12:52:07.789Z"
   },
   {
    "duration": 8,
    "start_time": "2022-12-09T12:52:07.797Z"
   },
   {
    "duration": 13,
    "start_time": "2022-12-09T12:52:07.806Z"
   },
   {
    "duration": 9,
    "start_time": "2022-12-09T12:52:07.826Z"
   },
   {
    "duration": 13,
    "start_time": "2022-12-09T12:52:07.837Z"
   },
   {
    "duration": 16,
    "start_time": "2022-12-09T12:52:07.852Z"
   },
   {
    "duration": 17,
    "start_time": "2022-12-09T12:52:07.870Z"
   },
   {
    "duration": 10,
    "start_time": "2022-12-09T12:52:07.889Z"
   },
   {
    "duration": 9,
    "start_time": "2022-12-09T12:52:07.901Z"
   },
   {
    "duration": 15,
    "start_time": "2022-12-09T12:52:07.912Z"
   },
   {
    "duration": 38,
    "start_time": "2022-12-09T12:52:07.928Z"
   },
   {
    "duration": 16,
    "start_time": "2022-12-09T12:52:07.968Z"
   },
   {
    "duration": 17,
    "start_time": "2022-12-09T12:52:07.985Z"
   },
   {
    "duration": 28,
    "start_time": "2022-12-09T12:52:08.004Z"
   },
   {
    "duration": 10,
    "start_time": "2022-12-09T12:52:08.039Z"
   },
   {
    "duration": 16,
    "start_time": "2022-12-09T12:52:08.051Z"
   },
   {
    "duration": 11,
    "start_time": "2022-12-09T12:52:08.069Z"
   },
   {
    "duration": 46,
    "start_time": "2022-12-09T12:52:08.081Z"
   },
   {
    "duration": 9,
    "start_time": "2022-12-09T12:52:08.129Z"
   },
   {
    "duration": 7,
    "start_time": "2022-12-09T12:52:08.140Z"
   },
   {
    "duration": 16,
    "start_time": "2022-12-09T12:52:08.149Z"
   },
   {
    "duration": 12,
    "start_time": "2022-12-09T12:52:08.166Z"
   },
   {
    "duration": 48,
    "start_time": "2022-12-09T12:52:08.180Z"
   },
   {
    "duration": 8,
    "start_time": "2022-12-09T12:52:08.230Z"
   },
   {
    "duration": 297,
    "start_time": "2022-12-09T12:52:08.240Z"
   },
   {
    "duration": 305,
    "start_time": "2022-12-09T12:52:08.538Z"
   },
   {
    "duration": 131,
    "start_time": "2022-12-09T12:52:08.845Z"
   },
   {
    "duration": 137,
    "start_time": "2022-12-09T12:52:08.977Z"
   },
   {
    "duration": 21,
    "start_time": "2022-12-09T12:52:09.116Z"
   },
   {
    "duration": 13,
    "start_time": "2022-12-09T12:52:09.139Z"
   },
   {
    "duration": 4,
    "start_time": "2022-12-09T12:52:09.154Z"
   },
   {
    "duration": 9,
    "start_time": "2022-12-09T12:52:09.160Z"
   },
   {
    "duration": 13,
    "start_time": "2022-12-09T12:52:09.170Z"
   },
   {
    "duration": 6,
    "start_time": "2022-12-09T12:52:09.185Z"
   },
   {
    "duration": 4,
    "start_time": "2022-12-09T12:52:09.193Z"
   },
   {
    "duration": 376,
    "start_time": "2022-12-09T12:52:09.228Z"
   },
   {
    "duration": 6,
    "start_time": "2022-12-09T12:52:09.606Z"
   },
   {
    "duration": 13,
    "start_time": "2022-12-09T12:52:09.614Z"
   },
   {
    "duration": 10,
    "start_time": "2022-12-09T12:52:09.629Z"
   },
   {
    "duration": 6,
    "start_time": "2022-12-09T12:52:09.641Z"
   },
   {
    "duration": 283,
    "start_time": "2022-12-09T12:52:09.649Z"
   },
   {
    "duration": 263,
    "start_time": "2022-12-09T12:52:09.933Z"
   },
   {
    "duration": 6,
    "start_time": "2022-12-09T12:52:10.198Z"
   },
   {
    "duration": 228,
    "start_time": "2022-12-09T12:52:10.206Z"
   },
   {
    "duration": 221,
    "start_time": "2022-12-09T12:52:10.436Z"
   },
   {
    "duration": 7,
    "start_time": "2022-12-09T12:52:10.659Z"
   },
   {
    "duration": 14,
    "start_time": "2022-12-09T12:52:10.667Z"
   },
   {
    "duration": 370,
    "start_time": "2022-12-09T12:52:10.682Z"
   },
   {
    "duration": 291,
    "start_time": "2022-12-09T12:52:11.055Z"
   },
   {
    "duration": 6,
    "start_time": "2022-12-09T12:52:11.348Z"
   },
   {
    "duration": 21,
    "start_time": "2022-12-09T12:52:11.356Z"
   },
   {
    "duration": 14,
    "start_time": "2022-12-09T12:52:11.379Z"
   },
   {
    "duration": 307,
    "start_time": "2022-12-09T12:52:11.395Z"
   },
   {
    "duration": 259,
    "start_time": "2022-12-09T12:52:11.704Z"
   },
   {
    "duration": 158,
    "start_time": "2022-12-09T12:52:11.965Z"
   },
   {
    "duration": 6,
    "start_time": "2022-12-09T12:52:12.127Z"
   },
   {
    "duration": 46,
    "start_time": "2022-12-09T12:52:12.135Z"
   },
   {
    "duration": 6,
    "start_time": "2022-12-09T12:52:12.183Z"
   },
   {
    "duration": 20,
    "start_time": "2022-12-09T12:52:12.191Z"
   },
   {
    "duration": 245,
    "start_time": "2022-12-09T12:52:12.213Z"
   },
   {
    "duration": 278,
    "start_time": "2022-12-09T12:52:12.460Z"
   },
   {
    "duration": 7,
    "start_time": "2022-12-09T12:52:12.740Z"
   },
   {
    "duration": 29,
    "start_time": "2022-12-09T12:52:12.749Z"
   },
   {
    "duration": 28,
    "start_time": "2022-12-09T12:52:12.779Z"
   },
   {
    "duration": 189,
    "start_time": "2022-12-09T12:52:12.809Z"
   },
   {
    "duration": 7,
    "start_time": "2022-12-09T12:52:13.000Z"
   },
   {
    "duration": 293,
    "start_time": "2022-12-09T12:52:13.009Z"
   },
   {
    "duration": 275,
    "start_time": "2022-12-09T12:52:13.303Z"
   },
   {
    "duration": 257,
    "start_time": "2022-12-09T12:52:13.580Z"
   },
   {
    "duration": 318,
    "start_time": "2022-12-09T12:52:13.840Z"
   },
   {
    "duration": 149,
    "start_time": "2022-12-09T12:52:14.160Z"
   },
   {
    "duration": 258,
    "start_time": "2022-12-09T12:52:14.311Z"
   },
   {
    "duration": 261,
    "start_time": "2022-12-09T12:52:14.570Z"
   },
   {
    "duration": 8,
    "start_time": "2022-12-09T12:52:14.833Z"
   },
   {
    "duration": 33,
    "start_time": "2022-12-09T12:52:14.843Z"
   },
   {
    "duration": 23,
    "start_time": "2022-12-09T12:52:14.877Z"
   },
   {
    "duration": 38,
    "start_time": "2022-12-09T12:52:14.901Z"
   },
   {
    "duration": 200,
    "start_time": "2022-12-09T12:52:14.941Z"
   },
   {
    "duration": 214,
    "start_time": "2022-12-09T12:52:15.143Z"
   },
   {
    "duration": 252,
    "start_time": "2022-12-09T12:52:15.359Z"
   },
   {
    "duration": 14,
    "start_time": "2022-12-09T12:52:15.613Z"
   },
   {
    "duration": 268,
    "start_time": "2022-12-09T12:52:15.628Z"
   },
   {
    "duration": 223,
    "start_time": "2022-12-09T12:52:15.898Z"
   },
   {
    "duration": 6,
    "start_time": "2022-12-09T12:52:16.125Z"
   },
   {
    "duration": 201,
    "start_time": "2022-12-09T12:52:16.132Z"
   },
   {
    "duration": 221,
    "start_time": "2022-12-09T12:52:16.336Z"
   },
   {
    "duration": 6,
    "start_time": "2022-12-09T12:52:16.559Z"
   },
   {
    "duration": 259,
    "start_time": "2022-12-09T12:52:16.567Z"
   },
   {
    "duration": 6,
    "start_time": "2022-12-09T12:52:16.829Z"
   },
   {
    "duration": 197,
    "start_time": "2022-12-09T12:52:16.837Z"
   },
   {
    "duration": 162,
    "start_time": "2022-12-09T12:52:17.036Z"
   },
   {
    "duration": 193,
    "start_time": "2022-12-09T12:52:17.200Z"
   },
   {
    "duration": 6,
    "start_time": "2022-12-09T12:52:17.395Z"
   },
   {
    "duration": 183,
    "start_time": "2022-12-09T12:52:17.403Z"
   },
   {
    "duration": 6,
    "start_time": "2022-12-09T12:52:17.588Z"
   },
   {
    "duration": 175,
    "start_time": "2022-12-09T12:52:17.596Z"
   },
   {
    "duration": 4,
    "start_time": "2022-12-09T12:52:17.773Z"
   },
   {
    "duration": 33,
    "start_time": "2022-12-09T12:52:17.779Z"
   },
   {
    "duration": 29,
    "start_time": "2022-12-09T12:52:17.814Z"
   },
   {
    "duration": 147,
    "start_time": "2022-12-09T12:52:17.845Z"
   },
   {
    "duration": 7,
    "start_time": "2022-12-09T12:52:17.994Z"
   },
   {
    "duration": 342,
    "start_time": "2022-12-09T12:53:46.173Z"
   },
   {
    "duration": 172,
    "start_time": "2022-12-09T12:53:52.785Z"
   },
   {
    "duration": 237,
    "start_time": "2022-12-09T12:53:55.287Z"
   },
   {
    "duration": 211,
    "start_time": "2022-12-09T12:54:09.901Z"
   },
   {
    "duration": 187,
    "start_time": "2022-12-09T12:54:16.645Z"
   },
   {
    "duration": 246,
    "start_time": "2022-12-09T12:54:21.435Z"
   },
   {
    "duration": 522,
    "start_time": "2022-12-09T19:52:44.817Z"
   },
   {
    "duration": 173,
    "start_time": "2022-12-09T19:52:45.341Z"
   },
   {
    "duration": 28,
    "start_time": "2022-12-09T19:52:45.516Z"
   },
   {
    "duration": 15,
    "start_time": "2022-12-09T19:52:45.546Z"
   },
   {
    "duration": 2688,
    "start_time": "2022-12-09T19:52:45.562Z"
   },
   {
    "duration": 5,
    "start_time": "2022-12-09T19:52:48.252Z"
   },
   {
    "duration": 258,
    "start_time": "2022-12-09T19:52:48.259Z"
   },
   {
    "duration": 25,
    "start_time": "2022-12-09T19:52:48.518Z"
   },
   {
    "duration": 6,
    "start_time": "2022-12-09T19:52:48.545Z"
   },
   {
    "duration": 10,
    "start_time": "2022-12-09T19:52:48.554Z"
   },
   {
    "duration": 16,
    "start_time": "2022-12-09T19:52:48.566Z"
   },
   {
    "duration": 8,
    "start_time": "2022-12-09T19:52:48.584Z"
   },
   {
    "duration": 13,
    "start_time": "2022-12-09T19:52:48.595Z"
   },
   {
    "duration": 5,
    "start_time": "2022-12-09T19:52:48.639Z"
   },
   {
    "duration": 13,
    "start_time": "2022-12-09T19:52:48.646Z"
   },
   {
    "duration": 7,
    "start_time": "2022-12-09T19:52:48.661Z"
   },
   {
    "duration": 8,
    "start_time": "2022-12-09T19:52:48.670Z"
   },
   {
    "duration": 17,
    "start_time": "2022-12-09T19:52:48.681Z"
   },
   {
    "duration": 40,
    "start_time": "2022-12-09T19:52:48.700Z"
   },
   {
    "duration": 20,
    "start_time": "2022-12-09T19:52:48.742Z"
   },
   {
    "duration": 11,
    "start_time": "2022-12-09T19:52:48.764Z"
   },
   {
    "duration": 62,
    "start_time": "2022-12-09T19:52:48.778Z"
   },
   {
    "duration": 5,
    "start_time": "2022-12-09T19:52:48.843Z"
   },
   {
    "duration": 28,
    "start_time": "2022-12-09T19:52:48.850Z"
   },
   {
    "duration": 26,
    "start_time": "2022-12-09T19:52:48.880Z"
   },
   {
    "duration": 13,
    "start_time": "2022-12-09T19:52:48.909Z"
   },
   {
    "duration": 15,
    "start_time": "2022-12-09T19:52:48.924Z"
   },
   {
    "duration": 27,
    "start_time": "2022-12-09T19:52:48.943Z"
   },
   {
    "duration": 16,
    "start_time": "2022-12-09T19:52:48.973Z"
   },
   {
    "duration": 401,
    "start_time": "2022-12-09T19:52:48.991Z"
   },
   {
    "duration": 174,
    "start_time": "2022-12-09T19:52:49.394Z"
   },
   {
    "duration": 6,
    "start_time": "2022-12-09T19:52:49.569Z"
   },
   {
    "duration": 13,
    "start_time": "2022-12-09T19:52:49.577Z"
   },
   {
    "duration": 166,
    "start_time": "2022-12-09T19:52:49.591Z"
   },
   {
    "duration": 7,
    "start_time": "2022-12-09T19:52:49.759Z"
   },
   {
    "duration": 8,
    "start_time": "2022-12-09T19:52:49.767Z"
   },
   {
    "duration": 62,
    "start_time": "2022-12-09T19:52:49.777Z"
   },
   {
    "duration": 167,
    "start_time": "2022-12-09T19:52:49.841Z"
   },
   {
    "duration": 15,
    "start_time": "2022-12-09T19:52:50.010Z"
   },
   {
    "duration": 11,
    "start_time": "2022-12-09T19:52:50.037Z"
   },
   {
    "duration": 182,
    "start_time": "2022-12-09T19:52:50.050Z"
   },
   {
    "duration": 7,
    "start_time": "2022-12-09T19:52:50.238Z"
   },
   {
    "duration": 8,
    "start_time": "2022-12-09T19:52:50.247Z"
   },
   {
    "duration": 347,
    "start_time": "2022-12-09T19:52:50.257Z"
   },
   {
    "duration": 8,
    "start_time": "2022-12-09T19:52:50.606Z"
   },
   {
    "duration": 282,
    "start_time": "2022-12-09T19:52:50.616Z"
   },
   {
    "duration": 9,
    "start_time": "2022-12-09T19:52:50.900Z"
   },
   {
    "duration": 11,
    "start_time": "2022-12-09T19:52:50.911Z"
   },
   {
    "duration": 297,
    "start_time": "2022-12-09T19:52:50.924Z"
   },
   {
    "duration": 17,
    "start_time": "2022-12-09T19:52:51.223Z"
   },
   {
    "duration": 5,
    "start_time": "2022-12-09T19:52:51.242Z"
   },
   {
    "duration": 540,
    "start_time": "2022-12-09T19:52:51.249Z"
   },
   {
    "duration": 8,
    "start_time": "2022-12-09T19:52:51.791Z"
   },
   {
    "duration": 324,
    "start_time": "2022-12-09T19:52:51.800Z"
   },
   {
    "duration": 16,
    "start_time": "2022-12-09T19:52:52.127Z"
   },
   {
    "duration": 11,
    "start_time": "2022-12-09T19:52:52.145Z"
   },
   {
    "duration": 327,
    "start_time": "2022-12-09T19:52:52.158Z"
   },
   {
    "duration": 6,
    "start_time": "2022-12-09T19:52:52.486Z"
   },
   {
    "duration": 14,
    "start_time": "2022-12-09T19:52:52.493Z"
   },
   {
    "duration": 12,
    "start_time": "2022-12-09T19:52:52.509Z"
   },
   {
    "duration": 20,
    "start_time": "2022-12-09T19:52:52.523Z"
   },
   {
    "duration": 182,
    "start_time": "2022-12-09T19:52:52.544Z"
   },
   {
    "duration": 12,
    "start_time": "2022-12-09T19:52:52.727Z"
   },
   {
    "duration": 15,
    "start_time": "2022-12-09T19:52:52.741Z"
   },
   {
    "duration": 4,
    "start_time": "2022-12-09T19:52:52.758Z"
   },
   {
    "duration": 11,
    "start_time": "2022-12-09T19:52:52.764Z"
   },
   {
    "duration": 8,
    "start_time": "2022-12-09T19:52:52.777Z"
   },
   {
    "duration": 8,
    "start_time": "2022-12-09T19:52:52.786Z"
   },
   {
    "duration": 6,
    "start_time": "2022-12-09T19:52:52.796Z"
   },
   {
    "duration": 8,
    "start_time": "2022-12-09T19:52:52.803Z"
   },
   {
    "duration": 26,
    "start_time": "2022-12-09T19:52:52.813Z"
   },
   {
    "duration": 7,
    "start_time": "2022-12-09T19:52:52.840Z"
   },
   {
    "duration": 10,
    "start_time": "2022-12-09T19:52:52.849Z"
   },
   {
    "duration": 9,
    "start_time": "2022-12-09T19:52:52.861Z"
   },
   {
    "duration": 8,
    "start_time": "2022-12-09T19:52:52.872Z"
   },
   {
    "duration": 6,
    "start_time": "2022-12-09T19:52:52.882Z"
   },
   {
    "duration": 10,
    "start_time": "2022-12-09T19:52:52.890Z"
   },
   {
    "duration": 38,
    "start_time": "2022-12-09T19:52:52.902Z"
   },
   {
    "duration": 38,
    "start_time": "2022-12-09T19:52:52.942Z"
   },
   {
    "duration": 18,
    "start_time": "2022-12-09T19:52:52.982Z"
   },
   {
    "duration": 48,
    "start_time": "2022-12-09T19:52:53.002Z"
   },
   {
    "duration": 10,
    "start_time": "2022-12-09T19:52:53.057Z"
   },
   {
    "duration": 13,
    "start_time": "2022-12-09T19:52:53.068Z"
   },
   {
    "duration": 23,
    "start_time": "2022-12-09T19:52:53.084Z"
   },
   {
    "duration": 35,
    "start_time": "2022-12-09T19:52:53.109Z"
   },
   {
    "duration": 31,
    "start_time": "2022-12-09T19:52:53.146Z"
   },
   {
    "duration": 11,
    "start_time": "2022-12-09T19:52:53.178Z"
   },
   {
    "duration": 18,
    "start_time": "2022-12-09T19:52:53.190Z"
   },
   {
    "duration": 43,
    "start_time": "2022-12-09T19:52:53.210Z"
   },
   {
    "duration": 20,
    "start_time": "2022-12-09T19:52:53.255Z"
   },
   {
    "duration": 78,
    "start_time": "2022-12-09T19:52:53.277Z"
   },
   {
    "duration": 8,
    "start_time": "2022-12-09T19:52:53.357Z"
   },
   {
    "duration": 373,
    "start_time": "2022-12-09T19:52:53.367Z"
   },
   {
    "duration": 390,
    "start_time": "2022-12-09T19:52:53.742Z"
   },
   {
    "duration": 272,
    "start_time": "2022-12-09T19:52:54.138Z"
   },
   {
    "duration": 156,
    "start_time": "2022-12-09T19:52:54.412Z"
   },
   {
    "duration": 18,
    "start_time": "2022-12-09T19:52:54.570Z"
   },
   {
    "duration": 16,
    "start_time": "2022-12-09T19:52:54.589Z"
   },
   {
    "duration": 12,
    "start_time": "2022-12-09T19:52:54.606Z"
   },
   {
    "duration": 7,
    "start_time": "2022-12-09T19:52:54.638Z"
   },
   {
    "duration": 22,
    "start_time": "2022-12-09T19:52:54.647Z"
   },
   {
    "duration": 7,
    "start_time": "2022-12-09T19:52:54.670Z"
   },
   {
    "duration": 13,
    "start_time": "2022-12-09T19:52:54.679Z"
   },
   {
    "duration": 296,
    "start_time": "2022-12-09T19:52:54.693Z"
   },
   {
    "duration": 5,
    "start_time": "2022-12-09T19:52:54.991Z"
   },
   {
    "duration": 13,
    "start_time": "2022-12-09T19:52:54.998Z"
   },
   {
    "duration": 11,
    "start_time": "2022-12-09T19:52:55.013Z"
   },
   {
    "duration": 12,
    "start_time": "2022-12-09T19:52:55.026Z"
   },
   {
    "duration": 304,
    "start_time": "2022-12-09T19:52:55.040Z"
   },
   {
    "duration": 322,
    "start_time": "2022-12-09T19:52:55.346Z"
   },
   {
    "duration": 7,
    "start_time": "2022-12-09T19:52:55.669Z"
   },
   {
    "duration": 302,
    "start_time": "2022-12-09T19:52:55.678Z"
   },
   {
    "duration": 351,
    "start_time": "2022-12-09T19:52:55.982Z"
   },
   {
    "duration": 8,
    "start_time": "2022-12-09T19:52:56.338Z"
   },
   {
    "duration": 11,
    "start_time": "2022-12-09T19:52:56.347Z"
   },
   {
    "duration": 271,
    "start_time": "2022-12-09T19:52:56.360Z"
   },
   {
    "duration": 319,
    "start_time": "2022-12-09T19:52:56.633Z"
   },
   {
    "duration": 9,
    "start_time": "2022-12-09T19:52:56.954Z"
   },
   {
    "duration": 16,
    "start_time": "2022-12-09T19:52:56.965Z"
   },
   {
    "duration": 12,
    "start_time": "2022-12-09T19:52:56.983Z"
   },
   {
    "duration": 315,
    "start_time": "2022-12-09T19:52:56.997Z"
   },
   {
    "duration": 277,
    "start_time": "2022-12-09T19:52:57.314Z"
   },
   {
    "duration": 184,
    "start_time": "2022-12-09T19:52:57.593Z"
   },
   {
    "duration": 5,
    "start_time": "2022-12-09T19:52:57.779Z"
   },
   {
    "duration": 75,
    "start_time": "2022-12-09T19:52:57.786Z"
   },
   {
    "duration": 15,
    "start_time": "2022-12-09T19:52:57.862Z"
   },
   {
    "duration": 30,
    "start_time": "2022-12-09T19:52:57.878Z"
   },
   {
    "duration": 374,
    "start_time": "2022-12-09T19:52:57.910Z"
   },
   {
    "duration": 181,
    "start_time": "2022-12-09T19:52:58.287Z"
   },
   {
    "duration": 7,
    "start_time": "2022-12-09T19:52:58.471Z"
   },
   {
    "duration": 29,
    "start_time": "2022-12-09T19:52:58.480Z"
   },
   {
    "duration": 14,
    "start_time": "2022-12-09T19:52:58.511Z"
   },
   {
    "duration": 202,
    "start_time": "2022-12-09T19:52:58.527Z"
   },
   {
    "duration": 7,
    "start_time": "2022-12-09T19:52:58.731Z"
   },
   {
    "duration": 385,
    "start_time": "2022-12-09T19:52:58.740Z"
   },
   {
    "duration": 309,
    "start_time": "2022-12-09T19:52:59.128Z"
   },
   {
    "duration": 288,
    "start_time": "2022-12-09T19:52:59.439Z"
   },
   {
    "duration": 373,
    "start_time": "2022-12-09T19:52:59.729Z"
   },
   {
    "duration": 163,
    "start_time": "2022-12-09T19:53:00.104Z"
   },
   {
    "duration": 149,
    "start_time": "2022-12-09T19:53:00.269Z"
   },
   {
    "duration": 291,
    "start_time": "2022-12-09T19:53:00.421Z"
   },
   {
    "duration": 7,
    "start_time": "2022-12-09T19:53:00.714Z"
   },
   {
    "duration": 34,
    "start_time": "2022-12-09T19:53:00.723Z"
   },
   {
    "duration": 25,
    "start_time": "2022-12-09T19:53:00.759Z"
   },
   {
    "duration": 33,
    "start_time": "2022-12-09T19:53:00.786Z"
   },
   {
    "duration": 232,
    "start_time": "2022-12-09T19:53:00.822Z"
   },
   {
    "duration": 274,
    "start_time": "2022-12-09T19:53:01.056Z"
   },
   {
    "duration": 254,
    "start_time": "2022-12-09T19:53:01.332Z"
   },
   {
    "duration": 5,
    "start_time": "2022-12-09T19:53:01.588Z"
   },
   {
    "duration": 258,
    "start_time": "2022-12-09T19:53:01.595Z"
   },
   {
    "duration": 232,
    "start_time": "2022-12-09T19:53:01.855Z"
   },
   {
    "duration": 5,
    "start_time": "2022-12-09T19:53:02.089Z"
   },
   {
    "duration": 224,
    "start_time": "2022-12-09T19:53:02.096Z"
   },
   {
    "duration": 336,
    "start_time": "2022-12-09T19:53:02.322Z"
   },
   {
    "duration": 5,
    "start_time": "2022-12-09T19:53:02.660Z"
   },
   {
    "duration": 280,
    "start_time": "2022-12-09T19:53:02.667Z"
   },
   {
    "duration": 6,
    "start_time": "2022-12-09T19:53:02.958Z"
   },
   {
    "duration": 197,
    "start_time": "2022-12-09T19:53:02.965Z"
   },
   {
    "duration": 188,
    "start_time": "2022-12-09T19:53:03.164Z"
   },
   {
    "duration": 196,
    "start_time": "2022-12-09T19:53:03.354Z"
   },
   {
    "duration": 6,
    "start_time": "2022-12-09T19:53:03.553Z"
   },
   {
    "duration": 233,
    "start_time": "2022-12-09T19:53:03.560Z"
   },
   {
    "duration": 6,
    "start_time": "2022-12-09T19:53:03.794Z"
   },
   {
    "duration": 204,
    "start_time": "2022-12-09T19:53:03.802Z"
   },
   {
    "duration": 5,
    "start_time": "2022-12-09T19:53:04.008Z"
   },
   {
    "duration": 47,
    "start_time": "2022-12-09T19:53:04.015Z"
   },
   {
    "duration": 24,
    "start_time": "2022-12-09T19:53:04.064Z"
   },
   {
    "duration": 184,
    "start_time": "2022-12-09T19:53:04.090Z"
   },
   {
    "duration": 5,
    "start_time": "2022-12-09T19:53:04.276Z"
   },
   {
    "duration": 317,
    "start_time": "2022-12-09T19:53:21.396Z"
   },
   {
    "duration": 396,
    "start_time": "2022-12-09T19:54:25.710Z"
   },
   {
    "duration": 300,
    "start_time": "2022-12-09T19:54:32.686Z"
   },
   {
    "duration": 263,
    "start_time": "2022-12-09T19:54:38.231Z"
   },
   {
    "duration": 291,
    "start_time": "2022-12-09T19:54:42.396Z"
   },
   {
    "duration": 268,
    "start_time": "2022-12-09T19:54:47.052Z"
   },
   {
    "duration": 303,
    "start_time": "2022-12-09T19:54:50.303Z"
   },
   {
    "duration": 428,
    "start_time": "2022-12-09T19:55:49.560Z"
   },
   {
    "duration": 8,
    "start_time": "2022-12-09T19:56:25.954Z"
   },
   {
    "duration": 15,
    "start_time": "2022-12-09T19:56:31.936Z"
   },
   {
    "duration": 7,
    "start_time": "2022-12-09T19:56:39.609Z"
   },
   {
    "duration": 6,
    "start_time": "2022-12-09T19:58:54.643Z"
   },
   {
    "duration": 6,
    "start_time": "2022-12-09T19:59:07.352Z"
   },
   {
    "duration": 7,
    "start_time": "2022-12-09T19:59:10.628Z"
   },
   {
    "duration": 7,
    "start_time": "2022-12-09T19:59:17.213Z"
   },
   {
    "duration": 262,
    "start_time": "2022-12-09T19:59:38.832Z"
   },
   {
    "duration": 310,
    "start_time": "2022-12-09T20:00:21.052Z"
   },
   {
    "duration": 5,
    "start_time": "2022-12-09T20:01:43.071Z"
   },
   {
    "duration": 5,
    "start_time": "2022-12-09T20:01:55.401Z"
   },
   {
    "duration": 6,
    "start_time": "2022-12-09T20:02:00.511Z"
   },
   {
    "duration": 6,
    "start_time": "2022-12-09T20:02:05.877Z"
   },
   {
    "duration": 7,
    "start_time": "2022-12-09T20:02:29.171Z"
   },
   {
    "duration": 398,
    "start_time": "2022-12-09T20:02:36.997Z"
   },
   {
    "duration": 100,
    "start_time": "2022-12-09T20:02:37.397Z"
   },
   {
    "duration": 48,
    "start_time": "2022-12-09T20:02:37.499Z"
   },
   {
    "duration": 15,
    "start_time": "2022-12-09T20:02:37.551Z"
   },
   {
    "duration": 2490,
    "start_time": "2022-12-09T20:02:37.568Z"
   },
   {
    "duration": 5,
    "start_time": "2022-12-09T20:02:40.061Z"
   },
   {
    "duration": 250,
    "start_time": "2022-12-09T20:02:40.068Z"
   },
   {
    "duration": 31,
    "start_time": "2022-12-09T20:02:40.320Z"
   },
   {
    "duration": 6,
    "start_time": "2022-12-09T20:02:40.353Z"
   },
   {
    "duration": 6,
    "start_time": "2022-12-09T20:02:40.362Z"
   },
   {
    "duration": 13,
    "start_time": "2022-12-09T20:02:40.370Z"
   },
   {
    "duration": 5,
    "start_time": "2022-12-09T20:02:40.384Z"
   },
   {
    "duration": 9,
    "start_time": "2022-12-09T20:02:40.390Z"
   },
   {
    "duration": 5,
    "start_time": "2022-12-09T20:02:40.400Z"
   },
   {
    "duration": 35,
    "start_time": "2022-12-09T20:02:40.406Z"
   },
   {
    "duration": 5,
    "start_time": "2022-12-09T20:02:40.446Z"
   },
   {
    "duration": 7,
    "start_time": "2022-12-09T20:02:40.453Z"
   },
   {
    "duration": 13,
    "start_time": "2022-12-09T20:02:40.462Z"
   },
   {
    "duration": 5,
    "start_time": "2022-12-09T20:02:40.477Z"
   },
   {
    "duration": 14,
    "start_time": "2022-12-09T20:02:40.483Z"
   },
   {
    "duration": 8,
    "start_time": "2022-12-09T20:02:40.498Z"
   },
   {
    "duration": 61,
    "start_time": "2022-12-09T20:02:40.507Z"
   },
   {
    "duration": 5,
    "start_time": "2022-12-09T20:02:40.570Z"
   },
   {
    "duration": 11,
    "start_time": "2022-12-09T20:02:40.576Z"
   },
   {
    "duration": 8,
    "start_time": "2022-12-09T20:02:40.588Z"
   },
   {
    "duration": 4,
    "start_time": "2022-12-09T20:02:40.598Z"
   },
   {
    "duration": 4,
    "start_time": "2022-12-09T20:02:40.604Z"
   },
   {
    "duration": 39,
    "start_time": "2022-12-09T20:02:40.612Z"
   },
   {
    "duration": 8,
    "start_time": "2022-12-09T20:02:40.653Z"
   },
   {
    "duration": 278,
    "start_time": "2022-12-09T20:02:40.663Z"
   },
   {
    "duration": 146,
    "start_time": "2022-12-09T20:02:40.945Z"
   },
   {
    "duration": 5,
    "start_time": "2022-12-09T20:02:41.093Z"
   },
   {
    "duration": 9,
    "start_time": "2022-12-09T20:02:41.099Z"
   },
   {
    "duration": 84,
    "start_time": "2022-12-09T20:02:41.110Z"
   },
   {
    "duration": 5,
    "start_time": "2022-12-09T20:02:41.196Z"
   },
   {
    "duration": 4,
    "start_time": "2022-12-09T20:02:41.202Z"
   },
   {
    "duration": 63,
    "start_time": "2022-12-09T20:02:41.207Z"
   },
   {
    "duration": 148,
    "start_time": "2022-12-09T20:02:41.272Z"
   },
   {
    "duration": 28,
    "start_time": "2022-12-09T20:02:41.422Z"
   },
   {
    "duration": 6,
    "start_time": "2022-12-09T20:02:41.455Z"
   },
   {
    "duration": 280,
    "start_time": "2022-12-09T20:02:41.462Z"
   },
   {
    "duration": 8,
    "start_time": "2022-12-09T20:02:41.744Z"
   },
   {
    "duration": 7,
    "start_time": "2022-12-09T20:02:41.754Z"
   },
   {
    "duration": 344,
    "start_time": "2022-12-09T20:02:41.762Z"
   },
   {
    "duration": 7,
    "start_time": "2022-12-09T20:02:42.108Z"
   },
   {
    "duration": 309,
    "start_time": "2022-12-09T20:02:42.117Z"
   },
   {
    "duration": 21,
    "start_time": "2022-12-09T20:02:42.428Z"
   },
   {
    "duration": 11,
    "start_time": "2022-12-09T20:02:42.454Z"
   },
   {
    "duration": 295,
    "start_time": "2022-12-09T20:02:42.466Z"
   },
   {
    "duration": 6,
    "start_time": "2022-12-09T20:02:42.763Z"
   },
   {
    "duration": 16,
    "start_time": "2022-12-09T20:02:42.770Z"
   },
   {
    "duration": 424,
    "start_time": "2022-12-09T20:02:42.788Z"
   },
   {
    "duration": 8,
    "start_time": "2022-12-09T20:02:43.214Z"
   },
   {
    "duration": 450,
    "start_time": "2022-12-09T20:02:43.223Z"
   },
   {
    "duration": 8,
    "start_time": "2022-12-09T20:02:43.676Z"
   },
   {
    "duration": 16,
    "start_time": "2022-12-09T20:02:43.686Z"
   },
   {
    "duration": 309,
    "start_time": "2022-12-09T20:02:43.704Z"
   },
   {
    "duration": 5,
    "start_time": "2022-12-09T20:02:44.015Z"
   },
   {
    "duration": 29,
    "start_time": "2022-12-09T20:02:44.022Z"
   },
   {
    "duration": 9,
    "start_time": "2022-12-09T20:02:44.054Z"
   },
   {
    "duration": 6,
    "start_time": "2022-12-09T20:02:44.065Z"
   },
   {
    "duration": 205,
    "start_time": "2022-12-09T20:02:44.073Z"
   },
   {
    "duration": 7,
    "start_time": "2022-12-09T20:02:44.280Z"
   },
   {
    "duration": 16,
    "start_time": "2022-12-09T20:02:44.288Z"
   },
   {
    "duration": 5,
    "start_time": "2022-12-09T20:02:44.305Z"
   },
   {
    "duration": 33,
    "start_time": "2022-12-09T20:02:44.312Z"
   },
   {
    "duration": 8,
    "start_time": "2022-12-09T20:02:44.346Z"
   },
   {
    "duration": 12,
    "start_time": "2022-12-09T20:02:44.356Z"
   },
   {
    "duration": 5,
    "start_time": "2022-12-09T20:02:44.370Z"
   },
   {
    "duration": 4,
    "start_time": "2022-12-09T20:02:44.377Z"
   },
   {
    "duration": 6,
    "start_time": "2022-12-09T20:02:44.383Z"
   },
   {
    "duration": 12,
    "start_time": "2022-12-09T20:02:44.390Z"
   },
   {
    "duration": 8,
    "start_time": "2022-12-09T20:02:44.403Z"
   },
   {
    "duration": 30,
    "start_time": "2022-12-09T20:02:44.412Z"
   },
   {
    "duration": 11,
    "start_time": "2022-12-09T20:02:44.444Z"
   },
   {
    "duration": 10,
    "start_time": "2022-12-09T20:02:44.459Z"
   },
   {
    "duration": 8,
    "start_time": "2022-12-09T20:02:44.471Z"
   },
   {
    "duration": 5,
    "start_time": "2022-12-09T20:02:44.481Z"
   },
   {
    "duration": 57,
    "start_time": "2022-12-09T20:02:44.488Z"
   },
   {
    "duration": 18,
    "start_time": "2022-12-09T20:02:44.553Z"
   },
   {
    "duration": 17,
    "start_time": "2022-12-09T20:02:44.572Z"
   },
   {
    "duration": 9,
    "start_time": "2022-12-09T20:02:44.596Z"
   },
   {
    "duration": 13,
    "start_time": "2022-12-09T20:02:44.607Z"
   },
   {
    "duration": 39,
    "start_time": "2022-12-09T20:02:44.622Z"
   },
   {
    "duration": 20,
    "start_time": "2022-12-09T20:02:44.663Z"
   },
   {
    "duration": 28,
    "start_time": "2022-12-09T20:02:44.685Z"
   },
   {
    "duration": 27,
    "start_time": "2022-12-09T20:02:44.715Z"
   },
   {
    "duration": 30,
    "start_time": "2022-12-09T20:02:44.744Z"
   },
   {
    "duration": 20,
    "start_time": "2022-12-09T20:02:44.776Z"
   },
   {
    "duration": 13,
    "start_time": "2022-12-09T20:02:44.797Z"
   },
   {
    "duration": 75,
    "start_time": "2022-12-09T20:02:44.813Z"
   },
   {
    "duration": 8,
    "start_time": "2022-12-09T20:02:44.889Z"
   },
   {
    "duration": 358,
    "start_time": "2022-12-09T20:02:44.899Z"
   },
   {
    "duration": 330,
    "start_time": "2022-12-09T20:02:45.258Z"
   },
   {
    "duration": 255,
    "start_time": "2022-12-09T20:02:45.590Z"
   },
   {
    "duration": 149,
    "start_time": "2022-12-09T20:02:45.847Z"
   },
   {
    "duration": 16,
    "start_time": "2022-12-09T20:02:45.998Z"
   },
   {
    "duration": 37,
    "start_time": "2022-12-09T20:02:46.015Z"
   },
   {
    "duration": 6,
    "start_time": "2022-12-09T20:02:46.053Z"
   },
   {
    "duration": 11,
    "start_time": "2022-12-09T20:02:46.061Z"
   },
   {
    "duration": 6,
    "start_time": "2022-12-09T20:02:46.074Z"
   },
   {
    "duration": 6,
    "start_time": "2022-12-09T20:02:46.082Z"
   },
   {
    "duration": 4,
    "start_time": "2022-12-09T20:02:46.090Z"
   },
   {
    "duration": 303,
    "start_time": "2022-12-09T20:02:46.096Z"
   },
   {
    "duration": 6,
    "start_time": "2022-12-09T20:02:46.402Z"
   },
   {
    "duration": 6,
    "start_time": "2022-12-09T20:02:46.410Z"
   },
   {
    "duration": 31,
    "start_time": "2022-12-09T20:02:46.417Z"
   },
   {
    "duration": 4,
    "start_time": "2022-12-09T20:02:46.453Z"
   },
   {
    "duration": 294,
    "start_time": "2022-12-09T20:02:46.458Z"
   },
   {
    "duration": 7,
    "start_time": "2022-12-09T20:02:46.756Z"
   },
   {
    "duration": 259,
    "start_time": "2022-12-09T20:02:46.764Z"
   },
   {
    "duration": 16,
    "start_time": "2022-12-09T20:02:47.025Z"
   },
   {
    "duration": 10,
    "start_time": "2022-12-09T20:02:47.043Z"
   },
   {
    "duration": 211,
    "start_time": "2022-12-09T20:02:47.056Z"
   },
   {
    "duration": 6,
    "start_time": "2022-12-09T20:02:47.269Z"
   },
   {
    "duration": 12,
    "start_time": "2022-12-09T20:02:47.276Z"
   },
   {
    "duration": 8,
    "start_time": "2022-12-09T20:02:47.289Z"
   },
   {
    "duration": 378,
    "start_time": "2022-12-09T20:02:47.298Z"
   },
   {
    "duration": 287,
    "start_time": "2022-12-09T20:02:47.677Z"
   },
   {
    "duration": 151,
    "start_time": "2022-12-09T20:02:47.966Z"
   },
   {
    "duration": 6,
    "start_time": "2022-12-09T20:02:48.119Z"
   },
   {
    "duration": 32,
    "start_time": "2022-12-09T20:02:48.139Z"
   },
   {
    "duration": 6,
    "start_time": "2022-12-09T20:02:48.172Z"
   },
   {
    "duration": 8,
    "start_time": "2022-12-09T20:02:48.179Z"
   },
   {
    "duration": 271,
    "start_time": "2022-12-09T20:02:48.189Z"
   },
   {
    "duration": 162,
    "start_time": "2022-12-09T20:02:48.462Z"
   },
   {
    "duration": 19,
    "start_time": "2022-12-09T20:02:48.626Z"
   },
   {
    "duration": 15,
    "start_time": "2022-12-09T20:02:48.647Z"
   },
   {
    "duration": 10,
    "start_time": "2022-12-09T20:02:48.663Z"
   },
   {
    "duration": 208,
    "start_time": "2022-12-09T20:02:48.674Z"
   },
   {
    "duration": 8,
    "start_time": "2022-12-09T20:02:48.884Z"
   },
   {
    "duration": 361,
    "start_time": "2022-12-09T20:02:48.894Z"
   },
   {
    "duration": 371,
    "start_time": "2022-12-09T20:02:49.258Z"
   },
   {
    "duration": 287,
    "start_time": "2022-12-09T20:02:49.640Z"
   },
   {
    "duration": 277,
    "start_time": "2022-12-09T20:02:49.929Z"
   },
   {
    "duration": 171,
    "start_time": "2022-12-09T20:02:50.208Z"
   },
   {
    "duration": 146,
    "start_time": "2022-12-09T20:02:50.380Z"
   },
   {
    "duration": 273,
    "start_time": "2022-12-09T20:02:50.528Z"
   },
   {
    "duration": 8,
    "start_time": "2022-12-09T20:02:50.803Z"
   },
   {
    "duration": 29,
    "start_time": "2022-12-09T20:02:50.813Z"
   },
   {
    "duration": 8,
    "start_time": "2022-12-09T20:02:50.846Z"
   },
   {
    "duration": 11,
    "start_time": "2022-12-09T20:02:50.856Z"
   },
   {
    "duration": 200,
    "start_time": "2022-12-09T20:02:50.869Z"
   },
   {
    "duration": 255,
    "start_time": "2022-12-09T20:02:51.070Z"
   },
   {
    "duration": 334,
    "start_time": "2022-12-09T20:02:51.327Z"
   },
   {
    "duration": 7,
    "start_time": "2022-12-09T20:02:51.662Z"
   },
   {
    "duration": 217,
    "start_time": "2022-12-09T20:02:51.671Z"
   },
   {
    "duration": 221,
    "start_time": "2022-12-09T20:02:51.890Z"
   },
   {
    "duration": 6,
    "start_time": "2022-12-09T20:02:52.114Z"
   },
   {
    "duration": 206,
    "start_time": "2022-12-09T20:02:52.121Z"
   },
   {
    "duration": 204,
    "start_time": "2022-12-09T20:02:52.329Z"
   },
   {
    "duration": 10,
    "start_time": "2022-12-09T20:02:52.537Z"
   },
   {
    "duration": 249,
    "start_time": "2022-12-09T20:02:52.550Z"
   },
   {
    "duration": 5,
    "start_time": "2022-12-09T20:02:52.801Z"
   },
   {
    "duration": 172,
    "start_time": "2022-12-09T20:02:52.808Z"
   },
   {
    "duration": 195,
    "start_time": "2022-12-09T20:02:52.982Z"
   },
   {
    "duration": 202,
    "start_time": "2022-12-09T20:02:53.179Z"
   },
   {
    "duration": 6,
    "start_time": "2022-12-09T20:02:53.383Z"
   },
   {
    "duration": 208,
    "start_time": "2022-12-09T20:02:53.390Z"
   },
   {
    "duration": 5,
    "start_time": "2022-12-09T20:02:53.600Z"
   },
   {
    "duration": 196,
    "start_time": "2022-12-09T20:02:53.606Z"
   },
   {
    "duration": 7,
    "start_time": "2022-12-09T20:02:53.803Z"
   },
   {
    "duration": 51,
    "start_time": "2022-12-09T20:02:53.812Z"
   },
   {
    "duration": 19,
    "start_time": "2022-12-09T20:02:53.865Z"
   },
   {
    "duration": 177,
    "start_time": "2022-12-09T20:02:53.886Z"
   },
   {
    "duration": 7,
    "start_time": "2022-12-09T20:02:54.065Z"
   },
   {
    "duration": 388,
    "start_time": "2022-12-09T20:03:57.064Z"
   },
   {
    "duration": 161,
    "start_time": "2022-12-09T20:04:05.337Z"
   },
   {
    "duration": 9,
    "start_time": "2022-12-09T20:04:44.154Z"
   },
   {
    "duration": 156,
    "start_time": "2022-12-09T20:05:29.872Z"
   },
   {
    "duration": 8,
    "start_time": "2022-12-09T20:05:41.994Z"
   },
   {
    "duration": 236,
    "start_time": "2022-12-09T20:06:36.216Z"
   },
   {
    "duration": 168,
    "start_time": "2022-12-09T20:06:53.525Z"
   },
   {
    "duration": 170,
    "start_time": "2022-12-09T20:07:00.872Z"
   },
   {
    "duration": 298,
    "start_time": "2022-12-09T20:07:10.553Z"
   },
   {
    "duration": 6,
    "start_time": "2022-12-09T20:07:17.409Z"
   },
   {
    "duration": 164,
    "start_time": "2022-12-09T20:09:10.441Z"
   },
   {
    "duration": 376,
    "start_time": "2022-12-09T20:09:36.181Z"
   },
   {
    "duration": 282,
    "start_time": "2022-12-09T20:10:20.521Z"
   },
   {
    "duration": 273,
    "start_time": "2022-12-09T20:10:26.071Z"
   },
   {
    "duration": 169,
    "start_time": "2022-12-09T20:10:35.515Z"
   },
   {
    "duration": 149,
    "start_time": "2022-12-09T20:10:40.580Z"
   },
   {
    "duration": 282,
    "start_time": "2022-12-09T20:11:35.909Z"
   },
   {
    "duration": 8,
    "start_time": "2022-12-09T20:11:53.115Z"
   },
   {
    "duration": 6,
    "start_time": "2022-12-09T20:12:05.927Z"
   },
   {
    "duration": 6,
    "start_time": "2022-12-09T20:12:37.642Z"
   },
   {
    "duration": 8,
    "start_time": "2022-12-09T20:12:50.918Z"
   },
   {
    "duration": 13,
    "start_time": "2022-12-09T20:15:21.537Z"
   },
   {
    "duration": 17,
    "start_time": "2022-12-09T20:17:58.297Z"
   },
   {
    "duration": 15,
    "start_time": "2022-12-09T20:18:03.104Z"
   },
   {
    "duration": 25,
    "start_time": "2022-12-09T20:18:39.052Z"
   },
   {
    "duration": 238,
    "start_time": "2022-12-09T20:23:48.040Z"
   },
   {
    "duration": 179,
    "start_time": "2022-12-09T20:24:19.739Z"
   },
   {
    "duration": 321,
    "start_time": "2022-12-09T20:24:38.103Z"
   },
   {
    "duration": 239,
    "start_time": "2022-12-09T20:24:44.826Z"
   },
   {
    "duration": 171,
    "start_time": "2022-12-09T20:25:06.076Z"
   },
   {
    "duration": 268,
    "start_time": "2022-12-09T20:25:21.723Z"
   },
   {
    "duration": 202,
    "start_time": "2022-12-09T20:26:28.573Z"
   },
   {
    "duration": 202,
    "start_time": "2022-12-09T20:27:04.119Z"
   },
   {
    "duration": 234,
    "start_time": "2022-12-09T20:27:18.808Z"
   },
   {
    "duration": 217,
    "start_time": "2022-12-09T20:29:18.140Z"
   },
   {
    "duration": 175,
    "start_time": "2022-12-09T20:29:24.822Z"
   },
   {
    "duration": 205,
    "start_time": "2022-12-09T20:29:53.815Z"
   },
   {
    "duration": 204,
    "start_time": "2022-12-09T20:29:56.616Z"
   },
   {
    "duration": 190,
    "start_time": "2022-12-09T20:30:00.002Z"
   },
   {
    "duration": 164,
    "start_time": "2022-12-09T20:30:20.179Z"
   },
   {
    "duration": 23,
    "start_time": "2022-12-09T20:32:02.264Z"
   },
   {
    "duration": 100,
    "start_time": "2022-12-09T20:32:45.280Z"
   },
   {
    "duration": 27,
    "start_time": "2022-12-09T20:32:59.108Z"
   },
   {
    "duration": 26,
    "start_time": "2022-12-09T20:34:59.338Z"
   },
   {
    "duration": 23,
    "start_time": "2022-12-09T20:35:17.951Z"
   },
   {
    "duration": 28,
    "start_time": "2022-12-09T20:35:39.929Z"
   },
   {
    "duration": 23,
    "start_time": "2022-12-09T20:36:27.716Z"
   },
   {
    "duration": 21,
    "start_time": "2022-12-09T20:36:51.893Z"
   },
   {
    "duration": 22,
    "start_time": "2022-12-09T20:37:14.453Z"
   },
   {
    "duration": 171,
    "start_time": "2022-12-09T20:37:36.179Z"
   },
   {
    "duration": 20,
    "start_time": "2022-12-09T20:37:42.783Z"
   },
   {
    "duration": 22,
    "start_time": "2022-12-09T20:38:03.867Z"
   },
   {
    "duration": 21,
    "start_time": "2022-12-09T20:38:17.910Z"
   },
   {
    "duration": 22,
    "start_time": "2022-12-09T20:38:27.393Z"
   },
   {
    "duration": 22,
    "start_time": "2022-12-09T20:39:06.771Z"
   },
   {
    "duration": 29,
    "start_time": "2022-12-09T20:39:19.921Z"
   },
   {
    "duration": 126,
    "start_time": "2022-12-09T20:39:59.961Z"
   },
   {
    "duration": 153,
    "start_time": "2022-12-09T20:40:24.203Z"
   },
   {
    "duration": 150,
    "start_time": "2022-12-09T20:42:47.450Z"
   },
   {
    "duration": 175,
    "start_time": "2022-12-09T20:43:08.149Z"
   },
   {
    "duration": 193,
    "start_time": "2022-12-09T20:43:25.824Z"
   },
   {
    "duration": 206,
    "start_time": "2022-12-09T20:43:40.906Z"
   },
   {
    "duration": 177,
    "start_time": "2022-12-09T20:43:54.309Z"
   },
   {
    "duration": 157,
    "start_time": "2022-12-09T20:44:18.150Z"
   },
   {
    "duration": 21,
    "start_time": "2022-12-09T20:47:10.494Z"
   },
   {
    "duration": 8,
    "start_time": "2022-12-09T20:48:50.778Z"
   },
   {
    "duration": 19,
    "start_time": "2022-12-09T20:48:59.994Z"
   },
   {
    "duration": 35,
    "start_time": "2022-12-09T20:50:13.761Z"
   },
   {
    "duration": 47,
    "start_time": "2022-12-10T10:13:59.993Z"
   },
   {
    "duration": 401,
    "start_time": "2022-12-10T10:20:18.612Z"
   },
   {
    "duration": 91,
    "start_time": "2022-12-10T10:20:19.015Z"
   },
   {
    "duration": 27,
    "start_time": "2022-12-10T10:20:19.108Z"
   },
   {
    "duration": 16,
    "start_time": "2022-12-10T10:20:19.138Z"
   },
   {
    "duration": 2074,
    "start_time": "2022-12-10T10:20:19.156Z"
   },
   {
    "duration": 5,
    "start_time": "2022-12-10T10:20:21.232Z"
   },
   {
    "duration": 225,
    "start_time": "2022-12-10T10:20:21.239Z"
   },
   {
    "duration": 14,
    "start_time": "2022-12-10T10:20:21.466Z"
   },
   {
    "duration": 16,
    "start_time": "2022-12-10T10:20:21.482Z"
   },
   {
    "duration": 4,
    "start_time": "2022-12-10T10:20:21.501Z"
   },
   {
    "duration": 9,
    "start_time": "2022-12-10T10:20:21.507Z"
   },
   {
    "duration": 5,
    "start_time": "2022-12-10T10:20:21.517Z"
   },
   {
    "duration": 6,
    "start_time": "2022-12-10T10:20:21.524Z"
   },
   {
    "duration": 4,
    "start_time": "2022-12-10T10:20:21.532Z"
   },
   {
    "duration": 6,
    "start_time": "2022-12-10T10:20:21.538Z"
   },
   {
    "duration": 52,
    "start_time": "2022-12-10T10:20:21.545Z"
   },
   {
    "duration": 6,
    "start_time": "2022-12-10T10:20:21.599Z"
   },
   {
    "duration": 12,
    "start_time": "2022-12-10T10:20:21.607Z"
   },
   {
    "duration": 5,
    "start_time": "2022-12-10T10:20:21.621Z"
   },
   {
    "duration": 13,
    "start_time": "2022-12-10T10:20:21.628Z"
   },
   {
    "duration": 7,
    "start_time": "2022-12-10T10:20:21.643Z"
   },
   {
    "duration": 64,
    "start_time": "2022-12-10T10:20:21.652Z"
   },
   {
    "duration": 4,
    "start_time": "2022-12-10T10:20:21.718Z"
   },
   {
    "duration": 8,
    "start_time": "2022-12-10T10:20:21.723Z"
   },
   {
    "duration": 7,
    "start_time": "2022-12-10T10:20:21.732Z"
   },
   {
    "duration": 5,
    "start_time": "2022-12-10T10:20:21.740Z"
   },
   {
    "duration": 5,
    "start_time": "2022-12-10T10:20:21.746Z"
   },
   {
    "duration": 3,
    "start_time": "2022-12-10T10:20:21.755Z"
   },
   {
    "duration": 40,
    "start_time": "2022-12-10T10:20:21.760Z"
   },
   {
    "duration": 253,
    "start_time": "2022-12-10T10:20:21.801Z"
   },
   {
    "duration": 135,
    "start_time": "2022-12-10T10:20:22.056Z"
   },
   {
    "duration": 5,
    "start_time": "2022-12-10T10:20:22.196Z"
   },
   {
    "duration": 9,
    "start_time": "2022-12-10T10:20:22.203Z"
   },
   {
    "duration": 63,
    "start_time": "2022-12-10T10:20:22.213Z"
   },
   {
    "duration": 22,
    "start_time": "2022-12-10T10:20:22.278Z"
   },
   {
    "duration": 4,
    "start_time": "2022-12-10T10:20:22.301Z"
   },
   {
    "duration": 36,
    "start_time": "2022-12-10T10:20:22.307Z"
   },
   {
    "duration": 132,
    "start_time": "2022-12-10T10:20:22.345Z"
   },
   {
    "duration": 21,
    "start_time": "2022-12-10T10:20:22.479Z"
   },
   {
    "duration": 5,
    "start_time": "2022-12-10T10:20:22.502Z"
   },
   {
    "duration": 231,
    "start_time": "2022-12-10T10:20:22.509Z"
   },
   {
    "duration": 5,
    "start_time": "2022-12-10T10:20:22.741Z"
   },
   {
    "duration": 8,
    "start_time": "2022-12-10T10:20:22.748Z"
   },
   {
    "duration": 304,
    "start_time": "2022-12-10T10:20:22.758Z"
   },
   {
    "duration": 6,
    "start_time": "2022-12-10T10:20:23.063Z"
   },
   {
    "duration": 241,
    "start_time": "2022-12-10T10:20:23.071Z"
   },
   {
    "duration": 6,
    "start_time": "2022-12-10T10:20:23.314Z"
   },
   {
    "duration": 13,
    "start_time": "2022-12-10T10:20:23.321Z"
   },
   {
    "duration": 265,
    "start_time": "2022-12-10T10:20:23.335Z"
   },
   {
    "duration": 5,
    "start_time": "2022-12-10T10:20:23.601Z"
   },
   {
    "duration": 6,
    "start_time": "2022-12-10T10:20:23.607Z"
   },
   {
    "duration": 381,
    "start_time": "2022-12-10T10:20:23.615Z"
   },
   {
    "duration": 7,
    "start_time": "2022-12-10T10:20:23.998Z"
   },
   {
    "duration": 339,
    "start_time": "2022-12-10T10:20:24.007Z"
   },
   {
    "duration": 5,
    "start_time": "2022-12-10T10:20:24.348Z"
   },
   {
    "duration": 7,
    "start_time": "2022-12-10T10:20:24.355Z"
   },
   {
    "duration": 271,
    "start_time": "2022-12-10T10:20:24.363Z"
   },
   {
    "duration": 5,
    "start_time": "2022-12-10T10:20:24.636Z"
   },
   {
    "duration": 7,
    "start_time": "2022-12-10T10:20:24.642Z"
   },
   {
    "duration": 8,
    "start_time": "2022-12-10T10:20:24.650Z"
   },
   {
    "duration": 14,
    "start_time": "2022-12-10T10:20:24.659Z"
   },
   {
    "duration": 170,
    "start_time": "2022-12-10T10:20:24.674Z"
   },
   {
    "duration": 6,
    "start_time": "2022-12-10T10:20:24.845Z"
   },
   {
    "duration": 28,
    "start_time": "2022-12-10T10:20:24.852Z"
   },
   {
    "duration": 62,
    "start_time": "2022-12-10T10:20:24.882Z"
   },
   {
    "duration": 12,
    "start_time": "2022-12-10T10:20:24.945Z"
   },
   {
    "duration": 10,
    "start_time": "2022-12-10T10:20:24.960Z"
   },
   {
    "duration": 6,
    "start_time": "2022-12-10T10:20:24.971Z"
   },
   {
    "duration": 4,
    "start_time": "2022-12-10T10:20:24.979Z"
   },
   {
    "duration": 6,
    "start_time": "2022-12-10T10:20:24.984Z"
   },
   {
    "duration": 6,
    "start_time": "2022-12-10T10:20:24.991Z"
   },
   {
    "duration": 10,
    "start_time": "2022-12-10T10:20:24.998Z"
   },
   {
    "duration": 7,
    "start_time": "2022-12-10T10:20:25.010Z"
   },
   {
    "duration": 9,
    "start_time": "2022-12-10T10:20:25.018Z"
   },
   {
    "duration": 3,
    "start_time": "2022-12-10T10:20:25.029Z"
   },
   {
    "duration": 9,
    "start_time": "2022-12-10T10:20:25.033Z"
   },
   {
    "duration": 10,
    "start_time": "2022-12-10T10:20:25.043Z"
   },
   {
    "duration": 4,
    "start_time": "2022-12-10T10:20:25.054Z"
   },
   {
    "duration": 63,
    "start_time": "2022-12-10T10:20:25.060Z"
   },
   {
    "duration": 17,
    "start_time": "2022-12-10T10:20:25.125Z"
   },
   {
    "duration": 15,
    "start_time": "2022-12-10T10:20:25.144Z"
   },
   {
    "duration": 31,
    "start_time": "2022-12-10T10:20:25.166Z"
   },
   {
    "duration": 11,
    "start_time": "2022-12-10T10:20:25.199Z"
   },
   {
    "duration": 20,
    "start_time": "2022-12-10T10:20:25.211Z"
   },
   {
    "duration": 23,
    "start_time": "2022-12-10T10:20:25.233Z"
   },
   {
    "duration": 23,
    "start_time": "2022-12-10T10:20:25.257Z"
   },
   {
    "duration": 18,
    "start_time": "2022-12-10T10:20:25.282Z"
   },
   {
    "duration": 7,
    "start_time": "2022-12-10T10:20:25.302Z"
   },
   {
    "duration": 19,
    "start_time": "2022-12-10T10:20:25.310Z"
   },
   {
    "duration": 14,
    "start_time": "2022-12-10T10:20:25.330Z"
   },
   {
    "duration": 72,
    "start_time": "2022-12-10T10:20:25.346Z"
   },
   {
    "duration": 429,
    "start_time": "2022-12-10T10:20:25.420Z"
   },
   {
    "duration": 0,
    "start_time": "2022-12-10T10:20:25.851Z"
   },
   {
    "duration": 0,
    "start_time": "2022-12-10T10:20:25.852Z"
   },
   {
    "duration": 0,
    "start_time": "2022-12-10T10:20:25.853Z"
   },
   {
    "duration": 0,
    "start_time": "2022-12-10T10:20:25.854Z"
   },
   {
    "duration": 0,
    "start_time": "2022-12-10T10:20:25.855Z"
   },
   {
    "duration": 0,
    "start_time": "2022-12-10T10:20:25.856Z"
   },
   {
    "duration": 0,
    "start_time": "2022-12-10T10:20:25.857Z"
   },
   {
    "duration": 0,
    "start_time": "2022-12-10T10:20:25.858Z"
   },
   {
    "duration": 0,
    "start_time": "2022-12-10T10:20:25.859Z"
   },
   {
    "duration": 0,
    "start_time": "2022-12-10T10:20:25.860Z"
   },
   {
    "duration": 0,
    "start_time": "2022-12-10T10:20:25.862Z"
   },
   {
    "duration": 0,
    "start_time": "2022-12-10T10:20:25.863Z"
   },
   {
    "duration": 0,
    "start_time": "2022-12-10T10:20:25.864Z"
   },
   {
    "duration": 0,
    "start_time": "2022-12-10T10:20:25.865Z"
   },
   {
    "duration": 0,
    "start_time": "2022-12-10T10:20:25.866Z"
   },
   {
    "duration": 0,
    "start_time": "2022-12-10T10:20:25.868Z"
   },
   {
    "duration": 0,
    "start_time": "2022-12-10T10:20:25.897Z"
   },
   {
    "duration": 0,
    "start_time": "2022-12-10T10:20:25.898Z"
   },
   {
    "duration": 0,
    "start_time": "2022-12-10T10:20:25.899Z"
   },
   {
    "duration": 0,
    "start_time": "2022-12-10T10:20:25.901Z"
   },
   {
    "duration": 0,
    "start_time": "2022-12-10T10:20:25.901Z"
   },
   {
    "duration": 0,
    "start_time": "2022-12-10T10:20:25.902Z"
   },
   {
    "duration": 0,
    "start_time": "2022-12-10T10:20:25.903Z"
   },
   {
    "duration": 0,
    "start_time": "2022-12-10T10:20:25.904Z"
   },
   {
    "duration": 0,
    "start_time": "2022-12-10T10:20:25.905Z"
   },
   {
    "duration": 0,
    "start_time": "2022-12-10T10:20:25.906Z"
   },
   {
    "duration": 0,
    "start_time": "2022-12-10T10:20:25.907Z"
   },
   {
    "duration": 0,
    "start_time": "2022-12-10T10:20:25.908Z"
   },
   {
    "duration": 0,
    "start_time": "2022-12-10T10:20:25.909Z"
   },
   {
    "duration": 0,
    "start_time": "2022-12-10T10:20:25.910Z"
   },
   {
    "duration": 0,
    "start_time": "2022-12-10T10:20:25.912Z"
   },
   {
    "duration": 0,
    "start_time": "2022-12-10T10:20:25.913Z"
   },
   {
    "duration": 0,
    "start_time": "2022-12-10T10:20:25.914Z"
   },
   {
    "duration": 0,
    "start_time": "2022-12-10T10:20:25.916Z"
   },
   {
    "duration": 0,
    "start_time": "2022-12-10T10:20:25.917Z"
   },
   {
    "duration": 0,
    "start_time": "2022-12-10T10:20:25.918Z"
   },
   {
    "duration": 0,
    "start_time": "2022-12-10T10:20:25.920Z"
   },
   {
    "duration": 0,
    "start_time": "2022-12-10T10:20:25.921Z"
   },
   {
    "duration": 0,
    "start_time": "2022-12-10T10:20:25.922Z"
   },
   {
    "duration": 0,
    "start_time": "2022-12-10T10:20:25.923Z"
   },
   {
    "duration": 0,
    "start_time": "2022-12-10T10:20:25.924Z"
   },
   {
    "duration": 0,
    "start_time": "2022-12-10T10:20:25.934Z"
   },
   {
    "duration": 0,
    "start_time": "2022-12-10T10:20:25.935Z"
   },
   {
    "duration": 0,
    "start_time": "2022-12-10T10:20:25.936Z"
   },
   {
    "duration": 0,
    "start_time": "2022-12-10T10:20:25.937Z"
   },
   {
    "duration": 0,
    "start_time": "2022-12-10T10:20:25.939Z"
   },
   {
    "duration": 0,
    "start_time": "2022-12-10T10:20:25.940Z"
   },
   {
    "duration": 0,
    "start_time": "2022-12-10T10:20:25.997Z"
   },
   {
    "duration": 0,
    "start_time": "2022-12-10T10:20:25.998Z"
   },
   {
    "duration": 0,
    "start_time": "2022-12-10T10:20:25.999Z"
   },
   {
    "duration": 0,
    "start_time": "2022-12-10T10:20:26.000Z"
   },
   {
    "duration": 0,
    "start_time": "2022-12-10T10:20:26.001Z"
   },
   {
    "duration": 0,
    "start_time": "2022-12-10T10:20:26.002Z"
   },
   {
    "duration": 0,
    "start_time": "2022-12-10T10:20:26.004Z"
   },
   {
    "duration": 0,
    "start_time": "2022-12-10T10:20:26.006Z"
   },
   {
    "duration": 0,
    "start_time": "2022-12-10T10:20:26.007Z"
   },
   {
    "duration": 0,
    "start_time": "2022-12-10T10:20:26.008Z"
   },
   {
    "duration": 0,
    "start_time": "2022-12-10T10:20:26.010Z"
   },
   {
    "duration": 0,
    "start_time": "2022-12-10T10:20:26.011Z"
   },
   {
    "duration": 0,
    "start_time": "2022-12-10T10:20:26.012Z"
   },
   {
    "duration": 0,
    "start_time": "2022-12-10T10:20:26.014Z"
   },
   {
    "duration": 0,
    "start_time": "2022-12-10T10:20:26.015Z"
   },
   {
    "duration": 0,
    "start_time": "2022-12-10T10:20:26.016Z"
   },
   {
    "duration": 0,
    "start_time": "2022-12-10T10:20:26.018Z"
   },
   {
    "duration": 0,
    "start_time": "2022-12-10T10:20:26.019Z"
   },
   {
    "duration": 0,
    "start_time": "2022-12-10T10:20:26.020Z"
   },
   {
    "duration": 0,
    "start_time": "2022-12-10T10:20:26.021Z"
   },
   {
    "duration": 0,
    "start_time": "2022-12-10T10:20:26.023Z"
   },
   {
    "duration": 0,
    "start_time": "2022-12-10T10:20:26.024Z"
   },
   {
    "duration": 0,
    "start_time": "2022-12-10T10:20:26.026Z"
   },
   {
    "duration": 0,
    "start_time": "2022-12-10T10:20:26.027Z"
   },
   {
    "duration": 0,
    "start_time": "2022-12-10T10:20:26.028Z"
   },
   {
    "duration": 0,
    "start_time": "2022-12-10T10:20:26.029Z"
   },
   {
    "duration": 0,
    "start_time": "2022-12-10T10:20:26.031Z"
   },
   {
    "duration": 0,
    "start_time": "2022-12-10T10:20:26.032Z"
   },
   {
    "duration": 0,
    "start_time": "2022-12-10T10:20:26.033Z"
   },
   {
    "duration": 0,
    "start_time": "2022-12-10T10:20:26.096Z"
   },
   {
    "duration": 0,
    "start_time": "2022-12-10T10:20:26.098Z"
   },
   {
    "duration": 0,
    "start_time": "2022-12-10T10:20:26.099Z"
   },
   {
    "duration": 0,
    "start_time": "2022-12-10T10:20:26.101Z"
   },
   {
    "duration": 0,
    "start_time": "2022-12-10T10:20:26.103Z"
   },
   {
    "duration": 0,
    "start_time": "2022-12-10T10:20:26.103Z"
   },
   {
    "duration": 0,
    "start_time": "2022-12-10T10:20:26.105Z"
   },
   {
    "duration": 1112,
    "start_time": "2022-12-10T10:22:41.590Z"
   },
   {
    "duration": 2,
    "start_time": "2022-12-10T10:22:42.704Z"
   },
   {
    "duration": 90,
    "start_time": "2022-12-10T10:22:42.708Z"
   },
   {
    "duration": 22,
    "start_time": "2022-12-10T10:22:42.800Z"
   },
   {
    "duration": 14,
    "start_time": "2022-12-10T10:22:42.824Z"
   },
   {
    "duration": 1748,
    "start_time": "2022-12-10T10:22:42.840Z"
   },
   {
    "duration": 7,
    "start_time": "2022-12-10T10:22:44.590Z"
   },
   {
    "duration": 302,
    "start_time": "2022-12-10T10:22:44.599Z"
   },
   {
    "duration": 13,
    "start_time": "2022-12-10T10:22:44.902Z"
   },
   {
    "duration": 4,
    "start_time": "2022-12-10T10:22:44.918Z"
   },
   {
    "duration": 6,
    "start_time": "2022-12-10T10:22:44.923Z"
   },
   {
    "duration": 7,
    "start_time": "2022-12-10T10:22:44.930Z"
   },
   {
    "duration": 5,
    "start_time": "2022-12-10T10:22:44.938Z"
   },
   {
    "duration": 5,
    "start_time": "2022-12-10T10:22:44.944Z"
   },
   {
    "duration": 47,
    "start_time": "2022-12-10T10:22:44.951Z"
   },
   {
    "duration": 5,
    "start_time": "2022-12-10T10:22:44.999Z"
   },
   {
    "duration": 20,
    "start_time": "2022-12-10T10:22:45.005Z"
   },
   {
    "duration": 8,
    "start_time": "2022-12-10T10:22:45.026Z"
   },
   {
    "duration": 14,
    "start_time": "2022-12-10T10:22:45.036Z"
   },
   {
    "duration": 6,
    "start_time": "2022-12-10T10:22:45.052Z"
   },
   {
    "duration": 14,
    "start_time": "2022-12-10T10:22:45.059Z"
   },
   {
    "duration": 23,
    "start_time": "2022-12-10T10:22:45.075Z"
   },
   {
    "duration": 32,
    "start_time": "2022-12-10T10:22:45.099Z"
   },
   {
    "duration": 6,
    "start_time": "2022-12-10T10:22:45.133Z"
   },
   {
    "duration": 9,
    "start_time": "2022-12-10T10:22:45.141Z"
   },
   {
    "duration": 8,
    "start_time": "2022-12-10T10:22:45.152Z"
   },
   {
    "duration": 34,
    "start_time": "2022-12-10T10:22:45.162Z"
   },
   {
    "duration": 6,
    "start_time": "2022-12-10T10:22:45.201Z"
   },
   {
    "duration": 6,
    "start_time": "2022-12-10T10:22:45.209Z"
   },
   {
    "duration": 10,
    "start_time": "2022-12-10T10:22:45.217Z"
   },
   {
    "duration": 260,
    "start_time": "2022-12-10T10:22:45.228Z"
   },
   {
    "duration": 138,
    "start_time": "2022-12-10T10:22:45.489Z"
   },
   {
    "duration": 5,
    "start_time": "2022-12-10T10:22:45.629Z"
   },
   {
    "duration": 8,
    "start_time": "2022-12-10T10:22:45.635Z"
   },
   {
    "duration": 75,
    "start_time": "2022-12-10T10:22:45.644Z"
   },
   {
    "duration": 5,
    "start_time": "2022-12-10T10:22:45.721Z"
   },
   {
    "duration": 6,
    "start_time": "2022-12-10T10:22:45.727Z"
   },
   {
    "duration": 40,
    "start_time": "2022-12-10T10:22:45.734Z"
   },
   {
    "duration": 135,
    "start_time": "2022-12-10T10:22:45.775Z"
   },
   {
    "duration": 14,
    "start_time": "2022-12-10T10:22:45.911Z"
   },
   {
    "duration": 6,
    "start_time": "2022-12-10T10:22:45.926Z"
   },
   {
    "duration": 218,
    "start_time": "2022-12-10T10:22:45.934Z"
   },
   {
    "duration": 8,
    "start_time": "2022-12-10T10:22:46.154Z"
   },
   {
    "duration": 13,
    "start_time": "2022-12-10T10:22:46.163Z"
   },
   {
    "duration": 324,
    "start_time": "2022-12-10T10:22:46.178Z"
   },
   {
    "duration": 6,
    "start_time": "2022-12-10T10:22:46.504Z"
   },
   {
    "duration": 312,
    "start_time": "2022-12-10T10:22:46.512Z"
   },
   {
    "duration": 5,
    "start_time": "2022-12-10T10:22:46.825Z"
   },
   {
    "duration": 10,
    "start_time": "2022-12-10T10:22:46.832Z"
   },
   {
    "duration": 246,
    "start_time": "2022-12-10T10:22:46.843Z"
   },
   {
    "duration": 9,
    "start_time": "2022-12-10T10:22:47.090Z"
   },
   {
    "duration": 4,
    "start_time": "2022-12-10T10:22:47.100Z"
   },
   {
    "duration": 371,
    "start_time": "2022-12-10T10:22:47.105Z"
   },
   {
    "duration": 6,
    "start_time": "2022-12-10T10:22:47.478Z"
   },
   {
    "duration": 253,
    "start_time": "2022-12-10T10:22:47.486Z"
   },
   {
    "duration": 5,
    "start_time": "2022-12-10T10:22:47.741Z"
   },
   {
    "duration": 7,
    "start_time": "2022-12-10T10:22:47.748Z"
   },
   {
    "duration": 260,
    "start_time": "2022-12-10T10:22:47.757Z"
   },
   {
    "duration": 5,
    "start_time": "2022-12-10T10:22:48.018Z"
   },
   {
    "duration": 6,
    "start_time": "2022-12-10T10:22:48.025Z"
   },
   {
    "duration": 10,
    "start_time": "2022-12-10T10:22:48.032Z"
   },
   {
    "duration": 6,
    "start_time": "2022-12-10T10:22:48.044Z"
   },
   {
    "duration": 186,
    "start_time": "2022-12-10T10:22:48.052Z"
   },
   {
    "duration": 6,
    "start_time": "2022-12-10T10:22:48.240Z"
   },
   {
    "duration": 10,
    "start_time": "2022-12-10T10:22:48.247Z"
   },
   {
    "duration": 5,
    "start_time": "2022-12-10T10:22:48.259Z"
   },
   {
    "duration": 9,
    "start_time": "2022-12-10T10:22:48.265Z"
   },
   {
    "duration": 22,
    "start_time": "2022-12-10T10:22:48.276Z"
   },
   {
    "duration": 3,
    "start_time": "2022-12-10T10:22:48.300Z"
   },
   {
    "duration": 5,
    "start_time": "2022-12-10T10:22:48.304Z"
   },
   {
    "duration": 5,
    "start_time": "2022-12-10T10:22:48.310Z"
   },
   {
    "duration": 5,
    "start_time": "2022-12-10T10:22:48.316Z"
   },
   {
    "duration": 7,
    "start_time": "2022-12-10T10:22:48.322Z"
   },
   {
    "duration": 6,
    "start_time": "2022-12-10T10:22:48.331Z"
   },
   {
    "duration": 12,
    "start_time": "2022-12-10T10:22:48.339Z"
   },
   {
    "duration": 3,
    "start_time": "2022-12-10T10:22:48.353Z"
   },
   {
    "duration": 4,
    "start_time": "2022-12-10T10:22:48.357Z"
   },
   {
    "duration": 122,
    "start_time": "2022-12-10T10:22:48.362Z"
   },
   {
    "duration": 12,
    "start_time": "2022-12-10T10:22:48.486Z"
   },
   {
    "duration": 35,
    "start_time": "2022-12-10T10:22:48.499Z"
   },
   {
    "duration": 16,
    "start_time": "2022-12-10T10:22:48.536Z"
   },
   {
    "duration": 13,
    "start_time": "2022-12-10T10:22:48.558Z"
   },
   {
    "duration": 29,
    "start_time": "2022-12-10T10:22:48.572Z"
   },
   {
    "duration": 9,
    "start_time": "2022-12-10T10:22:48.602Z"
   },
   {
    "duration": 15,
    "start_time": "2022-12-10T10:22:48.612Z"
   },
   {
    "duration": 11,
    "start_time": "2022-12-10T10:22:48.628Z"
   },
   {
    "duration": 23,
    "start_time": "2022-12-10T10:22:48.640Z"
   },
   {
    "duration": 33,
    "start_time": "2022-12-10T10:22:48.664Z"
   },
   {
    "duration": 8,
    "start_time": "2022-12-10T10:22:48.699Z"
   },
   {
    "duration": 19,
    "start_time": "2022-12-10T10:22:48.708Z"
   },
   {
    "duration": 12,
    "start_time": "2022-12-10T10:22:48.729Z"
   },
   {
    "duration": 66,
    "start_time": "2022-12-10T10:22:48.742Z"
   },
   {
    "duration": 375,
    "start_time": "2022-12-10T10:22:48.810Z"
   },
   {
    "duration": 12,
    "start_time": "2022-12-10T10:22:49.187Z"
   },
   {
    "duration": 283,
    "start_time": "2022-12-10T10:22:49.200Z"
   },
   {
    "duration": 292,
    "start_time": "2022-12-10T10:22:49.484Z"
   },
   {
    "duration": 134,
    "start_time": "2022-12-10T10:22:49.778Z"
   },
   {
    "duration": 128,
    "start_time": "2022-12-10T10:22:49.913Z"
   },
   {
    "duration": 15,
    "start_time": "2022-12-10T10:22:50.042Z"
   },
   {
    "duration": 119,
    "start_time": "2022-12-10T10:22:50.059Z"
   },
   {
    "duration": 4,
    "start_time": "2022-12-10T10:22:50.180Z"
   },
   {
    "duration": 15,
    "start_time": "2022-12-10T10:22:50.185Z"
   },
   {
    "duration": 7,
    "start_time": "2022-12-10T10:22:50.201Z"
   },
   {
    "duration": 5,
    "start_time": "2022-12-10T10:22:50.209Z"
   },
   {
    "duration": 3,
    "start_time": "2022-12-10T10:22:50.216Z"
   },
   {
    "duration": 269,
    "start_time": "2022-12-10T10:22:50.220Z"
   },
   {
    "duration": 9,
    "start_time": "2022-12-10T10:22:50.491Z"
   },
   {
    "duration": 10,
    "start_time": "2022-12-10T10:22:50.501Z"
   },
   {
    "duration": 6,
    "start_time": "2022-12-10T10:22:50.513Z"
   },
   {
    "duration": 8,
    "start_time": "2022-12-10T10:22:50.521Z"
   },
   {
    "duration": 268,
    "start_time": "2022-12-10T10:22:50.530Z"
   },
   {
    "duration": 7,
    "start_time": "2022-12-10T10:22:50.799Z"
   },
   {
    "duration": 245,
    "start_time": "2022-12-10T10:22:50.807Z"
   },
   {
    "duration": 6,
    "start_time": "2022-12-10T10:22:51.053Z"
   },
   {
    "duration": 11,
    "start_time": "2022-12-10T10:22:51.061Z"
   },
   {
    "duration": 195,
    "start_time": "2022-12-10T10:22:51.073Z"
   },
   {
    "duration": 7,
    "start_time": "2022-12-10T10:22:51.270Z"
   },
   {
    "duration": 20,
    "start_time": "2022-12-10T10:22:51.278Z"
   },
   {
    "duration": 10,
    "start_time": "2022-12-10T10:22:51.300Z"
   },
   {
    "duration": 275,
    "start_time": "2022-12-10T10:22:51.312Z"
   },
   {
    "duration": 156,
    "start_time": "2022-12-10T10:22:51.589Z"
   },
   {
    "duration": 5,
    "start_time": "2022-12-10T10:22:51.746Z"
   },
   {
    "duration": 44,
    "start_time": "2022-12-10T10:22:51.753Z"
   },
   {
    "duration": 6,
    "start_time": "2022-12-10T10:22:51.799Z"
   },
   {
    "duration": 5,
    "start_time": "2022-12-10T10:22:51.806Z"
   },
   {
    "duration": 347,
    "start_time": "2022-12-10T10:22:51.812Z"
   },
   {
    "duration": 174,
    "start_time": "2022-12-10T10:22:52.160Z"
   },
   {
    "duration": 6,
    "start_time": "2022-12-10T10:22:52.336Z"
   },
   {
    "duration": 8,
    "start_time": "2022-12-10T10:22:52.344Z"
   },
   {
    "duration": 17,
    "start_time": "2022-12-10T10:22:52.353Z"
   },
   {
    "duration": 166,
    "start_time": "2022-12-10T10:22:52.371Z"
   },
   {
    "duration": 6,
    "start_time": "2022-12-10T10:22:52.539Z"
   },
   {
    "duration": 276,
    "start_time": "2022-12-10T10:22:52.547Z"
   },
   {
    "duration": 256,
    "start_time": "2022-12-10T10:22:52.824Z"
   },
   {
    "duration": 247,
    "start_time": "2022-12-10T10:22:53.081Z"
   },
   {
    "duration": 353,
    "start_time": "2022-12-10T10:22:53.329Z"
   },
   {
    "duration": 247,
    "start_time": "2022-12-10T10:22:53.684Z"
   },
   {
    "duration": 157,
    "start_time": "2022-12-10T10:22:53.933Z"
   },
   {
    "duration": 148,
    "start_time": "2022-12-10T10:22:54.091Z"
   },
   {
    "duration": 256,
    "start_time": "2022-12-10T10:22:54.241Z"
   },
   {
    "duration": 8,
    "start_time": "2022-12-10T10:22:54.499Z"
   },
   {
    "duration": 3,
    "start_time": "2022-12-10T10:22:54.509Z"
   },
   {
    "duration": 6,
    "start_time": "2022-12-10T10:22:54.514Z"
   },
   {
    "duration": 8,
    "start_time": "2022-12-10T10:22:54.521Z"
   },
   {
    "duration": 4,
    "start_time": "2022-12-10T10:22:54.531Z"
   },
   {
    "duration": 12,
    "start_time": "2022-12-10T10:22:54.537Z"
   },
   {
    "duration": 195,
    "start_time": "2022-12-10T10:22:54.550Z"
   },
   {
    "duration": 230,
    "start_time": "2022-12-10T10:22:54.747Z"
   },
   {
    "duration": 6,
    "start_time": "2022-12-10T10:22:54.979Z"
   },
   {
    "duration": 170,
    "start_time": "2022-12-10T10:22:54.997Z"
   },
   {
    "duration": 222,
    "start_time": "2022-12-10T10:22:55.168Z"
   },
   {
    "duration": 7,
    "start_time": "2022-12-10T10:22:55.391Z"
   },
   {
    "duration": 254,
    "start_time": "2022-12-10T10:22:55.400Z"
   },
   {
    "duration": 199,
    "start_time": "2022-12-10T10:22:55.656Z"
   },
   {
    "duration": 5,
    "start_time": "2022-12-10T10:22:55.856Z"
   },
   {
    "duration": 252,
    "start_time": "2022-12-10T10:22:55.863Z"
   },
   {
    "duration": 6,
    "start_time": "2022-12-10T10:22:56.117Z"
   },
   {
    "duration": 183,
    "start_time": "2022-12-10T10:22:56.125Z"
   },
   {
    "duration": 20,
    "start_time": "2022-12-10T10:22:56.310Z"
   },
   {
    "duration": 188,
    "start_time": "2022-12-10T10:22:56.332Z"
   },
   {
    "duration": 18,
    "start_time": "2022-12-10T10:22:56.522Z"
   },
   {
    "duration": 189,
    "start_time": "2022-12-10T10:22:56.542Z"
   },
   {
    "duration": 19,
    "start_time": "2022-12-10T10:22:56.732Z"
   },
   {
    "duration": 190,
    "start_time": "2022-12-10T10:22:56.752Z"
   },
   {
    "duration": 19,
    "start_time": "2022-12-10T10:22:56.944Z"
   },
   {
    "duration": 35,
    "start_time": "2022-12-10T10:22:56.964Z"
   },
   {
    "duration": 161,
    "start_time": "2022-12-10T10:22:57.000Z"
   },
   {
    "duration": 17,
    "start_time": "2022-12-10T10:22:57.162Z"
   },
   {
    "duration": 156,
    "start_time": "2022-12-10T10:22:57.181Z"
   },
   {
    "duration": 5,
    "start_time": "2022-12-10T10:22:57.338Z"
   },
   {
    "duration": 29,
    "start_time": "2022-12-10T10:22:57.344Z"
   },
   {
    "duration": 6,
    "start_time": "2022-12-10T10:22:57.374Z"
   },
   {
    "duration": 9383,
    "start_time": "2022-12-10T10:22:57.381Z"
   },
   {
    "duration": 373,
    "start_time": "2022-12-10T10:23:06.766Z"
   },
   {
    "duration": 986,
    "start_time": "2022-12-10T10:23:07.141Z"
   },
   {
    "duration": 192,
    "start_time": "2022-12-10T10:23:08.129Z"
   },
   {
    "duration": 179,
    "start_time": "2022-12-10T10:26:44.633Z"
   },
   {
    "duration": 180,
    "start_time": "2022-12-10T10:30:52.762Z"
   },
   {
    "duration": 1200,
    "start_time": "2022-12-10T10:33:39.271Z"
   },
   {
    "duration": 2,
    "start_time": "2022-12-10T10:33:40.473Z"
   },
   {
    "duration": 89,
    "start_time": "2022-12-10T10:33:40.477Z"
   },
   {
    "duration": 21,
    "start_time": "2022-12-10T10:33:40.568Z"
   },
   {
    "duration": 14,
    "start_time": "2022-12-10T10:33:40.590Z"
   },
   {
    "duration": 1818,
    "start_time": "2022-12-10T10:33:40.606Z"
   },
   {
    "duration": 5,
    "start_time": "2022-12-10T10:33:42.426Z"
   },
   {
    "duration": 304,
    "start_time": "2022-12-10T10:33:42.432Z"
   },
   {
    "duration": 14,
    "start_time": "2022-12-10T10:33:42.738Z"
   },
   {
    "duration": 4,
    "start_time": "2022-12-10T10:33:42.755Z"
   },
   {
    "duration": 5,
    "start_time": "2022-12-10T10:33:42.761Z"
   },
   {
    "duration": 36,
    "start_time": "2022-12-10T10:33:42.767Z"
   },
   {
    "duration": 5,
    "start_time": "2022-12-10T10:33:42.804Z"
   },
   {
    "duration": 5,
    "start_time": "2022-12-10T10:33:42.811Z"
   },
   {
    "duration": 5,
    "start_time": "2022-12-10T10:33:42.818Z"
   },
   {
    "duration": 5,
    "start_time": "2022-12-10T10:33:42.825Z"
   },
   {
    "duration": 5,
    "start_time": "2022-12-10T10:33:42.831Z"
   },
   {
    "duration": 5,
    "start_time": "2022-12-10T10:33:42.837Z"
   },
   {
    "duration": 54,
    "start_time": "2022-12-10T10:33:42.843Z"
   },
   {
    "duration": 6,
    "start_time": "2022-12-10T10:33:42.899Z"
   },
   {
    "duration": 14,
    "start_time": "2022-12-10T10:33:42.906Z"
   },
   {
    "duration": 8,
    "start_time": "2022-12-10T10:33:42.921Z"
   },
   {
    "duration": 27,
    "start_time": "2022-12-10T10:33:42.931Z"
   },
   {
    "duration": 4,
    "start_time": "2022-12-10T10:33:42.959Z"
   },
   {
    "duration": 211,
    "start_time": "2022-12-10T10:33:42.965Z"
   },
   {
    "duration": 7,
    "start_time": "2022-12-10T10:33:43.178Z"
   },
   {
    "duration": 7,
    "start_time": "2022-12-10T10:33:43.196Z"
   },
   {
    "duration": 4,
    "start_time": "2022-12-10T10:33:43.207Z"
   },
   {
    "duration": 14,
    "start_time": "2022-12-10T10:33:43.212Z"
   },
   {
    "duration": 4,
    "start_time": "2022-12-10T10:33:43.228Z"
   },
   {
    "duration": 9,
    "start_time": "2022-12-10T10:33:43.233Z"
   },
   {
    "duration": 296,
    "start_time": "2022-12-10T10:33:43.244Z"
   },
   {
    "duration": 143,
    "start_time": "2022-12-10T10:33:43.542Z"
   },
   {
    "duration": 13,
    "start_time": "2022-12-10T10:33:43.687Z"
   },
   {
    "duration": 10,
    "start_time": "2022-12-10T10:33:43.702Z"
   },
   {
    "duration": 60,
    "start_time": "2022-12-10T10:33:43.713Z"
   },
   {
    "duration": 23,
    "start_time": "2022-12-10T10:33:43.774Z"
   },
   {
    "duration": 3,
    "start_time": "2022-12-10T10:33:43.799Z"
   },
   {
    "duration": 38,
    "start_time": "2022-12-10T10:33:43.804Z"
   },
   {
    "duration": 135,
    "start_time": "2022-12-10T10:33:43.844Z"
   },
   {
    "duration": 21,
    "start_time": "2022-12-10T10:33:43.981Z"
   },
   {
    "duration": 6,
    "start_time": "2022-12-10T10:33:44.004Z"
   },
   {
    "duration": 167,
    "start_time": "2022-12-10T10:33:44.012Z"
   },
   {
    "duration": 16,
    "start_time": "2022-12-10T10:33:44.181Z"
   },
   {
    "duration": 5,
    "start_time": "2022-12-10T10:33:44.198Z"
   },
   {
    "duration": 309,
    "start_time": "2022-12-10T10:33:44.205Z"
   },
   {
    "duration": 7,
    "start_time": "2022-12-10T10:33:44.516Z"
   },
   {
    "duration": 304,
    "start_time": "2022-12-10T10:33:44.524Z"
   },
   {
    "duration": 5,
    "start_time": "2022-12-10T10:33:44.829Z"
   },
   {
    "duration": 11,
    "start_time": "2022-12-10T10:33:44.835Z"
   },
   {
    "duration": 251,
    "start_time": "2022-12-10T10:33:44.847Z"
   },
   {
    "duration": 5,
    "start_time": "2022-12-10T10:33:45.099Z"
   },
   {
    "duration": 5,
    "start_time": "2022-12-10T10:33:45.105Z"
   },
   {
    "duration": 375,
    "start_time": "2022-12-10T10:33:45.111Z"
   },
   {
    "duration": 12,
    "start_time": "2022-12-10T10:33:45.487Z"
   },
   {
    "duration": 261,
    "start_time": "2022-12-10T10:33:45.501Z"
   },
   {
    "duration": 6,
    "start_time": "2022-12-10T10:33:45.764Z"
   },
   {
    "duration": 10,
    "start_time": "2022-12-10T10:33:45.772Z"
   },
   {
    "duration": 260,
    "start_time": "2022-12-10T10:33:45.783Z"
   },
   {
    "duration": 7,
    "start_time": "2022-12-10T10:33:46.044Z"
   },
   {
    "duration": 14,
    "start_time": "2022-12-10T10:33:46.052Z"
   },
   {
    "duration": 17,
    "start_time": "2022-12-10T10:33:46.068Z"
   },
   {
    "duration": 17,
    "start_time": "2022-12-10T10:33:46.087Z"
   },
   {
    "duration": 290,
    "start_time": "2022-12-10T10:33:46.106Z"
   },
   {
    "duration": 5,
    "start_time": "2022-12-10T10:33:46.398Z"
   },
   {
    "duration": 12,
    "start_time": "2022-12-10T10:33:46.404Z"
   },
   {
    "duration": 4,
    "start_time": "2022-12-10T10:33:46.418Z"
   },
   {
    "duration": 7,
    "start_time": "2022-12-10T10:33:46.424Z"
   },
   {
    "duration": 7,
    "start_time": "2022-12-10T10:33:46.432Z"
   },
   {
    "duration": 4,
    "start_time": "2022-12-10T10:33:46.440Z"
   },
   {
    "duration": 5,
    "start_time": "2022-12-10T10:33:46.445Z"
   },
   {
    "duration": 5,
    "start_time": "2022-12-10T10:33:46.451Z"
   },
   {
    "duration": 6,
    "start_time": "2022-12-10T10:33:46.457Z"
   },
   {
    "duration": 32,
    "start_time": "2022-12-10T10:33:46.465Z"
   },
   {
    "duration": 6,
    "start_time": "2022-12-10T10:33:46.499Z"
   },
   {
    "duration": 9,
    "start_time": "2022-12-10T10:33:46.507Z"
   },
   {
    "duration": 5,
    "start_time": "2022-12-10T10:33:46.517Z"
   },
   {
    "duration": 8,
    "start_time": "2022-12-10T10:33:46.524Z"
   },
   {
    "duration": 8,
    "start_time": "2022-12-10T10:33:46.533Z"
   },
   {
    "duration": 4,
    "start_time": "2022-12-10T10:33:46.542Z"
   },
   {
    "duration": 67,
    "start_time": "2022-12-10T10:33:46.547Z"
   },
   {
    "duration": 16,
    "start_time": "2022-12-10T10:33:46.620Z"
   },
   {
    "duration": 14,
    "start_time": "2022-12-10T10:33:46.637Z"
   },
   {
    "duration": 8,
    "start_time": "2022-12-10T10:33:46.652Z"
   },
   {
    "duration": 36,
    "start_time": "2022-12-10T10:33:46.661Z"
   },
   {
    "duration": 14,
    "start_time": "2022-12-10T10:33:46.698Z"
   },
   {
    "duration": 13,
    "start_time": "2022-12-10T10:33:46.713Z"
   },
   {
    "duration": 24,
    "start_time": "2022-12-10T10:33:46.727Z"
   },
   {
    "duration": 8,
    "start_time": "2022-12-10T10:33:46.752Z"
   },
   {
    "duration": 8,
    "start_time": "2022-12-10T10:33:46.761Z"
   },
   {
    "duration": 17,
    "start_time": "2022-12-10T10:33:46.795Z"
   },
   {
    "duration": 11,
    "start_time": "2022-12-10T10:33:46.814Z"
   },
   {
    "duration": 49,
    "start_time": "2022-12-10T10:33:46.827Z"
   },
   {
    "duration": 390,
    "start_time": "2022-12-10T10:33:46.878Z"
   },
   {
    "duration": 7,
    "start_time": "2022-12-10T10:33:47.269Z"
   },
   {
    "duration": 309,
    "start_time": "2022-12-10T10:33:47.278Z"
   },
   {
    "duration": 324,
    "start_time": "2022-12-10T10:33:47.589Z"
   },
   {
    "duration": 136,
    "start_time": "2022-12-10T10:33:47.915Z"
   },
   {
    "duration": 227,
    "start_time": "2022-12-10T10:33:48.053Z"
   },
   {
    "duration": 22,
    "start_time": "2022-12-10T10:33:48.282Z"
   },
   {
    "duration": 13,
    "start_time": "2022-12-10T10:33:48.306Z"
   },
   {
    "duration": 5,
    "start_time": "2022-12-10T10:33:48.320Z"
   },
   {
    "duration": 11,
    "start_time": "2022-12-10T10:33:48.327Z"
   },
   {
    "duration": 4,
    "start_time": "2022-12-10T10:33:48.340Z"
   },
   {
    "duration": 6,
    "start_time": "2022-12-10T10:33:48.345Z"
   },
   {
    "duration": 3,
    "start_time": "2022-12-10T10:33:48.352Z"
   },
   {
    "duration": 260,
    "start_time": "2022-12-10T10:33:48.357Z"
   },
   {
    "duration": 5,
    "start_time": "2022-12-10T10:33:48.619Z"
   },
   {
    "duration": 7,
    "start_time": "2022-12-10T10:33:48.625Z"
   },
   {
    "duration": 5,
    "start_time": "2022-12-10T10:33:48.633Z"
   },
   {
    "duration": 7,
    "start_time": "2022-12-10T10:33:48.639Z"
   },
   {
    "duration": 277,
    "start_time": "2022-12-10T10:33:48.648Z"
   },
   {
    "duration": 6,
    "start_time": "2022-12-10T10:33:48.927Z"
   },
   {
    "duration": 277,
    "start_time": "2022-12-10T10:33:48.934Z"
   },
   {
    "duration": 7,
    "start_time": "2022-12-10T10:33:49.213Z"
   },
   {
    "duration": 8,
    "start_time": "2022-12-10T10:33:49.221Z"
   },
   {
    "duration": 212,
    "start_time": "2022-12-10T10:33:49.231Z"
   },
   {
    "duration": 5,
    "start_time": "2022-12-10T10:33:49.445Z"
   },
   {
    "duration": 8,
    "start_time": "2022-12-10T10:33:49.452Z"
   },
   {
    "duration": 8,
    "start_time": "2022-12-10T10:33:49.461Z"
   },
   {
    "duration": 295,
    "start_time": "2022-12-10T10:33:49.470Z"
   },
   {
    "duration": 247,
    "start_time": "2022-12-10T10:33:49.767Z"
   },
   {
    "duration": 7,
    "start_time": "2022-12-10T10:33:50.016Z"
   },
   {
    "duration": 55,
    "start_time": "2022-12-10T10:33:50.024Z"
   },
   {
    "duration": 6,
    "start_time": "2022-12-10T10:33:50.081Z"
   },
   {
    "duration": 6,
    "start_time": "2022-12-10T10:33:50.088Z"
   },
   {
    "duration": 261,
    "start_time": "2022-12-10T10:33:50.095Z"
   },
   {
    "duration": 171,
    "start_time": "2022-12-10T10:33:50.358Z"
   },
   {
    "duration": 5,
    "start_time": "2022-12-10T10:33:50.531Z"
   },
   {
    "duration": 21,
    "start_time": "2022-12-10T10:33:50.538Z"
   },
   {
    "duration": 19,
    "start_time": "2022-12-10T10:33:50.560Z"
   },
   {
    "duration": 181,
    "start_time": "2022-12-10T10:33:50.580Z"
   },
   {
    "duration": 6,
    "start_time": "2022-12-10T10:33:50.762Z"
   },
   {
    "duration": 299,
    "start_time": "2022-12-10T10:33:50.769Z"
   },
   {
    "duration": 267,
    "start_time": "2022-12-10T10:33:51.070Z"
   },
   {
    "duration": 271,
    "start_time": "2022-12-10T10:33:51.339Z"
   },
   {
    "duration": 387,
    "start_time": "2022-12-10T10:33:51.612Z"
   },
   {
    "duration": 266,
    "start_time": "2022-12-10T10:33:52.001Z"
   },
   {
    "duration": 160,
    "start_time": "2022-12-10T10:33:52.269Z"
   },
   {
    "duration": 154,
    "start_time": "2022-12-10T10:33:52.431Z"
   },
   {
    "duration": 300,
    "start_time": "2022-12-10T10:33:52.586Z"
   },
   {
    "duration": 14,
    "start_time": "2022-12-10T10:33:52.888Z"
   },
   {
    "duration": 4,
    "start_time": "2022-12-10T10:33:52.904Z"
   },
   {
    "duration": 6,
    "start_time": "2022-12-10T10:33:52.910Z"
   },
   {
    "duration": 10,
    "start_time": "2022-12-10T10:33:52.918Z"
   },
   {
    "duration": 5,
    "start_time": "2022-12-10T10:33:52.930Z"
   },
   {
    "duration": 9,
    "start_time": "2022-12-10T10:33:52.938Z"
   },
   {
    "duration": 219,
    "start_time": "2022-12-10T10:33:52.949Z"
   },
   {
    "duration": 231,
    "start_time": "2022-12-10T10:33:53.170Z"
   },
   {
    "duration": 6,
    "start_time": "2022-12-10T10:33:53.402Z"
   },
   {
    "duration": 174,
    "start_time": "2022-12-10T10:33:53.409Z"
   },
   {
    "duration": 330,
    "start_time": "2022-12-10T10:33:53.584Z"
   },
   {
    "duration": 7,
    "start_time": "2022-12-10T10:33:53.915Z"
   },
   {
    "duration": 175,
    "start_time": "2022-12-10T10:33:53.924Z"
   },
   {
    "duration": 200,
    "start_time": "2022-12-10T10:33:54.101Z"
   },
   {
    "duration": 6,
    "start_time": "2022-12-10T10:33:54.303Z"
   },
   {
    "duration": 219,
    "start_time": "2022-12-10T10:33:54.311Z"
   },
   {
    "duration": 6,
    "start_time": "2022-12-10T10:33:54.532Z"
   },
   {
    "duration": 184,
    "start_time": "2022-12-10T10:33:54.540Z"
   },
   {
    "duration": 21,
    "start_time": "2022-12-10T10:33:54.726Z"
   },
   {
    "duration": 207,
    "start_time": "2022-12-10T10:33:54.748Z"
   },
   {
    "duration": 21,
    "start_time": "2022-12-10T10:33:54.957Z"
   },
   {
    "duration": 217,
    "start_time": "2022-12-10T10:33:54.979Z"
   },
   {
    "duration": 19,
    "start_time": "2022-12-10T10:33:55.198Z"
   },
   {
    "duration": 198,
    "start_time": "2022-12-10T10:33:55.218Z"
   },
   {
    "duration": 19,
    "start_time": "2022-12-10T10:33:55.418Z"
   },
   {
    "duration": 23,
    "start_time": "2022-12-10T10:33:55.439Z"
   },
   {
    "duration": 180,
    "start_time": "2022-12-10T10:33:55.464Z"
   },
   {
    "duration": 17,
    "start_time": "2022-12-10T10:33:55.646Z"
   },
   {
    "duration": 156,
    "start_time": "2022-12-10T10:33:55.664Z"
   },
   {
    "duration": 4,
    "start_time": "2022-12-10T10:33:55.822Z"
   },
   {
    "duration": 19,
    "start_time": "2022-12-10T10:33:55.828Z"
   },
   {
    "duration": 3,
    "start_time": "2022-12-10T10:33:55.848Z"
   },
   {
    "duration": 8619,
    "start_time": "2022-12-10T10:33:55.852Z"
   },
   {
    "duration": 369,
    "start_time": "2022-12-10T10:34:04.473Z"
   },
   {
    "duration": 977,
    "start_time": "2022-12-10T10:34:04.843Z"
   },
   {
    "duration": 190,
    "start_time": "2022-12-10T10:34:05.822Z"
   },
   {
    "duration": 1370,
    "start_time": "2022-12-10T21:04:54.377Z"
   },
   {
    "duration": 3,
    "start_time": "2022-12-10T21:04:55.749Z"
   },
   {
    "duration": 336,
    "start_time": "2022-12-10T21:04:55.753Z"
   },
   {
    "duration": 29,
    "start_time": "2022-12-10T21:04:56.092Z"
   },
   {
    "duration": 18,
    "start_time": "2022-12-10T21:04:56.123Z"
   },
   {
    "duration": 1790,
    "start_time": "2022-12-10T21:04:56.143Z"
   },
   {
    "duration": 4,
    "start_time": "2022-12-10T21:04:57.935Z"
   },
   {
    "duration": 307,
    "start_time": "2022-12-10T21:04:57.941Z"
   },
   {
    "duration": 12,
    "start_time": "2022-12-10T21:04:58.250Z"
   },
   {
    "duration": 9,
    "start_time": "2022-12-10T21:04:58.264Z"
   },
   {
    "duration": 15,
    "start_time": "2022-12-10T21:04:58.275Z"
   },
   {
    "duration": 13,
    "start_time": "2022-12-10T21:04:58.291Z"
   },
   {
    "duration": 7,
    "start_time": "2022-12-10T21:04:58.306Z"
   },
   {
    "duration": 7,
    "start_time": "2022-12-10T21:04:58.314Z"
   },
   {
    "duration": 4,
    "start_time": "2022-12-10T21:04:58.323Z"
   },
   {
    "duration": 6,
    "start_time": "2022-12-10T21:04:58.329Z"
   },
   {
    "duration": 5,
    "start_time": "2022-12-10T21:04:58.336Z"
   },
   {
    "duration": 6,
    "start_time": "2022-12-10T21:04:58.343Z"
   },
   {
    "duration": 49,
    "start_time": "2022-12-10T21:04:58.350Z"
   },
   {
    "duration": 6,
    "start_time": "2022-12-10T21:04:58.401Z"
   },
   {
    "duration": 13,
    "start_time": "2022-12-10T21:04:58.408Z"
   },
   {
    "duration": 8,
    "start_time": "2022-12-10T21:04:58.423Z"
   },
   {
    "duration": 205,
    "start_time": "2022-12-10T21:04:58.433Z"
   },
   {
    "duration": 6,
    "start_time": "2022-12-10T21:04:58.639Z"
   },
   {
    "duration": 16,
    "start_time": "2022-12-10T21:04:58.647Z"
   },
   {
    "duration": 7,
    "start_time": "2022-12-10T21:04:58.664Z"
   },
   {
    "duration": 17,
    "start_time": "2022-12-10T21:04:58.672Z"
   },
   {
    "duration": 13,
    "start_time": "2022-12-10T21:04:58.692Z"
   },
   {
    "duration": 7,
    "start_time": "2022-12-10T21:04:58.706Z"
   },
   {
    "duration": 264,
    "start_time": "2022-12-10T21:04:58.715Z"
   },
   {
    "duration": 144,
    "start_time": "2022-12-10T21:04:58.981Z"
   },
   {
    "duration": 5,
    "start_time": "2022-12-10T21:04:59.127Z"
   },
   {
    "duration": 15,
    "start_time": "2022-12-10T21:04:59.134Z"
   },
   {
    "duration": 70,
    "start_time": "2022-12-10T21:04:59.150Z"
   },
   {
    "duration": 6,
    "start_time": "2022-12-10T21:04:59.221Z"
   },
   {
    "duration": 6,
    "start_time": "2022-12-10T21:04:59.228Z"
   },
   {
    "duration": 35,
    "start_time": "2022-12-10T21:04:59.236Z"
   },
   {
    "duration": 152,
    "start_time": "2022-12-10T21:04:59.272Z"
   },
   {
    "duration": 14,
    "start_time": "2022-12-10T21:04:59.426Z"
   },
   {
    "duration": 5,
    "start_time": "2022-12-10T21:04:59.442Z"
   },
   {
    "duration": 173,
    "start_time": "2022-12-10T21:04:59.449Z"
   },
   {
    "duration": 5,
    "start_time": "2022-12-10T21:04:59.624Z"
   },
   {
    "duration": 5,
    "start_time": "2022-12-10T21:04:59.631Z"
   },
   {
    "duration": 308,
    "start_time": "2022-12-10T21:04:59.638Z"
   },
   {
    "duration": 7,
    "start_time": "2022-12-10T21:04:59.947Z"
   },
   {
    "duration": 342,
    "start_time": "2022-12-10T21:04:59.955Z"
   },
   {
    "duration": 6,
    "start_time": "2022-12-10T21:05:00.299Z"
   },
   {
    "duration": 31,
    "start_time": "2022-12-10T21:05:00.306Z"
   },
   {
    "duration": 245,
    "start_time": "2022-12-10T21:05:00.339Z"
   },
   {
    "duration": 11,
    "start_time": "2022-12-10T21:05:00.586Z"
   },
   {
    "duration": 17,
    "start_time": "2022-12-10T21:05:00.598Z"
   },
   {
    "duration": 380,
    "start_time": "2022-12-10T21:05:00.616Z"
   },
   {
    "duration": 7,
    "start_time": "2022-12-10T21:05:00.998Z"
   },
   {
    "duration": 284,
    "start_time": "2022-12-10T21:05:01.007Z"
   },
   {
    "duration": 10,
    "start_time": "2022-12-10T21:05:01.292Z"
   },
   {
    "duration": 48,
    "start_time": "2022-12-10T21:05:01.304Z"
   },
   {
    "duration": 293,
    "start_time": "2022-12-10T21:05:01.355Z"
   },
   {
    "duration": 7,
    "start_time": "2022-12-10T21:05:01.650Z"
   },
   {
    "duration": 29,
    "start_time": "2022-12-10T21:05:01.658Z"
   },
   {
    "duration": 69,
    "start_time": "2022-12-10T21:05:01.689Z"
   },
   {
    "duration": 27,
    "start_time": "2022-12-10T21:05:01.760Z"
   },
   {
    "duration": 357,
    "start_time": "2022-12-10T21:05:01.789Z"
   },
   {
    "duration": 5,
    "start_time": "2022-12-10T21:05:02.148Z"
   },
   {
    "duration": 18,
    "start_time": "2022-12-10T21:05:02.154Z"
   },
   {
    "duration": 17,
    "start_time": "2022-12-10T21:05:02.174Z"
   },
   {
    "duration": 12,
    "start_time": "2022-12-10T21:05:02.192Z"
   },
   {
    "duration": 14,
    "start_time": "2022-12-10T21:05:02.206Z"
   },
   {
    "duration": 12,
    "start_time": "2022-12-10T21:05:02.221Z"
   },
   {
    "duration": 9,
    "start_time": "2022-12-10T21:05:02.235Z"
   },
   {
    "duration": 22,
    "start_time": "2022-12-10T21:05:02.246Z"
   },
   {
    "duration": 12,
    "start_time": "2022-12-10T21:05:02.270Z"
   },
   {
    "duration": 20,
    "start_time": "2022-12-10T21:05:02.283Z"
   },
   {
    "duration": 14,
    "start_time": "2022-12-10T21:05:02.305Z"
   },
   {
    "duration": 8,
    "start_time": "2022-12-10T21:05:02.321Z"
   },
   {
    "duration": 4,
    "start_time": "2022-12-10T21:05:02.331Z"
   },
   {
    "duration": 12,
    "start_time": "2022-12-10T21:05:02.336Z"
   },
   {
    "duration": 13,
    "start_time": "2022-12-10T21:05:02.350Z"
   },
   {
    "duration": 35,
    "start_time": "2022-12-10T21:05:02.365Z"
   },
   {
    "duration": 42,
    "start_time": "2022-12-10T21:05:02.401Z"
   },
   {
    "duration": 15,
    "start_time": "2022-12-10T21:05:02.445Z"
   },
   {
    "duration": 19,
    "start_time": "2022-12-10T21:05:02.461Z"
   },
   {
    "duration": 26,
    "start_time": "2022-12-10T21:05:02.487Z"
   },
   {
    "duration": 19,
    "start_time": "2022-12-10T21:05:02.514Z"
   },
   {
    "duration": 25,
    "start_time": "2022-12-10T21:05:02.535Z"
   },
   {
    "duration": 14,
    "start_time": "2022-12-10T21:05:02.561Z"
   },
   {
    "duration": 21,
    "start_time": "2022-12-10T21:05:02.577Z"
   },
   {
    "duration": 9,
    "start_time": "2022-12-10T21:05:02.599Z"
   },
   {
    "duration": 9,
    "start_time": "2022-12-10T21:05:02.609Z"
   },
   {
    "duration": 18,
    "start_time": "2022-12-10T21:05:02.619Z"
   },
   {
    "duration": 12,
    "start_time": "2022-12-10T21:05:02.639Z"
   },
   {
    "duration": 76,
    "start_time": "2022-12-10T21:05:02.652Z"
   },
   {
    "duration": 398,
    "start_time": "2022-12-10T21:05:02.729Z"
   },
   {
    "duration": 8,
    "start_time": "2022-12-10T21:05:03.130Z"
   },
   {
    "duration": 312,
    "start_time": "2022-12-10T21:05:03.140Z"
   },
   {
    "duration": 340,
    "start_time": "2022-12-10T21:05:03.453Z"
   },
   {
    "duration": 143,
    "start_time": "2022-12-10T21:05:03.796Z"
   },
   {
    "duration": 246,
    "start_time": "2022-12-10T21:05:03.941Z"
   },
   {
    "duration": 18,
    "start_time": "2022-12-10T21:05:04.189Z"
   },
   {
    "duration": 13,
    "start_time": "2022-12-10T21:05:04.208Z"
   },
   {
    "duration": 4,
    "start_time": "2022-12-10T21:05:04.222Z"
   },
   {
    "duration": 7,
    "start_time": "2022-12-10T21:05:04.228Z"
   },
   {
    "duration": 5,
    "start_time": "2022-12-10T21:05:04.237Z"
   },
   {
    "duration": 7,
    "start_time": "2022-12-10T21:05:04.244Z"
   },
   {
    "duration": 20,
    "start_time": "2022-12-10T21:05:04.252Z"
   },
   {
    "duration": 245,
    "start_time": "2022-12-10T21:05:04.274Z"
   },
   {
    "duration": 6,
    "start_time": "2022-12-10T21:05:04.520Z"
   },
   {
    "duration": 5,
    "start_time": "2022-12-10T21:05:04.528Z"
   },
   {
    "duration": 7,
    "start_time": "2022-12-10T21:05:04.535Z"
   },
   {
    "duration": 8,
    "start_time": "2022-12-10T21:05:04.543Z"
   },
   {
    "duration": 266,
    "start_time": "2022-12-10T21:05:04.553Z"
   },
   {
    "duration": 7,
    "start_time": "2022-12-10T21:05:04.821Z"
   },
   {
    "duration": 275,
    "start_time": "2022-12-10T21:05:04.829Z"
   },
   {
    "duration": 8,
    "start_time": "2022-12-10T21:05:05.106Z"
   },
   {
    "duration": 14,
    "start_time": "2022-12-10T21:05:05.117Z"
   },
   {
    "duration": 215,
    "start_time": "2022-12-10T21:05:05.133Z"
   },
   {
    "duration": 6,
    "start_time": "2022-12-10T21:05:05.349Z"
   },
   {
    "duration": 133,
    "start_time": "2022-12-10T21:05:05.357Z"
   },
   {
    "duration": 8,
    "start_time": "2022-12-10T21:05:05.492Z"
   },
   {
    "duration": 257,
    "start_time": "2022-12-10T21:05:05.502Z"
   },
   {
    "duration": 159,
    "start_time": "2022-12-10T21:05:05.761Z"
   },
   {
    "duration": 8,
    "start_time": "2022-12-10T21:05:05.922Z"
   },
   {
    "duration": 34,
    "start_time": "2022-12-10T21:05:05.932Z"
   },
   {
    "duration": 20,
    "start_time": "2022-12-10T21:05:05.968Z"
   },
   {
    "duration": 48,
    "start_time": "2022-12-10T21:05:05.990Z"
   },
   {
    "duration": 382,
    "start_time": "2022-12-10T21:05:06.040Z"
   },
   {
    "duration": 162,
    "start_time": "2022-12-10T21:05:06.424Z"
   },
   {
    "duration": 6,
    "start_time": "2022-12-10T21:05:06.596Z"
   },
   {
    "duration": 13,
    "start_time": "2022-12-10T21:05:06.603Z"
   },
   {
    "duration": 6,
    "start_time": "2022-12-10T21:05:06.618Z"
   },
   {
    "duration": 167,
    "start_time": "2022-12-10T21:05:06.625Z"
   },
   {
    "duration": 5,
    "start_time": "2022-12-10T21:05:06.797Z"
   },
   {
    "duration": 297,
    "start_time": "2022-12-10T21:05:06.804Z"
   },
   {
    "duration": 262,
    "start_time": "2022-12-10T21:05:07.102Z"
   },
   {
    "duration": 245,
    "start_time": "2022-12-10T21:05:07.366Z"
   },
   {
    "duration": 396,
    "start_time": "2022-12-10T21:05:07.613Z"
   },
   {
    "duration": 260,
    "start_time": "2022-12-10T21:05:08.011Z"
   },
   {
    "duration": 153,
    "start_time": "2022-12-10T21:05:08.272Z"
   },
   {
    "duration": 158,
    "start_time": "2022-12-10T21:05:08.426Z"
   },
   {
    "duration": 255,
    "start_time": "2022-12-10T21:05:08.586Z"
   },
   {
    "duration": 7,
    "start_time": "2022-12-10T21:05:08.842Z"
   },
   {
    "duration": 6,
    "start_time": "2022-12-10T21:05:08.851Z"
   },
   {
    "duration": 6,
    "start_time": "2022-12-10T21:05:08.858Z"
   },
   {
    "duration": 7,
    "start_time": "2022-12-10T21:05:08.866Z"
   },
   {
    "duration": 6,
    "start_time": "2022-12-10T21:05:08.896Z"
   },
   {
    "duration": 12,
    "start_time": "2022-12-10T21:05:08.903Z"
   },
   {
    "duration": 196,
    "start_time": "2022-12-10T21:05:08.917Z"
   },
   {
    "duration": 227,
    "start_time": "2022-12-10T21:05:09.115Z"
   },
   {
    "duration": 6,
    "start_time": "2022-12-10T21:05:09.344Z"
   },
   {
    "duration": 197,
    "start_time": "2022-12-10T21:05:09.352Z"
   },
   {
    "duration": 228,
    "start_time": "2022-12-10T21:05:09.550Z"
   },
   {
    "duration": 6,
    "start_time": "2022-12-10T21:05:09.779Z"
   },
   {
    "duration": 262,
    "start_time": "2022-12-10T21:05:09.797Z"
   },
   {
    "duration": 231,
    "start_time": "2022-12-10T21:05:10.062Z"
   },
   {
    "duration": 7,
    "start_time": "2022-12-10T21:05:10.295Z"
   },
   {
    "duration": 224,
    "start_time": "2022-12-10T21:05:10.304Z"
   },
   {
    "duration": 5,
    "start_time": "2022-12-10T21:05:10.529Z"
   },
   {
    "duration": 166,
    "start_time": "2022-12-10T21:05:10.536Z"
   },
   {
    "duration": 21,
    "start_time": "2022-12-10T21:05:10.704Z"
   },
   {
    "duration": 188,
    "start_time": "2022-12-10T21:05:10.726Z"
   },
   {
    "duration": 20,
    "start_time": "2022-12-10T21:05:10.915Z"
   },
   {
    "duration": 189,
    "start_time": "2022-12-10T21:05:10.936Z"
   },
   {
    "duration": 19,
    "start_time": "2022-12-10T21:05:11.127Z"
   },
   {
    "duration": 189,
    "start_time": "2022-12-10T21:05:11.148Z"
   },
   {
    "duration": 18,
    "start_time": "2022-12-10T21:05:11.339Z"
   },
   {
    "duration": 39,
    "start_time": "2022-12-10T21:05:11.359Z"
   },
   {
    "duration": 165,
    "start_time": "2022-12-10T21:05:11.399Z"
   },
   {
    "duration": 16,
    "start_time": "2022-12-10T21:05:11.566Z"
   },
   {
    "duration": 155,
    "start_time": "2022-12-10T21:05:11.583Z"
   },
   {
    "duration": 5,
    "start_time": "2022-12-10T21:05:11.740Z"
   },
   {
    "duration": 39,
    "start_time": "2022-12-10T21:05:11.747Z"
   },
   {
    "duration": 3,
    "start_time": "2022-12-10T21:05:11.788Z"
   },
   {
    "duration": 9004,
    "start_time": "2022-12-10T21:05:11.796Z"
   },
   {
    "duration": 389,
    "start_time": "2022-12-10T21:05:20.802Z"
   },
   {
    "duration": 892,
    "start_time": "2022-12-10T21:05:21.196Z"
   },
   {
    "duration": 191,
    "start_time": "2022-12-10T21:05:22.090Z"
   },
   {
    "duration": 158,
    "start_time": "2022-12-10T21:07:01.737Z"
   },
   {
    "duration": 63,
    "start_time": "2022-12-10T21:08:19.860Z"
   },
   {
    "duration": 29,
    "start_time": "2022-12-10T21:09:01.993Z"
   },
   {
    "duration": 27,
    "start_time": "2022-12-10T21:09:28.991Z"
   },
   {
    "duration": 8,
    "start_time": "2022-12-10T21:09:50.972Z"
   },
   {
    "duration": 7,
    "start_time": "2022-12-10T21:09:57.957Z"
   },
   {
    "duration": 5,
    "start_time": "2022-12-10T21:10:12.105Z"
   },
   {
    "duration": 8,
    "start_time": "2022-12-10T21:10:19.357Z"
   },
   {
    "duration": 1176,
    "start_time": "2022-12-10T21:17:46.978Z"
   },
   {
    "duration": 3,
    "start_time": "2022-12-10T21:17:48.155Z"
   },
   {
    "duration": 94,
    "start_time": "2022-12-10T21:17:48.160Z"
   },
   {
    "duration": 22,
    "start_time": "2022-12-10T21:17:48.256Z"
   },
   {
    "duration": 30,
    "start_time": "2022-12-10T21:17:48.280Z"
   },
   {
    "duration": 1951,
    "start_time": "2022-12-10T21:17:48.311Z"
   },
   {
    "duration": 6,
    "start_time": "2022-12-10T21:17:50.264Z"
   },
   {
    "duration": 356,
    "start_time": "2022-12-10T21:17:50.271Z"
   },
   {
    "duration": 15,
    "start_time": "2022-12-10T21:17:50.629Z"
   },
   {
    "duration": 4,
    "start_time": "2022-12-10T21:17:50.646Z"
   },
   {
    "duration": 7,
    "start_time": "2022-12-10T21:17:50.652Z"
   },
   {
    "duration": 9,
    "start_time": "2022-12-10T21:17:50.660Z"
   },
   {
    "duration": 5,
    "start_time": "2022-12-10T21:17:50.697Z"
   },
   {
    "duration": 13,
    "start_time": "2022-12-10T21:17:50.703Z"
   },
   {
    "duration": 6,
    "start_time": "2022-12-10T21:17:50.717Z"
   },
   {
    "duration": 7,
    "start_time": "2022-12-10T21:17:50.724Z"
   },
   {
    "duration": 5,
    "start_time": "2022-12-10T21:17:50.732Z"
   },
   {
    "duration": 5,
    "start_time": "2022-12-10T21:17:50.738Z"
   },
   {
    "duration": 15,
    "start_time": "2022-12-10T21:17:50.745Z"
   },
   {
    "duration": 37,
    "start_time": "2022-12-10T21:17:50.762Z"
   },
   {
    "duration": 15,
    "start_time": "2022-12-10T21:17:50.800Z"
   },
   {
    "duration": 8,
    "start_time": "2022-12-10T21:17:50.816Z"
   },
   {
    "duration": 212,
    "start_time": "2022-12-10T21:17:50.825Z"
   },
   {
    "duration": 7,
    "start_time": "2022-12-10T21:17:51.038Z"
   },
   {
    "duration": 8,
    "start_time": "2022-12-10T21:17:51.046Z"
   },
   {
    "duration": 9,
    "start_time": "2022-12-10T21:17:51.056Z"
   },
   {
    "duration": 6,
    "start_time": "2022-12-10T21:17:51.067Z"
   },
   {
    "duration": 4,
    "start_time": "2022-12-10T21:17:51.077Z"
   },
   {
    "duration": 9,
    "start_time": "2022-12-10T21:17:51.096Z"
   },
   {
    "duration": 264,
    "start_time": "2022-12-10T21:17:51.107Z"
   },
   {
    "duration": 153,
    "start_time": "2022-12-10T21:17:51.373Z"
   },
   {
    "duration": 6,
    "start_time": "2022-12-10T21:17:51.527Z"
   },
   {
    "duration": 18,
    "start_time": "2022-12-10T21:17:51.535Z"
   },
   {
    "duration": 23,
    "start_time": "2022-12-10T21:17:51.555Z"
   },
   {
    "duration": 31,
    "start_time": "2022-12-10T21:17:51.580Z"
   },
   {
    "duration": 113,
    "start_time": "2022-12-10T21:17:51.613Z"
   },
   {
    "duration": 0,
    "start_time": "2022-12-10T21:17:51.730Z"
   },
   {
    "duration": 0,
    "start_time": "2022-12-10T21:17:51.731Z"
   },
   {
    "duration": 0,
    "start_time": "2022-12-10T21:17:51.733Z"
   },
   {
    "duration": 0,
    "start_time": "2022-12-10T21:17:51.733Z"
   },
   {
    "duration": 0,
    "start_time": "2022-12-10T21:17:51.734Z"
   },
   {
    "duration": 0,
    "start_time": "2022-12-10T21:17:51.735Z"
   },
   {
    "duration": 0,
    "start_time": "2022-12-10T21:17:51.736Z"
   },
   {
    "duration": 0,
    "start_time": "2022-12-10T21:17:51.737Z"
   },
   {
    "duration": 0,
    "start_time": "2022-12-10T21:17:51.738Z"
   },
   {
    "duration": 0,
    "start_time": "2022-12-10T21:17:51.739Z"
   },
   {
    "duration": 0,
    "start_time": "2022-12-10T21:17:51.740Z"
   },
   {
    "duration": 0,
    "start_time": "2022-12-10T21:17:51.741Z"
   },
   {
    "duration": 0,
    "start_time": "2022-12-10T21:17:51.741Z"
   },
   {
    "duration": 0,
    "start_time": "2022-12-10T21:17:51.742Z"
   },
   {
    "duration": 0,
    "start_time": "2022-12-10T21:17:51.744Z"
   },
   {
    "duration": 0,
    "start_time": "2022-12-10T21:17:51.745Z"
   },
   {
    "duration": 0,
    "start_time": "2022-12-10T21:17:51.746Z"
   },
   {
    "duration": 0,
    "start_time": "2022-12-10T21:17:51.747Z"
   },
   {
    "duration": 0,
    "start_time": "2022-12-10T21:17:51.747Z"
   },
   {
    "duration": 0,
    "start_time": "2022-12-10T21:17:51.749Z"
   },
   {
    "duration": 0,
    "start_time": "2022-12-10T21:17:51.750Z"
   },
   {
    "duration": 0,
    "start_time": "2022-12-10T21:17:51.751Z"
   },
   {
    "duration": 0,
    "start_time": "2022-12-10T21:17:51.752Z"
   },
   {
    "duration": 0,
    "start_time": "2022-12-10T21:17:51.752Z"
   },
   {
    "duration": 0,
    "start_time": "2022-12-10T21:17:51.797Z"
   },
   {
    "duration": 0,
    "start_time": "2022-12-10T21:17:51.798Z"
   },
   {
    "duration": 0,
    "start_time": "2022-12-10T21:17:51.799Z"
   },
   {
    "duration": 0,
    "start_time": "2022-12-10T21:17:51.800Z"
   },
   {
    "duration": 0,
    "start_time": "2022-12-10T21:17:51.801Z"
   },
   {
    "duration": 0,
    "start_time": "2022-12-10T21:17:51.802Z"
   },
   {
    "duration": 0,
    "start_time": "2022-12-10T21:17:51.803Z"
   },
   {
    "duration": 0,
    "start_time": "2022-12-10T21:17:51.804Z"
   },
   {
    "duration": 0,
    "start_time": "2022-12-10T21:17:51.804Z"
   },
   {
    "duration": 0,
    "start_time": "2022-12-10T21:17:51.805Z"
   },
   {
    "duration": 0,
    "start_time": "2022-12-10T21:17:51.806Z"
   },
   {
    "duration": 0,
    "start_time": "2022-12-10T21:17:51.807Z"
   },
   {
    "duration": 0,
    "start_time": "2022-12-10T21:17:51.808Z"
   },
   {
    "duration": 0,
    "start_time": "2022-12-10T21:17:51.809Z"
   },
   {
    "duration": 0,
    "start_time": "2022-12-10T21:17:51.810Z"
   },
   {
    "duration": 0,
    "start_time": "2022-12-10T21:17:51.811Z"
   },
   {
    "duration": 0,
    "start_time": "2022-12-10T21:17:51.812Z"
   },
   {
    "duration": 0,
    "start_time": "2022-12-10T21:17:51.814Z"
   },
   {
    "duration": 0,
    "start_time": "2022-12-10T21:17:51.814Z"
   },
   {
    "duration": 0,
    "start_time": "2022-12-10T21:17:51.815Z"
   },
   {
    "duration": 0,
    "start_time": "2022-12-10T21:17:51.816Z"
   },
   {
    "duration": 0,
    "start_time": "2022-12-10T21:17:51.817Z"
   },
   {
    "duration": 0,
    "start_time": "2022-12-10T21:17:51.818Z"
   },
   {
    "duration": 0,
    "start_time": "2022-12-10T21:17:51.819Z"
   },
   {
    "duration": 0,
    "start_time": "2022-12-10T21:17:51.821Z"
   },
   {
    "duration": 0,
    "start_time": "2022-12-10T21:17:51.822Z"
   },
   {
    "duration": 0,
    "start_time": "2022-12-10T21:17:51.823Z"
   },
   {
    "duration": 0,
    "start_time": "2022-12-10T21:17:51.824Z"
   },
   {
    "duration": 0,
    "start_time": "2022-12-10T21:17:51.826Z"
   },
   {
    "duration": 0,
    "start_time": "2022-12-10T21:17:51.827Z"
   },
   {
    "duration": 0,
    "start_time": "2022-12-10T21:17:51.828Z"
   },
   {
    "duration": 0,
    "start_time": "2022-12-10T21:17:51.829Z"
   },
   {
    "duration": 0,
    "start_time": "2022-12-10T21:17:51.830Z"
   },
   {
    "duration": 0,
    "start_time": "2022-12-10T21:17:51.831Z"
   },
   {
    "duration": 0,
    "start_time": "2022-12-10T21:17:51.833Z"
   },
   {
    "duration": 0,
    "start_time": "2022-12-10T21:17:51.833Z"
   },
   {
    "duration": 0,
    "start_time": "2022-12-10T21:17:51.835Z"
   },
   {
    "duration": 0,
    "start_time": "2022-12-10T21:17:51.836Z"
   },
   {
    "duration": 0,
    "start_time": "2022-12-10T21:17:51.896Z"
   },
   {
    "duration": 0,
    "start_time": "2022-12-10T21:17:51.898Z"
   },
   {
    "duration": 0,
    "start_time": "2022-12-10T21:17:51.899Z"
   },
   {
    "duration": 0,
    "start_time": "2022-12-10T21:17:51.901Z"
   },
   {
    "duration": 0,
    "start_time": "2022-12-10T21:17:51.902Z"
   },
   {
    "duration": 0,
    "start_time": "2022-12-10T21:17:51.903Z"
   },
   {
    "duration": 0,
    "start_time": "2022-12-10T21:17:51.904Z"
   },
   {
    "duration": 0,
    "start_time": "2022-12-10T21:17:51.905Z"
   },
   {
    "duration": 0,
    "start_time": "2022-12-10T21:17:51.906Z"
   },
   {
    "duration": 0,
    "start_time": "2022-12-10T21:17:51.907Z"
   },
   {
    "duration": 0,
    "start_time": "2022-12-10T21:17:51.909Z"
   },
   {
    "duration": 0,
    "start_time": "2022-12-10T21:17:51.910Z"
   },
   {
    "duration": 0,
    "start_time": "2022-12-10T21:17:51.912Z"
   },
   {
    "duration": 0,
    "start_time": "2022-12-10T21:17:51.913Z"
   },
   {
    "duration": 0,
    "start_time": "2022-12-10T21:17:51.914Z"
   },
   {
    "duration": 0,
    "start_time": "2022-12-10T21:17:51.916Z"
   },
   {
    "duration": 0,
    "start_time": "2022-12-10T21:17:51.917Z"
   },
   {
    "duration": 0,
    "start_time": "2022-12-10T21:17:51.919Z"
   },
   {
    "duration": 1,
    "start_time": "2022-12-10T21:17:51.920Z"
   },
   {
    "duration": 0,
    "start_time": "2022-12-10T21:17:51.922Z"
   },
   {
    "duration": 0,
    "start_time": "2022-12-10T21:17:51.923Z"
   },
   {
    "duration": 0,
    "start_time": "2022-12-10T21:17:51.925Z"
   },
   {
    "duration": 0,
    "start_time": "2022-12-10T21:17:51.926Z"
   },
   {
    "duration": 0,
    "start_time": "2022-12-10T21:17:51.927Z"
   },
   {
    "duration": 0,
    "start_time": "2022-12-10T21:17:51.928Z"
   },
   {
    "duration": 0,
    "start_time": "2022-12-10T21:17:51.929Z"
   },
   {
    "duration": 0,
    "start_time": "2022-12-10T21:17:51.931Z"
   },
   {
    "duration": 0,
    "start_time": "2022-12-10T21:17:51.932Z"
   },
   {
    "duration": 0,
    "start_time": "2022-12-10T21:17:51.996Z"
   },
   {
    "duration": 0,
    "start_time": "2022-12-10T21:17:51.998Z"
   },
   {
    "duration": 0,
    "start_time": "2022-12-10T21:17:51.999Z"
   },
   {
    "duration": 0,
    "start_time": "2022-12-10T21:17:52.000Z"
   },
   {
    "duration": 0,
    "start_time": "2022-12-10T21:17:52.001Z"
   },
   {
    "duration": 0,
    "start_time": "2022-12-10T21:17:52.002Z"
   },
   {
    "duration": 0,
    "start_time": "2022-12-10T21:17:52.003Z"
   },
   {
    "duration": 0,
    "start_time": "2022-12-10T21:17:52.005Z"
   },
   {
    "duration": 0,
    "start_time": "2022-12-10T21:17:52.006Z"
   },
   {
    "duration": 0,
    "start_time": "2022-12-10T21:17:52.008Z"
   },
   {
    "duration": 0,
    "start_time": "2022-12-10T21:17:52.009Z"
   },
   {
    "duration": 0,
    "start_time": "2022-12-10T21:17:52.010Z"
   },
   {
    "duration": 0,
    "start_time": "2022-12-10T21:17:52.011Z"
   },
   {
    "duration": 0,
    "start_time": "2022-12-10T21:17:52.012Z"
   },
   {
    "duration": 0,
    "start_time": "2022-12-10T21:17:52.013Z"
   },
   {
    "duration": 0,
    "start_time": "2022-12-10T21:17:52.014Z"
   },
   {
    "duration": 0,
    "start_time": "2022-12-10T21:17:52.015Z"
   },
   {
    "duration": 0,
    "start_time": "2022-12-10T21:17:52.016Z"
   },
   {
    "duration": 0,
    "start_time": "2022-12-10T21:17:52.017Z"
   },
   {
    "duration": 0,
    "start_time": "2022-12-10T21:17:52.018Z"
   },
   {
    "duration": 0,
    "start_time": "2022-12-10T21:17:52.019Z"
   },
   {
    "duration": 0,
    "start_time": "2022-12-10T21:17:52.020Z"
   },
   {
    "duration": 0,
    "start_time": "2022-12-10T21:17:52.022Z"
   },
   {
    "duration": 0,
    "start_time": "2022-12-10T21:17:52.023Z"
   },
   {
    "duration": 1,
    "start_time": "2022-12-10T21:17:52.023Z"
   },
   {
    "duration": 0,
    "start_time": "2022-12-10T21:17:52.025Z"
   },
   {
    "duration": 0,
    "start_time": "2022-12-10T21:17:52.025Z"
   },
   {
    "duration": 0,
    "start_time": "2022-12-10T21:17:52.027Z"
   },
   {
    "duration": 1,
    "start_time": "2022-12-10T21:17:52.027Z"
   },
   {
    "duration": 0,
    "start_time": "2022-12-10T21:17:52.029Z"
   },
   {
    "duration": 0,
    "start_time": "2022-12-10T21:17:52.030Z"
   },
   {
    "duration": 0,
    "start_time": "2022-12-10T21:17:52.031Z"
   },
   {
    "duration": 0,
    "start_time": "2022-12-10T21:17:52.032Z"
   },
   {
    "duration": 0,
    "start_time": "2022-12-10T21:17:52.033Z"
   },
   {
    "duration": 0,
    "start_time": "2022-12-10T21:17:52.034Z"
   },
   {
    "duration": 0,
    "start_time": "2022-12-10T21:17:52.035Z"
   },
   {
    "duration": 0,
    "start_time": "2022-12-10T21:17:52.036Z"
   },
   {
    "duration": 0,
    "start_time": "2022-12-10T21:17:52.097Z"
   },
   {
    "duration": 0,
    "start_time": "2022-12-10T21:17:52.099Z"
   },
   {
    "duration": 0,
    "start_time": "2022-12-10T21:17:52.100Z"
   },
   {
    "duration": 0,
    "start_time": "2022-12-10T21:17:52.101Z"
   },
   {
    "duration": 0,
    "start_time": "2022-12-10T21:17:52.102Z"
   },
   {
    "duration": 0,
    "start_time": "2022-12-10T21:17:52.103Z"
   },
   {
    "duration": 0,
    "start_time": "2022-12-10T21:17:52.104Z"
   },
   {
    "duration": 0,
    "start_time": "2022-12-10T21:17:52.105Z"
   },
   {
    "duration": 0,
    "start_time": "2022-12-10T21:17:52.106Z"
   },
   {
    "duration": 0,
    "start_time": "2022-12-10T21:17:52.107Z"
   },
   {
    "duration": 0,
    "start_time": "2022-12-10T21:17:52.108Z"
   },
   {
    "duration": 2,
    "start_time": "2022-12-10T21:19:06.950Z"
   },
   {
    "duration": 10,
    "start_time": "2022-12-10T21:19:06.954Z"
   },
   {
    "duration": 91,
    "start_time": "2022-12-10T21:19:06.966Z"
   },
   {
    "duration": 18,
    "start_time": "2022-12-10T21:19:07.058Z"
   },
   {
    "duration": 53,
    "start_time": "2022-12-10T21:19:07.078Z"
   },
   {
    "duration": 1830,
    "start_time": "2022-12-10T21:19:07.132Z"
   },
   {
    "duration": 4,
    "start_time": "2022-12-10T21:19:08.963Z"
   },
   {
    "duration": 219,
    "start_time": "2022-12-10T21:19:08.968Z"
   },
   {
    "duration": 13,
    "start_time": "2022-12-10T21:19:09.196Z"
   },
   {
    "duration": 5,
    "start_time": "2022-12-10T21:19:09.210Z"
   },
   {
    "duration": 12,
    "start_time": "2022-12-10T21:19:09.216Z"
   },
   {
    "duration": 10,
    "start_time": "2022-12-10T21:19:09.229Z"
   },
   {
    "duration": 7,
    "start_time": "2022-12-10T21:19:09.240Z"
   },
   {
    "duration": 8,
    "start_time": "2022-12-10T21:19:09.250Z"
   },
   {
    "duration": 27,
    "start_time": "2022-12-10T21:19:09.260Z"
   },
   {
    "duration": 21,
    "start_time": "2022-12-10T21:19:09.288Z"
   },
   {
    "duration": 12,
    "start_time": "2022-12-10T21:19:09.311Z"
   },
   {
    "duration": 27,
    "start_time": "2022-12-10T21:19:09.325Z"
   },
   {
    "duration": 12,
    "start_time": "2022-12-10T21:19:09.353Z"
   },
   {
    "duration": 6,
    "start_time": "2022-12-10T21:19:09.366Z"
   },
   {
    "duration": 22,
    "start_time": "2022-12-10T21:19:09.373Z"
   },
   {
    "duration": 7,
    "start_time": "2022-12-10T21:19:09.397Z"
   },
   {
    "duration": 178,
    "start_time": "2022-12-10T21:19:09.406Z"
   },
   {
    "duration": 12,
    "start_time": "2022-12-10T21:19:09.585Z"
   },
   {
    "duration": 7,
    "start_time": "2022-12-10T21:19:09.598Z"
   },
   {
    "duration": 3,
    "start_time": "2022-12-10T21:19:09.607Z"
   },
   {
    "duration": 17,
    "start_time": "2022-12-10T21:19:09.612Z"
   },
   {
    "duration": 4,
    "start_time": "2022-12-10T21:19:09.630Z"
   },
   {
    "duration": 7,
    "start_time": "2022-12-10T21:19:09.636Z"
   },
   {
    "duration": 254,
    "start_time": "2022-12-10T21:19:09.644Z"
   },
   {
    "duration": 152,
    "start_time": "2022-12-10T21:19:09.899Z"
   },
   {
    "duration": 6,
    "start_time": "2022-12-10T21:19:10.052Z"
   },
   {
    "duration": 17,
    "start_time": "2022-12-10T21:19:10.059Z"
   },
   {
    "duration": 352,
    "start_time": "2022-12-10T21:19:10.078Z"
   },
   {
    "duration": 36,
    "start_time": "2022-12-10T21:19:10.431Z"
   },
   {
    "duration": 136,
    "start_time": "2022-12-10T21:19:10.469Z"
   },
   {
    "duration": 15,
    "start_time": "2022-12-10T21:19:10.606Z"
   },
   {
    "duration": 8,
    "start_time": "2022-12-10T21:19:10.622Z"
   },
   {
    "duration": 162,
    "start_time": "2022-12-10T21:19:10.631Z"
   },
   {
    "duration": 6,
    "start_time": "2022-12-10T21:19:10.796Z"
   },
   {
    "duration": 5,
    "start_time": "2022-12-10T21:19:10.809Z"
   },
   {
    "duration": 313,
    "start_time": "2022-12-10T21:19:10.816Z"
   },
   {
    "duration": 6,
    "start_time": "2022-12-10T21:19:11.131Z"
   },
   {
    "duration": 239,
    "start_time": "2022-12-10T21:19:11.139Z"
   },
   {
    "duration": 6,
    "start_time": "2022-12-10T21:19:11.379Z"
   },
   {
    "duration": 16,
    "start_time": "2022-12-10T21:19:11.386Z"
   },
   {
    "duration": 254,
    "start_time": "2022-12-10T21:19:11.404Z"
   },
   {
    "duration": 5,
    "start_time": "2022-12-10T21:19:11.660Z"
   },
   {
    "duration": 14,
    "start_time": "2022-12-10T21:19:11.667Z"
   },
   {
    "duration": 457,
    "start_time": "2022-12-10T21:19:11.683Z"
   },
   {
    "duration": 7,
    "start_time": "2022-12-10T21:19:12.142Z"
   },
   {
    "duration": 255,
    "start_time": "2022-12-10T21:19:12.150Z"
   },
   {
    "duration": 5,
    "start_time": "2022-12-10T21:19:12.407Z"
   },
   {
    "duration": 7,
    "start_time": "2022-12-10T21:19:12.414Z"
   },
   {
    "duration": 232,
    "start_time": "2022-12-10T21:19:12.422Z"
   },
   {
    "duration": 5,
    "start_time": "2022-12-10T21:19:12.656Z"
   },
   {
    "duration": 15,
    "start_time": "2022-12-10T21:19:12.662Z"
   },
   {
    "duration": 9,
    "start_time": "2022-12-10T21:19:12.678Z"
   },
   {
    "duration": 11,
    "start_time": "2022-12-10T21:19:12.689Z"
   },
   {
    "duration": 158,
    "start_time": "2022-12-10T21:19:12.702Z"
   },
   {
    "duration": 7,
    "start_time": "2022-12-10T21:19:12.861Z"
   },
   {
    "duration": 10,
    "start_time": "2022-12-10T21:19:12.869Z"
   },
   {
    "duration": 16,
    "start_time": "2022-12-10T21:19:12.881Z"
   },
   {
    "duration": 8,
    "start_time": "2022-12-10T21:19:12.899Z"
   },
   {
    "duration": 6,
    "start_time": "2022-12-10T21:19:12.909Z"
   },
   {
    "duration": 5,
    "start_time": "2022-12-10T21:19:12.916Z"
   },
   {
    "duration": 4,
    "start_time": "2022-12-10T21:19:12.923Z"
   },
   {
    "duration": 4,
    "start_time": "2022-12-10T21:19:12.929Z"
   },
   {
    "duration": 4,
    "start_time": "2022-12-10T21:19:12.935Z"
   },
   {
    "duration": 7,
    "start_time": "2022-12-10T21:19:12.940Z"
   },
   {
    "duration": 50,
    "start_time": "2022-12-10T21:19:12.949Z"
   },
   {
    "duration": 10,
    "start_time": "2022-12-10T21:19:13.000Z"
   },
   {
    "duration": 4,
    "start_time": "2022-12-10T21:19:13.011Z"
   },
   {
    "duration": 6,
    "start_time": "2022-12-10T21:19:13.017Z"
   },
   {
    "duration": 8,
    "start_time": "2022-12-10T21:19:13.025Z"
   },
   {
    "duration": 4,
    "start_time": "2022-12-10T21:19:13.034Z"
   },
   {
    "duration": 33,
    "start_time": "2022-12-10T21:19:13.040Z"
   },
   {
    "duration": 15,
    "start_time": "2022-12-10T21:19:13.096Z"
   },
   {
    "duration": 10,
    "start_time": "2022-12-10T21:19:13.113Z"
   },
   {
    "duration": 7,
    "start_time": "2022-12-10T21:19:13.125Z"
   },
   {
    "duration": 7,
    "start_time": "2022-12-10T21:19:13.134Z"
   },
   {
    "duration": 11,
    "start_time": "2022-12-10T21:19:13.142Z"
   },
   {
    "duration": 8,
    "start_time": "2022-12-10T21:19:13.154Z"
   },
   {
    "duration": 15,
    "start_time": "2022-12-10T21:19:13.196Z"
   },
   {
    "duration": 8,
    "start_time": "2022-12-10T21:19:13.213Z"
   },
   {
    "duration": 8,
    "start_time": "2022-12-10T21:19:13.222Z"
   },
   {
    "duration": 14,
    "start_time": "2022-12-10T21:19:13.232Z"
   },
   {
    "duration": 11,
    "start_time": "2022-12-10T21:19:13.248Z"
   },
   {
    "duration": 90,
    "start_time": "2022-12-10T21:19:13.261Z"
   },
   {
    "duration": 354,
    "start_time": "2022-12-10T21:19:13.353Z"
   },
   {
    "duration": 8,
    "start_time": "2022-12-10T21:19:13.709Z"
   },
   {
    "duration": 300,
    "start_time": "2022-12-10T21:19:13.718Z"
   },
   {
    "duration": 422,
    "start_time": "2022-12-10T21:19:14.019Z"
   },
   {
    "duration": 127,
    "start_time": "2022-12-10T21:19:14.442Z"
   },
   {
    "duration": 137,
    "start_time": "2022-12-10T21:19:14.571Z"
   },
   {
    "duration": 15,
    "start_time": "2022-12-10T21:19:14.709Z"
   },
   {
    "duration": 11,
    "start_time": "2022-12-10T21:19:14.725Z"
   },
   {
    "duration": 4,
    "start_time": "2022-12-10T21:19:14.738Z"
   },
   {
    "duration": 6,
    "start_time": "2022-12-10T21:19:14.743Z"
   },
   {
    "duration": 4,
    "start_time": "2022-12-10T21:19:14.751Z"
   },
   {
    "duration": 4,
    "start_time": "2022-12-10T21:19:14.756Z"
   },
   {
    "duration": 35,
    "start_time": "2022-12-10T21:19:14.761Z"
   },
   {
    "duration": 168,
    "start_time": "2022-12-10T21:19:14.798Z"
   },
   {
    "duration": 5,
    "start_time": "2022-12-10T21:19:14.968Z"
   },
   {
    "duration": 9,
    "start_time": "2022-12-10T21:19:14.975Z"
   },
   {
    "duration": 11,
    "start_time": "2022-12-10T21:19:14.986Z"
   },
   {
    "duration": 20,
    "start_time": "2022-12-10T21:19:14.999Z"
   },
   {
    "duration": 262,
    "start_time": "2022-12-10T21:19:15.020Z"
   },
   {
    "duration": 15,
    "start_time": "2022-12-10T21:19:15.284Z"
   },
   {
    "duration": 227,
    "start_time": "2022-12-10T21:19:15.300Z"
   },
   {
    "duration": 6,
    "start_time": "2022-12-10T21:19:15.529Z"
   },
   {
    "duration": 8,
    "start_time": "2022-12-10T21:19:15.536Z"
   },
   {
    "duration": 189,
    "start_time": "2022-12-10T21:19:15.546Z"
   },
   {
    "duration": 5,
    "start_time": "2022-12-10T21:19:15.737Z"
   },
   {
    "duration": 7,
    "start_time": "2022-12-10T21:19:15.744Z"
   },
   {
    "duration": 7,
    "start_time": "2022-12-10T21:19:15.752Z"
   },
   {
    "duration": 430,
    "start_time": "2022-12-10T21:19:15.760Z"
   },
   {
    "duration": 142,
    "start_time": "2022-12-10T21:19:16.192Z"
   },
   {
    "duration": 5,
    "start_time": "2022-12-10T21:19:16.335Z"
   },
   {
    "duration": 27,
    "start_time": "2022-12-10T21:19:16.342Z"
   },
   {
    "duration": 8,
    "start_time": "2022-12-10T21:19:16.370Z"
   },
   {
    "duration": 4,
    "start_time": "2022-12-10T21:19:16.385Z"
   },
   {
    "duration": 236,
    "start_time": "2022-12-10T21:19:16.390Z"
   },
   {
    "duration": 160,
    "start_time": "2022-12-10T21:19:16.628Z"
   },
   {
    "duration": 7,
    "start_time": "2022-12-10T21:19:16.790Z"
   },
   {
    "duration": 10,
    "start_time": "2022-12-10T21:19:16.798Z"
   },
   {
    "duration": 8,
    "start_time": "2022-12-10T21:19:16.810Z"
   },
   {
    "duration": 167,
    "start_time": "2022-12-10T21:19:16.819Z"
   },
   {
    "duration": 9,
    "start_time": "2022-12-10T21:19:16.988Z"
   },
   {
    "duration": 260,
    "start_time": "2022-12-10T21:19:16.999Z"
   },
   {
    "duration": 262,
    "start_time": "2022-12-10T21:19:17.261Z"
   },
   {
    "duration": 358,
    "start_time": "2022-12-10T21:19:17.524Z"
   },
   {
    "duration": 257,
    "start_time": "2022-12-10T21:19:17.883Z"
   },
   {
    "duration": 237,
    "start_time": "2022-12-10T21:19:18.141Z"
   },
   {
    "duration": 136,
    "start_time": "2022-12-10T21:19:18.380Z"
   },
   {
    "duration": 142,
    "start_time": "2022-12-10T21:19:18.517Z"
   },
   {
    "duration": 252,
    "start_time": "2022-12-10T21:19:18.660Z"
   },
   {
    "duration": 7,
    "start_time": "2022-12-10T21:19:18.914Z"
   },
   {
    "duration": 17,
    "start_time": "2022-12-10T21:19:18.923Z"
   },
   {
    "duration": 21,
    "start_time": "2022-12-10T21:19:18.941Z"
   },
   {
    "duration": 42,
    "start_time": "2022-12-10T21:19:18.964Z"
   },
   {
    "duration": 48,
    "start_time": "2022-12-10T21:19:19.008Z"
   },
   {
    "duration": 17,
    "start_time": "2022-12-10T21:19:19.058Z"
   },
   {
    "duration": 187,
    "start_time": "2022-12-10T21:19:19.077Z"
   },
   {
    "duration": 314,
    "start_time": "2022-12-10T21:19:19.267Z"
   },
   {
    "duration": 16,
    "start_time": "2022-12-10T21:19:19.583Z"
   },
   {
    "duration": 163,
    "start_time": "2022-12-10T21:19:19.600Z"
   },
   {
    "duration": 205,
    "start_time": "2022-12-10T21:19:19.764Z"
   },
   {
    "duration": 6,
    "start_time": "2022-12-10T21:19:19.970Z"
   },
   {
    "duration": 164,
    "start_time": "2022-12-10T21:19:19.977Z"
   },
   {
    "duration": 182,
    "start_time": "2022-12-10T21:19:20.143Z"
   },
   {
    "duration": 6,
    "start_time": "2022-12-10T21:19:20.326Z"
   },
   {
    "duration": 204,
    "start_time": "2022-12-10T21:19:20.333Z"
   },
   {
    "duration": 5,
    "start_time": "2022-12-10T21:19:20.539Z"
   },
   {
    "duration": 159,
    "start_time": "2022-12-10T21:19:20.546Z"
   },
   {
    "duration": 20,
    "start_time": "2022-12-10T21:19:20.707Z"
   },
   {
    "duration": 193,
    "start_time": "2022-12-10T21:19:20.729Z"
   },
   {
    "duration": 18,
    "start_time": "2022-12-10T21:19:20.924Z"
   },
   {
    "duration": 180,
    "start_time": "2022-12-10T21:19:20.944Z"
   },
   {
    "duration": 21,
    "start_time": "2022-12-10T21:19:21.126Z"
   },
   {
    "duration": 176,
    "start_time": "2022-12-10T21:19:21.149Z"
   },
   {
    "duration": 18,
    "start_time": "2022-12-10T21:19:21.326Z"
   },
   {
    "duration": 20,
    "start_time": "2022-12-10T21:19:21.346Z"
   },
   {
    "duration": 165,
    "start_time": "2022-12-10T21:19:21.368Z"
   },
   {
    "duration": 16,
    "start_time": "2022-12-10T21:19:21.534Z"
   },
   {
    "duration": 160,
    "start_time": "2022-12-10T21:19:21.551Z"
   },
   {
    "duration": 5,
    "start_time": "2022-12-10T21:19:21.713Z"
   },
   {
    "duration": 13,
    "start_time": "2022-12-10T21:19:21.719Z"
   },
   {
    "duration": 2,
    "start_time": "2022-12-10T21:19:21.733Z"
   },
   {
    "duration": 9024,
    "start_time": "2022-12-10T21:19:21.737Z"
   },
   {
    "duration": 392,
    "start_time": "2022-12-10T21:19:30.762Z"
   },
   {
    "duration": 950,
    "start_time": "2022-12-10T21:19:31.156Z"
   },
   {
    "duration": 199,
    "start_time": "2022-12-10T21:19:32.108Z"
   },
   {
    "duration": 4,
    "start_time": "2022-12-10T21:20:06.963Z"
   },
   {
    "duration": 5,
    "start_time": "2022-12-10T21:20:12.747Z"
   },
   {
    "duration": 221,
    "start_time": "2022-12-10T21:20:26.203Z"
   },
   {
    "duration": 28,
    "start_time": "2022-12-10T21:20:50.363Z"
   },
   {
    "duration": 62,
    "start_time": "2022-12-10T21:22:25.720Z"
   },
   {
    "duration": 18,
    "start_time": "2022-12-10T21:22:33.044Z"
   },
   {
    "duration": 5,
    "start_time": "2022-12-10T21:22:57.383Z"
   },
   {
    "duration": 62,
    "start_time": "2022-12-10T21:23:03.525Z"
   },
   {
    "duration": 1124,
    "start_time": "2022-12-10T21:23:16.514Z"
   },
   {
    "duration": 3,
    "start_time": "2022-12-10T21:23:17.640Z"
   },
   {
    "duration": 92,
    "start_time": "2022-12-10T21:23:17.644Z"
   },
   {
    "duration": 20,
    "start_time": "2022-12-10T21:23:17.738Z"
   },
   {
    "duration": 13,
    "start_time": "2022-12-10T21:23:17.760Z"
   },
   {
    "duration": 1855,
    "start_time": "2022-12-10T21:23:17.775Z"
   },
   {
    "duration": 4,
    "start_time": "2022-12-10T21:23:19.632Z"
   },
   {
    "duration": 301,
    "start_time": "2022-12-10T21:23:19.637Z"
   },
   {
    "duration": 13,
    "start_time": "2022-12-10T21:23:19.940Z"
   },
   {
    "duration": 4,
    "start_time": "2022-12-10T21:23:19.956Z"
   },
   {
    "duration": 5,
    "start_time": "2022-12-10T21:23:19.962Z"
   },
   {
    "duration": 32,
    "start_time": "2022-12-10T21:23:19.969Z"
   },
   {
    "duration": 8,
    "start_time": "2022-12-10T21:23:20.002Z"
   },
   {
    "duration": 20,
    "start_time": "2022-12-10T21:23:20.012Z"
   },
   {
    "duration": 6,
    "start_time": "2022-12-10T21:23:20.034Z"
   },
   {
    "duration": 8,
    "start_time": "2022-12-10T21:23:20.041Z"
   },
   {
    "duration": 5,
    "start_time": "2022-12-10T21:23:20.050Z"
   },
   {
    "duration": 11,
    "start_time": "2022-12-10T21:23:20.056Z"
   },
   {
    "duration": 27,
    "start_time": "2022-12-10T21:23:20.069Z"
   },
   {
    "duration": 6,
    "start_time": "2022-12-10T21:23:20.098Z"
   },
   {
    "duration": 15,
    "start_time": "2022-12-10T21:23:20.106Z"
   },
   {
    "duration": 8,
    "start_time": "2022-12-10T21:23:20.122Z"
   },
   {
    "duration": 206,
    "start_time": "2022-12-10T21:23:20.131Z"
   },
   {
    "duration": 7,
    "start_time": "2022-12-10T21:23:20.339Z"
   },
   {
    "duration": 8,
    "start_time": "2022-12-10T21:23:20.348Z"
   },
   {
    "duration": 4,
    "start_time": "2022-12-10T21:23:20.357Z"
   },
   {
    "duration": 5,
    "start_time": "2022-12-10T21:23:20.363Z"
   },
   {
    "duration": 5,
    "start_time": "2022-12-10T21:23:20.395Z"
   },
   {
    "duration": 9,
    "start_time": "2022-12-10T21:23:20.401Z"
   },
   {
    "duration": 241,
    "start_time": "2022-12-10T21:23:20.411Z"
   },
   {
    "duration": 129,
    "start_time": "2022-12-10T21:23:20.654Z"
   },
   {
    "duration": 15,
    "start_time": "2022-12-10T21:23:20.784Z"
   },
   {
    "duration": 10,
    "start_time": "2022-12-10T21:23:20.800Z"
   },
   {
    "duration": 61,
    "start_time": "2022-12-10T21:23:20.812Z"
   },
   {
    "duration": 33,
    "start_time": "2022-12-10T21:23:20.874Z"
   },
   {
    "duration": 4,
    "start_time": "2022-12-10T21:23:20.909Z"
   },
   {
    "duration": 48,
    "start_time": "2022-12-10T21:23:20.915Z"
   },
   {
    "duration": 134,
    "start_time": "2022-12-10T21:23:20.964Z"
   },
   {
    "duration": 14,
    "start_time": "2022-12-10T21:23:21.100Z"
   },
   {
    "duration": 11,
    "start_time": "2022-12-10T21:23:21.116Z"
   },
   {
    "duration": 154,
    "start_time": "2022-12-10T21:23:21.128Z"
   },
   {
    "duration": 13,
    "start_time": "2022-12-10T21:23:21.284Z"
   },
   {
    "duration": 6,
    "start_time": "2022-12-10T21:23:21.298Z"
   },
   {
    "duration": 302,
    "start_time": "2022-12-10T21:23:21.305Z"
   },
   {
    "duration": 6,
    "start_time": "2022-12-10T21:23:21.608Z"
   },
   {
    "duration": 323,
    "start_time": "2022-12-10T21:23:21.616Z"
   },
   {
    "duration": 6,
    "start_time": "2022-12-10T21:23:21.941Z"
   },
   {
    "duration": 18,
    "start_time": "2022-12-10T21:23:21.949Z"
   },
   {
    "duration": 265,
    "start_time": "2022-12-10T21:23:21.968Z"
   },
   {
    "duration": 4,
    "start_time": "2022-12-10T21:23:22.235Z"
   },
   {
    "duration": 10,
    "start_time": "2022-12-10T21:23:22.240Z"
   },
   {
    "duration": 353,
    "start_time": "2022-12-10T21:23:22.251Z"
   },
   {
    "duration": 8,
    "start_time": "2022-12-10T21:23:22.605Z"
   },
   {
    "duration": 258,
    "start_time": "2022-12-10T21:23:22.614Z"
   },
   {
    "duration": 5,
    "start_time": "2022-12-10T21:23:22.874Z"
   },
   {
    "duration": 18,
    "start_time": "2022-12-10T21:23:22.881Z"
   },
   {
    "duration": 249,
    "start_time": "2022-12-10T21:23:22.901Z"
   },
   {
    "duration": 5,
    "start_time": "2022-12-10T21:23:23.152Z"
   },
   {
    "duration": 11,
    "start_time": "2022-12-10T21:23:23.158Z"
   },
   {
    "duration": 19,
    "start_time": "2022-12-10T21:23:23.171Z"
   },
   {
    "duration": 13,
    "start_time": "2022-12-10T21:23:23.191Z"
   },
   {
    "duration": 242,
    "start_time": "2022-12-10T21:23:23.206Z"
   },
   {
    "duration": 6,
    "start_time": "2022-12-10T21:23:23.449Z"
   },
   {
    "duration": 9,
    "start_time": "2022-12-10T21:23:23.456Z"
   },
   {
    "duration": 3,
    "start_time": "2022-12-10T21:23:23.467Z"
   },
   {
    "duration": 26,
    "start_time": "2022-12-10T21:23:23.471Z"
   },
   {
    "duration": 4,
    "start_time": "2022-12-10T21:23:23.498Z"
   },
   {
    "duration": 4,
    "start_time": "2022-12-10T21:23:23.503Z"
   },
   {
    "duration": 4,
    "start_time": "2022-12-10T21:23:23.509Z"
   },
   {
    "duration": 4,
    "start_time": "2022-12-10T21:23:23.514Z"
   },
   {
    "duration": 5,
    "start_time": "2022-12-10T21:23:23.519Z"
   },
   {
    "duration": 7,
    "start_time": "2022-12-10T21:23:23.525Z"
   },
   {
    "duration": 6,
    "start_time": "2022-12-10T21:23:23.534Z"
   },
   {
    "duration": 8,
    "start_time": "2022-12-10T21:23:23.541Z"
   },
   {
    "duration": 4,
    "start_time": "2022-12-10T21:23:23.550Z"
   },
   {
    "duration": 40,
    "start_time": "2022-12-10T21:23:23.556Z"
   },
   {
    "duration": 9,
    "start_time": "2022-12-10T21:23:23.598Z"
   },
   {
    "duration": 4,
    "start_time": "2022-12-10T21:23:23.608Z"
   },
   {
    "duration": 34,
    "start_time": "2022-12-10T21:23:23.614Z"
   },
   {
    "duration": 14,
    "start_time": "2022-12-10T21:23:23.650Z"
   },
   {
    "duration": 32,
    "start_time": "2022-12-10T21:23:23.665Z"
   },
   {
    "duration": 7,
    "start_time": "2022-12-10T21:23:23.704Z"
   },
   {
    "duration": 35,
    "start_time": "2022-12-10T21:23:23.713Z"
   },
   {
    "duration": 17,
    "start_time": "2022-12-10T21:23:23.750Z"
   },
   {
    "duration": 18,
    "start_time": "2022-12-10T21:23:23.768Z"
   },
   {
    "duration": 22,
    "start_time": "2022-12-10T21:23:23.788Z"
   },
   {
    "duration": 8,
    "start_time": "2022-12-10T21:23:23.812Z"
   },
   {
    "duration": 7,
    "start_time": "2022-12-10T21:23:23.821Z"
   },
   {
    "duration": 18,
    "start_time": "2022-12-10T21:23:23.830Z"
   },
   {
    "duration": 11,
    "start_time": "2022-12-10T21:23:23.849Z"
   },
   {
    "duration": 79,
    "start_time": "2022-12-10T21:23:23.862Z"
   },
   {
    "duration": 354,
    "start_time": "2022-12-10T21:23:23.942Z"
   },
   {
    "duration": 7,
    "start_time": "2022-12-10T21:23:24.298Z"
   },
   {
    "duration": 287,
    "start_time": "2022-12-10T21:23:24.307Z"
   },
   {
    "duration": 298,
    "start_time": "2022-12-10T21:23:24.595Z"
   },
   {
    "duration": 132,
    "start_time": "2022-12-10T21:23:24.896Z"
   },
   {
    "duration": 241,
    "start_time": "2022-12-10T21:23:25.030Z"
   },
   {
    "duration": 14,
    "start_time": "2022-12-10T21:23:25.273Z"
   },
   {
    "duration": 13,
    "start_time": "2022-12-10T21:23:25.296Z"
   },
   {
    "duration": 5,
    "start_time": "2022-12-10T21:23:25.310Z"
   },
   {
    "duration": 6,
    "start_time": "2022-12-10T21:23:25.317Z"
   },
   {
    "duration": 5,
    "start_time": "2022-12-10T21:23:25.325Z"
   },
   {
    "duration": 6,
    "start_time": "2022-12-10T21:23:25.331Z"
   },
   {
    "duration": 3,
    "start_time": "2022-12-10T21:23:25.338Z"
   },
   {
    "duration": 233,
    "start_time": "2022-12-10T21:23:25.343Z"
   },
   {
    "duration": 4,
    "start_time": "2022-12-10T21:23:25.578Z"
   },
   {
    "duration": 13,
    "start_time": "2022-12-10T21:23:25.584Z"
   },
   {
    "duration": 5,
    "start_time": "2022-12-10T21:23:25.599Z"
   },
   {
    "duration": 5,
    "start_time": "2022-12-10T21:23:25.606Z"
   },
   {
    "duration": 259,
    "start_time": "2022-12-10T21:23:25.612Z"
   },
   {
    "duration": 8,
    "start_time": "2022-12-10T21:23:25.873Z"
   },
   {
    "duration": 317,
    "start_time": "2022-12-10T21:23:25.883Z"
   },
   {
    "duration": 6,
    "start_time": "2022-12-10T21:23:26.201Z"
   },
   {
    "duration": 8,
    "start_time": "2022-12-10T21:23:26.209Z"
   },
   {
    "duration": 174,
    "start_time": "2022-12-10T21:23:26.218Z"
   },
   {
    "duration": 5,
    "start_time": "2022-12-10T21:23:26.397Z"
   },
   {
    "duration": 9,
    "start_time": "2022-12-10T21:23:26.403Z"
   },
   {
    "duration": 7,
    "start_time": "2022-12-10T21:23:26.414Z"
   },
   {
    "duration": 258,
    "start_time": "2022-12-10T21:23:26.423Z"
   },
   {
    "duration": 154,
    "start_time": "2022-12-10T21:23:26.683Z"
   },
   {
    "duration": 6,
    "start_time": "2022-12-10T21:23:26.839Z"
   },
   {
    "duration": 16,
    "start_time": "2022-12-10T21:23:26.846Z"
   },
   {
    "duration": 18,
    "start_time": "2022-12-10T21:23:26.864Z"
   },
   {
    "duration": 14,
    "start_time": "2022-12-10T21:23:26.883Z"
   },
   {
    "duration": 345,
    "start_time": "2022-12-10T21:23:26.899Z"
   },
   {
    "duration": 167,
    "start_time": "2022-12-10T21:23:27.245Z"
   },
   {
    "duration": 6,
    "start_time": "2022-12-10T21:23:27.413Z"
   },
   {
    "duration": 6,
    "start_time": "2022-12-10T21:23:27.421Z"
   },
   {
    "duration": 13,
    "start_time": "2022-12-10T21:23:27.429Z"
   },
   {
    "duration": 171,
    "start_time": "2022-12-10T21:23:27.444Z"
   },
   {
    "duration": 5,
    "start_time": "2022-12-10T21:23:27.617Z"
   },
   {
    "duration": 304,
    "start_time": "2022-12-10T21:23:27.625Z"
   },
   {
    "duration": 293,
    "start_time": "2022-12-10T21:23:27.931Z"
   },
   {
    "duration": 274,
    "start_time": "2022-12-10T21:23:28.226Z"
   },
   {
    "duration": 381,
    "start_time": "2022-12-10T21:23:28.502Z"
   },
   {
    "duration": 273,
    "start_time": "2022-12-10T21:23:28.885Z"
   },
   {
    "duration": 159,
    "start_time": "2022-12-10T21:23:29.160Z"
   },
   {
    "duration": 164,
    "start_time": "2022-12-10T21:23:29.320Z"
   },
   {
    "duration": 284,
    "start_time": "2022-12-10T21:23:29.486Z"
   },
   {
    "duration": 9,
    "start_time": "2022-12-10T21:23:29.771Z"
   },
   {
    "duration": 19,
    "start_time": "2022-12-10T21:23:29.781Z"
   },
   {
    "duration": 9,
    "start_time": "2022-12-10T21:23:29.801Z"
   },
   {
    "duration": 12,
    "start_time": "2022-12-10T21:23:29.812Z"
   },
   {
    "duration": 5,
    "start_time": "2022-12-10T21:23:29.825Z"
   },
   {
    "duration": 11,
    "start_time": "2022-12-10T21:23:29.831Z"
   },
   {
    "duration": 213,
    "start_time": "2022-12-10T21:23:29.844Z"
   },
   {
    "duration": 237,
    "start_time": "2022-12-10T21:23:30.059Z"
   },
   {
    "duration": 6,
    "start_time": "2022-12-10T21:23:30.298Z"
   },
   {
    "duration": 202,
    "start_time": "2022-12-10T21:23:30.305Z"
   },
   {
    "duration": 221,
    "start_time": "2022-12-10T21:23:30.508Z"
   },
   {
    "duration": 5,
    "start_time": "2022-12-10T21:23:30.731Z"
   },
   {
    "duration": 292,
    "start_time": "2022-12-10T21:23:30.738Z"
   },
   {
    "duration": 215,
    "start_time": "2022-12-10T21:23:31.032Z"
   },
   {
    "duration": 7,
    "start_time": "2022-12-10T21:23:31.249Z"
   },
   {
    "duration": 229,
    "start_time": "2022-12-10T21:23:31.257Z"
   },
   {
    "duration": 11,
    "start_time": "2022-12-10T21:23:31.489Z"
   },
   {
    "duration": 174,
    "start_time": "2022-12-10T21:23:31.502Z"
   },
   {
    "duration": 34,
    "start_time": "2022-12-10T21:23:31.678Z"
   },
   {
    "duration": 190,
    "start_time": "2022-12-10T21:23:31.714Z"
   },
   {
    "duration": 20,
    "start_time": "2022-12-10T21:23:31.906Z"
   },
   {
    "duration": 198,
    "start_time": "2022-12-10T21:23:31.929Z"
   },
   {
    "duration": 20,
    "start_time": "2022-12-10T21:23:32.129Z"
   },
   {
    "duration": 215,
    "start_time": "2022-12-10T21:23:32.151Z"
   },
   {
    "duration": 30,
    "start_time": "2022-12-10T21:23:32.367Z"
   },
   {
    "duration": 26,
    "start_time": "2022-12-10T21:23:32.400Z"
   },
   {
    "duration": 192,
    "start_time": "2022-12-10T21:23:32.429Z"
   },
   {
    "duration": 18,
    "start_time": "2022-12-10T21:23:32.622Z"
   },
   {
    "duration": 160,
    "start_time": "2022-12-10T21:23:32.642Z"
   },
   {
    "duration": 5,
    "start_time": "2022-12-10T21:23:32.803Z"
   },
   {
    "duration": 20,
    "start_time": "2022-12-10T21:23:32.810Z"
   },
   {
    "duration": 9,
    "start_time": "2022-12-10T21:23:32.831Z"
   },
   {
    "duration": 8749,
    "start_time": "2022-12-10T21:23:32.841Z"
   },
   {
    "duration": 393,
    "start_time": "2022-12-10T21:23:41.592Z"
   },
   {
    "duration": 942,
    "start_time": "2022-12-10T21:23:41.986Z"
   },
   {
    "duration": 183,
    "start_time": "2022-12-10T21:23:42.930Z"
   },
   {
    "duration": 4,
    "start_time": "2022-12-10T21:24:14.464Z"
   },
   {
    "duration": 13,
    "start_time": "2022-12-10T21:28:09.338Z"
   },
   {
    "duration": 1049,
    "start_time": "2022-12-10T21:32:37.360Z"
   },
   {
    "duration": 3,
    "start_time": "2022-12-10T21:32:38.411Z"
   },
   {
    "duration": 91,
    "start_time": "2022-12-10T21:32:38.415Z"
   },
   {
    "duration": 22,
    "start_time": "2022-12-10T21:32:38.507Z"
   },
   {
    "duration": 14,
    "start_time": "2022-12-10T21:32:38.530Z"
   },
   {
    "duration": 1899,
    "start_time": "2022-12-10T21:32:38.546Z"
   },
   {
    "duration": 4,
    "start_time": "2022-12-10T21:32:40.447Z"
   },
   {
    "duration": 306,
    "start_time": "2022-12-10T21:32:40.453Z"
   },
   {
    "duration": 12,
    "start_time": "2022-12-10T21:32:40.760Z"
   },
   {
    "duration": 22,
    "start_time": "2022-12-10T21:32:40.774Z"
   },
   {
    "duration": 4,
    "start_time": "2022-12-10T21:32:40.798Z"
   },
   {
    "duration": 7,
    "start_time": "2022-12-10T21:32:40.804Z"
   },
   {
    "duration": 4,
    "start_time": "2022-12-10T21:32:40.813Z"
   },
   {
    "duration": 5,
    "start_time": "2022-12-10T21:32:40.821Z"
   },
   {
    "duration": 5,
    "start_time": "2022-12-10T21:32:40.827Z"
   },
   {
    "duration": 4,
    "start_time": "2022-12-10T21:32:40.834Z"
   },
   {
    "duration": 4,
    "start_time": "2022-12-10T21:32:40.840Z"
   },
   {
    "duration": 6,
    "start_time": "2022-12-10T21:32:40.845Z"
   },
   {
    "duration": 13,
    "start_time": "2022-12-10T21:32:40.896Z"
   },
   {
    "duration": 6,
    "start_time": "2022-12-10T21:32:40.911Z"
   },
   {
    "duration": 17,
    "start_time": "2022-12-10T21:32:40.918Z"
   },
   {
    "duration": 9,
    "start_time": "2022-12-10T21:32:40.936Z"
   },
   {
    "duration": 202,
    "start_time": "2022-12-10T21:32:40.946Z"
   },
   {
    "duration": 6,
    "start_time": "2022-12-10T21:32:41.150Z"
   },
   {
    "duration": 7,
    "start_time": "2022-12-10T21:32:41.157Z"
   },
   {
    "duration": 4,
    "start_time": "2022-12-10T21:32:41.165Z"
   },
   {
    "duration": 29,
    "start_time": "2022-12-10T21:32:41.170Z"
   },
   {
    "duration": 4,
    "start_time": "2022-12-10T21:32:41.200Z"
   },
   {
    "duration": 7,
    "start_time": "2022-12-10T21:32:41.206Z"
   },
   {
    "duration": 252,
    "start_time": "2022-12-10T21:32:41.214Z"
   },
   {
    "duration": 143,
    "start_time": "2022-12-10T21:32:41.467Z"
   },
   {
    "duration": 6,
    "start_time": "2022-12-10T21:32:41.611Z"
   },
   {
    "duration": 9,
    "start_time": "2022-12-10T21:32:41.618Z"
   },
   {
    "duration": 76,
    "start_time": "2022-12-10T21:32:41.629Z"
   },
   {
    "duration": 3,
    "start_time": "2022-12-10T21:32:41.707Z"
   },
   {
    "duration": 5,
    "start_time": "2022-12-10T21:32:41.712Z"
   },
   {
    "duration": 34,
    "start_time": "2022-12-10T21:32:41.719Z"
   },
   {
    "duration": 149,
    "start_time": "2022-12-10T21:32:41.754Z"
   },
   {
    "duration": 13,
    "start_time": "2022-12-10T21:32:41.905Z"
   },
   {
    "duration": 6,
    "start_time": "2022-12-10T21:32:41.919Z"
   },
   {
    "duration": 166,
    "start_time": "2022-12-10T21:32:41.932Z"
   },
   {
    "duration": 5,
    "start_time": "2022-12-10T21:32:42.100Z"
   },
   {
    "duration": 7,
    "start_time": "2022-12-10T21:32:42.107Z"
   },
   {
    "duration": 295,
    "start_time": "2022-12-10T21:32:42.115Z"
   },
   {
    "duration": 7,
    "start_time": "2022-12-10T21:32:42.412Z"
   },
   {
    "duration": 318,
    "start_time": "2022-12-10T21:32:42.420Z"
   },
   {
    "duration": 6,
    "start_time": "2022-12-10T21:32:42.739Z"
   },
   {
    "duration": 9,
    "start_time": "2022-12-10T21:32:42.746Z"
   },
   {
    "duration": 223,
    "start_time": "2022-12-10T21:32:42.756Z"
   },
   {
    "duration": 5,
    "start_time": "2022-12-10T21:32:42.980Z"
   },
   {
    "duration": 12,
    "start_time": "2022-12-10T21:32:42.986Z"
   },
   {
    "duration": 350,
    "start_time": "2022-12-10T21:32:42.999Z"
   },
   {
    "duration": 7,
    "start_time": "2022-12-10T21:32:43.350Z"
   },
   {
    "duration": 243,
    "start_time": "2022-12-10T21:32:43.358Z"
   },
   {
    "duration": 5,
    "start_time": "2022-12-10T21:32:43.603Z"
   },
   {
    "duration": 9,
    "start_time": "2022-12-10T21:32:43.609Z"
   },
   {
    "duration": 239,
    "start_time": "2022-12-10T21:32:43.620Z"
   },
   {
    "duration": 5,
    "start_time": "2022-12-10T21:32:43.861Z"
   },
   {
    "duration": 8,
    "start_time": "2022-12-10T21:32:43.867Z"
   },
   {
    "duration": 21,
    "start_time": "2022-12-10T21:32:43.876Z"
   },
   {
    "duration": 10,
    "start_time": "2022-12-10T21:32:43.898Z"
   },
   {
    "duration": 253,
    "start_time": "2022-12-10T21:32:43.909Z"
   },
   {
    "duration": 5,
    "start_time": "2022-12-10T21:32:44.164Z"
   },
   {
    "duration": 10,
    "start_time": "2022-12-10T21:32:44.170Z"
   },
   {
    "duration": 14,
    "start_time": "2022-12-10T21:32:44.182Z"
   },
   {
    "duration": 4,
    "start_time": "2022-12-10T21:32:44.198Z"
   },
   {
    "duration": 11,
    "start_time": "2022-12-10T21:32:44.203Z"
   },
   {
    "duration": 7,
    "start_time": "2022-12-10T21:32:44.215Z"
   },
   {
    "duration": 5,
    "start_time": "2022-12-10T21:32:44.223Z"
   },
   {
    "duration": 6,
    "start_time": "2022-12-10T21:32:44.229Z"
   },
   {
    "duration": 8,
    "start_time": "2022-12-10T21:32:44.236Z"
   },
   {
    "duration": 7,
    "start_time": "2022-12-10T21:32:44.245Z"
   },
   {
    "duration": 7,
    "start_time": "2022-12-10T21:32:44.253Z"
   },
   {
    "duration": 8,
    "start_time": "2022-12-10T21:32:44.261Z"
   },
   {
    "duration": 5,
    "start_time": "2022-12-10T21:32:44.270Z"
   },
   {
    "duration": 19,
    "start_time": "2022-12-10T21:32:44.277Z"
   },
   {
    "duration": 4,
    "start_time": "2022-12-10T21:32:44.298Z"
   },
   {
    "duration": 6,
    "start_time": "2022-12-10T21:32:44.303Z"
   },
   {
    "duration": 16,
    "start_time": "2022-12-10T21:32:44.310Z"
   },
   {
    "duration": 4,
    "start_time": "2022-12-10T21:32:44.327Z"
   },
   {
    "duration": 5,
    "start_time": "2022-12-10T21:32:44.333Z"
   },
   {
    "duration": 6,
    "start_time": "2022-12-10T21:32:44.340Z"
   },
   {
    "duration": 8,
    "start_time": "2022-12-10T21:32:44.347Z"
   },
   {
    "duration": 5,
    "start_time": "2022-12-10T21:32:44.356Z"
   },
   {
    "duration": 7,
    "start_time": "2022-12-10T21:32:44.362Z"
   },
   {
    "duration": 5,
    "start_time": "2022-12-10T21:32:44.395Z"
   },
   {
    "duration": 6,
    "start_time": "2022-12-10T21:32:44.402Z"
   },
   {
    "duration": 8,
    "start_time": "2022-12-10T21:32:44.409Z"
   },
   {
    "duration": 9,
    "start_time": "2022-12-10T21:32:44.418Z"
   },
   {
    "duration": 11,
    "start_time": "2022-12-10T21:32:44.428Z"
   },
   {
    "duration": 66,
    "start_time": "2022-12-10T21:32:44.440Z"
   },
   {
    "duration": 362,
    "start_time": "2022-12-10T21:32:44.509Z"
   },
   {
    "duration": 7,
    "start_time": "2022-12-10T21:32:44.873Z"
   },
   {
    "duration": 297,
    "start_time": "2022-12-10T21:32:44.882Z"
   },
   {
    "duration": 295,
    "start_time": "2022-12-10T21:32:45.181Z"
   },
   {
    "duration": 137,
    "start_time": "2022-12-10T21:32:45.477Z"
   },
   {
    "duration": 236,
    "start_time": "2022-12-10T21:32:45.616Z"
   },
   {
    "duration": 14,
    "start_time": "2022-12-10T21:32:45.854Z"
   },
   {
    "duration": 8,
    "start_time": "2022-12-10T21:32:45.869Z"
   },
   {
    "duration": 18,
    "start_time": "2022-12-10T21:32:45.879Z"
   },
   {
    "duration": 12,
    "start_time": "2022-12-10T21:32:45.899Z"
   },
   {
    "duration": 5,
    "start_time": "2022-12-10T21:32:45.913Z"
   },
   {
    "duration": 10,
    "start_time": "2022-12-10T21:32:45.920Z"
   },
   {
    "duration": 39,
    "start_time": "2022-12-10T21:32:45.932Z"
   },
   {
    "duration": 839,
    "start_time": "2022-12-10T21:32:45.973Z"
   },
   {
    "duration": 0,
    "start_time": "2022-12-10T21:32:46.817Z"
   },
   {
    "duration": 0,
    "start_time": "2022-12-10T21:32:46.818Z"
   },
   {
    "duration": 0,
    "start_time": "2022-12-10T21:32:46.819Z"
   },
   {
    "duration": 0,
    "start_time": "2022-12-10T21:32:46.821Z"
   },
   {
    "duration": 0,
    "start_time": "2022-12-10T21:32:46.822Z"
   },
   {
    "duration": 0,
    "start_time": "2022-12-10T21:32:46.823Z"
   },
   {
    "duration": 0,
    "start_time": "2022-12-10T21:32:46.824Z"
   },
   {
    "duration": 0,
    "start_time": "2022-12-10T21:32:46.826Z"
   },
   {
    "duration": 1,
    "start_time": "2022-12-10T21:32:46.826Z"
   },
   {
    "duration": 0,
    "start_time": "2022-12-10T21:32:46.828Z"
   },
   {
    "duration": 0,
    "start_time": "2022-12-10T21:32:46.829Z"
   },
   {
    "duration": 0,
    "start_time": "2022-12-10T21:32:46.830Z"
   },
   {
    "duration": 0,
    "start_time": "2022-12-10T21:32:46.831Z"
   },
   {
    "duration": 0,
    "start_time": "2022-12-10T21:32:46.832Z"
   },
   {
    "duration": 0,
    "start_time": "2022-12-10T21:32:46.833Z"
   },
   {
    "duration": 0,
    "start_time": "2022-12-10T21:32:46.834Z"
   },
   {
    "duration": 0,
    "start_time": "2022-12-10T21:32:46.835Z"
   },
   {
    "duration": 0,
    "start_time": "2022-12-10T21:32:46.835Z"
   },
   {
    "duration": 0,
    "start_time": "2022-12-10T21:32:46.836Z"
   },
   {
    "duration": 0,
    "start_time": "2022-12-10T21:32:46.837Z"
   },
   {
    "duration": 0,
    "start_time": "2022-12-10T21:32:46.838Z"
   },
   {
    "duration": 0,
    "start_time": "2022-12-10T21:32:46.839Z"
   },
   {
    "duration": 0,
    "start_time": "2022-12-10T21:32:46.841Z"
   },
   {
    "duration": 0,
    "start_time": "2022-12-10T21:32:46.842Z"
   },
   {
    "duration": 0,
    "start_time": "2022-12-10T21:32:46.842Z"
   },
   {
    "duration": 0,
    "start_time": "2022-12-10T21:32:46.843Z"
   },
   {
    "duration": 0,
    "start_time": "2022-12-10T21:32:46.845Z"
   },
   {
    "duration": 0,
    "start_time": "2022-12-10T21:32:46.846Z"
   },
   {
    "duration": 0,
    "start_time": "2022-12-10T21:32:46.847Z"
   },
   {
    "duration": 0,
    "start_time": "2022-12-10T21:32:46.848Z"
   },
   {
    "duration": 0,
    "start_time": "2022-12-10T21:32:46.849Z"
   },
   {
    "duration": 0,
    "start_time": "2022-12-10T21:32:46.850Z"
   },
   {
    "duration": 0,
    "start_time": "2022-12-10T21:32:46.851Z"
   },
   {
    "duration": 0,
    "start_time": "2022-12-10T21:32:46.852Z"
   },
   {
    "duration": 0,
    "start_time": "2022-12-10T21:32:46.896Z"
   },
   {
    "duration": 0,
    "start_time": "2022-12-10T21:32:46.897Z"
   },
   {
    "duration": 0,
    "start_time": "2022-12-10T21:32:46.898Z"
   },
   {
    "duration": 0,
    "start_time": "2022-12-10T21:32:46.899Z"
   },
   {
    "duration": 0,
    "start_time": "2022-12-10T21:32:46.901Z"
   },
   {
    "duration": 0,
    "start_time": "2022-12-10T21:32:46.902Z"
   },
   {
    "duration": 0,
    "start_time": "2022-12-10T21:32:46.903Z"
   },
   {
    "duration": 0,
    "start_time": "2022-12-10T21:32:46.904Z"
   },
   {
    "duration": 0,
    "start_time": "2022-12-10T21:32:46.905Z"
   },
   {
    "duration": 0,
    "start_time": "2022-12-10T21:32:46.906Z"
   },
   {
    "duration": 0,
    "start_time": "2022-12-10T21:32:46.907Z"
   },
   {
    "duration": 0,
    "start_time": "2022-12-10T21:32:46.909Z"
   },
   {
    "duration": 0,
    "start_time": "2022-12-10T21:32:46.910Z"
   },
   {
    "duration": 0,
    "start_time": "2022-12-10T21:32:46.911Z"
   },
   {
    "duration": 0,
    "start_time": "2022-12-10T21:32:46.911Z"
   },
   {
    "duration": 0,
    "start_time": "2022-12-10T21:32:46.912Z"
   },
   {
    "duration": 0,
    "start_time": "2022-12-10T21:32:46.913Z"
   },
   {
    "duration": 0,
    "start_time": "2022-12-10T21:32:46.914Z"
   },
   {
    "duration": 0,
    "start_time": "2022-12-10T21:32:46.915Z"
   },
   {
    "duration": 0,
    "start_time": "2022-12-10T21:32:46.916Z"
   },
   {
    "duration": 0,
    "start_time": "2022-12-10T21:32:46.917Z"
   },
   {
    "duration": 1,
    "start_time": "2022-12-10T21:32:46.917Z"
   },
   {
    "duration": 0,
    "start_time": "2022-12-10T21:32:46.918Z"
   },
   {
    "duration": 0,
    "start_time": "2022-12-10T21:32:46.919Z"
   },
   {
    "duration": 0,
    "start_time": "2022-12-10T21:32:46.920Z"
   },
   {
    "duration": 0,
    "start_time": "2022-12-10T21:32:46.921Z"
   },
   {
    "duration": 0,
    "start_time": "2022-12-10T21:32:46.922Z"
   },
   {
    "duration": 0,
    "start_time": "2022-12-10T21:32:46.923Z"
   },
   {
    "duration": 0,
    "start_time": "2022-12-10T21:32:46.924Z"
   },
   {
    "duration": 0,
    "start_time": "2022-12-10T21:32:46.925Z"
   },
   {
    "duration": 0,
    "start_time": "2022-12-10T21:32:46.926Z"
   },
   {
    "duration": 0,
    "start_time": "2022-12-10T21:32:46.927Z"
   },
   {
    "duration": 0,
    "start_time": "2022-12-10T21:32:46.928Z"
   },
   {
    "duration": 0,
    "start_time": "2022-12-10T21:32:46.929Z"
   },
   {
    "duration": 0,
    "start_time": "2022-12-10T21:32:46.930Z"
   },
   {
    "duration": 0,
    "start_time": "2022-12-10T21:32:46.930Z"
   },
   {
    "duration": 6,
    "start_time": "2022-12-10T21:34:56.691Z"
   },
   {
    "duration": 1188,
    "start_time": "2022-12-10T21:37:16.279Z"
   },
   {
    "duration": 3,
    "start_time": "2022-12-10T21:37:17.469Z"
   },
   {
    "duration": 104,
    "start_time": "2022-12-10T21:37:17.473Z"
   },
   {
    "duration": 21,
    "start_time": "2022-12-10T21:37:17.579Z"
   },
   {
    "duration": 15,
    "start_time": "2022-12-10T21:37:17.601Z"
   },
   {
    "duration": 1848,
    "start_time": "2022-12-10T21:37:17.617Z"
   },
   {
    "duration": 4,
    "start_time": "2022-12-10T21:37:19.467Z"
   },
   {
    "duration": 326,
    "start_time": "2022-12-10T21:37:19.473Z"
   },
   {
    "duration": 14,
    "start_time": "2022-12-10T21:37:19.800Z"
   },
   {
    "duration": 4,
    "start_time": "2022-12-10T21:37:19.817Z"
   },
   {
    "duration": 12,
    "start_time": "2022-12-10T21:37:19.822Z"
   },
   {
    "duration": 8,
    "start_time": "2022-12-10T21:37:19.836Z"
   },
   {
    "duration": 5,
    "start_time": "2022-12-10T21:37:19.846Z"
   },
   {
    "duration": 5,
    "start_time": "2022-12-10T21:37:19.852Z"
   },
   {
    "duration": 40,
    "start_time": "2022-12-10T21:37:19.859Z"
   },
   {
    "duration": 12,
    "start_time": "2022-12-10T21:37:19.901Z"
   },
   {
    "duration": 12,
    "start_time": "2022-12-10T21:37:19.915Z"
   },
   {
    "duration": 8,
    "start_time": "2022-12-10T21:37:19.929Z"
   },
   {
    "duration": 13,
    "start_time": "2022-12-10T21:37:19.939Z"
   },
   {
    "duration": 7,
    "start_time": "2022-12-10T21:37:19.953Z"
   },
   {
    "duration": 35,
    "start_time": "2022-12-10T21:37:19.961Z"
   },
   {
    "duration": 8,
    "start_time": "2022-12-10T21:37:19.998Z"
   },
   {
    "duration": 191,
    "start_time": "2022-12-10T21:37:20.008Z"
   },
   {
    "duration": 6,
    "start_time": "2022-12-10T21:37:20.201Z"
   },
   {
    "duration": 13,
    "start_time": "2022-12-10T21:37:20.208Z"
   },
   {
    "duration": 13,
    "start_time": "2022-12-10T21:37:20.222Z"
   },
   {
    "duration": 11,
    "start_time": "2022-12-10T21:37:20.236Z"
   },
   {
    "duration": 5,
    "start_time": "2022-12-10T21:37:20.251Z"
   },
   {
    "duration": 9,
    "start_time": "2022-12-10T21:37:20.257Z"
   },
   {
    "duration": 268,
    "start_time": "2022-12-10T21:37:20.268Z"
   },
   {
    "duration": 152,
    "start_time": "2022-12-10T21:37:20.538Z"
   },
   {
    "duration": 7,
    "start_time": "2022-12-10T21:37:20.692Z"
   },
   {
    "duration": 20,
    "start_time": "2022-12-10T21:37:20.701Z"
   },
   {
    "duration": 62,
    "start_time": "2022-12-10T21:37:20.723Z"
   },
   {
    "duration": 11,
    "start_time": "2022-12-10T21:37:20.786Z"
   },
   {
    "duration": 17,
    "start_time": "2022-12-10T21:37:20.798Z"
   },
   {
    "duration": 43,
    "start_time": "2022-12-10T21:37:20.817Z"
   },
   {
    "duration": 115,
    "start_time": "2022-12-10T21:37:20.862Z"
   },
   {
    "duration": 24,
    "start_time": "2022-12-10T21:37:20.979Z"
   },
   {
    "duration": 5,
    "start_time": "2022-12-10T21:37:21.005Z"
   },
   {
    "duration": 168,
    "start_time": "2022-12-10T21:37:21.012Z"
   },
   {
    "duration": 6,
    "start_time": "2022-12-10T21:37:21.181Z"
   },
   {
    "duration": 5,
    "start_time": "2022-12-10T21:37:21.196Z"
   },
   {
    "duration": 305,
    "start_time": "2022-12-10T21:37:21.203Z"
   },
   {
    "duration": 5,
    "start_time": "2022-12-10T21:37:21.509Z"
   },
   {
    "duration": 314,
    "start_time": "2022-12-10T21:37:21.515Z"
   },
   {
    "duration": 7,
    "start_time": "2022-12-10T21:37:21.831Z"
   },
   {
    "duration": 20,
    "start_time": "2022-12-10T21:37:21.839Z"
   },
   {
    "duration": 233,
    "start_time": "2022-12-10T21:37:21.860Z"
   },
   {
    "duration": 5,
    "start_time": "2022-12-10T21:37:22.095Z"
   },
   {
    "duration": 21,
    "start_time": "2022-12-10T21:37:22.101Z"
   },
   {
    "duration": 352,
    "start_time": "2022-12-10T21:37:22.124Z"
   },
   {
    "duration": 6,
    "start_time": "2022-12-10T21:37:22.478Z"
   },
   {
    "duration": 241,
    "start_time": "2022-12-10T21:37:22.486Z"
   },
   {
    "duration": 5,
    "start_time": "2022-12-10T21:37:22.729Z"
   },
   {
    "duration": 6,
    "start_time": "2022-12-10T21:37:22.736Z"
   },
   {
    "duration": 242,
    "start_time": "2022-12-10T21:37:22.744Z"
   },
   {
    "duration": 5,
    "start_time": "2022-12-10T21:37:22.987Z"
   },
   {
    "duration": 9,
    "start_time": "2022-12-10T21:37:22.996Z"
   },
   {
    "duration": 5,
    "start_time": "2022-12-10T21:37:23.006Z"
   },
   {
    "duration": 6,
    "start_time": "2022-12-10T21:37:23.013Z"
   },
   {
    "duration": 253,
    "start_time": "2022-12-10T21:37:23.020Z"
   },
   {
    "duration": 5,
    "start_time": "2022-12-10T21:37:23.275Z"
   },
   {
    "duration": 6,
    "start_time": "2022-12-10T21:37:23.297Z"
   },
   {
    "duration": 5,
    "start_time": "2022-12-10T21:37:23.305Z"
   },
   {
    "duration": 6,
    "start_time": "2022-12-10T21:37:23.311Z"
   },
   {
    "duration": 4,
    "start_time": "2022-12-10T21:37:23.319Z"
   },
   {
    "duration": 4,
    "start_time": "2022-12-10T21:37:23.325Z"
   },
   {
    "duration": 8,
    "start_time": "2022-12-10T21:37:23.330Z"
   },
   {
    "duration": 5,
    "start_time": "2022-12-10T21:37:23.339Z"
   },
   {
    "duration": 5,
    "start_time": "2022-12-10T21:37:23.345Z"
   },
   {
    "duration": 13,
    "start_time": "2022-12-10T21:37:23.351Z"
   },
   {
    "duration": 11,
    "start_time": "2022-12-10T21:37:23.365Z"
   },
   {
    "duration": 7,
    "start_time": "2022-12-10T21:37:23.377Z"
   },
   {
    "duration": 11,
    "start_time": "2022-12-10T21:37:23.385Z"
   },
   {
    "duration": 3,
    "start_time": "2022-12-10T21:37:23.397Z"
   },
   {
    "duration": 5,
    "start_time": "2022-12-10T21:37:23.402Z"
   },
   {
    "duration": 4,
    "start_time": "2022-12-10T21:37:23.408Z"
   },
   {
    "duration": 13,
    "start_time": "2022-12-10T21:37:23.413Z"
   },
   {
    "duration": 7,
    "start_time": "2022-12-10T21:37:23.428Z"
   },
   {
    "duration": 5,
    "start_time": "2022-12-10T21:37:23.437Z"
   },
   {
    "duration": 4,
    "start_time": "2022-12-10T21:37:23.449Z"
   },
   {
    "duration": 9,
    "start_time": "2022-12-10T21:37:23.454Z"
   },
   {
    "duration": 32,
    "start_time": "2022-12-10T21:37:23.464Z"
   },
   {
    "duration": 3,
    "start_time": "2022-12-10T21:37:23.498Z"
   },
   {
    "duration": 6,
    "start_time": "2022-12-10T21:37:23.503Z"
   },
   {
    "duration": 7,
    "start_time": "2022-12-10T21:37:23.511Z"
   },
   {
    "duration": 5,
    "start_time": "2022-12-10T21:37:23.519Z"
   },
   {
    "duration": 5,
    "start_time": "2022-12-10T21:37:23.526Z"
   },
   {
    "duration": 12,
    "start_time": "2022-12-10T21:37:23.532Z"
   },
   {
    "duration": 70,
    "start_time": "2022-12-10T21:37:23.545Z"
   },
   {
    "duration": 349,
    "start_time": "2022-12-10T21:37:23.617Z"
   },
   {
    "duration": 7,
    "start_time": "2022-12-10T21:37:23.968Z"
   },
   {
    "duration": 284,
    "start_time": "2022-12-10T21:37:23.976Z"
   },
   {
    "duration": 279,
    "start_time": "2022-12-10T21:37:24.262Z"
   },
   {
    "duration": 131,
    "start_time": "2022-12-10T21:37:24.542Z"
   },
   {
    "duration": 241,
    "start_time": "2022-12-10T21:37:24.674Z"
   },
   {
    "duration": 14,
    "start_time": "2022-12-10T21:37:24.917Z"
   },
   {
    "duration": 8,
    "start_time": "2022-12-10T21:37:24.932Z"
   },
   {
    "duration": 6,
    "start_time": "2022-12-10T21:37:24.942Z"
   },
   {
    "duration": 9,
    "start_time": "2022-12-10T21:37:24.950Z"
   },
   {
    "duration": 7,
    "start_time": "2022-12-10T21:37:24.961Z"
   },
   {
    "duration": 5,
    "start_time": "2022-12-10T21:37:24.970Z"
   },
   {
    "duration": 3,
    "start_time": "2022-12-10T21:37:24.996Z"
   },
   {
    "duration": 779,
    "start_time": "2022-12-10T21:37:25.000Z"
   },
   {
    "duration": 0,
    "start_time": "2022-12-10T21:37:25.781Z"
   },
   {
    "duration": 0,
    "start_time": "2022-12-10T21:37:25.782Z"
   },
   {
    "duration": 0,
    "start_time": "2022-12-10T21:37:25.783Z"
   },
   {
    "duration": 0,
    "start_time": "2022-12-10T21:37:25.784Z"
   },
   {
    "duration": 0,
    "start_time": "2022-12-10T21:37:25.785Z"
   },
   {
    "duration": 0,
    "start_time": "2022-12-10T21:37:25.786Z"
   },
   {
    "duration": 0,
    "start_time": "2022-12-10T21:37:25.788Z"
   },
   {
    "duration": 0,
    "start_time": "2022-12-10T21:37:25.788Z"
   },
   {
    "duration": 0,
    "start_time": "2022-12-10T21:37:25.789Z"
   },
   {
    "duration": 0,
    "start_time": "2022-12-10T21:37:25.793Z"
   },
   {
    "duration": 0,
    "start_time": "2022-12-10T21:37:25.793Z"
   },
   {
    "duration": 0,
    "start_time": "2022-12-10T21:37:25.795Z"
   },
   {
    "duration": 0,
    "start_time": "2022-12-10T21:37:25.796Z"
   },
   {
    "duration": 0,
    "start_time": "2022-12-10T21:37:25.797Z"
   },
   {
    "duration": 0,
    "start_time": "2022-12-10T21:37:25.798Z"
   },
   {
    "duration": 0,
    "start_time": "2022-12-10T21:37:25.799Z"
   },
   {
    "duration": 0,
    "start_time": "2022-12-10T21:37:25.800Z"
   },
   {
    "duration": 0,
    "start_time": "2022-12-10T21:37:25.801Z"
   },
   {
    "duration": 0,
    "start_time": "2022-12-10T21:37:25.802Z"
   },
   {
    "duration": 0,
    "start_time": "2022-12-10T21:37:25.803Z"
   },
   {
    "duration": 0,
    "start_time": "2022-12-10T21:37:25.804Z"
   },
   {
    "duration": 0,
    "start_time": "2022-12-10T21:37:25.805Z"
   },
   {
    "duration": 0,
    "start_time": "2022-12-10T21:37:25.806Z"
   },
   {
    "duration": 0,
    "start_time": "2022-12-10T21:37:25.807Z"
   },
   {
    "duration": 0,
    "start_time": "2022-12-10T21:37:25.808Z"
   },
   {
    "duration": 0,
    "start_time": "2022-12-10T21:37:25.809Z"
   },
   {
    "duration": 0,
    "start_time": "2022-12-10T21:37:25.809Z"
   },
   {
    "duration": 0,
    "start_time": "2022-12-10T21:37:25.811Z"
   },
   {
    "duration": 0,
    "start_time": "2022-12-10T21:37:25.812Z"
   },
   {
    "duration": 0,
    "start_time": "2022-12-10T21:37:25.813Z"
   },
   {
    "duration": 0,
    "start_time": "2022-12-10T21:37:25.814Z"
   },
   {
    "duration": 0,
    "start_time": "2022-12-10T21:37:25.815Z"
   },
   {
    "duration": 0,
    "start_time": "2022-12-10T21:37:25.816Z"
   },
   {
    "duration": 0,
    "start_time": "2022-12-10T21:37:25.817Z"
   },
   {
    "duration": 0,
    "start_time": "2022-12-10T21:37:25.818Z"
   },
   {
    "duration": 0,
    "start_time": "2022-12-10T21:37:25.819Z"
   },
   {
    "duration": 0,
    "start_time": "2022-12-10T21:37:25.820Z"
   },
   {
    "duration": 0,
    "start_time": "2022-12-10T21:37:25.821Z"
   },
   {
    "duration": 0,
    "start_time": "2022-12-10T21:37:25.822Z"
   },
   {
    "duration": 0,
    "start_time": "2022-12-10T21:37:25.824Z"
   },
   {
    "duration": 0,
    "start_time": "2022-12-10T21:37:25.825Z"
   },
   {
    "duration": 0,
    "start_time": "2022-12-10T21:37:25.826Z"
   },
   {
    "duration": 0,
    "start_time": "2022-12-10T21:37:25.827Z"
   },
   {
    "duration": 0,
    "start_time": "2022-12-10T21:37:25.828Z"
   },
   {
    "duration": 0,
    "start_time": "2022-12-10T21:37:25.829Z"
   },
   {
    "duration": 0,
    "start_time": "2022-12-10T21:37:25.830Z"
   },
   {
    "duration": 0,
    "start_time": "2022-12-10T21:37:25.831Z"
   },
   {
    "duration": 0,
    "start_time": "2022-12-10T21:37:25.832Z"
   },
   {
    "duration": 0,
    "start_time": "2022-12-10T21:37:25.833Z"
   },
   {
    "duration": 0,
    "start_time": "2022-12-10T21:37:25.834Z"
   },
   {
    "duration": 0,
    "start_time": "2022-12-10T21:37:25.902Z"
   },
   {
    "duration": 0,
    "start_time": "2022-12-10T21:37:25.903Z"
   },
   {
    "duration": 0,
    "start_time": "2022-12-10T21:37:25.904Z"
   },
   {
    "duration": 0,
    "start_time": "2022-12-10T21:37:25.905Z"
   },
   {
    "duration": 0,
    "start_time": "2022-12-10T21:37:25.907Z"
   },
   {
    "duration": 0,
    "start_time": "2022-12-10T21:37:25.907Z"
   },
   {
    "duration": 0,
    "start_time": "2022-12-10T21:37:25.908Z"
   },
   {
    "duration": 0,
    "start_time": "2022-12-10T21:37:25.909Z"
   },
   {
    "duration": 0,
    "start_time": "2022-12-10T21:37:25.912Z"
   },
   {
    "duration": 0,
    "start_time": "2022-12-10T21:37:25.913Z"
   },
   {
    "duration": 0,
    "start_time": "2022-12-10T21:37:25.915Z"
   },
   {
    "duration": 0,
    "start_time": "2022-12-10T21:37:25.916Z"
   },
   {
    "duration": 0,
    "start_time": "2022-12-10T21:37:25.918Z"
   },
   {
    "duration": 0,
    "start_time": "2022-12-10T21:37:25.919Z"
   },
   {
    "duration": 0,
    "start_time": "2022-12-10T21:37:25.920Z"
   },
   {
    "duration": 0,
    "start_time": "2022-12-10T21:37:25.921Z"
   },
   {
    "duration": 0,
    "start_time": "2022-12-10T21:37:25.923Z"
   },
   {
    "duration": 0,
    "start_time": "2022-12-10T21:37:25.927Z"
   },
   {
    "duration": 0,
    "start_time": "2022-12-10T21:37:25.929Z"
   },
   {
    "duration": 0,
    "start_time": "2022-12-10T21:37:25.931Z"
   },
   {
    "duration": 16,
    "start_time": "2022-12-10T21:38:53.890Z"
   },
   {
    "duration": 1108,
    "start_time": "2022-12-10T21:39:14.681Z"
   },
   {
    "duration": 5,
    "start_time": "2022-12-10T21:39:15.791Z"
   },
   {
    "duration": 120,
    "start_time": "2022-12-10T21:39:15.798Z"
   },
   {
    "duration": 25,
    "start_time": "2022-12-10T21:39:15.921Z"
   },
   {
    "duration": 17,
    "start_time": "2022-12-10T21:39:15.949Z"
   },
   {
    "duration": 1834,
    "start_time": "2022-12-10T21:39:15.968Z"
   },
   {
    "duration": 4,
    "start_time": "2022-12-10T21:39:17.803Z"
   },
   {
    "duration": 326,
    "start_time": "2022-12-10T21:39:17.809Z"
   },
   {
    "duration": 13,
    "start_time": "2022-12-10T21:39:18.136Z"
   },
   {
    "duration": 3,
    "start_time": "2022-12-10T21:39:18.152Z"
   },
   {
    "duration": 7,
    "start_time": "2022-12-10T21:39:18.157Z"
   },
   {
    "duration": 12,
    "start_time": "2022-12-10T21:39:18.165Z"
   },
   {
    "duration": 6,
    "start_time": "2022-12-10T21:39:18.196Z"
   },
   {
    "duration": 10,
    "start_time": "2022-12-10T21:39:18.203Z"
   },
   {
    "duration": 5,
    "start_time": "2022-12-10T21:39:18.214Z"
   },
   {
    "duration": 8,
    "start_time": "2022-12-10T21:39:18.221Z"
   },
   {
    "duration": 10,
    "start_time": "2022-12-10T21:39:18.230Z"
   },
   {
    "duration": 5,
    "start_time": "2022-12-10T21:39:18.241Z"
   },
   {
    "duration": 14,
    "start_time": "2022-12-10T21:39:18.247Z"
   },
   {
    "duration": 6,
    "start_time": "2022-12-10T21:39:18.262Z"
   },
   {
    "duration": 37,
    "start_time": "2022-12-10T21:39:18.269Z"
   },
   {
    "duration": 20,
    "start_time": "2022-12-10T21:39:18.308Z"
   },
   {
    "duration": 187,
    "start_time": "2022-12-10T21:39:18.330Z"
   },
   {
    "duration": 6,
    "start_time": "2022-12-10T21:39:18.519Z"
   },
   {
    "duration": 7,
    "start_time": "2022-12-10T21:39:18.527Z"
   },
   {
    "duration": 4,
    "start_time": "2022-12-10T21:39:18.535Z"
   },
   {
    "duration": 10,
    "start_time": "2022-12-10T21:39:18.540Z"
   },
   {
    "duration": 5,
    "start_time": "2022-12-10T21:39:18.553Z"
   },
   {
    "duration": 14,
    "start_time": "2022-12-10T21:39:18.559Z"
   },
   {
    "duration": 236,
    "start_time": "2022-12-10T21:39:18.596Z"
   },
   {
    "duration": 138,
    "start_time": "2022-12-10T21:39:18.834Z"
   },
   {
    "duration": 6,
    "start_time": "2022-12-10T21:39:18.973Z"
   },
   {
    "duration": 17,
    "start_time": "2022-12-10T21:39:18.980Z"
   },
   {
    "duration": 71,
    "start_time": "2022-12-10T21:39:18.998Z"
   },
   {
    "duration": 4,
    "start_time": "2022-12-10T21:39:19.071Z"
   },
   {
    "duration": 27,
    "start_time": "2022-12-10T21:39:19.077Z"
   },
   {
    "duration": 50,
    "start_time": "2022-12-10T21:39:19.105Z"
   },
   {
    "duration": 131,
    "start_time": "2022-12-10T21:39:19.158Z"
   },
   {
    "duration": 16,
    "start_time": "2022-12-10T21:39:19.291Z"
   },
   {
    "duration": 6,
    "start_time": "2022-12-10T21:39:19.309Z"
   },
   {
    "duration": 163,
    "start_time": "2022-12-10T21:39:19.316Z"
   },
   {
    "duration": 17,
    "start_time": "2022-12-10T21:39:19.481Z"
   },
   {
    "duration": 7,
    "start_time": "2022-12-10T21:39:19.500Z"
   },
   {
    "duration": 283,
    "start_time": "2022-12-10T21:39:24.301Z"
   },
   {
    "duration": 5,
    "start_time": "2022-12-10T21:39:36.757Z"
   },
   {
    "duration": 13,
    "start_time": "2022-12-10T21:39:39.734Z"
   },
   {
    "duration": 4,
    "start_time": "2022-12-10T21:39:55.110Z"
   },
   {
    "duration": 11,
    "start_time": "2022-12-10T21:39:55.549Z"
   },
   {
    "duration": 13,
    "start_time": "2022-12-10T21:40:13.484Z"
   },
   {
    "duration": 13,
    "start_time": "2022-12-10T21:40:15.675Z"
   },
   {
    "duration": 12,
    "start_time": "2022-12-10T21:40:27.706Z"
   },
   {
    "duration": 1179,
    "start_time": "2022-12-10T21:42:30.391Z"
   },
   {
    "duration": 3,
    "start_time": "2022-12-10T21:42:31.572Z"
   },
   {
    "duration": 114,
    "start_time": "2022-12-10T21:42:31.577Z"
   },
   {
    "duration": 22,
    "start_time": "2022-12-10T21:42:31.693Z"
   },
   {
    "duration": 14,
    "start_time": "2022-12-10T21:42:31.717Z"
   },
   {
    "duration": 1852,
    "start_time": "2022-12-10T21:42:31.733Z"
   },
   {
    "duration": 4,
    "start_time": "2022-12-10T21:42:33.587Z"
   },
   {
    "duration": 294,
    "start_time": "2022-12-10T21:42:33.592Z"
   },
   {
    "duration": 16,
    "start_time": "2022-12-10T21:42:33.888Z"
   },
   {
    "duration": 14,
    "start_time": "2022-12-10T21:42:33.907Z"
   },
   {
    "duration": 9,
    "start_time": "2022-12-10T21:42:33.922Z"
   },
   {
    "duration": 15,
    "start_time": "2022-12-10T21:42:33.932Z"
   },
   {
    "duration": 5,
    "start_time": "2022-12-10T21:42:33.948Z"
   },
   {
    "duration": 8,
    "start_time": "2022-12-10T21:42:33.954Z"
   },
   {
    "duration": 6,
    "start_time": "2022-12-10T21:42:33.964Z"
   },
   {
    "duration": 6,
    "start_time": "2022-12-10T21:42:33.971Z"
   },
   {
    "duration": 18,
    "start_time": "2022-12-10T21:42:33.979Z"
   },
   {
    "duration": 6,
    "start_time": "2022-12-10T21:42:33.999Z"
   },
   {
    "duration": 11,
    "start_time": "2022-12-10T21:42:34.007Z"
   },
   {
    "duration": 6,
    "start_time": "2022-12-10T21:42:34.019Z"
   },
   {
    "duration": 14,
    "start_time": "2022-12-10T21:42:34.026Z"
   },
   {
    "duration": 8,
    "start_time": "2022-12-10T21:42:34.042Z"
   },
   {
    "duration": 218,
    "start_time": "2022-12-10T21:42:34.052Z"
   },
   {
    "duration": 6,
    "start_time": "2022-12-10T21:42:34.272Z"
   },
   {
    "duration": 22,
    "start_time": "2022-12-10T21:42:34.279Z"
   },
   {
    "duration": 4,
    "start_time": "2022-12-10T21:42:34.303Z"
   },
   {
    "duration": 6,
    "start_time": "2022-12-10T21:42:34.308Z"
   },
   {
    "duration": 4,
    "start_time": "2022-12-10T21:42:34.319Z"
   },
   {
    "duration": 8,
    "start_time": "2022-12-10T21:42:34.325Z"
   },
   {
    "duration": 271,
    "start_time": "2022-12-10T21:42:34.334Z"
   },
   {
    "duration": 129,
    "start_time": "2022-12-10T21:42:34.608Z"
   },
   {
    "duration": 5,
    "start_time": "2022-12-10T21:42:34.739Z"
   },
   {
    "duration": 8,
    "start_time": "2022-12-10T21:42:34.746Z"
   },
   {
    "duration": 77,
    "start_time": "2022-12-10T21:42:34.755Z"
   },
   {
    "duration": 4,
    "start_time": "2022-12-10T21:42:34.833Z"
   },
   {
    "duration": 5,
    "start_time": "2022-12-10T21:42:34.838Z"
   },
   {
    "duration": 37,
    "start_time": "2022-12-10T21:42:34.845Z"
   },
   {
    "duration": 142,
    "start_time": "2022-12-10T21:42:34.884Z"
   },
   {
    "duration": 12,
    "start_time": "2022-12-10T21:42:35.029Z"
   },
   {
    "duration": 4,
    "start_time": "2022-12-10T21:42:35.043Z"
   },
   {
    "duration": 179,
    "start_time": "2022-12-10T21:42:35.049Z"
   },
   {
    "duration": 5,
    "start_time": "2022-12-10T21:42:35.230Z"
   },
   {
    "duration": 8,
    "start_time": "2022-12-10T21:42:35.237Z"
   },
   {
    "duration": 302,
    "start_time": "2022-12-10T21:42:35.246Z"
   },
   {
    "duration": 5,
    "start_time": "2022-12-10T21:42:35.550Z"
   },
   {
    "duration": 323,
    "start_time": "2022-12-10T21:42:35.557Z"
   },
   {
    "duration": 16,
    "start_time": "2022-12-10T21:42:35.882Z"
   },
   {
    "duration": 14,
    "start_time": "2022-12-10T21:42:35.900Z"
   },
   {
    "duration": 300,
    "start_time": "2022-12-10T21:42:35.916Z"
   },
   {
    "duration": 5,
    "start_time": "2022-12-10T21:42:36.218Z"
   },
   {
    "duration": 7,
    "start_time": "2022-12-10T21:42:36.224Z"
   },
   {
    "duration": 373,
    "start_time": "2022-12-10T21:42:36.232Z"
   },
   {
    "duration": 7,
    "start_time": "2022-12-10T21:42:36.606Z"
   },
   {
    "duration": 276,
    "start_time": "2022-12-10T21:42:36.615Z"
   },
   {
    "duration": 8,
    "start_time": "2022-12-10T21:42:36.893Z"
   },
   {
    "duration": 5,
    "start_time": "2022-12-10T21:42:36.902Z"
   },
   {
    "duration": 239,
    "start_time": "2022-12-10T21:42:36.909Z"
   },
   {
    "duration": 4,
    "start_time": "2022-12-10T21:42:37.150Z"
   },
   {
    "duration": 10,
    "start_time": "2022-12-10T21:42:37.155Z"
   },
   {
    "duration": 6,
    "start_time": "2022-12-10T21:42:37.166Z"
   },
   {
    "duration": 6,
    "start_time": "2022-12-10T21:42:37.174Z"
   },
   {
    "duration": 247,
    "start_time": "2022-12-10T21:42:37.181Z"
   },
   {
    "duration": 5,
    "start_time": "2022-12-10T21:42:37.431Z"
   },
   {
    "duration": 8,
    "start_time": "2022-12-10T21:42:37.437Z"
   },
   {
    "duration": 6,
    "start_time": "2022-12-10T21:42:37.446Z"
   },
   {
    "duration": 5,
    "start_time": "2022-12-10T21:42:37.453Z"
   },
   {
    "duration": 6,
    "start_time": "2022-12-10T21:42:37.460Z"
   },
   {
    "duration": 7,
    "start_time": "2022-12-10T21:42:37.467Z"
   },
   {
    "duration": 21,
    "start_time": "2022-12-10T21:42:37.475Z"
   },
   {
    "duration": 3,
    "start_time": "2022-12-10T21:42:37.498Z"
   },
   {
    "duration": 8,
    "start_time": "2022-12-10T21:42:37.502Z"
   },
   {
    "duration": 8,
    "start_time": "2022-12-10T21:42:37.511Z"
   },
   {
    "duration": 13,
    "start_time": "2022-12-10T21:42:37.521Z"
   },
   {
    "duration": 7,
    "start_time": "2022-12-10T21:42:37.535Z"
   },
   {
    "duration": 6,
    "start_time": "2022-12-10T21:42:37.543Z"
   },
   {
    "duration": 6,
    "start_time": "2022-12-10T21:42:37.551Z"
   },
   {
    "duration": 5,
    "start_time": "2022-12-10T21:42:37.558Z"
   },
   {
    "duration": 5,
    "start_time": "2022-12-10T21:42:37.564Z"
   },
   {
    "duration": 27,
    "start_time": "2022-12-10T21:42:37.570Z"
   },
   {
    "duration": 5,
    "start_time": "2022-12-10T21:42:37.598Z"
   },
   {
    "duration": 6,
    "start_time": "2022-12-10T21:42:37.604Z"
   },
   {
    "duration": 4,
    "start_time": "2022-12-10T21:42:37.617Z"
   },
   {
    "duration": 4,
    "start_time": "2022-12-10T21:42:37.623Z"
   },
   {
    "duration": 5,
    "start_time": "2022-12-10T21:42:37.629Z"
   },
   {
    "duration": 5,
    "start_time": "2022-12-10T21:42:37.635Z"
   },
   {
    "duration": 20,
    "start_time": "2022-12-10T21:42:37.642Z"
   },
   {
    "duration": 6,
    "start_time": "2022-12-10T21:42:37.664Z"
   },
   {
    "duration": 7,
    "start_time": "2022-12-10T21:42:37.672Z"
   },
   {
    "duration": 3,
    "start_time": "2022-12-10T21:42:37.697Z"
   },
   {
    "duration": 13,
    "start_time": "2022-12-10T21:42:37.702Z"
   },
   {
    "duration": 48,
    "start_time": "2022-12-10T21:42:37.716Z"
   },
   {
    "duration": 365,
    "start_time": "2022-12-10T21:42:37.765Z"
   },
   {
    "duration": 8,
    "start_time": "2022-12-10T21:42:38.132Z"
   },
   {
    "duration": 289,
    "start_time": "2022-12-10T21:42:38.141Z"
   },
   {
    "duration": 288,
    "start_time": "2022-12-10T21:42:38.431Z"
   },
   {
    "duration": 122,
    "start_time": "2022-12-10T21:42:38.721Z"
   },
   {
    "duration": 232,
    "start_time": "2022-12-10T21:42:38.844Z"
   },
   {
    "duration": 23,
    "start_time": "2022-12-10T21:42:39.077Z"
   },
   {
    "duration": 8,
    "start_time": "2022-12-10T21:42:39.102Z"
   },
   {
    "duration": 7,
    "start_time": "2022-12-10T21:42:39.111Z"
   },
   {
    "duration": 8,
    "start_time": "2022-12-10T21:42:39.120Z"
   },
   {
    "duration": 5,
    "start_time": "2022-12-10T21:42:39.129Z"
   },
   {
    "duration": 5,
    "start_time": "2022-12-10T21:42:39.136Z"
   },
   {
    "duration": 4,
    "start_time": "2022-12-10T21:42:39.142Z"
   },
   {
    "duration": 761,
    "start_time": "2022-12-10T21:42:39.148Z"
   },
   {
    "duration": 0,
    "start_time": "2022-12-10T21:42:39.910Z"
   },
   {
    "duration": 1,
    "start_time": "2022-12-10T21:42:39.911Z"
   },
   {
    "duration": 0,
    "start_time": "2022-12-10T21:42:39.912Z"
   },
   {
    "duration": 0,
    "start_time": "2022-12-10T21:42:39.914Z"
   },
   {
    "duration": 0,
    "start_time": "2022-12-10T21:42:39.915Z"
   },
   {
    "duration": 0,
    "start_time": "2022-12-10T21:42:39.916Z"
   },
   {
    "duration": 0,
    "start_time": "2022-12-10T21:42:39.917Z"
   },
   {
    "duration": 0,
    "start_time": "2022-12-10T21:42:39.918Z"
   },
   {
    "duration": 0,
    "start_time": "2022-12-10T21:42:39.920Z"
   },
   {
    "duration": 0,
    "start_time": "2022-12-10T21:42:39.921Z"
   },
   {
    "duration": 0,
    "start_time": "2022-12-10T21:42:39.922Z"
   },
   {
    "duration": 0,
    "start_time": "2022-12-10T21:42:39.923Z"
   },
   {
    "duration": 0,
    "start_time": "2022-12-10T21:42:39.925Z"
   },
   {
    "duration": 0,
    "start_time": "2022-12-10T21:42:39.925Z"
   },
   {
    "duration": 0,
    "start_time": "2022-12-10T21:42:39.927Z"
   },
   {
    "duration": 0,
    "start_time": "2022-12-10T21:42:39.928Z"
   },
   {
    "duration": 0,
    "start_time": "2022-12-10T21:42:39.929Z"
   },
   {
    "duration": 0,
    "start_time": "2022-12-10T21:42:39.930Z"
   },
   {
    "duration": 0,
    "start_time": "2022-12-10T21:42:39.932Z"
   },
   {
    "duration": 0,
    "start_time": "2022-12-10T21:42:39.933Z"
   },
   {
    "duration": 0,
    "start_time": "2022-12-10T21:42:39.934Z"
   },
   {
    "duration": 0,
    "start_time": "2022-12-10T21:42:39.935Z"
   },
   {
    "duration": 0,
    "start_time": "2022-12-10T21:42:39.936Z"
   },
   {
    "duration": 0,
    "start_time": "2022-12-10T21:42:39.936Z"
   },
   {
    "duration": 0,
    "start_time": "2022-12-10T21:42:39.937Z"
   },
   {
    "duration": 0,
    "start_time": "2022-12-10T21:42:39.938Z"
   },
   {
    "duration": 0,
    "start_time": "2022-12-10T21:42:39.939Z"
   },
   {
    "duration": 0,
    "start_time": "2022-12-10T21:42:39.940Z"
   },
   {
    "duration": 0,
    "start_time": "2022-12-10T21:42:39.941Z"
   },
   {
    "duration": 0,
    "start_time": "2022-12-10T21:42:39.943Z"
   },
   {
    "duration": 0,
    "start_time": "2022-12-10T21:42:39.944Z"
   },
   {
    "duration": 0,
    "start_time": "2022-12-10T21:42:39.945Z"
   },
   {
    "duration": 0,
    "start_time": "2022-12-10T21:42:39.946Z"
   },
   {
    "duration": 0,
    "start_time": "2022-12-10T21:42:39.947Z"
   },
   {
    "duration": 0,
    "start_time": "2022-12-10T21:42:39.948Z"
   },
   {
    "duration": 0,
    "start_time": "2022-12-10T21:42:39.949Z"
   },
   {
    "duration": 0,
    "start_time": "2022-12-10T21:42:39.997Z"
   },
   {
    "duration": 0,
    "start_time": "2022-12-10T21:42:39.998Z"
   },
   {
    "duration": 0,
    "start_time": "2022-12-10T21:42:39.999Z"
   },
   {
    "duration": 0,
    "start_time": "2022-12-10T21:42:40.000Z"
   },
   {
    "duration": 0,
    "start_time": "2022-12-10T21:42:40.001Z"
   },
   {
    "duration": 0,
    "start_time": "2022-12-10T21:42:40.002Z"
   },
   {
    "duration": 0,
    "start_time": "2022-12-10T21:42:40.003Z"
   },
   {
    "duration": 0,
    "start_time": "2022-12-10T21:42:40.004Z"
   },
   {
    "duration": 0,
    "start_time": "2022-12-10T21:42:40.006Z"
   },
   {
    "duration": 0,
    "start_time": "2022-12-10T21:42:40.006Z"
   },
   {
    "duration": 0,
    "start_time": "2022-12-10T21:42:40.007Z"
   },
   {
    "duration": 0,
    "start_time": "2022-12-10T21:42:40.009Z"
   },
   {
    "duration": 0,
    "start_time": "2022-12-10T21:42:40.010Z"
   },
   {
    "duration": 0,
    "start_time": "2022-12-10T21:42:40.011Z"
   },
   {
    "duration": 0,
    "start_time": "2022-12-10T21:42:40.012Z"
   },
   {
    "duration": 0,
    "start_time": "2022-12-10T21:42:40.013Z"
   },
   {
    "duration": 1,
    "start_time": "2022-12-10T21:42:40.013Z"
   },
   {
    "duration": 0,
    "start_time": "2022-12-10T21:42:40.015Z"
   },
   {
    "duration": 0,
    "start_time": "2022-12-10T21:42:40.016Z"
   },
   {
    "duration": 0,
    "start_time": "2022-12-10T21:42:40.016Z"
   },
   {
    "duration": 0,
    "start_time": "2022-12-10T21:42:40.018Z"
   },
   {
    "duration": 0,
    "start_time": "2022-12-10T21:42:40.019Z"
   },
   {
    "duration": 0,
    "start_time": "2022-12-10T21:42:40.019Z"
   },
   {
    "duration": 0,
    "start_time": "2022-12-10T21:42:40.020Z"
   },
   {
    "duration": 0,
    "start_time": "2022-12-10T21:42:40.021Z"
   },
   {
    "duration": 0,
    "start_time": "2022-12-10T21:42:40.022Z"
   },
   {
    "duration": 0,
    "start_time": "2022-12-10T21:42:40.023Z"
   },
   {
    "duration": 0,
    "start_time": "2022-12-10T21:42:40.024Z"
   },
   {
    "duration": 0,
    "start_time": "2022-12-10T21:42:40.025Z"
   },
   {
    "duration": 0,
    "start_time": "2022-12-10T21:42:40.026Z"
   },
   {
    "duration": 0,
    "start_time": "2022-12-10T21:42:40.027Z"
   },
   {
    "duration": 0,
    "start_time": "2022-12-10T21:42:40.028Z"
   },
   {
    "duration": 0,
    "start_time": "2022-12-10T21:42:40.029Z"
   },
   {
    "duration": 0,
    "start_time": "2022-12-10T21:42:40.030Z"
   },
   {
    "duration": 1209,
    "start_time": "2022-12-10T21:44:55.273Z"
   },
   {
    "duration": 13,
    "start_time": "2022-12-10T21:44:56.484Z"
   },
   {
    "duration": 98,
    "start_time": "2022-12-10T21:44:56.498Z"
   },
   {
    "duration": 21,
    "start_time": "2022-12-10T21:44:56.598Z"
   },
   {
    "duration": 14,
    "start_time": "2022-12-10T21:44:56.620Z"
   },
   {
    "duration": 1745,
    "start_time": "2022-12-10T21:44:56.636Z"
   },
   {
    "duration": 4,
    "start_time": "2022-12-10T21:44:58.383Z"
   },
   {
    "duration": 293,
    "start_time": "2022-12-10T21:44:58.388Z"
   },
   {
    "duration": 23,
    "start_time": "2022-12-10T21:44:58.683Z"
   },
   {
    "duration": 11,
    "start_time": "2022-12-10T21:44:58.708Z"
   },
   {
    "duration": 4,
    "start_time": "2022-12-10T21:44:58.721Z"
   },
   {
    "duration": 8,
    "start_time": "2022-12-10T21:44:58.727Z"
   },
   {
    "duration": 4,
    "start_time": "2022-12-10T21:44:58.736Z"
   },
   {
    "duration": 6,
    "start_time": "2022-12-10T21:44:58.741Z"
   },
   {
    "duration": 4,
    "start_time": "2022-12-10T21:44:58.748Z"
   },
   {
    "duration": 6,
    "start_time": "2022-12-10T21:44:58.753Z"
   },
   {
    "duration": 4,
    "start_time": "2022-12-10T21:44:58.760Z"
   },
   {
    "duration": 35,
    "start_time": "2022-12-10T21:44:58.765Z"
   },
   {
    "duration": 13,
    "start_time": "2022-12-10T21:44:58.801Z"
   },
   {
    "duration": 6,
    "start_time": "2022-12-10T21:44:58.815Z"
   },
   {
    "duration": 31,
    "start_time": "2022-12-10T21:44:58.822Z"
   },
   {
    "duration": 8,
    "start_time": "2022-12-10T21:44:58.855Z"
   },
   {
    "duration": 186,
    "start_time": "2022-12-10T21:44:58.864Z"
   },
   {
    "duration": 6,
    "start_time": "2022-12-10T21:44:59.051Z"
   },
   {
    "duration": 7,
    "start_time": "2022-12-10T21:44:59.060Z"
   },
   {
    "duration": 10,
    "start_time": "2022-12-10T21:44:59.068Z"
   },
   {
    "duration": 20,
    "start_time": "2022-12-10T21:44:59.079Z"
   },
   {
    "duration": 5,
    "start_time": "2022-12-10T21:44:59.102Z"
   },
   {
    "duration": 7,
    "start_time": "2022-12-10T21:44:59.108Z"
   },
   {
    "duration": 250,
    "start_time": "2022-12-10T21:44:59.116Z"
   },
   {
    "duration": 144,
    "start_time": "2022-12-10T21:44:59.368Z"
   },
   {
    "duration": 5,
    "start_time": "2022-12-10T21:44:59.514Z"
   },
   {
    "duration": 12,
    "start_time": "2022-12-10T21:44:59.520Z"
   },
   {
    "duration": 71,
    "start_time": "2022-12-10T21:44:59.534Z"
   },
   {
    "duration": 4,
    "start_time": "2022-12-10T21:44:59.607Z"
   },
   {
    "duration": 10,
    "start_time": "2022-12-10T21:44:59.612Z"
   },
   {
    "duration": 38,
    "start_time": "2022-12-10T21:44:59.623Z"
   },
   {
    "duration": 136,
    "start_time": "2022-12-10T21:44:59.663Z"
   },
   {
    "duration": 14,
    "start_time": "2022-12-10T21:44:59.801Z"
   },
   {
    "duration": 6,
    "start_time": "2022-12-10T21:44:59.816Z"
   },
   {
    "duration": 183,
    "start_time": "2022-12-10T21:44:59.824Z"
   },
   {
    "duration": 8,
    "start_time": "2022-12-10T21:45:00.009Z"
   },
   {
    "duration": 13,
    "start_time": "2022-12-10T21:45:00.019Z"
   },
   {
    "duration": 325,
    "start_time": "2022-12-10T21:45:00.034Z"
   },
   {
    "duration": 7,
    "start_time": "2022-12-10T21:45:00.361Z"
   },
   {
    "duration": 381,
    "start_time": "2022-12-10T21:45:00.370Z"
   },
   {
    "duration": 6,
    "start_time": "2022-12-10T21:45:00.753Z"
   },
   {
    "duration": 15,
    "start_time": "2022-12-10T21:45:00.761Z"
   },
   {
    "duration": 255,
    "start_time": "2022-12-10T21:45:00.778Z"
   },
   {
    "duration": 5,
    "start_time": "2022-12-10T21:45:01.035Z"
   },
   {
    "duration": 43,
    "start_time": "2022-12-10T21:45:01.041Z"
   },
   {
    "duration": 377,
    "start_time": "2022-12-10T21:45:01.086Z"
   },
   {
    "duration": 8,
    "start_time": "2022-12-10T21:45:01.465Z"
   },
   {
    "duration": 286,
    "start_time": "2022-12-10T21:45:01.475Z"
   },
   {
    "duration": 7,
    "start_time": "2022-12-10T21:45:01.762Z"
   },
   {
    "duration": 40,
    "start_time": "2022-12-10T21:45:01.771Z"
   },
   {
    "duration": 261,
    "start_time": "2022-12-10T21:45:01.814Z"
   },
   {
    "duration": 5,
    "start_time": "2022-12-10T21:45:02.076Z"
   },
   {
    "duration": 19,
    "start_time": "2022-12-10T21:45:02.083Z"
   },
   {
    "duration": 7,
    "start_time": "2022-12-10T21:45:02.103Z"
   },
   {
    "duration": 6,
    "start_time": "2022-12-10T21:45:02.111Z"
   },
   {
    "duration": 277,
    "start_time": "2022-12-10T21:45:02.119Z"
   },
   {
    "duration": 6,
    "start_time": "2022-12-10T21:45:02.398Z"
   },
   {
    "duration": 16,
    "start_time": "2022-12-10T21:45:02.406Z"
   },
   {
    "duration": 5,
    "start_time": "2022-12-10T21:45:02.424Z"
   },
   {
    "duration": 10,
    "start_time": "2022-12-10T21:45:02.430Z"
   },
   {
    "duration": 7,
    "start_time": "2022-12-10T21:45:02.442Z"
   },
   {
    "duration": 8,
    "start_time": "2022-12-10T21:45:02.450Z"
   },
   {
    "duration": 5,
    "start_time": "2022-12-10T21:45:02.460Z"
   },
   {
    "duration": 6,
    "start_time": "2022-12-10T21:45:02.466Z"
   },
   {
    "duration": 25,
    "start_time": "2022-12-10T21:45:02.473Z"
   },
   {
    "duration": 9,
    "start_time": "2022-12-10T21:45:02.500Z"
   },
   {
    "duration": 8,
    "start_time": "2022-12-10T21:45:02.511Z"
   },
   {
    "duration": 9,
    "start_time": "2022-12-10T21:45:02.521Z"
   },
   {
    "duration": 11,
    "start_time": "2022-12-10T21:45:02.532Z"
   },
   {
    "duration": 7,
    "start_time": "2022-12-10T21:45:02.545Z"
   },
   {
    "duration": 17,
    "start_time": "2022-12-10T21:45:02.554Z"
   },
   {
    "duration": 23,
    "start_time": "2022-12-10T21:45:02.573Z"
   },
   {
    "duration": 32,
    "start_time": "2022-12-10T21:45:02.598Z"
   },
   {
    "duration": 17,
    "start_time": "2022-12-10T21:45:02.632Z"
   },
   {
    "duration": 15,
    "start_time": "2022-12-10T21:45:02.650Z"
   },
   {
    "duration": 28,
    "start_time": "2022-12-10T21:45:02.672Z"
   },
   {
    "duration": 9,
    "start_time": "2022-12-10T21:45:02.702Z"
   },
   {
    "duration": 18,
    "start_time": "2022-12-10T21:45:02.713Z"
   },
   {
    "duration": 10,
    "start_time": "2022-12-10T21:45:02.733Z"
   },
   {
    "duration": 29,
    "start_time": "2022-12-10T21:45:02.745Z"
   },
   {
    "duration": 26,
    "start_time": "2022-12-10T21:45:02.776Z"
   },
   {
    "duration": 14,
    "start_time": "2022-12-10T21:45:02.804Z"
   },
   {
    "duration": 31,
    "start_time": "2022-12-10T21:45:02.820Z"
   },
   {
    "duration": 11,
    "start_time": "2022-12-10T21:45:02.852Z"
   },
   {
    "duration": 54,
    "start_time": "2022-12-10T21:45:02.864Z"
   },
   {
    "duration": 365,
    "start_time": "2022-12-10T21:45:02.920Z"
   },
   {
    "duration": 11,
    "start_time": "2022-12-10T21:45:03.287Z"
   },
   {
    "duration": 298,
    "start_time": "2022-12-10T21:45:03.300Z"
   },
   {
    "duration": 326,
    "start_time": "2022-12-10T21:45:03.600Z"
   },
   {
    "duration": 161,
    "start_time": "2022-12-10T21:45:03.930Z"
   },
   {
    "duration": 236,
    "start_time": "2022-12-10T21:45:04.097Z"
   },
   {
    "duration": 15,
    "start_time": "2022-12-10T21:45:04.335Z"
   },
   {
    "duration": 13,
    "start_time": "2022-12-10T21:45:04.351Z"
   },
   {
    "duration": 6,
    "start_time": "2022-12-10T21:45:04.365Z"
   },
   {
    "duration": 25,
    "start_time": "2022-12-10T21:45:04.373Z"
   },
   {
    "duration": 5,
    "start_time": "2022-12-10T21:45:04.399Z"
   },
   {
    "duration": 7,
    "start_time": "2022-12-10T21:45:04.406Z"
   },
   {
    "duration": 4,
    "start_time": "2022-12-10T21:45:04.414Z"
   },
   {
    "duration": 270,
    "start_time": "2022-12-10T21:45:04.420Z"
   },
   {
    "duration": 8,
    "start_time": "2022-12-10T21:45:04.692Z"
   },
   {
    "duration": 15,
    "start_time": "2022-12-10T21:45:04.701Z"
   },
   {
    "duration": 7,
    "start_time": "2022-12-10T21:45:04.720Z"
   },
   {
    "duration": 11,
    "start_time": "2022-12-10T21:45:04.729Z"
   },
   {
    "duration": 257,
    "start_time": "2022-12-10T21:45:04.742Z"
   },
   {
    "duration": 6,
    "start_time": "2022-12-10T21:45:05.001Z"
   },
   {
    "duration": 257,
    "start_time": "2022-12-10T21:45:05.009Z"
   },
   {
    "duration": 6,
    "start_time": "2022-12-10T21:45:05.268Z"
   },
   {
    "duration": 20,
    "start_time": "2022-12-10T21:45:05.276Z"
   },
   {
    "duration": 179,
    "start_time": "2022-12-10T21:45:05.298Z"
   },
   {
    "duration": 6,
    "start_time": "2022-12-10T21:45:05.478Z"
   },
   {
    "duration": 19,
    "start_time": "2022-12-10T21:45:05.485Z"
   },
   {
    "duration": 7,
    "start_time": "2022-12-10T21:45:05.506Z"
   },
   {
    "duration": 265,
    "start_time": "2022-12-10T21:45:05.514Z"
   },
   {
    "duration": 273,
    "start_time": "2022-12-10T21:45:05.781Z"
   },
   {
    "duration": 7,
    "start_time": "2022-12-10T21:45:06.056Z"
   },
   {
    "duration": 48,
    "start_time": "2022-12-10T21:45:06.065Z"
   },
   {
    "duration": 7,
    "start_time": "2022-12-10T21:45:06.115Z"
   },
   {
    "duration": 10,
    "start_time": "2022-12-10T21:45:06.123Z"
   },
   {
    "duration": 258,
    "start_time": "2022-12-10T21:45:06.135Z"
   },
   {
    "duration": 155,
    "start_time": "2022-12-10T21:45:06.397Z"
   },
   {
    "duration": 6,
    "start_time": "2022-12-10T21:45:06.553Z"
   },
   {
    "duration": 7,
    "start_time": "2022-12-10T21:45:06.560Z"
   },
   {
    "duration": 8,
    "start_time": "2022-12-10T21:45:06.569Z"
   },
   {
    "duration": 174,
    "start_time": "2022-12-10T21:45:06.578Z"
   },
   {
    "duration": 6,
    "start_time": "2022-12-10T21:45:06.754Z"
   },
   {
    "duration": 270,
    "start_time": "2022-12-10T21:45:06.762Z"
   },
   {
    "duration": 252,
    "start_time": "2022-12-10T21:45:07.034Z"
   },
   {
    "duration": 254,
    "start_time": "2022-12-10T21:45:07.288Z"
   },
   {
    "duration": 355,
    "start_time": "2022-12-10T21:45:07.545Z"
   },
   {
    "duration": 249,
    "start_time": "2022-12-10T21:45:07.902Z"
   },
   {
    "duration": 147,
    "start_time": "2022-12-10T21:45:08.153Z"
   },
   {
    "duration": 139,
    "start_time": "2022-12-10T21:45:08.302Z"
   },
   {
    "duration": 249,
    "start_time": "2022-12-10T21:45:08.443Z"
   },
   {
    "duration": 7,
    "start_time": "2022-12-10T21:45:08.696Z"
   },
   {
    "duration": 6,
    "start_time": "2022-12-10T21:45:08.704Z"
   },
   {
    "duration": 8,
    "start_time": "2022-12-10T21:45:08.711Z"
   },
   {
    "duration": 8,
    "start_time": "2022-12-10T21:45:08.720Z"
   },
   {
    "duration": 5,
    "start_time": "2022-12-10T21:45:08.729Z"
   },
   {
    "duration": 10,
    "start_time": "2022-12-10T21:45:08.735Z"
   },
   {
    "duration": 205,
    "start_time": "2022-12-10T21:45:08.746Z"
   },
   {
    "duration": 222,
    "start_time": "2022-12-10T21:45:08.953Z"
   },
   {
    "duration": 6,
    "start_time": "2022-12-10T21:45:09.177Z"
   },
   {
    "duration": 177,
    "start_time": "2022-12-10T21:45:09.185Z"
   },
   {
    "duration": 327,
    "start_time": "2022-12-10T21:45:09.365Z"
   },
   {
    "duration": 5,
    "start_time": "2022-12-10T21:45:09.696Z"
   },
   {
    "duration": 156,
    "start_time": "2022-12-10T21:45:09.703Z"
   },
   {
    "duration": 199,
    "start_time": "2022-12-10T21:45:09.861Z"
   },
   {
    "duration": 5,
    "start_time": "2022-12-10T21:45:10.061Z"
   },
   {
    "duration": 200,
    "start_time": "2022-12-10T21:45:10.068Z"
   },
   {
    "duration": 5,
    "start_time": "2022-12-10T21:45:10.271Z"
   },
   {
    "duration": 183,
    "start_time": "2022-12-10T21:45:10.278Z"
   },
   {
    "duration": 22,
    "start_time": "2022-12-10T21:45:10.463Z"
   },
   {
    "duration": 186,
    "start_time": "2022-12-10T21:45:10.487Z"
   },
   {
    "duration": 29,
    "start_time": "2022-12-10T21:45:10.674Z"
   },
   {
    "duration": 206,
    "start_time": "2022-12-10T21:45:10.705Z"
   },
   {
    "duration": 26,
    "start_time": "2022-12-10T21:45:10.913Z"
   },
   {
    "duration": 213,
    "start_time": "2022-12-10T21:45:10.941Z"
   },
   {
    "duration": 19,
    "start_time": "2022-12-10T21:45:11.155Z"
   },
   {
    "duration": 35,
    "start_time": "2022-12-10T21:45:11.176Z"
   },
   {
    "duration": 160,
    "start_time": "2022-12-10T21:45:11.213Z"
   },
   {
    "duration": 24,
    "start_time": "2022-12-10T21:45:11.375Z"
   },
   {
    "duration": 143,
    "start_time": "2022-12-10T21:45:11.401Z"
   },
   {
    "duration": 5,
    "start_time": "2022-12-10T21:45:11.545Z"
   },
   {
    "duration": 17,
    "start_time": "2022-12-10T21:45:11.551Z"
   },
   {
    "duration": 14,
    "start_time": "2022-12-10T21:45:11.570Z"
   },
   {
    "duration": 8615,
    "start_time": "2022-12-10T21:45:11.586Z"
   },
   {
    "duration": 391,
    "start_time": "2022-12-10T21:45:20.203Z"
   },
   {
    "duration": 905,
    "start_time": "2022-12-10T21:45:20.595Z"
   },
   {
    "duration": 177,
    "start_time": "2022-12-10T21:45:21.502Z"
   },
   {
    "duration": 13,
    "start_time": "2022-12-10T21:46:32.397Z"
   },
   {
    "duration": 104,
    "start_time": "2022-12-10T21:47:59.238Z"
   },
   {
    "duration": 8,
    "start_time": "2022-12-10T21:48:11.782Z"
   },
   {
    "duration": 1132,
    "start_time": "2022-12-10T21:48:28.068Z"
   },
   {
    "duration": 3,
    "start_time": "2022-12-10T21:48:29.202Z"
   },
   {
    "duration": 94,
    "start_time": "2022-12-10T21:48:29.207Z"
   },
   {
    "duration": 22,
    "start_time": "2022-12-10T21:48:29.303Z"
   },
   {
    "duration": 15,
    "start_time": "2022-12-10T21:48:29.327Z"
   },
   {
    "duration": 1862,
    "start_time": "2022-12-10T21:48:29.344Z"
   },
   {
    "duration": 5,
    "start_time": "2022-12-10T21:48:31.208Z"
   },
   {
    "duration": 319,
    "start_time": "2022-12-10T21:48:31.214Z"
   },
   {
    "duration": 14,
    "start_time": "2022-12-10T21:48:31.535Z"
   },
   {
    "duration": 5,
    "start_time": "2022-12-10T21:48:31.552Z"
   },
   {
    "duration": 7,
    "start_time": "2022-12-10T21:48:31.558Z"
   },
   {
    "duration": 34,
    "start_time": "2022-12-10T21:48:31.566Z"
   },
   {
    "duration": 4,
    "start_time": "2022-12-10T21:48:31.602Z"
   },
   {
    "duration": 12,
    "start_time": "2022-12-10T21:48:31.607Z"
   },
   {
    "duration": 31,
    "start_time": "2022-12-10T21:48:31.620Z"
   },
   {
    "duration": 21,
    "start_time": "2022-12-10T21:48:31.652Z"
   },
   {
    "duration": 13,
    "start_time": "2022-12-10T21:48:31.675Z"
   },
   {
    "duration": 8,
    "start_time": "2022-12-10T21:48:31.690Z"
   },
   {
    "duration": 15,
    "start_time": "2022-12-10T21:48:31.699Z"
   },
   {
    "duration": 6,
    "start_time": "2022-12-10T21:48:31.716Z"
   },
   {
    "duration": 21,
    "start_time": "2022-12-10T21:48:31.723Z"
   },
   {
    "duration": 7,
    "start_time": "2022-12-10T21:48:31.746Z"
   },
   {
    "duration": 208,
    "start_time": "2022-12-10T21:48:31.755Z"
   },
   {
    "duration": 7,
    "start_time": "2022-12-10T21:48:31.964Z"
   },
   {
    "duration": 7,
    "start_time": "2022-12-10T21:48:31.972Z"
   },
   {
    "duration": 4,
    "start_time": "2022-12-10T21:48:31.996Z"
   },
   {
    "duration": 8,
    "start_time": "2022-12-10T21:48:32.001Z"
   },
   {
    "duration": 6,
    "start_time": "2022-12-10T21:48:32.012Z"
   },
   {
    "duration": 8,
    "start_time": "2022-12-10T21:48:32.020Z"
   },
   {
    "duration": 255,
    "start_time": "2022-12-10T21:48:32.029Z"
   },
   {
    "duration": 141,
    "start_time": "2022-12-10T21:48:32.285Z"
   },
   {
    "duration": 6,
    "start_time": "2022-12-10T21:48:32.428Z"
   },
   {
    "duration": 8,
    "start_time": "2022-12-10T21:48:32.435Z"
   },
   {
    "duration": 83,
    "start_time": "2022-12-10T21:48:32.445Z"
   },
   {
    "duration": 5,
    "start_time": "2022-12-10T21:48:32.530Z"
   },
   {
    "duration": 5,
    "start_time": "2022-12-10T21:48:32.537Z"
   },
   {
    "duration": 56,
    "start_time": "2022-12-10T21:48:32.543Z"
   },
   {
    "duration": 132,
    "start_time": "2022-12-10T21:48:32.601Z"
   },
   {
    "duration": 14,
    "start_time": "2022-12-10T21:48:32.735Z"
   },
   {
    "duration": 7,
    "start_time": "2022-12-10T21:48:32.750Z"
   },
   {
    "duration": 171,
    "start_time": "2022-12-10T21:48:32.758Z"
   },
   {
    "duration": 5,
    "start_time": "2022-12-10T21:48:32.930Z"
   },
   {
    "duration": 7,
    "start_time": "2022-12-10T21:48:32.936Z"
   },
   {
    "duration": 296,
    "start_time": "2022-12-10T21:48:32.944Z"
   },
   {
    "duration": 362,
    "start_time": "2022-12-10T21:48:35.391Z"
   },
   {
    "duration": 6,
    "start_time": "2022-12-10T21:48:36.646Z"
   },
   {
    "duration": 4,
    "start_time": "2022-12-10T21:48:54.804Z"
   },
   {
    "duration": 6,
    "start_time": "2022-12-10T21:49:03.410Z"
   },
   {
    "duration": 7,
    "start_time": "2022-12-10T21:49:48.643Z"
   },
   {
    "duration": 6,
    "start_time": "2022-12-10T21:49:52.548Z"
   },
   {
    "duration": 242,
    "start_time": "2022-12-10T21:49:53.407Z"
   },
   {
    "duration": 7,
    "start_time": "2022-12-10T21:49:55.849Z"
   },
   {
    "duration": 9,
    "start_time": "2022-12-10T21:49:59.358Z"
   },
   {
    "duration": 242,
    "start_time": "2022-12-10T21:50:01.299Z"
   },
   {
    "duration": 6,
    "start_time": "2022-12-10T21:50:03.341Z"
   },
   {
    "duration": 100,
    "start_time": "2022-12-10T21:50:19.583Z"
   },
   {
    "duration": 13,
    "start_time": "2022-12-10T21:50:22.101Z"
   },
   {
    "duration": 6,
    "start_time": "2022-12-10T21:52:00.241Z"
   },
   {
    "duration": 5,
    "start_time": "2022-12-10T21:52:07.968Z"
   },
   {
    "duration": 5,
    "start_time": "2022-12-10T21:52:25.096Z"
   },
   {
    "duration": 7,
    "start_time": "2022-12-10T21:52:41.992Z"
   },
   {
    "duration": 6,
    "start_time": "2022-12-10T21:52:50.204Z"
   },
   {
    "duration": 7,
    "start_time": "2022-12-10T21:52:56.979Z"
   },
   {
    "duration": 8,
    "start_time": "2022-12-10T21:53:03.332Z"
   },
   {
    "duration": 3,
    "start_time": "2022-12-10T21:56:26.982Z"
   },
   {
    "duration": 6,
    "start_time": "2022-12-10T21:56:26.987Z"
   },
   {
    "duration": 90,
    "start_time": "2022-12-10T21:56:26.995Z"
   },
   {
    "duration": 20,
    "start_time": "2022-12-10T21:56:27.087Z"
   },
   {
    "duration": 19,
    "start_time": "2022-12-10T21:56:27.108Z"
   },
   {
    "duration": 1891,
    "start_time": "2022-12-10T21:56:27.129Z"
   },
   {
    "duration": 4,
    "start_time": "2022-12-10T21:56:29.022Z"
   },
   {
    "duration": 217,
    "start_time": "2022-12-10T21:56:29.027Z"
   },
   {
    "duration": 12,
    "start_time": "2022-12-10T21:56:29.246Z"
   },
   {
    "duration": 7,
    "start_time": "2022-12-10T21:56:29.260Z"
   },
   {
    "duration": 8,
    "start_time": "2022-12-10T21:56:29.269Z"
   },
   {
    "duration": 20,
    "start_time": "2022-12-10T21:56:29.279Z"
   },
   {
    "duration": 9,
    "start_time": "2022-12-10T21:56:29.301Z"
   },
   {
    "duration": 7,
    "start_time": "2022-12-10T21:56:29.312Z"
   },
   {
    "duration": 8,
    "start_time": "2022-12-10T21:56:29.320Z"
   },
   {
    "duration": 8,
    "start_time": "2022-12-10T21:56:29.330Z"
   },
   {
    "duration": 16,
    "start_time": "2022-12-10T21:56:29.339Z"
   },
   {
    "duration": 5,
    "start_time": "2022-12-10T21:56:29.357Z"
   },
   {
    "duration": 14,
    "start_time": "2022-12-10T21:56:29.363Z"
   },
   {
    "duration": 19,
    "start_time": "2022-12-10T21:56:29.378Z"
   },
   {
    "duration": 14,
    "start_time": "2022-12-10T21:56:29.398Z"
   },
   {
    "duration": 7,
    "start_time": "2022-12-10T21:56:29.413Z"
   },
   {
    "duration": 196,
    "start_time": "2022-12-10T21:56:29.421Z"
   },
   {
    "duration": 6,
    "start_time": "2022-12-10T21:56:29.619Z"
   },
   {
    "duration": 7,
    "start_time": "2022-12-10T21:56:29.627Z"
   },
   {
    "duration": 3,
    "start_time": "2022-12-10T21:56:29.636Z"
   },
   {
    "duration": 5,
    "start_time": "2022-12-10T21:56:29.641Z"
   },
   {
    "duration": 5,
    "start_time": "2022-12-10T21:56:29.648Z"
   },
   {
    "duration": 8,
    "start_time": "2022-12-10T21:56:29.654Z"
   },
   {
    "duration": 260,
    "start_time": "2022-12-10T21:56:29.698Z"
   },
   {
    "duration": 144,
    "start_time": "2022-12-10T21:56:29.960Z"
   },
   {
    "duration": 6,
    "start_time": "2022-12-10T21:56:30.105Z"
   },
   {
    "duration": 9,
    "start_time": "2022-12-10T21:56:30.112Z"
   },
   {
    "duration": 77,
    "start_time": "2022-12-10T21:56:30.123Z"
   },
   {
    "duration": 4,
    "start_time": "2022-12-10T21:56:30.201Z"
   },
   {
    "duration": 18,
    "start_time": "2022-12-10T21:56:30.207Z"
   },
   {
    "duration": 50,
    "start_time": "2022-12-10T21:56:30.227Z"
   },
   {
    "duration": 137,
    "start_time": "2022-12-10T21:56:30.279Z"
   },
   {
    "duration": 13,
    "start_time": "2022-12-10T21:56:30.418Z"
   },
   {
    "duration": 23,
    "start_time": "2022-12-10T21:56:30.432Z"
   },
   {
    "duration": 278,
    "start_time": "2022-12-10T21:56:30.456Z"
   },
   {
    "duration": 5,
    "start_time": "2022-12-10T21:56:30.736Z"
   },
   {
    "duration": 19,
    "start_time": "2022-12-10T21:56:30.742Z"
   },
   {
    "duration": 338,
    "start_time": "2022-12-10T21:56:30.763Z"
   },
   {
    "duration": 4,
    "start_time": "2022-12-10T21:56:31.103Z"
   },
   {
    "duration": 7,
    "start_time": "2022-12-10T21:56:31.109Z"
   },
   {
    "duration": 5,
    "start_time": "2022-12-10T21:56:31.118Z"
   },
   {
    "duration": 265,
    "start_time": "2022-12-10T21:56:31.125Z"
   },
   {
    "duration": 7,
    "start_time": "2022-12-10T21:56:31.392Z"
   },
   {
    "duration": 14,
    "start_time": "2022-12-10T21:56:31.401Z"
   },
   {
    "duration": 256,
    "start_time": "2022-12-10T21:56:31.416Z"
   },
   {
    "duration": 5,
    "start_time": "2022-12-10T21:56:31.673Z"
   },
   {
    "duration": 17,
    "start_time": "2022-12-10T21:56:31.679Z"
   },
   {
    "duration": 5,
    "start_time": "2022-12-10T21:56:31.698Z"
   },
   {
    "duration": 13,
    "start_time": "2022-12-10T21:56:31.705Z"
   },
   {
    "duration": 4,
    "start_time": "2022-12-10T21:56:40.053Z"
   },
   {
    "duration": 367,
    "start_time": "2022-12-10T21:56:40.598Z"
   },
   {
    "duration": 6,
    "start_time": "2022-12-10T21:57:06.380Z"
   },
   {
    "duration": 8,
    "start_time": "2022-12-10T21:57:19.021Z"
   },
   {
    "duration": 517,
    "start_time": "2022-12-10T21:57:25.683Z"
   },
   {
    "duration": 7,
    "start_time": "2022-12-10T21:57:26.992Z"
   },
   {
    "duration": 7,
    "start_time": "2022-12-10T21:57:28.746Z"
   },
   {
    "duration": 8,
    "start_time": "2022-12-10T21:57:29.249Z"
   },
   {
    "duration": 7,
    "start_time": "2022-12-10T21:57:39.074Z"
   },
   {
    "duration": 6,
    "start_time": "2022-12-10T21:58:32.424Z"
   },
   {
    "duration": 5,
    "start_time": "2022-12-10T21:58:40.457Z"
   },
   {
    "duration": 5,
    "start_time": "2022-12-10T21:58:45.111Z"
   },
   {
    "duration": 3,
    "start_time": "2022-12-10T21:58:56.748Z"
   },
   {
    "duration": 1164,
    "start_time": "2022-12-10T22:00:51.179Z"
   },
   {
    "duration": 3,
    "start_time": "2022-12-10T22:00:52.345Z"
   },
   {
    "duration": 99,
    "start_time": "2022-12-10T22:00:52.349Z"
   },
   {
    "duration": 23,
    "start_time": "2022-12-10T22:00:52.450Z"
   },
   {
    "duration": 26,
    "start_time": "2022-12-10T22:00:52.475Z"
   },
   {
    "duration": 1954,
    "start_time": "2022-12-10T22:00:52.503Z"
   },
   {
    "duration": 5,
    "start_time": "2022-12-10T22:00:54.459Z"
   },
   {
    "duration": 311,
    "start_time": "2022-12-10T22:00:54.465Z"
   },
   {
    "duration": 25,
    "start_time": "2022-12-10T22:00:54.778Z"
   },
   {
    "duration": 4,
    "start_time": "2022-12-10T22:00:54.805Z"
   },
   {
    "duration": 5,
    "start_time": "2022-12-10T22:00:54.811Z"
   },
   {
    "duration": 12,
    "start_time": "2022-12-10T22:00:54.818Z"
   },
   {
    "duration": 6,
    "start_time": "2022-12-10T22:00:54.831Z"
   },
   {
    "duration": 5,
    "start_time": "2022-12-10T22:00:54.840Z"
   },
   {
    "duration": 6,
    "start_time": "2022-12-10T22:00:54.847Z"
   },
   {
    "duration": 8,
    "start_time": "2022-12-10T22:00:54.855Z"
   },
   {
    "duration": 33,
    "start_time": "2022-12-10T22:00:54.864Z"
   },
   {
    "duration": 6,
    "start_time": "2022-12-10T22:00:54.899Z"
   },
   {
    "duration": 13,
    "start_time": "2022-12-10T22:00:54.906Z"
   },
   {
    "duration": 5,
    "start_time": "2022-12-10T22:00:54.921Z"
   },
   {
    "duration": 12,
    "start_time": "2022-12-10T22:00:54.927Z"
   },
   {
    "duration": 6,
    "start_time": "2022-12-10T22:00:54.941Z"
   },
   {
    "duration": 213,
    "start_time": "2022-12-10T22:00:54.949Z"
   },
   {
    "duration": 7,
    "start_time": "2022-12-10T22:00:55.164Z"
   },
   {
    "duration": 7,
    "start_time": "2022-12-10T22:00:55.173Z"
   },
   {
    "duration": 5,
    "start_time": "2022-12-10T22:00:55.196Z"
   },
   {
    "duration": 7,
    "start_time": "2022-12-10T22:00:55.202Z"
   },
   {
    "duration": 8,
    "start_time": "2022-12-10T22:00:55.210Z"
   },
   {
    "duration": 8,
    "start_time": "2022-12-10T22:00:55.219Z"
   },
   {
    "duration": 248,
    "start_time": "2022-12-10T22:00:55.228Z"
   },
   {
    "duration": 135,
    "start_time": "2022-12-10T22:00:55.477Z"
   },
   {
    "duration": 5,
    "start_time": "2022-12-10T22:00:55.613Z"
   },
   {
    "duration": 8,
    "start_time": "2022-12-10T22:00:55.620Z"
   },
   {
    "duration": 77,
    "start_time": "2022-12-10T22:00:55.630Z"
   },
   {
    "duration": 4,
    "start_time": "2022-12-10T22:00:55.708Z"
   },
   {
    "duration": 5,
    "start_time": "2022-12-10T22:00:55.714Z"
   },
   {
    "duration": 36,
    "start_time": "2022-12-10T22:00:55.721Z"
   },
   {
    "duration": 153,
    "start_time": "2022-12-10T22:00:55.758Z"
   },
   {
    "duration": 18,
    "start_time": "2022-12-10T22:00:55.914Z"
   },
   {
    "duration": 9,
    "start_time": "2022-12-10T22:00:55.934Z"
   },
   {
    "duration": 219,
    "start_time": "2022-12-10T22:00:55.947Z"
   },
   {
    "duration": 5,
    "start_time": "2022-12-10T22:00:56.168Z"
   },
   {
    "duration": 6,
    "start_time": "2022-12-10T22:00:56.175Z"
   },
   {
    "duration": 293,
    "start_time": "2022-12-10T22:00:56.196Z"
   },
   {
    "duration": 7,
    "start_time": "2022-12-10T22:00:56.490Z"
   },
   {
    "duration": 10,
    "start_time": "2022-12-10T22:00:56.499Z"
   },
   {
    "duration": 5,
    "start_time": "2022-12-10T22:00:56.510Z"
   },
   {
    "duration": 316,
    "start_time": "2022-12-10T22:00:56.517Z"
   },
   {
    "duration": 6,
    "start_time": "2022-12-10T22:00:56.835Z"
   },
   {
    "duration": 10,
    "start_time": "2022-12-10T22:00:56.842Z"
   },
   {
    "duration": 234,
    "start_time": "2022-12-10T22:00:56.853Z"
   },
   {
    "duration": 9,
    "start_time": "2022-12-10T22:00:57.089Z"
   },
   {
    "duration": 7,
    "start_time": "2022-12-10T22:00:57.100Z"
   },
   {
    "duration": 11,
    "start_time": "2022-12-10T22:00:57.109Z"
   },
   {
    "duration": 7,
    "start_time": "2022-12-10T22:00:57.122Z"
   },
   {
    "duration": 381,
    "start_time": "2022-12-10T22:00:57.130Z"
   },
   {
    "duration": 7,
    "start_time": "2022-12-10T22:00:57.513Z"
   },
   {
    "duration": 8,
    "start_time": "2022-12-10T22:00:57.521Z"
   },
   {
    "duration": 251,
    "start_time": "2022-12-10T22:00:57.530Z"
   },
   {
    "duration": 15,
    "start_time": "2022-12-10T22:00:57.782Z"
   },
   {
    "duration": 5,
    "start_time": "2022-12-10T22:00:57.798Z"
   },
   {
    "duration": 225,
    "start_time": "2022-12-10T22:00:57.804Z"
   },
   {
    "duration": 4,
    "start_time": "2022-12-10T22:00:58.030Z"
   },
   {
    "duration": 7,
    "start_time": "2022-12-10T22:00:58.036Z"
   },
   {
    "duration": 10,
    "start_time": "2022-12-10T22:00:58.044Z"
   },
   {
    "duration": 7,
    "start_time": "2022-12-10T22:00:58.055Z"
   },
   {
    "duration": 273,
    "start_time": "2022-12-10T22:00:58.063Z"
   },
   {
    "duration": 6,
    "start_time": "2022-12-10T22:00:58.338Z"
   },
   {
    "duration": 9,
    "start_time": "2022-12-10T22:00:58.345Z"
   },
   {
    "duration": 7,
    "start_time": "2022-12-10T22:01:15.002Z"
   },
   {
    "duration": 7,
    "start_time": "2022-12-10T22:01:19.928Z"
   },
   {
    "duration": 1085,
    "start_time": "2022-12-10T22:02:01.999Z"
   },
   {
    "duration": 3,
    "start_time": "2022-12-10T22:02:03.086Z"
   },
   {
    "duration": 90,
    "start_time": "2022-12-10T22:02:03.095Z"
   },
   {
    "duration": 20,
    "start_time": "2022-12-10T22:02:03.187Z"
   },
   {
    "duration": 13,
    "start_time": "2022-12-10T22:02:03.209Z"
   },
   {
    "duration": 1831,
    "start_time": "2022-12-10T22:02:03.223Z"
   },
   {
    "duration": 4,
    "start_time": "2022-12-10T22:02:05.055Z"
   },
   {
    "duration": 310,
    "start_time": "2022-12-10T22:02:05.061Z"
   },
   {
    "duration": 23,
    "start_time": "2022-12-10T22:02:05.373Z"
   },
   {
    "duration": 4,
    "start_time": "2022-12-10T22:02:05.398Z"
   },
   {
    "duration": 11,
    "start_time": "2022-12-10T22:02:05.404Z"
   },
   {
    "duration": 9,
    "start_time": "2022-12-10T22:02:05.416Z"
   },
   {
    "duration": 4,
    "start_time": "2022-12-10T22:02:05.426Z"
   },
   {
    "duration": 6,
    "start_time": "2022-12-10T22:02:05.432Z"
   },
   {
    "duration": 5,
    "start_time": "2022-12-10T22:02:05.439Z"
   },
   {
    "duration": 6,
    "start_time": "2022-12-10T22:02:05.446Z"
   },
   {
    "duration": 4,
    "start_time": "2022-12-10T22:02:05.455Z"
   },
   {
    "duration": 5,
    "start_time": "2022-12-10T22:02:05.496Z"
   },
   {
    "duration": 18,
    "start_time": "2022-12-10T22:02:05.503Z"
   },
   {
    "duration": 6,
    "start_time": "2022-12-10T22:02:05.523Z"
   },
   {
    "duration": 16,
    "start_time": "2022-12-10T22:02:05.530Z"
   },
   {
    "duration": 8,
    "start_time": "2022-12-10T22:02:05.547Z"
   },
   {
    "duration": 207,
    "start_time": "2022-12-10T22:02:05.557Z"
   },
   {
    "duration": 6,
    "start_time": "2022-12-10T22:02:05.765Z"
   },
   {
    "duration": 6,
    "start_time": "2022-12-10T22:02:05.773Z"
   },
   {
    "duration": 4,
    "start_time": "2022-12-10T22:02:05.796Z"
   },
   {
    "duration": 7,
    "start_time": "2022-12-10T22:02:05.801Z"
   },
   {
    "duration": 4,
    "start_time": "2022-12-10T22:02:05.811Z"
   },
   {
    "duration": 8,
    "start_time": "2022-12-10T22:02:05.817Z"
   },
   {
    "duration": 346,
    "start_time": "2022-12-10T22:02:05.826Z"
   },
   {
    "duration": 146,
    "start_time": "2022-12-10T22:02:06.174Z"
   },
   {
    "duration": 7,
    "start_time": "2022-12-10T22:02:06.322Z"
   },
   {
    "duration": 8,
    "start_time": "2022-12-10T22:02:06.330Z"
   },
   {
    "duration": 84,
    "start_time": "2022-12-10T22:02:06.340Z"
   },
   {
    "duration": 4,
    "start_time": "2022-12-10T22:02:06.426Z"
   },
   {
    "duration": 7,
    "start_time": "2022-12-10T22:02:06.431Z"
   },
   {
    "duration": 35,
    "start_time": "2022-12-10T22:02:06.439Z"
   },
   {
    "duration": 141,
    "start_time": "2022-12-10T22:02:06.475Z"
   },
   {
    "duration": 12,
    "start_time": "2022-12-10T22:02:06.617Z"
   },
   {
    "duration": 6,
    "start_time": "2022-12-10T22:02:06.631Z"
   },
   {
    "duration": 172,
    "start_time": "2022-12-10T22:02:06.639Z"
   },
   {
    "duration": 7,
    "start_time": "2022-12-10T22:02:06.813Z"
   },
   {
    "duration": 6,
    "start_time": "2022-12-10T22:02:06.821Z"
   },
   {
    "duration": 312,
    "start_time": "2022-12-10T22:02:06.829Z"
   },
   {
    "duration": 4,
    "start_time": "2022-12-10T22:02:07.143Z"
   },
   {
    "duration": 9,
    "start_time": "2022-12-10T22:02:07.149Z"
   },
   {
    "duration": 5,
    "start_time": "2022-12-10T22:02:07.160Z"
   },
   {
    "duration": 341,
    "start_time": "2022-12-10T22:02:07.167Z"
   },
   {
    "duration": 7,
    "start_time": "2022-12-10T22:02:07.510Z"
   },
   {
    "duration": 9,
    "start_time": "2022-12-10T22:02:07.519Z"
   },
   {
    "duration": 247,
    "start_time": "2022-12-10T22:02:07.529Z"
   },
   {
    "duration": 6,
    "start_time": "2022-12-10T22:02:07.778Z"
   },
   {
    "duration": 15,
    "start_time": "2022-12-10T22:02:07.785Z"
   },
   {
    "duration": 6,
    "start_time": "2022-12-10T22:02:07.801Z"
   },
   {
    "duration": 6,
    "start_time": "2022-12-10T22:02:07.809Z"
   },
   {
    "duration": 363,
    "start_time": "2022-12-10T22:02:07.816Z"
   },
   {
    "duration": 17,
    "start_time": "2022-12-10T22:02:08.181Z"
   },
   {
    "duration": 7,
    "start_time": "2022-12-10T22:02:08.199Z"
   },
   {
    "duration": 251,
    "start_time": "2022-12-10T22:02:08.207Z"
   },
   {
    "duration": 6,
    "start_time": "2022-12-10T22:02:08.460Z"
   },
   {
    "duration": 7,
    "start_time": "2022-12-10T22:02:08.467Z"
   },
   {
    "duration": 252,
    "start_time": "2022-12-10T22:02:08.475Z"
   },
   {
    "duration": 6,
    "start_time": "2022-12-10T22:02:08.728Z"
   },
   {
    "duration": 6,
    "start_time": "2022-12-10T22:02:08.735Z"
   },
   {
    "duration": 6,
    "start_time": "2022-12-10T22:02:08.743Z"
   },
   {
    "duration": 6,
    "start_time": "2022-12-10T22:02:08.751Z"
   },
   {
    "duration": 293,
    "start_time": "2022-12-10T22:02:08.758Z"
   },
   {
    "duration": 7,
    "start_time": "2022-12-10T22:02:09.053Z"
   },
   {
    "duration": 10,
    "start_time": "2022-12-10T22:02:09.061Z"
   },
   {
    "duration": 6,
    "start_time": "2022-12-10T22:02:11.372Z"
   },
   {
    "duration": 30,
    "start_time": "2022-12-10T22:02:34.198Z"
   },
   {
    "duration": 3,
    "start_time": "2022-12-10T22:04:50.214Z"
   },
   {
    "duration": 9,
    "start_time": "2022-12-10T22:04:50.221Z"
   },
   {
    "duration": 118,
    "start_time": "2022-12-10T22:04:50.232Z"
   },
   {
    "duration": 19,
    "start_time": "2022-12-10T22:04:50.352Z"
   },
   {
    "duration": 30,
    "start_time": "2022-12-10T22:04:50.372Z"
   },
   {
    "duration": 1981,
    "start_time": "2022-12-10T22:04:50.404Z"
   },
   {
    "duration": 9,
    "start_time": "2022-12-10T22:04:52.387Z"
   },
   {
    "duration": 232,
    "start_time": "2022-12-10T22:04:52.398Z"
   },
   {
    "duration": 14,
    "start_time": "2022-12-10T22:04:52.631Z"
   },
   {
    "duration": 3,
    "start_time": "2022-12-10T22:04:52.647Z"
   },
   {
    "duration": 6,
    "start_time": "2022-12-10T22:04:52.652Z"
   },
   {
    "duration": 15,
    "start_time": "2022-12-10T22:04:52.661Z"
   },
   {
    "duration": 22,
    "start_time": "2022-12-10T22:04:52.678Z"
   },
   {
    "duration": 20,
    "start_time": "2022-12-10T22:04:52.701Z"
   },
   {
    "duration": 13,
    "start_time": "2022-12-10T22:04:52.722Z"
   },
   {
    "duration": 7,
    "start_time": "2022-12-10T22:04:52.737Z"
   },
   {
    "duration": 5,
    "start_time": "2022-12-10T22:04:52.745Z"
   },
   {
    "duration": 7,
    "start_time": "2022-12-10T22:04:52.751Z"
   },
   {
    "duration": 138,
    "start_time": "2022-12-10T22:04:52.759Z"
   },
   {
    "duration": 6,
    "start_time": "2022-12-10T22:04:52.899Z"
   },
   {
    "duration": 14,
    "start_time": "2022-12-10T22:04:52.907Z"
   },
   {
    "duration": 8,
    "start_time": "2022-12-10T22:04:52.923Z"
   },
   {
    "duration": 213,
    "start_time": "2022-12-10T22:04:52.932Z"
   },
   {
    "duration": 8,
    "start_time": "2022-12-10T22:04:53.147Z"
   },
   {
    "duration": 17,
    "start_time": "2022-12-10T22:04:53.157Z"
   },
   {
    "duration": 4,
    "start_time": "2022-12-10T22:04:53.176Z"
   },
   {
    "duration": 5,
    "start_time": "2022-12-10T22:04:53.196Z"
   },
   {
    "duration": 12,
    "start_time": "2022-12-10T22:04:53.202Z"
   },
   {
    "duration": 14,
    "start_time": "2022-12-10T22:04:53.216Z"
   },
   {
    "duration": 294,
    "start_time": "2022-12-10T22:04:53.235Z"
   },
   {
    "duration": 143,
    "start_time": "2022-12-10T22:04:53.531Z"
   },
   {
    "duration": 7,
    "start_time": "2022-12-10T22:04:53.675Z"
   },
   {
    "duration": 15,
    "start_time": "2022-12-10T22:04:53.696Z"
   },
   {
    "duration": 75,
    "start_time": "2022-12-10T22:04:53.713Z"
   },
   {
    "duration": 5,
    "start_time": "2022-12-10T22:04:53.789Z"
   },
   {
    "duration": 8,
    "start_time": "2022-12-10T22:04:53.796Z"
   },
   {
    "duration": 41,
    "start_time": "2022-12-10T22:04:53.805Z"
   },
   {
    "duration": 133,
    "start_time": "2022-12-10T22:04:53.848Z"
   },
   {
    "duration": 21,
    "start_time": "2022-12-10T22:04:53.982Z"
   },
   {
    "duration": 5,
    "start_time": "2022-12-10T22:04:54.005Z"
   },
   {
    "duration": 170,
    "start_time": "2022-12-10T22:04:54.011Z"
   },
   {
    "duration": 5,
    "start_time": "2022-12-10T22:04:54.182Z"
   },
   {
    "duration": 5,
    "start_time": "2022-12-10T22:04:54.196Z"
   },
   {
    "duration": 303,
    "start_time": "2022-12-10T22:04:54.202Z"
   },
   {
    "duration": 4,
    "start_time": "2022-12-10T22:04:54.507Z"
   },
   {
    "duration": 8,
    "start_time": "2022-12-10T22:04:54.512Z"
   },
   {
    "duration": 4,
    "start_time": "2022-12-10T22:04:54.522Z"
   },
   {
    "duration": 332,
    "start_time": "2022-12-10T22:04:54.528Z"
   },
   {
    "duration": 6,
    "start_time": "2022-12-10T22:04:54.861Z"
   },
   {
    "duration": 25,
    "start_time": "2022-12-10T22:04:54.868Z"
   },
   {
    "duration": 252,
    "start_time": "2022-12-10T22:04:54.895Z"
   },
   {
    "duration": 5,
    "start_time": "2022-12-10T22:04:55.148Z"
   },
   {
    "duration": 17,
    "start_time": "2022-12-10T22:04:55.155Z"
   },
   {
    "duration": 14,
    "start_time": "2022-12-10T22:04:55.173Z"
   },
   {
    "duration": 8,
    "start_time": "2022-12-10T22:04:55.189Z"
   },
   {
    "duration": 374,
    "start_time": "2022-12-10T22:04:55.198Z"
   },
   {
    "duration": 6,
    "start_time": "2022-12-10T22:04:55.574Z"
   },
   {
    "duration": 14,
    "start_time": "2022-12-10T22:04:55.582Z"
   },
   {
    "duration": 249,
    "start_time": "2022-12-10T22:04:55.598Z"
   },
   {
    "duration": 6,
    "start_time": "2022-12-10T22:04:55.849Z"
   },
   {
    "duration": 7,
    "start_time": "2022-12-10T22:04:55.856Z"
   },
   {
    "duration": 305,
    "start_time": "2022-12-10T22:04:55.865Z"
   },
   {
    "duration": 5,
    "start_time": "2022-12-10T22:04:56.172Z"
   },
   {
    "duration": 18,
    "start_time": "2022-12-10T22:04:56.179Z"
   },
   {
    "duration": 10,
    "start_time": "2022-12-10T22:04:56.199Z"
   },
   {
    "duration": 7,
    "start_time": "2022-12-10T22:04:56.210Z"
   },
   {
    "duration": 155,
    "start_time": "2022-12-10T22:04:56.219Z"
   },
   {
    "duration": 6,
    "start_time": "2022-12-10T22:04:56.376Z"
   },
   {
    "duration": 18,
    "start_time": "2022-12-10T22:04:56.384Z"
   },
   {
    "duration": 4,
    "start_time": "2022-12-10T22:04:56.403Z"
   },
   {
    "duration": 7,
    "start_time": "2022-12-10T22:04:56.409Z"
   },
   {
    "duration": 4,
    "start_time": "2022-12-10T22:04:56.418Z"
   },
   {
    "duration": 4,
    "start_time": "2022-12-10T22:04:56.424Z"
   },
   {
    "duration": 6,
    "start_time": "2022-12-10T22:04:56.429Z"
   },
   {
    "duration": 5,
    "start_time": "2022-12-10T22:04:56.436Z"
   },
   {
    "duration": 4,
    "start_time": "2022-12-10T22:04:56.443Z"
   },
   {
    "duration": 8,
    "start_time": "2022-12-10T22:04:56.449Z"
   },
   {
    "duration": 39,
    "start_time": "2022-12-10T22:04:56.458Z"
   },
   {
    "duration": 10,
    "start_time": "2022-12-10T22:04:56.499Z"
   },
   {
    "duration": 5,
    "start_time": "2022-12-10T22:04:56.510Z"
   },
   {
    "duration": 6,
    "start_time": "2022-12-10T22:04:56.517Z"
   },
   {
    "duration": 147,
    "start_time": "2022-12-10T22:04:56.524Z"
   },
   {
    "duration": 4,
    "start_time": "2022-12-10T22:04:56.673Z"
   },
   {
    "duration": 28,
    "start_time": "2022-12-10T22:04:56.682Z"
   },
   {
    "duration": 15,
    "start_time": "2022-12-10T22:04:56.711Z"
   },
   {
    "duration": 7,
    "start_time": "2022-12-10T22:04:56.727Z"
   },
   {
    "duration": 8,
    "start_time": "2022-12-10T22:04:56.736Z"
   },
   {
    "duration": 14,
    "start_time": "2022-12-10T22:04:56.745Z"
   },
   {
    "duration": 10,
    "start_time": "2022-12-10T22:04:56.761Z"
   },
   {
    "duration": 24,
    "start_time": "2022-12-10T22:04:56.797Z"
   },
   {
    "duration": 8,
    "start_time": "2022-12-10T22:04:56.822Z"
   },
   {
    "duration": 7,
    "start_time": "2022-12-10T22:04:56.831Z"
   },
   {
    "duration": 16,
    "start_time": "2022-12-10T22:04:56.840Z"
   },
   {
    "duration": 40,
    "start_time": "2022-12-10T22:04:56.857Z"
   },
   {
    "duration": 52,
    "start_time": "2022-12-10T22:04:56.899Z"
   },
   {
    "duration": 348,
    "start_time": "2022-12-10T22:04:56.953Z"
   },
   {
    "duration": 7,
    "start_time": "2022-12-10T22:04:57.302Z"
   },
   {
    "duration": 278,
    "start_time": "2022-12-10T22:04:57.310Z"
   },
   {
    "duration": 280,
    "start_time": "2022-12-10T22:04:57.590Z"
   },
   {
    "duration": 139,
    "start_time": "2022-12-10T22:04:57.872Z"
   },
   {
    "duration": 233,
    "start_time": "2022-12-10T22:04:58.013Z"
   },
   {
    "duration": 14,
    "start_time": "2022-12-10T22:04:58.248Z"
   },
   {
    "duration": 13,
    "start_time": "2022-12-10T22:04:58.263Z"
   },
   {
    "duration": 21,
    "start_time": "2022-12-10T22:04:58.278Z"
   },
   {
    "duration": 8,
    "start_time": "2022-12-10T22:04:58.300Z"
   },
   {
    "duration": 6,
    "start_time": "2022-12-10T22:04:58.309Z"
   },
   {
    "duration": 6,
    "start_time": "2022-12-10T22:04:58.316Z"
   },
   {
    "duration": 3,
    "start_time": "2022-12-10T22:04:58.323Z"
   },
   {
    "duration": 250,
    "start_time": "2022-12-10T22:04:58.328Z"
   },
   {
    "duration": 5,
    "start_time": "2022-12-10T22:04:58.580Z"
   },
   {
    "duration": 13,
    "start_time": "2022-12-10T22:04:58.586Z"
   },
   {
    "duration": 4,
    "start_time": "2022-12-10T22:04:58.601Z"
   },
   {
    "duration": 4,
    "start_time": "2022-12-10T22:04:58.607Z"
   },
   {
    "duration": 268,
    "start_time": "2022-12-10T22:04:58.613Z"
   },
   {
    "duration": 14,
    "start_time": "2022-12-10T22:04:58.883Z"
   },
   {
    "duration": 253,
    "start_time": "2022-12-10T22:04:58.899Z"
   },
   {
    "duration": 6,
    "start_time": "2022-12-10T22:04:59.154Z"
   },
   {
    "duration": 10,
    "start_time": "2022-12-10T22:04:59.162Z"
   },
   {
    "duration": 197,
    "start_time": "2022-12-10T22:04:59.173Z"
   },
   {
    "duration": 7,
    "start_time": "2022-12-10T22:04:59.372Z"
   },
   {
    "duration": 20,
    "start_time": "2022-12-10T22:04:59.381Z"
   },
   {
    "duration": 8,
    "start_time": "2022-12-10T22:04:59.403Z"
   },
   {
    "duration": 266,
    "start_time": "2022-12-10T22:04:59.412Z"
   },
   {
    "duration": 230,
    "start_time": "2022-12-10T22:04:59.680Z"
   },
   {
    "duration": 5,
    "start_time": "2022-12-10T22:04:59.912Z"
   },
   {
    "duration": 36,
    "start_time": "2022-12-10T22:04:59.919Z"
   },
   {
    "duration": 5,
    "start_time": "2022-12-10T22:04:59.956Z"
   },
   {
    "duration": 5,
    "start_time": "2022-12-10T22:04:59.963Z"
   },
   {
    "duration": 241,
    "start_time": "2022-12-10T22:04:59.969Z"
   },
   {
    "duration": 183,
    "start_time": "2022-12-10T22:05:00.212Z"
   },
   {
    "duration": 7,
    "start_time": "2022-12-10T22:05:00.396Z"
   },
   {
    "duration": 32,
    "start_time": "2022-12-10T22:05:00.405Z"
   },
   {
    "duration": 34,
    "start_time": "2022-12-10T22:05:00.438Z"
   },
   {
    "duration": 177,
    "start_time": "2022-12-10T22:05:00.474Z"
   },
   {
    "duration": 5,
    "start_time": "2022-12-10T22:05:00.652Z"
   },
   {
    "duration": 281,
    "start_time": "2022-12-10T22:05:00.659Z"
   },
   {
    "duration": 259,
    "start_time": "2022-12-10T22:05:00.941Z"
   },
   {
    "duration": 276,
    "start_time": "2022-12-10T22:05:01.202Z"
   },
   {
    "duration": 367,
    "start_time": "2022-12-10T22:05:01.480Z"
   },
   {
    "duration": 249,
    "start_time": "2022-12-10T22:05:01.849Z"
   },
   {
    "duration": 153,
    "start_time": "2022-12-10T22:05:02.099Z"
   },
   {
    "duration": 154,
    "start_time": "2022-12-10T22:05:02.254Z"
   },
   {
    "duration": 260,
    "start_time": "2022-12-10T22:05:02.410Z"
   },
   {
    "duration": 7,
    "start_time": "2022-12-10T22:05:02.672Z"
   },
   {
    "duration": 16,
    "start_time": "2022-12-10T22:05:02.680Z"
   },
   {
    "duration": 5,
    "start_time": "2022-12-10T22:05:02.698Z"
   },
   {
    "duration": 9,
    "start_time": "2022-12-10T22:05:02.704Z"
   },
   {
    "duration": 9,
    "start_time": "2022-12-10T22:05:07.910Z"
   },
   {
    "duration": 10,
    "start_time": "2022-12-10T22:05:08.478Z"
   },
   {
    "duration": 8,
    "start_time": "2022-12-10T22:05:19.720Z"
   },
   {
    "duration": 2,
    "start_time": "2022-12-10T22:07:51.230Z"
   },
   {
    "duration": 6,
    "start_time": "2022-12-10T22:07:51.235Z"
   },
   {
    "duration": 101,
    "start_time": "2022-12-10T22:07:51.245Z"
   },
   {
    "duration": 20,
    "start_time": "2022-12-10T22:07:51.349Z"
   },
   {
    "duration": 28,
    "start_time": "2022-12-10T22:07:51.371Z"
   },
   {
    "duration": 2077,
    "start_time": "2022-12-10T22:07:51.402Z"
   },
   {
    "duration": 5,
    "start_time": "2022-12-10T22:07:53.480Z"
   },
   {
    "duration": 224,
    "start_time": "2022-12-10T22:07:53.487Z"
   },
   {
    "duration": 14,
    "start_time": "2022-12-10T22:07:53.713Z"
   },
   {
    "duration": 4,
    "start_time": "2022-12-10T22:07:53.729Z"
   },
   {
    "duration": 11,
    "start_time": "2022-12-10T22:07:53.735Z"
   },
   {
    "duration": 13,
    "start_time": "2022-12-10T22:07:53.749Z"
   },
   {
    "duration": 10,
    "start_time": "2022-12-10T22:07:53.763Z"
   },
   {
    "duration": 7,
    "start_time": "2022-12-10T22:07:53.797Z"
   },
   {
    "duration": 5,
    "start_time": "2022-12-10T22:07:53.806Z"
   },
   {
    "duration": 6,
    "start_time": "2022-12-10T22:07:53.812Z"
   },
   {
    "duration": 5,
    "start_time": "2022-12-10T22:07:53.820Z"
   },
   {
    "duration": 16,
    "start_time": "2022-12-10T22:07:53.826Z"
   },
   {
    "duration": 13,
    "start_time": "2022-12-10T22:07:53.843Z"
   },
   {
    "duration": 39,
    "start_time": "2022-12-10T22:07:53.858Z"
   },
   {
    "duration": 17,
    "start_time": "2022-12-10T22:07:53.899Z"
   },
   {
    "duration": 9,
    "start_time": "2022-12-10T22:07:53.919Z"
   },
   {
    "duration": 206,
    "start_time": "2022-12-10T22:07:53.929Z"
   },
   {
    "duration": 8,
    "start_time": "2022-12-10T22:07:54.137Z"
   },
   {
    "duration": 7,
    "start_time": "2022-12-10T22:07:54.146Z"
   },
   {
    "duration": 4,
    "start_time": "2022-12-10T22:07:54.155Z"
   },
   {
    "duration": 6,
    "start_time": "2022-12-10T22:07:54.160Z"
   },
   {
    "duration": 30,
    "start_time": "2022-12-10T22:07:54.167Z"
   },
   {
    "duration": 10,
    "start_time": "2022-12-10T22:07:54.199Z"
   },
   {
    "duration": 241,
    "start_time": "2022-12-10T22:07:54.213Z"
   },
   {
    "duration": 260,
    "start_time": "2022-12-10T22:07:54.455Z"
   },
   {
    "duration": 5,
    "start_time": "2022-12-10T22:07:54.717Z"
   },
   {
    "duration": 11,
    "start_time": "2022-12-10T22:07:54.723Z"
   },
   {
    "duration": 72,
    "start_time": "2022-12-10T22:07:54.736Z"
   },
   {
    "duration": 5,
    "start_time": "2022-12-10T22:07:54.809Z"
   },
   {
    "duration": 5,
    "start_time": "2022-12-10T22:07:54.815Z"
   },
   {
    "duration": 34,
    "start_time": "2022-12-10T22:07:54.822Z"
   },
   {
    "duration": 145,
    "start_time": "2022-12-10T22:07:54.858Z"
   },
   {
    "duration": 14,
    "start_time": "2022-12-10T22:07:55.004Z"
   },
   {
    "duration": 5,
    "start_time": "2022-12-10T22:07:55.019Z"
   },
   {
    "duration": 186,
    "start_time": "2022-12-10T22:07:55.025Z"
   },
   {
    "duration": 5,
    "start_time": "2022-12-10T22:07:55.213Z"
   },
   {
    "duration": 7,
    "start_time": "2022-12-10T22:07:55.219Z"
   },
   {
    "duration": 321,
    "start_time": "2022-12-10T22:07:55.228Z"
   },
   {
    "duration": 4,
    "start_time": "2022-12-10T22:07:55.551Z"
   },
   {
    "duration": 8,
    "start_time": "2022-12-10T22:07:55.557Z"
   },
   {
    "duration": 6,
    "start_time": "2022-12-10T22:07:55.566Z"
   },
   {
    "duration": 262,
    "start_time": "2022-12-10T22:07:55.574Z"
   },
   {
    "duration": 6,
    "start_time": "2022-12-10T22:07:55.838Z"
   },
   {
    "duration": 10,
    "start_time": "2022-12-10T22:07:55.845Z"
   },
   {
    "duration": 313,
    "start_time": "2022-12-10T22:07:55.857Z"
   },
   {
    "duration": 6,
    "start_time": "2022-12-10T22:07:56.172Z"
   },
   {
    "duration": 21,
    "start_time": "2022-12-10T22:07:56.179Z"
   },
   {
    "duration": 6,
    "start_time": "2022-12-10T22:07:56.201Z"
   },
   {
    "duration": 4,
    "start_time": "2022-12-10T22:07:56.208Z"
   },
   {
    "duration": 500,
    "start_time": "2022-12-10T22:07:56.214Z"
   },
   {
    "duration": 6,
    "start_time": "2022-12-10T22:07:56.716Z"
   },
   {
    "duration": 8,
    "start_time": "2022-12-10T22:07:56.724Z"
   },
   {
    "duration": 257,
    "start_time": "2022-12-10T22:07:56.734Z"
   },
   {
    "duration": 6,
    "start_time": "2022-12-10T22:07:56.993Z"
   },
   {
    "duration": 7,
    "start_time": "2022-12-10T22:07:57.001Z"
   },
   {
    "duration": 237,
    "start_time": "2022-12-10T22:07:57.009Z"
   },
   {
    "duration": 6,
    "start_time": "2022-12-10T22:07:57.247Z"
   },
   {
    "duration": 11,
    "start_time": "2022-12-10T22:07:57.254Z"
   },
   {
    "duration": 14,
    "start_time": "2022-12-10T22:07:57.266Z"
   },
   {
    "duration": 15,
    "start_time": "2022-12-10T22:07:57.282Z"
   },
   {
    "duration": 160,
    "start_time": "2022-12-10T22:07:57.299Z"
   },
   {
    "duration": 6,
    "start_time": "2022-12-10T22:07:57.460Z"
   },
   {
    "duration": 12,
    "start_time": "2022-12-10T22:07:57.467Z"
   },
   {
    "duration": 14,
    "start_time": "2022-12-10T22:07:57.481Z"
   },
   {
    "duration": 7,
    "start_time": "2022-12-10T22:07:57.497Z"
   },
   {
    "duration": 6,
    "start_time": "2022-12-10T22:07:57.506Z"
   },
   {
    "duration": 8,
    "start_time": "2022-12-10T22:07:57.514Z"
   },
   {
    "duration": 6,
    "start_time": "2022-12-10T22:07:57.523Z"
   },
   {
    "duration": 6,
    "start_time": "2022-12-10T22:07:57.530Z"
   },
   {
    "duration": 3,
    "start_time": "2022-12-10T22:07:57.538Z"
   },
   {
    "duration": 7,
    "start_time": "2022-12-10T22:07:57.543Z"
   },
   {
    "duration": 7,
    "start_time": "2022-12-10T22:07:57.552Z"
   },
   {
    "duration": 40,
    "start_time": "2022-12-10T22:07:57.561Z"
   },
   {
    "duration": 3,
    "start_time": "2022-12-10T22:07:57.603Z"
   },
   {
    "duration": 4,
    "start_time": "2022-12-10T22:07:57.608Z"
   },
   {
    "duration": 15,
    "start_time": "2022-12-10T22:07:57.614Z"
   },
   {
    "duration": 4,
    "start_time": "2022-12-10T22:07:57.630Z"
   },
   {
    "duration": 16,
    "start_time": "2022-12-10T22:07:57.641Z"
   },
   {
    "duration": 40,
    "start_time": "2022-12-10T22:07:57.658Z"
   },
   {
    "duration": 9,
    "start_time": "2022-12-10T22:07:57.699Z"
   },
   {
    "duration": 10,
    "start_time": "2022-12-10T22:07:57.709Z"
   },
   {
    "duration": 14,
    "start_time": "2022-12-10T22:07:57.721Z"
   },
   {
    "duration": 12,
    "start_time": "2022-12-10T22:07:57.737Z"
   },
   {
    "duration": 28,
    "start_time": "2022-12-10T22:07:57.750Z"
   },
   {
    "duration": 8,
    "start_time": "2022-12-10T22:07:57.797Z"
   },
   {
    "duration": 20,
    "start_time": "2022-12-10T22:07:57.807Z"
   },
   {
    "duration": 24,
    "start_time": "2022-12-10T22:07:57.828Z"
   },
   {
    "duration": 12,
    "start_time": "2022-12-10T22:07:57.854Z"
   },
   {
    "duration": 33,
    "start_time": "2022-12-10T22:07:57.867Z"
   },
   {
    "duration": 358,
    "start_time": "2022-12-10T22:07:57.902Z"
   },
   {
    "duration": 8,
    "start_time": "2022-12-10T22:07:58.261Z"
   },
   {
    "duration": 419,
    "start_time": "2022-12-10T22:07:58.270Z"
   },
   {
    "duration": 284,
    "start_time": "2022-12-10T22:07:58.690Z"
   },
   {
    "duration": 131,
    "start_time": "2022-12-10T22:07:58.976Z"
   },
   {
    "duration": 132,
    "start_time": "2022-12-10T22:07:59.109Z"
   },
   {
    "duration": 14,
    "start_time": "2022-12-10T22:07:59.243Z"
   },
   {
    "duration": 13,
    "start_time": "2022-12-10T22:07:59.258Z"
   },
   {
    "duration": 26,
    "start_time": "2022-12-10T22:07:59.273Z"
   },
   {
    "duration": 9,
    "start_time": "2022-12-10T22:07:59.301Z"
   },
   {
    "duration": 5,
    "start_time": "2022-12-10T22:07:59.312Z"
   },
   {
    "duration": 5,
    "start_time": "2022-12-10T22:07:59.319Z"
   },
   {
    "duration": 3,
    "start_time": "2022-12-10T22:07:59.326Z"
   },
   {
    "duration": 246,
    "start_time": "2022-12-10T22:07:59.330Z"
   },
   {
    "duration": 6,
    "start_time": "2022-12-10T22:07:59.577Z"
   },
   {
    "duration": 11,
    "start_time": "2022-12-10T22:07:59.585Z"
   },
   {
    "duration": 3,
    "start_time": "2022-12-10T22:07:59.598Z"
   },
   {
    "duration": 9,
    "start_time": "2022-12-10T22:07:59.602Z"
   },
   {
    "duration": 243,
    "start_time": "2022-12-10T22:07:59.612Z"
   },
   {
    "duration": 6,
    "start_time": "2022-12-10T22:07:59.857Z"
   },
   {
    "duration": 377,
    "start_time": "2022-12-10T22:07:59.864Z"
   },
   {
    "duration": 6,
    "start_time": "2022-12-10T22:08:00.242Z"
   },
   {
    "duration": 45,
    "start_time": "2022-12-10T22:08:00.249Z"
   },
   {
    "duration": 195,
    "start_time": "2022-12-10T22:08:00.296Z"
   },
   {
    "duration": 7,
    "start_time": "2022-12-10T22:08:00.493Z"
   },
   {
    "duration": 37,
    "start_time": "2022-12-10T22:08:00.501Z"
   },
   {
    "duration": 27,
    "start_time": "2022-12-10T22:08:00.540Z"
   },
   {
    "duration": 271,
    "start_time": "2022-12-10T22:08:00.568Z"
   },
   {
    "duration": 148,
    "start_time": "2022-12-10T22:08:00.841Z"
   },
   {
    "duration": 8,
    "start_time": "2022-12-10T22:08:00.991Z"
   },
   {
    "duration": 66,
    "start_time": "2022-12-10T22:08:01.001Z"
   },
   {
    "duration": 52,
    "start_time": "2022-12-10T22:08:01.069Z"
   },
   {
    "duration": 168,
    "start_time": "2022-12-10T22:08:01.123Z"
   },
   {
    "duration": 246,
    "start_time": "2022-12-10T22:08:01.292Z"
   },
   {
    "duration": 174,
    "start_time": "2022-12-10T22:08:01.540Z"
   },
   {
    "duration": 5,
    "start_time": "2022-12-10T22:08:01.716Z"
   },
   {
    "duration": 34,
    "start_time": "2022-12-10T22:08:01.723Z"
   },
   {
    "duration": 52,
    "start_time": "2022-12-10T22:08:01.758Z"
   },
   {
    "duration": 172,
    "start_time": "2022-12-10T22:08:01.812Z"
   },
   {
    "duration": 13,
    "start_time": "2022-12-10T22:08:01.986Z"
   },
   {
    "duration": 408,
    "start_time": "2022-12-10T22:08:02.001Z"
   },
   {
    "duration": 250,
    "start_time": "2022-12-10T22:08:02.411Z"
   },
   {
    "duration": 250,
    "start_time": "2022-12-10T22:08:02.663Z"
   },
   {
    "duration": 244,
    "start_time": "2022-12-10T22:08:02.914Z"
   },
   {
    "duration": 239,
    "start_time": "2022-12-10T22:08:03.159Z"
   },
   {
    "duration": 144,
    "start_time": "2022-12-10T22:08:03.399Z"
   },
   {
    "duration": 137,
    "start_time": "2022-12-10T22:08:03.544Z"
   },
   {
    "duration": 389,
    "start_time": "2022-12-10T22:08:03.683Z"
   },
   {
    "duration": 7,
    "start_time": "2022-12-10T22:08:04.074Z"
   },
   {
    "duration": 15,
    "start_time": "2022-12-10T22:08:04.082Z"
   },
   {
    "duration": 8,
    "start_time": "2022-12-10T22:08:04.099Z"
   },
   {
    "duration": 8,
    "start_time": "2022-12-10T22:08:04.109Z"
   },
   {
    "duration": 8,
    "start_time": "2022-12-10T22:08:04.119Z"
   },
   {
    "duration": 10,
    "start_time": "2022-12-10T22:08:04.128Z"
   },
   {
    "duration": 198,
    "start_time": "2022-12-10T22:08:04.139Z"
   },
   {
    "duration": 230,
    "start_time": "2022-12-10T22:08:04.339Z"
   },
   {
    "duration": 6,
    "start_time": "2022-12-10T22:08:04.571Z"
   },
   {
    "duration": 193,
    "start_time": "2022-12-10T22:08:04.579Z"
   },
   {
    "duration": 238,
    "start_time": "2022-12-10T22:08:04.774Z"
   },
   {
    "duration": 5,
    "start_time": "2022-12-10T22:08:05.014Z"
   },
   {
    "duration": 189,
    "start_time": "2022-12-10T22:08:05.020Z"
   },
   {
    "duration": 216,
    "start_time": "2022-12-10T22:08:05.211Z"
   },
   {
    "duration": 6,
    "start_time": "2022-12-10T22:08:05.428Z"
   },
   {
    "duration": 212,
    "start_time": "2022-12-10T22:08:05.435Z"
   },
   {
    "duration": 5,
    "start_time": "2022-12-10T22:08:05.649Z"
   },
   {
    "duration": 196,
    "start_time": "2022-12-10T22:08:05.655Z"
   },
   {
    "duration": 22,
    "start_time": "2022-12-10T22:08:05.853Z"
   },
   {
    "duration": 260,
    "start_time": "2022-12-10T22:08:05.877Z"
   },
   {
    "duration": 29,
    "start_time": "2022-12-10T22:08:06.139Z"
   },
   {
    "duration": 218,
    "start_time": "2022-12-10T22:08:06.170Z"
   },
   {
    "duration": 22,
    "start_time": "2022-12-10T22:08:06.390Z"
   },
   {
    "duration": 206,
    "start_time": "2022-12-10T22:08:06.414Z"
   },
   {
    "duration": 196,
    "start_time": "2022-12-10T22:08:16.290Z"
   },
   {
    "duration": 19,
    "start_time": "2022-12-10T22:08:30.110Z"
   },
   {
    "duration": 92,
    "start_time": "2022-12-10T22:10:48.265Z"
   },
   {
    "duration": 264,
    "start_time": "2022-12-10T22:11:07.246Z"
   },
   {
    "duration": 178,
    "start_time": "2022-12-10T22:11:44.322Z"
   },
   {
    "duration": 189,
    "start_time": "2022-12-10T22:11:54.475Z"
   },
   {
    "duration": 165,
    "start_time": "2022-12-10T22:12:25.021Z"
   },
   {
    "duration": 154,
    "start_time": "2022-12-10T22:12:39.611Z"
   },
   {
    "duration": 29,
    "start_time": "2022-12-10T22:17:43.442Z"
   },
   {
    "duration": 23,
    "start_time": "2022-12-10T22:21:15.610Z"
   },
   {
    "duration": 151,
    "start_time": "2022-12-10T22:21:20.033Z"
   },
   {
    "duration": 17,
    "start_time": "2022-12-10T22:21:22.253Z"
   },
   {
    "duration": 154,
    "start_time": "2022-12-10T22:21:22.533Z"
   },
   {
    "duration": 7,
    "start_time": "2022-12-10T22:21:22.779Z"
   },
   {
    "duration": 17,
    "start_time": "2022-12-10T22:21:23.682Z"
   },
   {
    "duration": 3,
    "start_time": "2022-12-10T22:21:30.777Z"
   },
   {
    "duration": 8398,
    "start_time": "2022-12-10T22:21:30.912Z"
   },
   {
    "duration": 372,
    "start_time": "2022-12-10T22:21:39.313Z"
   },
   {
    "duration": 1397,
    "start_time": "2022-12-10T22:21:39.687Z"
   },
   {
    "duration": 184,
    "start_time": "2022-12-10T22:21:41.086Z"
   },
   {
    "duration": 1173,
    "start_time": "2022-12-10T22:27:38.586Z"
   },
   {
    "duration": 3,
    "start_time": "2022-12-10T22:27:39.761Z"
   },
   {
    "duration": 94,
    "start_time": "2022-12-10T22:27:39.766Z"
   },
   {
    "duration": 36,
    "start_time": "2022-12-10T22:27:39.861Z"
   },
   {
    "duration": 14,
    "start_time": "2022-12-10T22:27:39.900Z"
   },
   {
    "duration": 1767,
    "start_time": "2022-12-10T22:27:39.915Z"
   },
   {
    "duration": 4,
    "start_time": "2022-12-10T22:27:41.684Z"
   },
   {
    "duration": 300,
    "start_time": "2022-12-10T22:27:41.689Z"
   },
   {
    "duration": 16,
    "start_time": "2022-12-10T22:27:41.990Z"
   },
   {
    "duration": 4,
    "start_time": "2022-12-10T22:27:42.008Z"
   },
   {
    "duration": 6,
    "start_time": "2022-12-10T22:27:42.013Z"
   },
   {
    "duration": 9,
    "start_time": "2022-12-10T22:27:42.020Z"
   },
   {
    "duration": 5,
    "start_time": "2022-12-10T22:27:42.030Z"
   },
   {
    "duration": 7,
    "start_time": "2022-12-10T22:27:42.037Z"
   },
   {
    "duration": 5,
    "start_time": "2022-12-10T22:27:42.045Z"
   },
   {
    "duration": 6,
    "start_time": "2022-12-10T22:27:42.051Z"
   },
   {
    "duration": 39,
    "start_time": "2022-12-10T22:27:42.059Z"
   },
   {
    "duration": 6,
    "start_time": "2022-12-10T22:27:42.099Z"
   },
   {
    "duration": 13,
    "start_time": "2022-12-10T22:27:42.106Z"
   },
   {
    "duration": 6,
    "start_time": "2022-12-10T22:27:42.120Z"
   },
   {
    "duration": 13,
    "start_time": "2022-12-10T22:27:42.128Z"
   },
   {
    "duration": 8,
    "start_time": "2022-12-10T22:27:42.142Z"
   },
   {
    "duration": 215,
    "start_time": "2022-12-10T22:27:42.151Z"
   },
   {
    "duration": 6,
    "start_time": "2022-12-10T22:27:42.368Z"
   },
   {
    "duration": 22,
    "start_time": "2022-12-10T22:27:42.375Z"
   },
   {
    "duration": 4,
    "start_time": "2022-12-10T22:27:42.399Z"
   },
   {
    "duration": 6,
    "start_time": "2022-12-10T22:27:42.404Z"
   },
   {
    "duration": 4,
    "start_time": "2022-12-10T22:27:42.411Z"
   },
   {
    "duration": 6,
    "start_time": "2022-12-10T22:27:42.417Z"
   },
   {
    "duration": 254,
    "start_time": "2022-12-10T22:27:42.425Z"
   },
   {
    "duration": 133,
    "start_time": "2022-12-10T22:27:42.681Z"
   },
   {
    "duration": 5,
    "start_time": "2022-12-10T22:27:42.816Z"
   },
   {
    "duration": 9,
    "start_time": "2022-12-10T22:27:42.822Z"
   },
   {
    "duration": 76,
    "start_time": "2022-12-10T22:27:42.833Z"
   },
   {
    "duration": 4,
    "start_time": "2022-12-10T22:27:42.910Z"
   },
   {
    "duration": 7,
    "start_time": "2022-12-10T22:27:42.916Z"
   },
   {
    "duration": 38,
    "start_time": "2022-12-10T22:27:42.925Z"
   },
   {
    "duration": 139,
    "start_time": "2022-12-10T22:27:42.965Z"
   },
   {
    "duration": 13,
    "start_time": "2022-12-10T22:27:43.105Z"
   },
   {
    "duration": 5,
    "start_time": "2022-12-10T22:27:43.119Z"
   },
   {
    "duration": 161,
    "start_time": "2022-12-10T22:27:43.129Z"
   },
   {
    "duration": 9,
    "start_time": "2022-12-10T22:27:43.291Z"
   },
   {
    "duration": 8,
    "start_time": "2022-12-10T22:27:43.302Z"
   },
   {
    "duration": 293,
    "start_time": "2022-12-10T22:27:43.312Z"
   },
   {
    "duration": 4,
    "start_time": "2022-12-10T22:27:43.606Z"
   },
   {
    "duration": 9,
    "start_time": "2022-12-10T22:27:43.611Z"
   },
   {
    "duration": 5,
    "start_time": "2022-12-10T22:27:43.621Z"
   },
   {
    "duration": 329,
    "start_time": "2022-12-10T22:27:43.627Z"
   },
   {
    "duration": 6,
    "start_time": "2022-12-10T22:27:43.957Z"
   },
   {
    "duration": 10,
    "start_time": "2022-12-10T22:27:43.965Z"
   },
   {
    "duration": 238,
    "start_time": "2022-12-10T22:27:43.976Z"
   },
   {
    "duration": 5,
    "start_time": "2022-12-10T22:27:44.215Z"
   },
   {
    "duration": 6,
    "start_time": "2022-12-10T22:27:44.222Z"
   },
   {
    "duration": 5,
    "start_time": "2022-12-10T22:27:44.229Z"
   },
   {
    "duration": 4,
    "start_time": "2022-12-10T22:27:44.235Z"
   },
   {
    "duration": 360,
    "start_time": "2022-12-10T22:27:44.240Z"
   },
   {
    "duration": 6,
    "start_time": "2022-12-10T22:27:44.602Z"
   },
   {
    "duration": 6,
    "start_time": "2022-12-10T22:27:44.609Z"
   },
   {
    "duration": 261,
    "start_time": "2022-12-10T22:27:44.617Z"
   },
   {
    "duration": 6,
    "start_time": "2022-12-10T22:27:44.880Z"
   },
   {
    "duration": 14,
    "start_time": "2022-12-10T22:27:44.887Z"
   },
   {
    "duration": 250,
    "start_time": "2022-12-10T22:27:44.903Z"
   },
   {
    "duration": 4,
    "start_time": "2022-12-10T22:27:45.155Z"
   },
   {
    "duration": 6,
    "start_time": "2022-12-10T22:27:45.161Z"
   },
   {
    "duration": 7,
    "start_time": "2022-12-10T22:27:45.169Z"
   },
   {
    "duration": 18,
    "start_time": "2022-12-10T22:27:45.179Z"
   },
   {
    "duration": 262,
    "start_time": "2022-12-10T22:27:45.199Z"
   },
   {
    "duration": 5,
    "start_time": "2022-12-10T22:27:45.463Z"
   },
   {
    "duration": 10,
    "start_time": "2022-12-10T22:27:45.469Z"
   },
   {
    "duration": 18,
    "start_time": "2022-12-10T22:27:45.480Z"
   },
   {
    "duration": 7,
    "start_time": "2022-12-10T22:27:45.500Z"
   },
   {
    "duration": 7,
    "start_time": "2022-12-10T22:27:45.508Z"
   },
   {
    "duration": 7,
    "start_time": "2022-12-10T22:27:45.517Z"
   },
   {
    "duration": 5,
    "start_time": "2022-12-10T22:27:45.526Z"
   },
   {
    "duration": 5,
    "start_time": "2022-12-10T22:27:45.532Z"
   },
   {
    "duration": 5,
    "start_time": "2022-12-10T22:27:45.538Z"
   },
   {
    "duration": 9,
    "start_time": "2022-12-10T22:27:45.544Z"
   },
   {
    "duration": 7,
    "start_time": "2022-12-10T22:27:45.555Z"
   },
   {
    "duration": 40,
    "start_time": "2022-12-10T22:27:45.564Z"
   },
   {
    "duration": 3,
    "start_time": "2022-12-10T22:27:45.606Z"
   },
   {
    "duration": 4,
    "start_time": "2022-12-10T22:27:45.610Z"
   },
   {
    "duration": 12,
    "start_time": "2022-12-10T22:27:45.615Z"
   },
   {
    "duration": 4,
    "start_time": "2022-12-10T22:27:45.628Z"
   },
   {
    "duration": 17,
    "start_time": "2022-12-10T22:27:45.633Z"
   },
   {
    "duration": 46,
    "start_time": "2022-12-10T22:27:45.652Z"
   },
   {
    "duration": 8,
    "start_time": "2022-12-10T22:27:45.700Z"
   },
   {
    "duration": 9,
    "start_time": "2022-12-10T22:27:45.710Z"
   },
   {
    "duration": 14,
    "start_time": "2022-12-10T22:27:45.721Z"
   },
   {
    "duration": 11,
    "start_time": "2022-12-10T22:27:45.736Z"
   },
   {
    "duration": 50,
    "start_time": "2022-12-10T22:27:45.748Z"
   },
   {
    "duration": 9,
    "start_time": "2022-12-10T22:27:45.800Z"
   },
   {
    "duration": 8,
    "start_time": "2022-12-10T22:27:45.810Z"
   },
   {
    "duration": 16,
    "start_time": "2022-12-10T22:27:45.819Z"
   },
   {
    "duration": 12,
    "start_time": "2022-12-10T22:27:45.836Z"
   },
   {
    "duration": 81,
    "start_time": "2022-12-10T22:27:45.850Z"
   },
   {
    "duration": 394,
    "start_time": "2022-12-10T22:27:45.933Z"
   },
   {
    "duration": 8,
    "start_time": "2022-12-10T22:27:46.328Z"
   },
   {
    "duration": 291,
    "start_time": "2022-12-10T22:27:46.337Z"
   },
   {
    "duration": 292,
    "start_time": "2022-12-10T22:27:46.630Z"
   },
   {
    "duration": 225,
    "start_time": "2022-12-10T22:27:46.924Z"
   },
   {
    "duration": 127,
    "start_time": "2022-12-10T22:27:47.151Z"
   },
   {
    "duration": 22,
    "start_time": "2022-12-10T22:27:47.280Z"
   },
   {
    "duration": 12,
    "start_time": "2022-12-10T22:27:47.304Z"
   },
   {
    "duration": 4,
    "start_time": "2022-12-10T22:27:47.318Z"
   },
   {
    "duration": 7,
    "start_time": "2022-12-10T22:27:47.324Z"
   },
   {
    "duration": 4,
    "start_time": "2022-12-10T22:27:47.333Z"
   },
   {
    "duration": 5,
    "start_time": "2022-12-10T22:27:47.339Z"
   },
   {
    "duration": 3,
    "start_time": "2022-12-10T22:27:47.345Z"
   },
   {
    "duration": 260,
    "start_time": "2022-12-10T22:27:47.349Z"
   },
   {
    "duration": 5,
    "start_time": "2022-12-10T22:27:47.611Z"
   },
   {
    "duration": 7,
    "start_time": "2022-12-10T22:27:47.617Z"
   },
   {
    "duration": 5,
    "start_time": "2022-12-10T22:27:47.625Z"
   },
   {
    "duration": 5,
    "start_time": "2022-12-10T22:27:47.631Z"
   },
   {
    "duration": 259,
    "start_time": "2022-12-10T22:27:47.637Z"
   },
   {
    "duration": 8,
    "start_time": "2022-12-10T22:27:47.897Z"
   },
   {
    "duration": 259,
    "start_time": "2022-12-10T22:27:47.906Z"
   },
   {
    "duration": 5,
    "start_time": "2022-12-10T22:27:48.167Z"
   },
   {
    "duration": 7,
    "start_time": "2022-12-10T22:27:48.174Z"
   },
   {
    "duration": 175,
    "start_time": "2022-12-10T22:27:48.183Z"
   },
   {
    "duration": 6,
    "start_time": "2022-12-10T22:27:48.359Z"
   },
   {
    "duration": 9,
    "start_time": "2022-12-10T22:27:48.366Z"
   },
   {
    "duration": 7,
    "start_time": "2022-12-10T22:27:48.398Z"
   },
   {
    "duration": 338,
    "start_time": "2022-12-10T22:27:48.406Z"
   },
   {
    "duration": 141,
    "start_time": "2022-12-10T22:27:48.746Z"
   },
   {
    "duration": 11,
    "start_time": "2022-12-10T22:27:48.888Z"
   },
   {
    "duration": 28,
    "start_time": "2022-12-10T22:27:48.901Z"
   },
   {
    "duration": 6,
    "start_time": "2022-12-10T22:27:48.931Z"
   },
   {
    "duration": 5,
    "start_time": "2022-12-10T22:27:48.939Z"
   },
   {
    "duration": 292,
    "start_time": "2022-12-10T22:27:48.945Z"
   },
   {
    "duration": 192,
    "start_time": "2022-12-10T22:27:49.238Z"
   },
   {
    "duration": 6,
    "start_time": "2022-12-10T22:27:49.431Z"
   },
   {
    "duration": 5,
    "start_time": "2022-12-10T22:27:49.439Z"
   },
   {
    "duration": 9,
    "start_time": "2022-12-10T22:27:49.445Z"
   },
   {
    "duration": 185,
    "start_time": "2022-12-10T22:27:49.456Z"
   },
   {
    "duration": 6,
    "start_time": "2022-12-10T22:27:49.643Z"
   },
   {
    "duration": 307,
    "start_time": "2022-12-10T22:27:49.651Z"
   },
   {
    "duration": 274,
    "start_time": "2022-12-10T22:27:49.960Z"
   },
   {
    "duration": 381,
    "start_time": "2022-12-10T22:27:50.236Z"
   },
   {
    "duration": 270,
    "start_time": "2022-12-10T22:27:50.619Z"
   },
   {
    "duration": 270,
    "start_time": "2022-12-10T22:27:50.890Z"
   },
   {
    "duration": 163,
    "start_time": "2022-12-10T22:27:51.162Z"
   },
   {
    "duration": 155,
    "start_time": "2022-12-10T22:27:51.327Z"
   },
   {
    "duration": 270,
    "start_time": "2022-12-10T22:27:51.484Z"
   },
   {
    "duration": 8,
    "start_time": "2022-12-10T22:27:51.756Z"
   },
   {
    "duration": 6,
    "start_time": "2022-12-10T22:27:51.765Z"
   },
   {
    "duration": 7,
    "start_time": "2022-12-10T22:27:51.772Z"
   },
   {
    "duration": 9,
    "start_time": "2022-12-10T22:27:51.797Z"
   },
   {
    "duration": 8,
    "start_time": "2022-12-10T22:27:51.807Z"
   },
   {
    "duration": 8,
    "start_time": "2022-12-10T22:27:51.816Z"
   },
   {
    "duration": 218,
    "start_time": "2022-12-10T22:27:51.825Z"
   },
   {
    "duration": 270,
    "start_time": "2022-12-10T22:27:52.045Z"
   },
   {
    "duration": 6,
    "start_time": "2022-12-10T22:27:52.317Z"
   },
   {
    "duration": 292,
    "start_time": "2022-12-10T22:27:52.324Z"
   },
   {
    "duration": 244,
    "start_time": "2022-12-10T22:27:52.618Z"
   },
   {
    "duration": 5,
    "start_time": "2022-12-10T22:27:52.864Z"
   },
   {
    "duration": 190,
    "start_time": "2022-12-10T22:27:52.871Z"
   },
   {
    "duration": 228,
    "start_time": "2022-12-10T22:27:53.062Z"
   },
   {
    "duration": 8,
    "start_time": "2022-12-10T22:27:53.291Z"
   },
   {
    "duration": 214,
    "start_time": "2022-12-10T22:27:53.301Z"
   },
   {
    "duration": 5,
    "start_time": "2022-12-10T22:27:53.517Z"
   },
   {
    "duration": 191,
    "start_time": "2022-12-10T22:27:53.523Z"
   },
   {
    "duration": 22,
    "start_time": "2022-12-10T22:27:53.715Z"
   },
   {
    "duration": 217,
    "start_time": "2022-12-10T22:27:53.738Z"
   },
   {
    "duration": 167,
    "start_time": "2022-12-10T22:27:53.956Z"
   },
   {
    "duration": 204,
    "start_time": "2022-12-10T22:27:54.125Z"
   },
   {
    "duration": 171,
    "start_time": "2022-12-10T22:27:54.331Z"
   },
   {
    "duration": 194,
    "start_time": "2022-12-10T22:27:54.504Z"
   },
   {
    "duration": 193,
    "start_time": "2022-12-10T22:27:54.700Z"
   },
   {
    "duration": 30,
    "start_time": "2022-12-10T22:27:54.895Z"
   },
   {
    "duration": 23,
    "start_time": "2022-12-10T22:27:54.927Z"
   },
   {
    "duration": 179,
    "start_time": "2022-12-10T22:27:54.952Z"
   },
   {
    "duration": 23,
    "start_time": "2022-12-10T22:27:55.133Z"
   },
   {
    "duration": 272,
    "start_time": "2022-12-10T22:27:55.157Z"
   },
   {
    "duration": 6,
    "start_time": "2022-12-10T22:27:55.430Z"
   },
   {
    "duration": 18,
    "start_time": "2022-12-10T22:27:55.438Z"
   },
   {
    "duration": 2,
    "start_time": "2022-12-10T22:27:55.458Z"
   },
   {
    "duration": 8611,
    "start_time": "2022-12-10T22:27:55.461Z"
   },
   {
    "duration": 384,
    "start_time": "2022-12-10T22:28:04.074Z"
   },
   {
    "duration": 967,
    "start_time": "2022-12-10T22:28:04.460Z"
   },
   {
    "duration": 179,
    "start_time": "2022-12-10T22:28:05.429Z"
   },
   {
    "duration": 30,
    "start_time": "2022-12-10T22:28:22.396Z"
   },
   {
    "duration": 56,
    "start_time": "2022-12-11T11:14:11.350Z"
   },
   {
    "duration": 1159,
    "start_time": "2022-12-11T11:14:19.780Z"
   },
   {
    "duration": 3,
    "start_time": "2022-12-11T11:14:20.941Z"
   },
   {
    "duration": 101,
    "start_time": "2022-12-11T11:14:20.945Z"
   },
   {
    "duration": 20,
    "start_time": "2022-12-11T11:14:21.048Z"
   },
   {
    "duration": 13,
    "start_time": "2022-12-11T11:14:21.071Z"
   },
   {
    "duration": 1818,
    "start_time": "2022-12-11T11:14:21.085Z"
   },
   {
    "duration": 4,
    "start_time": "2022-12-11T11:14:22.905Z"
   },
   {
    "duration": 315,
    "start_time": "2022-12-11T11:14:22.915Z"
   },
   {
    "duration": 18,
    "start_time": "2022-12-11T11:14:23.232Z"
   },
   {
    "duration": 4,
    "start_time": "2022-12-11T11:14:23.252Z"
   },
   {
    "duration": 7,
    "start_time": "2022-12-11T11:14:23.257Z"
   },
   {
    "duration": 10,
    "start_time": "2022-12-11T11:14:23.265Z"
   },
   {
    "duration": 5,
    "start_time": "2022-12-11T11:14:23.276Z"
   },
   {
    "duration": 6,
    "start_time": "2022-12-11T11:14:23.315Z"
   },
   {
    "duration": 5,
    "start_time": "2022-12-11T11:14:23.322Z"
   },
   {
    "duration": 8,
    "start_time": "2022-12-11T11:14:23.328Z"
   },
   {
    "duration": 7,
    "start_time": "2022-12-11T11:14:23.337Z"
   },
   {
    "duration": 6,
    "start_time": "2022-12-11T11:14:23.346Z"
   },
   {
    "duration": 12,
    "start_time": "2022-12-11T11:14:23.354Z"
   },
   {
    "duration": 7,
    "start_time": "2022-12-11T11:14:23.369Z"
   },
   {
    "duration": 50,
    "start_time": "2022-12-11T11:14:23.377Z"
   },
   {
    "duration": 7,
    "start_time": "2022-12-11T11:14:23.429Z"
   },
   {
    "duration": 213,
    "start_time": "2022-12-11T11:14:23.438Z"
   },
   {
    "duration": 7,
    "start_time": "2022-12-11T11:14:23.652Z"
   },
   {
    "duration": 8,
    "start_time": "2022-12-11T11:14:23.660Z"
   },
   {
    "duration": 4,
    "start_time": "2022-12-11T11:14:23.669Z"
   },
   {
    "duration": 7,
    "start_time": "2022-12-11T11:14:23.674Z"
   },
   {
    "duration": 36,
    "start_time": "2022-12-11T11:14:23.682Z"
   },
   {
    "duration": 10,
    "start_time": "2022-12-11T11:14:23.719Z"
   },
   {
    "duration": 254,
    "start_time": "2022-12-11T11:14:23.730Z"
   },
   {
    "duration": 144,
    "start_time": "2022-12-11T11:14:23.986Z"
   },
   {
    "duration": 5,
    "start_time": "2022-12-11T11:14:24.132Z"
   },
   {
    "duration": 9,
    "start_time": "2022-12-11T11:14:24.138Z"
   },
   {
    "duration": 76,
    "start_time": "2022-12-11T11:14:24.149Z"
   },
   {
    "duration": 4,
    "start_time": "2022-12-11T11:14:24.227Z"
   },
   {
    "duration": 8,
    "start_time": "2022-12-11T11:14:24.232Z"
   },
   {
    "duration": 36,
    "start_time": "2022-12-11T11:14:24.241Z"
   },
   {
    "duration": 141,
    "start_time": "2022-12-11T11:14:24.278Z"
   },
   {
    "duration": 13,
    "start_time": "2022-12-11T11:14:24.420Z"
   },
   {
    "duration": 5,
    "start_time": "2022-12-11T11:14:24.435Z"
   },
   {
    "duration": 161,
    "start_time": "2022-12-11T11:14:24.444Z"
   },
   {
    "duration": 12,
    "start_time": "2022-12-11T11:14:24.606Z"
   },
   {
    "duration": 5,
    "start_time": "2022-12-11T11:14:24.619Z"
   },
   {
    "duration": 301,
    "start_time": "2022-12-11T11:14:24.625Z"
   },
   {
    "duration": 4,
    "start_time": "2022-12-11T11:14:24.928Z"
   },
   {
    "duration": 10,
    "start_time": "2022-12-11T11:14:24.933Z"
   },
   {
    "duration": 4,
    "start_time": "2022-12-11T11:14:24.945Z"
   },
   {
    "duration": 324,
    "start_time": "2022-12-11T11:14:24.951Z"
   },
   {
    "duration": 6,
    "start_time": "2022-12-11T11:14:25.277Z"
   },
   {
    "duration": 14,
    "start_time": "2022-12-11T11:14:25.284Z"
   },
   {
    "duration": 235,
    "start_time": "2022-12-11T11:14:25.299Z"
   },
   {
    "duration": 5,
    "start_time": "2022-12-11T11:14:25.536Z"
   },
   {
    "duration": 9,
    "start_time": "2022-12-11T11:14:25.542Z"
   },
   {
    "duration": 6,
    "start_time": "2022-12-11T11:14:25.553Z"
   },
   {
    "duration": 6,
    "start_time": "2022-12-11T11:14:25.560Z"
   },
   {
    "duration": 376,
    "start_time": "2022-12-11T11:14:25.567Z"
   },
   {
    "duration": 6,
    "start_time": "2022-12-11T11:14:25.945Z"
   },
   {
    "duration": 9,
    "start_time": "2022-12-11T11:14:25.953Z"
   },
   {
    "duration": 264,
    "start_time": "2022-12-11T11:14:25.964Z"
   },
   {
    "duration": 6,
    "start_time": "2022-12-11T11:14:26.230Z"
   },
   {
    "duration": 10,
    "start_time": "2022-12-11T11:14:26.237Z"
   },
   {
    "duration": 302,
    "start_time": "2022-12-11T11:14:26.249Z"
   },
   {
    "duration": 7,
    "start_time": "2022-12-11T11:14:26.554Z"
   },
   {
    "duration": 17,
    "start_time": "2022-12-11T11:14:26.563Z"
   },
   {
    "duration": 13,
    "start_time": "2022-12-11T11:14:26.582Z"
   },
   {
    "duration": 9,
    "start_time": "2022-12-11T11:14:26.596Z"
   },
   {
    "duration": 239,
    "start_time": "2022-12-11T11:14:26.607Z"
   },
   {
    "duration": 5,
    "start_time": "2022-12-11T11:14:26.848Z"
   },
   {
    "duration": 13,
    "start_time": "2022-12-11T11:14:26.855Z"
   },
   {
    "duration": 4,
    "start_time": "2022-12-11T11:14:26.870Z"
   },
   {
    "duration": 11,
    "start_time": "2022-12-11T11:14:26.876Z"
   },
   {
    "duration": 8,
    "start_time": "2022-12-11T11:14:26.889Z"
   },
   {
    "duration": 18,
    "start_time": "2022-12-11T11:14:26.899Z"
   },
   {
    "duration": 7,
    "start_time": "2022-12-11T11:14:26.919Z"
   },
   {
    "duration": 6,
    "start_time": "2022-12-11T11:14:26.927Z"
   },
   {
    "duration": 5,
    "start_time": "2022-12-11T11:14:26.935Z"
   },
   {
    "duration": 7,
    "start_time": "2022-12-11T11:14:26.942Z"
   },
   {
    "duration": 6,
    "start_time": "2022-12-11T11:14:26.951Z"
   },
   {
    "duration": 7,
    "start_time": "2022-12-11T11:14:26.958Z"
   },
   {
    "duration": 4,
    "start_time": "2022-12-11T11:14:26.967Z"
   },
   {
    "duration": 6,
    "start_time": "2022-12-11T11:14:26.972Z"
   },
   {
    "duration": 41,
    "start_time": "2022-12-11T11:14:26.979Z"
   },
   {
    "duration": 5,
    "start_time": "2022-12-11T11:14:27.022Z"
   },
   {
    "duration": 18,
    "start_time": "2022-12-11T11:14:27.028Z"
   },
   {
    "duration": 17,
    "start_time": "2022-12-11T11:14:27.047Z"
   },
   {
    "duration": 10,
    "start_time": "2022-12-11T11:14:27.065Z"
   },
   {
    "duration": 44,
    "start_time": "2022-12-11T11:14:27.076Z"
   },
   {
    "duration": 13,
    "start_time": "2022-12-11T11:14:27.122Z"
   },
   {
    "duration": 17,
    "start_time": "2022-12-11T11:14:27.137Z"
   },
   {
    "duration": 24,
    "start_time": "2022-12-11T11:14:27.155Z"
   },
   {
    "duration": 9,
    "start_time": "2022-12-11T11:14:27.181Z"
   },
   {
    "duration": 29,
    "start_time": "2022-12-11T11:14:27.191Z"
   },
   {
    "duration": 17,
    "start_time": "2022-12-11T11:14:27.222Z"
   },
   {
    "duration": 12,
    "start_time": "2022-12-11T11:14:27.240Z"
   },
   {
    "duration": 69,
    "start_time": "2022-12-11T11:14:27.254Z"
   },
   {
    "duration": 359,
    "start_time": "2022-12-11T11:14:27.324Z"
   },
   {
    "duration": 7,
    "start_time": "2022-12-11T11:14:27.685Z"
   },
   {
    "duration": 308,
    "start_time": "2022-12-11T11:14:27.695Z"
   },
   {
    "duration": 303,
    "start_time": "2022-12-11T11:14:28.005Z"
   },
   {
    "duration": 232,
    "start_time": "2022-12-11T11:14:28.310Z"
   },
   {
    "duration": 143,
    "start_time": "2022-12-11T11:14:28.544Z"
   },
   {
    "duration": 30,
    "start_time": "2022-12-11T11:14:28.689Z"
   },
   {
    "duration": 16,
    "start_time": "2022-12-11T11:14:28.721Z"
   },
   {
    "duration": 5,
    "start_time": "2022-12-11T11:14:28.739Z"
   },
   {
    "duration": 15,
    "start_time": "2022-12-11T11:14:28.745Z"
   },
   {
    "duration": 6,
    "start_time": "2022-12-11T11:14:28.762Z"
   },
   {
    "duration": 6,
    "start_time": "2022-12-11T11:14:28.769Z"
   },
   {
    "duration": 3,
    "start_time": "2022-12-11T11:14:28.777Z"
   },
   {
    "duration": 268,
    "start_time": "2022-12-11T11:14:28.782Z"
   },
   {
    "duration": 4,
    "start_time": "2022-12-11T11:14:29.052Z"
   },
   {
    "duration": 9,
    "start_time": "2022-12-11T11:14:29.058Z"
   },
   {
    "duration": 5,
    "start_time": "2022-12-11T11:14:29.069Z"
   },
   {
    "duration": 6,
    "start_time": "2022-12-11T11:14:29.075Z"
   },
   {
    "duration": 258,
    "start_time": "2022-12-11T11:14:29.083Z"
   },
   {
    "duration": 7,
    "start_time": "2022-12-11T11:14:29.343Z"
   },
   {
    "duration": 253,
    "start_time": "2022-12-11T11:14:29.351Z"
   },
   {
    "duration": 14,
    "start_time": "2022-12-11T11:14:29.605Z"
   },
   {
    "duration": 13,
    "start_time": "2022-12-11T11:14:29.620Z"
   },
   {
    "duration": 175,
    "start_time": "2022-12-11T11:14:29.634Z"
   },
   {
    "duration": 6,
    "start_time": "2022-12-11T11:14:29.815Z"
   },
   {
    "duration": 9,
    "start_time": "2022-12-11T11:14:29.822Z"
   },
   {
    "duration": 7,
    "start_time": "2022-12-11T11:14:29.838Z"
   },
   {
    "duration": 346,
    "start_time": "2022-12-11T11:14:29.846Z"
   },
   {
    "duration": 144,
    "start_time": "2022-12-11T11:14:30.194Z"
   },
   {
    "duration": 5,
    "start_time": "2022-12-11T11:14:30.340Z"
   },
   {
    "duration": 37,
    "start_time": "2022-12-11T11:14:30.347Z"
   },
   {
    "duration": 6,
    "start_time": "2022-12-11T11:14:30.386Z"
   },
   {
    "duration": 21,
    "start_time": "2022-12-11T11:14:30.394Z"
   },
   {
    "duration": 231,
    "start_time": "2022-12-11T11:14:30.417Z"
   },
   {
    "duration": 173,
    "start_time": "2022-12-11T11:14:30.650Z"
   },
   {
    "duration": 7,
    "start_time": "2022-12-11T11:14:30.825Z"
   },
   {
    "duration": 19,
    "start_time": "2022-12-11T11:14:30.833Z"
   },
   {
    "duration": 29,
    "start_time": "2022-12-11T11:14:30.854Z"
   },
   {
    "duration": 191,
    "start_time": "2022-12-11T11:14:30.885Z"
   },
   {
    "duration": 5,
    "start_time": "2022-12-11T11:14:31.077Z"
   },
   {
    "duration": 279,
    "start_time": "2022-12-11T11:14:31.083Z"
   },
   {
    "duration": 285,
    "start_time": "2022-12-11T11:14:31.363Z"
   },
   {
    "duration": 350,
    "start_time": "2022-12-11T11:14:31.649Z"
   },
   {
    "duration": 276,
    "start_time": "2022-12-11T11:14:32.001Z"
   },
   {
    "duration": 272,
    "start_time": "2022-12-11T11:14:32.278Z"
   },
   {
    "duration": 159,
    "start_time": "2022-12-11T11:14:32.552Z"
   },
   {
    "duration": 156,
    "start_time": "2022-12-11T11:14:32.713Z"
   },
   {
    "duration": 252,
    "start_time": "2022-12-11T11:14:32.870Z"
   },
   {
    "duration": 6,
    "start_time": "2022-12-11T11:14:33.124Z"
   },
   {
    "duration": 4,
    "start_time": "2022-12-11T11:14:33.132Z"
   },
   {
    "duration": 6,
    "start_time": "2022-12-11T11:14:33.137Z"
   },
   {
    "duration": 7,
    "start_time": "2022-12-11T11:14:33.145Z"
   },
   {
    "duration": 9,
    "start_time": "2022-12-11T11:14:33.153Z"
   },
   {
    "duration": 8,
    "start_time": "2022-12-11T11:14:33.164Z"
   },
   {
    "duration": 230,
    "start_time": "2022-12-11T11:14:33.174Z"
   },
   {
    "duration": 270,
    "start_time": "2022-12-11T11:14:33.405Z"
   },
   {
    "duration": 4,
    "start_time": "2022-12-11T11:14:33.677Z"
   },
   {
    "duration": 272,
    "start_time": "2022-12-11T11:14:33.683Z"
   },
   {
    "duration": 230,
    "start_time": "2022-12-11T11:14:33.957Z"
   },
   {
    "duration": 6,
    "start_time": "2022-12-11T11:14:34.189Z"
   },
   {
    "duration": 176,
    "start_time": "2022-12-11T11:14:34.196Z"
   },
   {
    "duration": 211,
    "start_time": "2022-12-11T11:14:34.373Z"
   },
   {
    "duration": 5,
    "start_time": "2022-12-11T11:14:34.585Z"
   },
   {
    "duration": 223,
    "start_time": "2022-12-11T11:14:34.592Z"
   },
   {
    "duration": 5,
    "start_time": "2022-12-11T11:14:34.817Z"
   },
   {
    "duration": 192,
    "start_time": "2022-12-11T11:14:34.823Z"
   },
   {
    "duration": 20,
    "start_time": "2022-12-11T11:14:35.017Z"
   },
   {
    "duration": 205,
    "start_time": "2022-12-11T11:14:35.039Z"
   },
   {
    "duration": 162,
    "start_time": "2022-12-11T11:14:35.246Z"
   },
   {
    "duration": 206,
    "start_time": "2022-12-11T11:14:35.410Z"
   },
   {
    "duration": 177,
    "start_time": "2022-12-11T11:14:35.617Z"
   },
   {
    "duration": 204,
    "start_time": "2022-12-11T11:14:35.795Z"
   },
   {
    "duration": 171,
    "start_time": "2022-12-11T11:14:36.000Z"
   },
   {
    "duration": 27,
    "start_time": "2022-12-11T11:14:36.173Z"
   },
   {
    "duration": 32,
    "start_time": "2022-12-11T11:14:36.202Z"
   },
   {
    "duration": 190,
    "start_time": "2022-12-11T11:14:36.236Z"
   },
   {
    "duration": 21,
    "start_time": "2022-12-11T11:14:36.428Z"
   },
   {
    "duration": 270,
    "start_time": "2022-12-11T11:14:36.453Z"
   },
   {
    "duration": 5,
    "start_time": "2022-12-11T11:14:36.725Z"
   },
   {
    "duration": 18,
    "start_time": "2022-12-11T11:14:36.732Z"
   },
   {
    "duration": 3,
    "start_time": "2022-12-11T11:14:36.752Z"
   },
   {
    "duration": 8382,
    "start_time": "2022-12-11T11:14:36.756Z"
   },
   {
    "duration": 400,
    "start_time": "2022-12-11T11:14:45.140Z"
   },
   {
    "duration": 875,
    "start_time": "2022-12-11T11:14:45.542Z"
   },
   {
    "duration": 181,
    "start_time": "2022-12-11T11:14:46.419Z"
   },
   {
    "duration": 16,
    "start_time": "2022-12-11T11:15:37.539Z"
   },
   {
    "duration": 1110,
    "start_time": "2022-12-11T11:18:29.545Z"
   },
   {
    "duration": 3,
    "start_time": "2022-12-11T11:18:30.657Z"
   },
   {
    "duration": 143,
    "start_time": "2022-12-11T11:18:30.662Z"
   },
   {
    "duration": 22,
    "start_time": "2022-12-11T11:18:30.807Z"
   },
   {
    "duration": 15,
    "start_time": "2022-12-11T11:18:30.831Z"
   },
   {
    "duration": 1791,
    "start_time": "2022-12-11T11:18:30.847Z"
   },
   {
    "duration": 4,
    "start_time": "2022-12-11T11:18:32.640Z"
   },
   {
    "duration": 307,
    "start_time": "2022-12-11T11:18:32.645Z"
   },
   {
    "duration": 13,
    "start_time": "2022-12-11T11:18:32.953Z"
   },
   {
    "duration": 4,
    "start_time": "2022-12-11T11:18:32.968Z"
   },
   {
    "duration": 7,
    "start_time": "2022-12-11T11:18:32.974Z"
   },
   {
    "duration": 9,
    "start_time": "2022-12-11T11:18:32.982Z"
   },
   {
    "duration": 27,
    "start_time": "2022-12-11T11:18:32.992Z"
   },
   {
    "duration": 5,
    "start_time": "2022-12-11T11:18:33.021Z"
   },
   {
    "duration": 4,
    "start_time": "2022-12-11T11:18:33.027Z"
   },
   {
    "duration": 7,
    "start_time": "2022-12-11T11:18:33.033Z"
   },
   {
    "duration": 6,
    "start_time": "2022-12-11T11:18:33.041Z"
   },
   {
    "duration": 8,
    "start_time": "2022-12-11T11:18:33.048Z"
   },
   {
    "duration": 12,
    "start_time": "2022-12-11T11:18:33.058Z"
   },
   {
    "duration": 45,
    "start_time": "2022-12-11T11:18:33.071Z"
   },
   {
    "duration": 14,
    "start_time": "2022-12-11T11:18:33.118Z"
   },
   {
    "duration": 7,
    "start_time": "2022-12-11T11:18:33.134Z"
   },
   {
    "duration": 195,
    "start_time": "2022-12-11T11:18:33.143Z"
   },
   {
    "duration": 6,
    "start_time": "2022-12-11T11:18:33.340Z"
   },
   {
    "duration": 7,
    "start_time": "2022-12-11T11:18:33.347Z"
   },
   {
    "duration": 4,
    "start_time": "2022-12-11T11:18:33.355Z"
   },
   {
    "duration": 7,
    "start_time": "2022-12-11T11:18:33.360Z"
   },
   {
    "duration": 8,
    "start_time": "2022-12-11T11:18:33.371Z"
   },
   {
    "duration": 40,
    "start_time": "2022-12-11T11:18:33.380Z"
   },
   {
    "duration": 257,
    "start_time": "2022-12-11T11:18:33.421Z"
   },
   {
    "duration": 143,
    "start_time": "2022-12-11T11:18:33.680Z"
   },
   {
    "duration": 5,
    "start_time": "2022-12-11T11:18:33.825Z"
   },
   {
    "duration": 10,
    "start_time": "2022-12-11T11:18:33.832Z"
   },
   {
    "duration": 77,
    "start_time": "2022-12-11T11:18:33.843Z"
   },
   {
    "duration": 5,
    "start_time": "2022-12-11T11:18:33.922Z"
   },
   {
    "duration": 8,
    "start_time": "2022-12-11T11:18:33.928Z"
   },
   {
    "duration": 48,
    "start_time": "2022-12-11T11:18:33.937Z"
   },
   {
    "duration": 128,
    "start_time": "2022-12-11T11:18:33.987Z"
   },
   {
    "duration": 12,
    "start_time": "2022-12-11T11:18:34.117Z"
   },
   {
    "duration": 11,
    "start_time": "2022-12-11T11:18:34.130Z"
   },
   {
    "duration": 165,
    "start_time": "2022-12-11T11:18:34.143Z"
   },
   {
    "duration": 9,
    "start_time": "2022-12-11T11:18:34.309Z"
   },
   {
    "duration": 7,
    "start_time": "2022-12-11T11:18:34.320Z"
   },
   {
    "duration": 315,
    "start_time": "2022-12-11T11:18:34.328Z"
   },
   {
    "duration": 5,
    "start_time": "2022-12-11T11:18:34.644Z"
   },
   {
    "duration": 8,
    "start_time": "2022-12-11T11:18:34.650Z"
   },
   {
    "duration": 4,
    "start_time": "2022-12-11T11:18:34.660Z"
   },
   {
    "duration": 333,
    "start_time": "2022-12-11T11:18:34.666Z"
   },
   {
    "duration": 5,
    "start_time": "2022-12-11T11:18:35.001Z"
   },
   {
    "duration": 8,
    "start_time": "2022-12-11T11:18:35.015Z"
   },
   {
    "duration": 248,
    "start_time": "2022-12-11T11:18:35.024Z"
   },
   {
    "duration": 6,
    "start_time": "2022-12-11T11:18:35.274Z"
   },
   {
    "duration": 6,
    "start_time": "2022-12-11T11:18:35.281Z"
   },
   {
    "duration": 5,
    "start_time": "2022-12-11T11:18:35.289Z"
   },
   {
    "duration": 4,
    "start_time": "2022-12-11T11:18:35.315Z"
   },
   {
    "duration": 380,
    "start_time": "2022-12-11T11:18:35.320Z"
   },
   {
    "duration": 15,
    "start_time": "2022-12-11T11:18:35.702Z"
   },
   {
    "duration": 8,
    "start_time": "2022-12-11T11:18:35.718Z"
   },
   {
    "duration": 259,
    "start_time": "2022-12-11T11:18:35.728Z"
   },
   {
    "duration": 5,
    "start_time": "2022-12-11T11:18:35.989Z"
   },
   {
    "duration": 19,
    "start_time": "2022-12-11T11:18:35.996Z"
   },
   {
    "duration": 250,
    "start_time": "2022-12-11T11:18:36.017Z"
   },
   {
    "duration": 6,
    "start_time": "2022-12-11T11:18:36.269Z"
   },
   {
    "duration": 15,
    "start_time": "2022-12-11T11:18:36.277Z"
   },
   {
    "duration": 21,
    "start_time": "2022-12-11T11:18:36.294Z"
   },
   {
    "duration": 8,
    "start_time": "2022-12-11T11:18:36.317Z"
   },
   {
    "duration": 273,
    "start_time": "2022-12-11T11:18:36.327Z"
   },
   {
    "duration": 5,
    "start_time": "2022-12-11T11:18:36.601Z"
   },
   {
    "duration": 10,
    "start_time": "2022-12-11T11:18:36.615Z"
   },
   {
    "duration": 5,
    "start_time": "2022-12-11T11:18:36.626Z"
   },
   {
    "duration": 14,
    "start_time": "2022-12-11T11:18:36.632Z"
   },
   {
    "duration": 6,
    "start_time": "2022-12-11T11:18:36.648Z"
   },
   {
    "duration": 6,
    "start_time": "2022-12-11T11:18:36.656Z"
   },
   {
    "duration": 5,
    "start_time": "2022-12-11T11:18:36.664Z"
   },
   {
    "duration": 5,
    "start_time": "2022-12-11T11:18:36.671Z"
   },
   {
    "duration": 5,
    "start_time": "2022-12-11T11:18:36.677Z"
   },
   {
    "duration": 35,
    "start_time": "2022-12-11T11:18:36.684Z"
   },
   {
    "duration": 7,
    "start_time": "2022-12-11T11:18:36.720Z"
   },
   {
    "duration": 10,
    "start_time": "2022-12-11T11:18:36.728Z"
   },
   {
    "duration": 10,
    "start_time": "2022-12-11T11:18:36.739Z"
   },
   {
    "duration": 8,
    "start_time": "2022-12-11T11:18:36.750Z"
   },
   {
    "duration": 12,
    "start_time": "2022-12-11T11:18:36.765Z"
   },
   {
    "duration": 4,
    "start_time": "2022-12-11T11:18:36.778Z"
   },
   {
    "duration": 38,
    "start_time": "2022-12-11T11:18:36.783Z"
   },
   {
    "duration": 15,
    "start_time": "2022-12-11T11:18:36.823Z"
   },
   {
    "duration": 9,
    "start_time": "2022-12-11T11:18:36.839Z"
   },
   {
    "duration": 11,
    "start_time": "2022-12-11T11:18:36.850Z"
   },
   {
    "duration": 13,
    "start_time": "2022-12-11T11:18:36.862Z"
   },
   {
    "duration": 22,
    "start_time": "2022-12-11T11:18:36.876Z"
   },
   {
    "duration": 23,
    "start_time": "2022-12-11T11:18:36.915Z"
   },
   {
    "duration": 9,
    "start_time": "2022-12-11T11:18:36.939Z"
   },
   {
    "duration": 11,
    "start_time": "2022-12-11T11:18:36.950Z"
   },
   {
    "duration": 20,
    "start_time": "2022-12-11T11:18:36.962Z"
   },
   {
    "duration": 39,
    "start_time": "2022-12-11T11:18:36.984Z"
   },
   {
    "duration": 50,
    "start_time": "2022-12-11T11:18:37.025Z"
   },
   {
    "duration": 373,
    "start_time": "2022-12-11T11:18:37.076Z"
   },
   {
    "duration": 7,
    "start_time": "2022-12-11T11:18:37.451Z"
   },
   {
    "duration": 313,
    "start_time": "2022-12-11T11:18:37.459Z"
   },
   {
    "duration": 307,
    "start_time": "2022-12-11T11:18:37.774Z"
   },
   {
    "duration": 212,
    "start_time": "2022-12-11T11:18:38.083Z"
   },
   {
    "duration": 133,
    "start_time": "2022-12-11T11:18:38.297Z"
   },
   {
    "duration": 15,
    "start_time": "2022-12-11T11:18:38.431Z"
   },
   {
    "duration": 21,
    "start_time": "2022-12-11T11:18:38.447Z"
   },
   {
    "duration": 12,
    "start_time": "2022-12-11T11:18:38.469Z"
   },
   {
    "duration": 21,
    "start_time": "2022-12-11T11:18:38.483Z"
   },
   {
    "duration": 25,
    "start_time": "2022-12-11T11:18:38.505Z"
   },
   {
    "duration": 25,
    "start_time": "2022-12-11T11:18:38.532Z"
   },
   {
    "duration": 12,
    "start_time": "2022-12-11T11:18:38.559Z"
   },
   {
    "duration": 261,
    "start_time": "2022-12-11T11:18:38.572Z"
   },
   {
    "duration": 5,
    "start_time": "2022-12-11T11:18:38.835Z"
   },
   {
    "duration": 22,
    "start_time": "2022-12-11T11:18:38.842Z"
   },
   {
    "duration": 25,
    "start_time": "2022-12-11T11:18:38.866Z"
   },
   {
    "duration": 14,
    "start_time": "2022-12-11T11:18:38.893Z"
   },
   {
    "duration": 264,
    "start_time": "2022-12-11T11:18:38.909Z"
   },
   {
    "duration": 7,
    "start_time": "2022-12-11T11:18:39.175Z"
   },
   {
    "duration": 249,
    "start_time": "2022-12-11T11:18:39.184Z"
   },
   {
    "duration": 5,
    "start_time": "2022-12-11T11:18:39.435Z"
   },
   {
    "duration": 17,
    "start_time": "2022-12-11T11:18:39.442Z"
   },
   {
    "duration": 173,
    "start_time": "2022-12-11T11:18:39.461Z"
   },
   {
    "duration": 7,
    "start_time": "2022-12-11T11:18:39.636Z"
   },
   {
    "duration": 19,
    "start_time": "2022-12-11T11:18:39.644Z"
   },
   {
    "duration": 14,
    "start_time": "2022-12-11T11:18:39.665Z"
   },
   {
    "duration": 339,
    "start_time": "2022-12-11T11:18:39.681Z"
   },
   {
    "duration": 154,
    "start_time": "2022-12-11T11:18:40.021Z"
   },
   {
    "duration": 7,
    "start_time": "2022-12-11T11:18:40.178Z"
   },
   {
    "duration": 60,
    "start_time": "2022-12-11T11:18:40.187Z"
   },
   {
    "duration": 7,
    "start_time": "2022-12-11T11:18:40.250Z"
   },
   {
    "duration": 24,
    "start_time": "2022-12-11T11:18:40.259Z"
   },
   {
    "duration": 257,
    "start_time": "2022-12-11T11:18:40.285Z"
   },
   {
    "duration": 173,
    "start_time": "2022-12-11T11:18:40.544Z"
   },
   {
    "duration": 6,
    "start_time": "2022-12-11T11:18:40.718Z"
   },
   {
    "duration": 24,
    "start_time": "2022-12-11T11:18:40.725Z"
   },
   {
    "duration": 8,
    "start_time": "2022-12-11T11:18:40.751Z"
   },
   {
    "duration": 166,
    "start_time": "2022-12-11T11:18:40.760Z"
   },
   {
    "duration": 5,
    "start_time": "2022-12-11T11:18:40.927Z"
   },
   {
    "duration": 294,
    "start_time": "2022-12-11T11:18:40.933Z"
   },
   {
    "duration": 242,
    "start_time": "2022-12-11T11:18:41.229Z"
   },
   {
    "duration": 368,
    "start_time": "2022-12-11T11:18:41.473Z"
   },
   {
    "duration": 266,
    "start_time": "2022-12-11T11:18:41.843Z"
   },
   {
    "duration": 254,
    "start_time": "2022-12-11T11:18:42.115Z"
   },
   {
    "duration": 164,
    "start_time": "2022-12-11T11:18:42.370Z"
   },
   {
    "duration": 141,
    "start_time": "2022-12-11T11:18:42.536Z"
   },
   {
    "duration": 244,
    "start_time": "2022-12-11T11:18:42.678Z"
   },
   {
    "duration": 7,
    "start_time": "2022-12-11T11:18:42.924Z"
   },
   {
    "duration": 4,
    "start_time": "2022-12-11T11:18:42.933Z"
   },
   {
    "duration": 7,
    "start_time": "2022-12-11T11:18:42.938Z"
   },
   {
    "duration": 12,
    "start_time": "2022-12-11T11:18:42.947Z"
   },
   {
    "duration": 8,
    "start_time": "2022-12-11T11:18:42.960Z"
   },
   {
    "duration": 7,
    "start_time": "2022-12-11T11:18:42.969Z"
   },
   {
    "duration": 212,
    "start_time": "2022-12-11T11:18:42.978Z"
   },
   {
    "duration": 250,
    "start_time": "2022-12-11T11:18:43.192Z"
   },
   {
    "duration": 5,
    "start_time": "2022-12-11T11:18:43.444Z"
   },
   {
    "duration": 284,
    "start_time": "2022-12-11T11:18:43.451Z"
   },
   {
    "duration": 242,
    "start_time": "2022-12-11T11:18:43.737Z"
   },
   {
    "duration": 5,
    "start_time": "2022-12-11T11:18:43.981Z"
   },
   {
    "duration": 190,
    "start_time": "2022-12-11T11:18:43.988Z"
   },
   {
    "duration": 226,
    "start_time": "2022-12-11T11:18:44.179Z"
   },
   {
    "duration": 14,
    "start_time": "2022-12-11T11:18:44.406Z"
   },
   {
    "duration": 211,
    "start_time": "2022-12-11T11:18:44.422Z"
   },
   {
    "duration": 5,
    "start_time": "2022-12-11T11:18:44.634Z"
   },
   {
    "duration": 190,
    "start_time": "2022-12-11T11:18:44.640Z"
   },
   {
    "duration": 21,
    "start_time": "2022-12-11T11:18:44.832Z"
   },
   {
    "duration": 209,
    "start_time": "2022-12-11T11:18:44.855Z"
   },
   {
    "duration": 172,
    "start_time": "2022-12-11T11:18:45.066Z"
   },
   {
    "duration": 210,
    "start_time": "2022-12-11T11:18:45.240Z"
   },
   {
    "duration": 176,
    "start_time": "2022-12-11T11:18:45.452Z"
   },
   {
    "duration": 206,
    "start_time": "2022-12-11T11:18:45.629Z"
   },
   {
    "duration": 185,
    "start_time": "2022-12-11T11:18:45.836Z"
   },
   {
    "duration": 34,
    "start_time": "2022-12-11T11:18:46.023Z"
   },
   {
    "duration": 29,
    "start_time": "2022-12-11T11:18:46.059Z"
   },
   {
    "duration": 190,
    "start_time": "2022-12-11T11:18:46.090Z"
   },
   {
    "duration": 19,
    "start_time": "2022-12-11T11:18:46.281Z"
   },
   {
    "duration": 246,
    "start_time": "2022-12-11T11:18:46.302Z"
   },
   {
    "duration": 5,
    "start_time": "2022-12-11T11:18:46.550Z"
   },
   {
    "duration": 27,
    "start_time": "2022-12-11T11:18:46.556Z"
   },
   {
    "duration": 12,
    "start_time": "2022-12-11T11:18:46.585Z"
   },
   {
    "duration": 8608,
    "start_time": "2022-12-11T11:18:46.599Z"
   },
   {
    "duration": 407,
    "start_time": "2022-12-11T11:18:55.209Z"
   },
   {
    "duration": 947,
    "start_time": "2022-12-11T11:18:55.618Z"
   },
   {
    "duration": 240,
    "start_time": "2022-12-11T11:18:56.567Z"
   }
  ],
  "kernelspec": {
   "display_name": "Python 3 (ipykernel)",
   "language": "python",
   "name": "python3"
  },
  "language_info": {
   "codemirror_mode": {
    "name": "ipython",
    "version": 3
   },
   "file_extension": ".py",
   "mimetype": "text/x-python",
   "name": "python",
   "nbconvert_exporter": "python",
   "pygments_lexer": "ipython3",
   "version": "3.12.1"
  },
  "toc": {
   "base_numbering": 1,
   "nav_menu": {},
   "number_sections": true,
   "sideBar": true,
   "skip_h1_title": true,
   "title_cell": "Table of Contents",
   "title_sidebar": "Contents",
   "toc_cell": false,
   "toc_position": {
    "height": "calc(100% - 180px)",
    "left": "10px",
    "top": "150px",
    "width": "165px"
   },
   "toc_section_display": true,
   "toc_window_display": true
  }
 },
 "nbformat": 4,
 "nbformat_minor": 4
}
