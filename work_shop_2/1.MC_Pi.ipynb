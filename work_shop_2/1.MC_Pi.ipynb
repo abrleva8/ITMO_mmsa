{
 "cells": [
  {
   "cell_type": "code",
   "metadata": {
    "ExecuteTime": {
     "end_time": "2024-11-28T11:17:41.046016Z",
     "start_time": "2024-11-28T11:17:40.803237Z"
    }
   },
   "source": [
    "import scipy\n",
    "\n",
    "N = 100000\n",
    "x_array = scipy.random.rand(N)\n",
    "y_array = scipy.random.rand(N)\n",
    "# generate N pseudorandom independent x and y-values on interval [0,1)\n",
    "N_qtr_circle = sum(x_array ** 2 + y_array ** 2 < 1)\n",
    "# Number of pts within the quarter circle x^2 + y^2 < 1 centered at the origin with radius r=1.\n",
    "# True area of quarter circle is pi/4 and has N_qtr_circle points within it.\n",
    "# True area of the square is 1 and has N points within it, hence we approximate pi with\n",
    "pi_approx = 4 * float(N_qtr_circle) / N  # Typical values: 3.13756, 3.15156\n",
    "pi_approx"
   ],
   "outputs": [
    {
     "ename": "AttributeError",
     "evalue": "Module 'scipy' has no attribute 'random'",
     "output_type": "error",
     "traceback": [
      "\u001B[1;31m---------------------------------------------------------------------------\u001B[0m",
      "\u001B[1;31mKeyError\u001B[0m                                  Traceback (most recent call last)",
      "File \u001B[1;32m~\\ITMO_algorithms\\ITMO_mmsa\\.venv\\Lib\\site-packages\\scipy\\__init__.py:150\u001B[0m, in \u001B[0;36m__getattr__\u001B[1;34m(name)\u001B[0m\n\u001B[0;32m    149\u001B[0m \u001B[38;5;28;01mtry\u001B[39;00m:\n\u001B[1;32m--> 150\u001B[0m     \u001B[38;5;28;01mreturn\u001B[39;00m \u001B[38;5;28;43mglobals\u001B[39;49m\u001B[43m(\u001B[49m\u001B[43m)\u001B[49m\u001B[43m[\u001B[49m\u001B[43mname\u001B[49m\u001B[43m]\u001B[49m\n\u001B[0;32m    151\u001B[0m \u001B[38;5;28;01mexcept\u001B[39;00m \u001B[38;5;167;01mKeyError\u001B[39;00m:\n",
      "\u001B[1;31mKeyError\u001B[0m: 'random'",
      "\nDuring handling of the above exception, another exception occurred:\n",
      "\u001B[1;31mAttributeError\u001B[0m                            Traceback (most recent call last)",
      "Cell \u001B[1;32mIn[1], line 4\u001B[0m\n\u001B[0;32m      1\u001B[0m \u001B[38;5;28;01mimport\u001B[39;00m \u001B[38;5;21;01mscipy\u001B[39;00m\n\u001B[0;32m      3\u001B[0m N \u001B[38;5;241m=\u001B[39m \u001B[38;5;241m100000\u001B[39m\n\u001B[1;32m----> 4\u001B[0m x_array \u001B[38;5;241m=\u001B[39m \u001B[43mscipy\u001B[49m\u001B[38;5;241;43m.\u001B[39;49m\u001B[43mrandom\u001B[49m\u001B[38;5;241m.\u001B[39mrand(N)\n\u001B[0;32m      5\u001B[0m y_array \u001B[38;5;241m=\u001B[39m scipy\u001B[38;5;241m.\u001B[39mrandom\u001B[38;5;241m.\u001B[39mrand(N)\n\u001B[0;32m      6\u001B[0m \u001B[38;5;66;03m# generate N pseudorandom independent x and y-values on interval [0,1)\u001B[39;00m\n",
      "File \u001B[1;32m~\\ITMO_algorithms\\ITMO_mmsa\\.venv\\Lib\\site-packages\\scipy\\__init__.py:152\u001B[0m, in \u001B[0;36m__getattr__\u001B[1;34m(name)\u001B[0m\n\u001B[0;32m    150\u001B[0m     \u001B[38;5;28;01mreturn\u001B[39;00m \u001B[38;5;28mglobals\u001B[39m()[name]\n\u001B[0;32m    151\u001B[0m \u001B[38;5;28;01mexcept\u001B[39;00m \u001B[38;5;167;01mKeyError\u001B[39;00m:\n\u001B[1;32m--> 152\u001B[0m     \u001B[38;5;28;01mraise\u001B[39;00m \u001B[38;5;167;01mAttributeError\u001B[39;00m(\n\u001B[0;32m    153\u001B[0m         \u001B[38;5;124mf\u001B[39m\u001B[38;5;124m\"\u001B[39m\u001B[38;5;124mModule \u001B[39m\u001B[38;5;124m'\u001B[39m\u001B[38;5;124mscipy\u001B[39m\u001B[38;5;124m'\u001B[39m\u001B[38;5;124m has no attribute \u001B[39m\u001B[38;5;124m'\u001B[39m\u001B[38;5;132;01m{\u001B[39;00mname\u001B[38;5;132;01m}\u001B[39;00m\u001B[38;5;124m'\u001B[39m\u001B[38;5;124m\"\u001B[39m\n\u001B[0;32m    154\u001B[0m     )\n",
      "\u001B[1;31mAttributeError\u001B[0m: Module 'scipy' has no attribute 'random'"
     ]
    }
   ],
   "execution_count": 1
  },
  {
   "cell_type": "code",
   "metadata": {},
   "source": [
    "N = 100000\n",
    "scipy.random.seed(4)\n",
    "x_array = scipy.random.rand(N)\n",
    "y_array = scipy.random.rand(N)\n",
    "# generate N pseudorandom independent x and y-values on interval [0,1)\n",
    "N_qtr_circle = sum(x_array ** 2 + y_array ** 2 < 1)\n",
    "# Number of pts within the quarter circle x^2 + y^2 < 1 centered at the origin with radius r=1.\n",
    "# True area of quarter circle is pi/4 and has N_qtr_circle points within it.\n",
    "# True area of the square is 1 and has N points within it, hence we approximate pi with\n",
    "pi_approx = 4 * float(N_qtr_circle) / N  # Typical values: 3.13756, 3.15156\n",
    "pi_approx"
   ],
   "outputs": [],
   "execution_count": null
  },
  {
   "cell_type": "markdown",
   "metadata": {},
   "source": [
    "# MCMC\n"
   ]
  },
  {
   "cell_type": "code",
   "metadata": {},
   "source": [
    "import math\n",
    "\n",
    "# Linear Congruential Generator for generating uniform random numbers\n",
    "class LCG:\n",
    "    def __init__(self, seed=42):\n",
    "        self.modulus = 2**32\n",
    "        self.a = 1664525\n",
    "        self.c = 1013904223\n",
    "        self.state = seed\n",
    "\n",
    "    def rand(self):\n",
    "        self.state = (self.a * self.state + self.c) % self.modulus\n",
    "        return self.state / self.modulus\n",
    "\n",
    "# Gaussian (normal) probability density function\n",
    "def normal_pdf(x, mean, std):\n",
    "    return (1 / (std * math.sqrt(2 * math.pi))) * math.exp(-0.5 * ((x - mean) / std) ** 2)\n",
    "\n",
    "# Metropolis-Hastings algorithm for MCMC sampling\n",
    "def metropolis_hastings(target_pdf, proposal_std, n_samples, initial_x, mean, std):\n",
    "    rng = LCG()  # Initialize random number generator\n",
    "    samples = []\n",
    "    x = initial_x  # Start point for the chain\n",
    "    \n",
    "    for _ in range(n_samples):\n",
    "        # Propose a new candidate from a Gaussian proposal distribution\n",
    "        u1, u2 = rng.rand(), rng.rand()\n",
    "        z1, _ = box_muller_transform(u1, u2)\n",
    "        candidate_x = x + proposal_std * z1  # Proposal step\n",
    "\n",
    "        # Acceptance probability (Metropolis-Hastings criterion)\n",
    "        acceptance_prob = min(1, target_pdf(candidate_x, mean, std) / target_pdf(x, mean, std))\n",
    "        \n",
    "        # Accept or reject the candidate\n",
    "        if rng.rand() < acceptance_prob:\n",
    "            x = candidate_x  # Accept the candidate\n",
    "        \n",
    "        samples.append(x)  # Store the sample\n",
    "\n",
    "    return samples\n",
    "\n",
    "# Box-Muller Transform to generate normal distributed numbers (used in the proposal distribution)\n",
    "def box_muller_transform(u1, u2):\n",
    "    z1 = math.sqrt(-2 * math.log(u1)) * math.cos(2 * math.pi * u2)\n",
    "    z2 = math.sqrt(-2 * math.log(u1)) * math.sin(2 * math.pi * u2)\n",
    "    return z1, z2\n",
    "\n",
    "# Function to calculate empirical mean and variance\n",
    "def calculate_statistics(samples):\n",
    "    n = len(samples)\n",
    "    mean = sum(samples) / n\n",
    "    variance = sum((x - mean) ** 2 for x in samples) / n\n",
    "    return mean, variance\n",
    "\n",
    "# Parameters for normal distribution (target distribution)\n",
    "mean_true = 5\n",
    "std_true = 2\n",
    "n_samples = 10000\n",
    "initial_x = 0  # Starting point for the chain\n",
    "proposal_std = 1.0  # Standard deviation for the proposal distribution\n",
    "\n",
    "# Run the Metropolis-Hastings MCMC sampler\n",
    "samples = metropolis_hastings(normal_pdf, proposal_std, n_samples, initial_x, mean_true, std_true)\n",
    "\n",
    "# Calculate the estimated mean and variance of the samples\n",
    "mean_estimate, variance_estimate = calculate_statistics(samples)\n",
    "\n",
    "# Display the results\n",
    "print(f\"True Mean: {mean_true}, Estimated Mean: {mean_estimate}\")\n",
    "print(f\"True Variance: {std_true**2}, Estimated Variance: {variance_estimate}\")"
   ],
   "outputs": [],
   "execution_count": null
  },
  {
   "metadata": {},
   "cell_type": "code",
   "outputs": [],
   "execution_count": null,
   "source": ""
  }
 ],
 "metadata": {
  "kernelspec": {
   "display_name": "sppr",
   "language": "python",
   "name": "python3"
  },
  "language_info": {
   "codemirror_mode": {
    "name": "ipython",
    "version": 3
   },
   "file_extension": ".py",
   "mimetype": "text/x-python",
   "name": "python",
   "nbconvert_exporter": "python",
   "pygments_lexer": "ipython3",
   "version": "3.10.9"
  }
 },
 "nbformat": 4,
 "nbformat_minor": 4
}
