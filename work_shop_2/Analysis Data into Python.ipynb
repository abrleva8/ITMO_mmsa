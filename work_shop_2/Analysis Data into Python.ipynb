{
 "cells": [
  {
   "cell_type": "markdown",
   "metadata": {},
   "source": [
    "For example, the file http://archive.ics.uci.edu/ml/machine-learning-databases/wine/wine.data contains data on concentrations of 13 different chemicals in wines grown in the same region in Italy that are derived from three different cultivars. "
   ]
  },
  {
   "cell_type": "code",
   "execution_count": 1,
   "metadata": {
    "ExecuteTime": {
     "end_time": "2024-11-28T11:18:37.520119Z",
     "start_time": "2024-11-28T11:18:37.500708Z"
    }
   },
   "outputs": [
    {
     "data": {
      "text/html": [
       "<div>\n",
       "<style scoped>\n",
       "    .dataframe tbody tr th:only-of-type {\n",
       "        vertical-align: middle;\n",
       "    }\n",
       "\n",
       "    .dataframe tbody tr th {\n",
       "        vertical-align: top;\n",
       "    }\n",
       "\n",
       "    .dataframe thead th {\n",
       "        text-align: right;\n",
       "    }\n",
       "</style>\n",
       "<table border=\"1\" class=\"dataframe\">\n",
       "  <thead>\n",
       "    <tr style=\"text-align: right;\">\n",
       "      <th></th>\n",
       "      <th>V1</th>\n",
       "      <th>V2</th>\n",
       "      <th>V3</th>\n",
       "      <th>V4</th>\n",
       "      <th>V5</th>\n",
       "      <th>V6</th>\n",
       "      <th>V7</th>\n",
       "      <th>V8</th>\n",
       "      <th>V9</th>\n",
       "      <th>V10</th>\n",
       "      <th>V11</th>\n",
       "      <th>V12</th>\n",
       "      <th>V13</th>\n",
       "      <th>V14</th>\n",
       "    </tr>\n",
       "  </thead>\n",
       "  <tbody>\n",
       "    <tr>\n",
       "      <th>0</th>\n",
       "      <td>1</td>\n",
       "      <td>14.23</td>\n",
       "      <td>1.71</td>\n",
       "      <td>2.43</td>\n",
       "      <td>15.6</td>\n",
       "      <td>127</td>\n",
       "      <td>2.80</td>\n",
       "      <td>3.06</td>\n",
       "      <td>0.28</td>\n",
       "      <td>2.29</td>\n",
       "      <td>5.64</td>\n",
       "      <td>1.04</td>\n",
       "      <td>3.92</td>\n",
       "      <td>1065</td>\n",
       "    </tr>\n",
       "    <tr>\n",
       "      <th>1</th>\n",
       "      <td>1</td>\n",
       "      <td>13.20</td>\n",
       "      <td>1.78</td>\n",
       "      <td>2.14</td>\n",
       "      <td>11.2</td>\n",
       "      <td>100</td>\n",
       "      <td>2.65</td>\n",
       "      <td>2.76</td>\n",
       "      <td>0.26</td>\n",
       "      <td>1.28</td>\n",
       "      <td>4.38</td>\n",
       "      <td>1.05</td>\n",
       "      <td>3.40</td>\n",
       "      <td>1050</td>\n",
       "    </tr>\n",
       "    <tr>\n",
       "      <th>2</th>\n",
       "      <td>1</td>\n",
       "      <td>13.16</td>\n",
       "      <td>2.36</td>\n",
       "      <td>2.67</td>\n",
       "      <td>18.6</td>\n",
       "      <td>101</td>\n",
       "      <td>2.80</td>\n",
       "      <td>3.24</td>\n",
       "      <td>0.30</td>\n",
       "      <td>2.81</td>\n",
       "      <td>5.68</td>\n",
       "      <td>1.03</td>\n",
       "      <td>3.17</td>\n",
       "      <td>1185</td>\n",
       "    </tr>\n",
       "    <tr>\n",
       "      <th>3</th>\n",
       "      <td>1</td>\n",
       "      <td>14.37</td>\n",
       "      <td>1.95</td>\n",
       "      <td>2.50</td>\n",
       "      <td>16.8</td>\n",
       "      <td>113</td>\n",
       "      <td>3.85</td>\n",
       "      <td>3.49</td>\n",
       "      <td>0.24</td>\n",
       "      <td>2.18</td>\n",
       "      <td>7.80</td>\n",
       "      <td>0.86</td>\n",
       "      <td>3.45</td>\n",
       "      <td>1480</td>\n",
       "    </tr>\n",
       "    <tr>\n",
       "      <th>4</th>\n",
       "      <td>1</td>\n",
       "      <td>13.24</td>\n",
       "      <td>2.59</td>\n",
       "      <td>2.87</td>\n",
       "      <td>21.0</td>\n",
       "      <td>118</td>\n",
       "      <td>2.80</td>\n",
       "      <td>2.69</td>\n",
       "      <td>0.39</td>\n",
       "      <td>1.82</td>\n",
       "      <td>4.32</td>\n",
       "      <td>1.04</td>\n",
       "      <td>2.93</td>\n",
       "      <td>735</td>\n",
       "    </tr>\n",
       "    <tr>\n",
       "      <th>5</th>\n",
       "      <td>1</td>\n",
       "      <td>14.20</td>\n",
       "      <td>1.76</td>\n",
       "      <td>2.45</td>\n",
       "      <td>15.2</td>\n",
       "      <td>112</td>\n",
       "      <td>3.27</td>\n",
       "      <td>3.39</td>\n",
       "      <td>0.34</td>\n",
       "      <td>1.97</td>\n",
       "      <td>6.75</td>\n",
       "      <td>1.05</td>\n",
       "      <td>2.85</td>\n",
       "      <td>1450</td>\n",
       "    </tr>\n",
       "    <tr>\n",
       "      <th>6</th>\n",
       "      <td>1</td>\n",
       "      <td>14.39</td>\n",
       "      <td>1.87</td>\n",
       "      <td>2.45</td>\n",
       "      <td>14.6</td>\n",
       "      <td>96</td>\n",
       "      <td>2.50</td>\n",
       "      <td>2.52</td>\n",
       "      <td>0.30</td>\n",
       "      <td>1.98</td>\n",
       "      <td>5.25</td>\n",
       "      <td>1.02</td>\n",
       "      <td>3.58</td>\n",
       "      <td>1290</td>\n",
       "    </tr>\n",
       "    <tr>\n",
       "      <th>7</th>\n",
       "      <td>1</td>\n",
       "      <td>14.06</td>\n",
       "      <td>2.15</td>\n",
       "      <td>2.61</td>\n",
       "      <td>17.6</td>\n",
       "      <td>121</td>\n",
       "      <td>2.60</td>\n",
       "      <td>2.51</td>\n",
       "      <td>0.31</td>\n",
       "      <td>1.25</td>\n",
       "      <td>5.05</td>\n",
       "      <td>1.06</td>\n",
       "      <td>3.58</td>\n",
       "      <td>1295</td>\n",
       "    </tr>\n",
       "    <tr>\n",
       "      <th>8</th>\n",
       "      <td>1</td>\n",
       "      <td>14.83</td>\n",
       "      <td>1.64</td>\n",
       "      <td>2.17</td>\n",
       "      <td>14.0</td>\n",
       "      <td>97</td>\n",
       "      <td>2.80</td>\n",
       "      <td>2.98</td>\n",
       "      <td>0.29</td>\n",
       "      <td>1.98</td>\n",
       "      <td>5.20</td>\n",
       "      <td>1.08</td>\n",
       "      <td>2.85</td>\n",
       "      <td>1045</td>\n",
       "    </tr>\n",
       "    <tr>\n",
       "      <th>9</th>\n",
       "      <td>1</td>\n",
       "      <td>13.86</td>\n",
       "      <td>1.35</td>\n",
       "      <td>2.27</td>\n",
       "      <td>16.0</td>\n",
       "      <td>98</td>\n",
       "      <td>2.98</td>\n",
       "      <td>3.15</td>\n",
       "      <td>0.22</td>\n",
       "      <td>1.85</td>\n",
       "      <td>7.22</td>\n",
       "      <td>1.01</td>\n",
       "      <td>3.55</td>\n",
       "      <td>1045</td>\n",
       "    </tr>\n",
       "  </tbody>\n",
       "</table>\n",
       "</div>"
      ],
      "text/plain": [
       "  V1     V2    V3    V4    V5   V6    V7    V8    V9   V10   V11   V12   V13  \\\n",
       "0  1  14.23  1.71  2.43  15.6  127  2.80  3.06  0.28  2.29  5.64  1.04  3.92   \n",
       "1  1  13.20  1.78  2.14  11.2  100  2.65  2.76  0.26  1.28  4.38  1.05  3.40   \n",
       "2  1  13.16  2.36  2.67  18.6  101  2.80  3.24  0.30  2.81  5.68  1.03  3.17   \n",
       "3  1  14.37  1.95  2.50  16.8  113  3.85  3.49  0.24  2.18  7.80  0.86  3.45   \n",
       "4  1  13.24  2.59  2.87  21.0  118  2.80  2.69  0.39  1.82  4.32  1.04  2.93   \n",
       "5  1  14.20  1.76  2.45  15.2  112  3.27  3.39  0.34  1.97  6.75  1.05  2.85   \n",
       "6  1  14.39  1.87  2.45  14.6   96  2.50  2.52  0.30  1.98  5.25  1.02  3.58   \n",
       "7  1  14.06  2.15  2.61  17.6  121  2.60  2.51  0.31  1.25  5.05  1.06  3.58   \n",
       "8  1  14.83  1.64  2.17  14.0   97  2.80  2.98  0.29  1.98  5.20  1.08  2.85   \n",
       "9  1  13.86  1.35  2.27  16.0   98  2.98  3.15  0.22  1.85  7.22  1.01  3.55   \n",
       "\n",
       "    V14  \n",
       "0  1065  \n",
       "1  1050  \n",
       "2  1185  \n",
       "3  1480  \n",
       "4   735  \n",
       "5  1450  \n",
       "6  1290  \n",
       "7  1295  \n",
       "8  1045  \n",
       "9  1045  "
      ]
     },
     "execution_count": 1,
     "metadata": {},
     "output_type": "execute_result"
    }
   ],
   "source": [
    "import pandas as pd\n",
    "import numpy as np\n",
    "import matplotlib.pyplot as plt\n",
    "import seaborn as sns\n",
    "from sklearn.preprocessing import scale\n",
    "from sklearn.decomposition import PCA\n",
    "from sklearn.discriminant_analysis import LinearDiscriminantAnalysis\n",
    "from scipy import stats\n",
    "\n",
    "\n",
    "\n",
    "\n",
    "\n",
    "data = pd.read_csv(\"wine.data\", header=None)\n",
    "data.columns = [\"V\"+str(i) for i in range(1, len(data.columns)+1)]  # rename column names to be similar to R naming convention\n",
    "data.V1 = data.V1.astype(str)\n",
    "X = data.loc[:, \"V2\":]  # independent variables data\n",
    "y = data.V1  # dependednt variable data\n",
    "data.head(10)"
   ]
  },
  {
   "cell_type": "code",
   "execution_count": 2,
   "metadata": {
    "ExecuteTime": {
     "end_time": "2024-11-28T11:18:38.502031Z",
     "start_time": "2024-11-28T11:18:38.498045Z"
    }
   },
   "outputs": [
    {
     "data": {
      "text/plain": [
       "array(['1', '2', '3'], dtype=object)"
      ]
     },
     "execution_count": 2,
     "metadata": {},
     "output_type": "execute_result"
    }
   ],
   "source": [
    "data['V1'].unique()"
   ]
  },
  {
   "cell_type": "code",
   "execution_count": 3,
   "metadata": {
    "ExecuteTime": {
     "end_time": "2024-11-28T11:18:39.415189Z",
     "start_time": "2024-11-28T11:18:39.280258Z"
    }
   },
   "outputs": [
    {
     "name": "stderr",
     "output_type": "stream",
     "text": [
      "C:\\Users\\Ilia\\AppData\\Local\\Temp\\ipykernel_15496\\335988537.py:1: UserWarning: \n",
      "\n",
      "`distplot` is a deprecated function and will be removed in seaborn v0.14.0.\n",
      "\n",
      "Please adapt your code to use either `displot` (a figure-level function with\n",
      "similar flexibility) or `histplot` (an axes-level function for histograms).\n",
      "\n",
      "For a guide to updating your code to use the new functions, please see\n",
      "https://gist.github.com/mwaskom/de44147ed2974457ad6372750bbe5751\n",
      "\n",
      "  sns.distplot(data['V13'])\n"
     ]
    },
    {
     "data": {
      "text/plain": [
       "<Axes: xlabel='V13', ylabel='Density'>"
      ]
     },
     "execution_count": 3,
     "metadata": {},
     "output_type": "execute_result"
    },
    {
     "data": {
      "image/png": "[encoded data removed]",
      "text/plain": [
       "<Figure size 640x480 with 1 Axes>"
      ]
     },
     "metadata": {},
     "output_type": "display_data"
    }
   ],
   "source": [
    "sns.distplot(data['V13'])"
   ]
  },
  {
   "cell_type": "code",
   "execution_count": 7,
   "metadata": {
    "ExecuteTime": {
     "end_time": "2024-11-28T11:18:40.578204Z",
     "start_time": "2024-11-28T11:18:40.516509Z"
    }
   },
   "outputs": [],
   "source": [
    "from sklearn.mixture import GaussianMixture\n",
    "\n",
    "\n",
    "def component(data, columns, method):\n",
    "    n = 1\n",
    "    max_comp = 10\n",
    "    x = []\n",
    "    scores = []\n",
    "    if data.shape[0] < max_comp:\n",
    "        max_comp = data.shape[0]\n",
    "    if len(columns) == 1:\n",
    "        x = np.transpose([data[columns[0]].values])\n",
    "    else:\n",
    "        x = data[columns].values\n",
    "    if method == \"aic\":\n",
    "        lowest_aic = np.inf\n",
    "        comp_lowest = 0\n",
    "        for i in range(1, max_comp + 1, 1):\n",
    "            gm1 = GaussianMixture(n_components=i, random_state=0)\n",
    "            gm1.fit(x)\n",
    "            aic1 = gm1.aic(x)\n",
    "            scores.append(aic1)\n",
    "            if aic1 < lowest_aic:\n",
    "                lowest_aic = aic1\n",
    "                comp_lowest = i\n",
    "            n = comp_lowest\n",
    "\n",
    "    if method == \"bic\":\n",
    "        lowest_bic = np.inf\n",
    "        comp_lowest = 0\n",
    "        for i in range(1, max_comp + 1, 1):\n",
    "            gm1 = GaussianMixture(n_components=i, random_state=0)\n",
    "            gm1.fit(x)\n",
    "            bic1 = gm1.bic(x)\n",
    "            scores.append(bic1)\n",
    "            if bic1 < lowest_bic:\n",
    "                lowest_bic = bic1\n",
    "                comp_lowest = i\n",
    "            n = comp_lowest\n",
    "    return n, scores"
   ]
  },
  {
   "cell_type": "code",
   "execution_count": 8,
   "metadata": {
    "ExecuteTime": {
     "end_time": "2024-11-28T11:18:41.443051Z",
     "start_time": "2024-11-28T11:18:41.389962Z"
    }
   },
   "outputs": [],
   "source": [
    "n, scores = component(data, ['V13'], 'bic')"
   ]
  },
  {
   "cell_type": "code",
   "execution_count": 9,
   "metadata": {
    "ExecuteTime": {
     "end_time": "2024-11-28T11:18:42.245989Z",
     "start_time": "2024-11-28T11:18:42.234328Z"
    }
   },
   "outputs": [
    {
     "data": {
      "text/plain": [
       "2"
      ]
     },
     "execution_count": 9,
     "metadata": {},
     "output_type": "execute_result"
    }
   ],
   "source": [
    "n"
   ]
  },
  {
   "cell_type": "code",
   "execution_count": 11,
   "metadata": {
    "ExecuteTime": {
     "end_time": "2024-11-28T11:18:42.545312Z",
     "start_time": "2024-11-28T11:18:42.533565Z"
    }
   },
   "outputs": [
    {
     "data": {
      "text/plain": [
       "Text(0, 0.5, '-LL')"
      ]
     },
     "execution_count": 11,
     "metadata": {},
     "output_type": "execute_result"
    },
    {
     "data": {
      "image/png": "[encoded data removed]",
      "text/plain": [
       "<Figure size 640x480 with 1 Axes>"
      ]
     },
     "metadata": {},
     "output_type": "display_data"
    }
   ],
   "source": [
    "plt.plot([i for i in range(len(scores))], scores)\n",
    "plt.xlabel('Количество компонент')\n",
    "plt.ylabel('-LL')"
   ]
  },
  {
   "cell_type": "code",
   "execution_count": 12,
   "metadata": {},
   "outputs": [],
   "source": [
    "gmm = GaussianMixture(n_components=2).fit(data[['V13']].values)"
   ]
  },
  {
   "cell_type": "code",
   "execution_count": 13,
   "metadata": {},
   "outputs": [
    {
     "data": {
      "text/plain": [
       "array([[1.72965838],\n",
       "       [3.03442195]])"
      ]
     },
     "execution_count": 13,
     "metadata": {},
     "output_type": "execute_result"
    }
   ],
   "source": [
    "gmm.means_"
   ]
  },
  {
   "cell_type": "code",
   "execution_count": 14,
   "metadata": {},
   "outputs": [
    {
     "data": {
      "text/plain": [
       "array([[[0.07894911]],\n",
       "\n",
       "       [[0.15208655]]])"
      ]
     },
     "execution_count": 14,
     "metadata": {},
     "output_type": "execute_result"
    }
   ],
   "source": [
    "gmm.covariances_"
   ]
  },
  {
   "cell_type": "code",
   "execution_count": 15,
   "metadata": {},
   "outputs": [
    {
     "data": {
      "text/plain": [
       "array([0.32399476, 0.67600524])"
      ]
     },
     "execution_count": 15,
     "metadata": {},
     "output_type": "execute_result"
    }
   ],
   "source": [
    "gmm.weights_"
   ]
  },
  {
   "cell_type": "code",
   "execution_count": 16,
   "metadata": {},
   "outputs": [],
   "source": [
    "data['components'] = gmm.predict(data[['V13']].values)\n",
    "samples0 = data.loc[data['components'] == 0]['V13'].values\n",
    "samples1 = data.loc[data['components'] == 1]['V13'].values"
   ]
  },
  {
   "cell_type": "code",
   "execution_count": 17,
   "metadata": {},
   "outputs": [
    {
     "data": {
      "text/plain": [
       "<matplotlib.legend.Legend at 0x247b57055e0>"
      ]
     },
     "execution_count": 17,
     "metadata": {},
     "output_type": "execute_result"
    },
    {
     "data": {
      "image/png": "[encoded data removed]",
      "text/plain": [
       "<Figure size 640x480 with 1 Axes>"
      ]
     },
     "metadata": {},
     "output_type": "display_data"
    }
   ],
   "source": [
    "# define your distributions\n",
    "d1 = stats.norm(1.73413481, 0.08100614)\n",
    "d2 = stats.norm(3.03743301, 0.15026521)\n",
    "\n",
    "# set mixture component weights\n",
    "mc = [0.32666938, 0.67333062]\n",
    "mc = mc / np.sum(mc) # ensuring they sum to 1\n",
    "\n",
    "# where to evaluate the densities\n",
    "x = sorted(data['V13'].values)\n",
    "# calculate density and apply mixture weights\n",
    "c1 = d1.pdf(x) * mc[0]\n",
    "c2 = d2.pdf(x) * mc[1]\n",
    "\n",
    "# plot everything\n",
    "plt.plot(x, c1, label='Component 1')\n",
    "plt.plot(x, c2, label='Component 2')\n",
    "plt.plot(x, c1 + c2, '--', label='Mixture')\n",
    "plt.hist(data['V13'].values, density=True)\n",
    "plt.legend()"
   ]
  },
  {
   "cell_type": "markdown",
   "metadata": {},
   "source": [
    "## Bootstrap distribution estimation"
   ]
  },
  {
   "cell_type": "code",
   "execution_count": 18,
   "metadata": {},
   "outputs": [
    {
     "name": "stdout",
     "output_type": "stream",
     "text": [
      "Estimated population mean age: 47.418\n",
      "Standard error of the estimate: 4.432541418128365\n"
     ]
    }
   ],
   "source": [
    "import numpy as np\n",
    " \n",
    "ages = [25, 30, 35, 40, 45, 50, 55, 60, 65, 70]\n",
    " \n",
    "num_samples = 1000\n",
    " \n",
    "bootstrap_means = np.zeros(num_samples)\n",
    " \n",
    "# Perform bootstrap sampling\n",
    "for i in range(num_samples):\n",
    " \n",
    "    bootstrap_sample = np.random.choice(ages, size=len(ages), replace=True)\n",
    "    bootstrap_mean = np.mean(bootstrap_sample)\n",
    "    bootstrap_means[i] = bootstrap_mean\n",
    " \n",
    "estimated_mean = np.mean(bootstrap_means)\n",
    "estimated_std = np.std(bootstrap_means, ddof=1)\n",
    " \n",
    " \n",
    "print(\"Estimated population mean age:\", estimated_mean)\n",
    "print(\"Standard error of the estimate:\", estimated_std)"
   ]
  },
  {
   "cell_type": "code",
   "execution_count": 19,
   "metadata": {},
   "outputs": [
    {
     "name": "stdout",
     "output_type": "stream",
     "text": [
      "Estimated population mean: 55.098\n",
      "Standard error of the estimate: 8.70977934601424\n",
      "95% Confidence interval: [38. 72.]\n"
     ]
    }
   ],
   "source": [
    "import numpy as np\n",
    " \n",
    "data = [10, 20, 30, 40, 50, 60, 70, 80, 90, 100]\n",
    "num_samples = 1000\n",
    " \n",
    "bootstrap_means = np.zeros(num_samples)\n",
    " \n",
    "# Perform bootstrap sampling\n",
    "for i in range(num_samples):\n",
    "    bootstrap_sample = np.random.choice(data, size=len(data), replace=True)\n",
    "    bootstrap_mean = np.mean(bootstrap_sample)\n",
    "    bootstrap_means[i] = bootstrap_mean\n",
    " \n",
    "confidence_interval = np.percentile(bootstrap_means, [2.5, 97.5])\n",
    "estimated_mean = np.mean(bootstrap_means)\n",
    "estimated_std = np.std(bootstrap_means, ddof=1)\n",
    " \n",
    " \n",
    "print(\"Estimated population mean:\", estimated_mean)\n",
    "print(\"Standard error of the estimate:\", estimated_std)\n",
    " \n",
    "print(\"95% Confidence interval:\", confidence_interval)"
   ]
  },
  {
   "cell_type": "code",
   "execution_count": 20,
   "metadata": {},
   "outputs": [
    {
     "name": "stdout",
     "output_type": "stream",
     "text": [
      "Sample mean: 55.000 +/- 14.940\n",
      "95% Confidence interval of sample variance : (390.322; 2749.603)\n",
      "95% Confidence interval of sample standard deviation: (19.757; 52.437)\n"
     ]
    }
   ],
   "source": [
    "import scipy.stats as stats\n",
    "mean = np.mean(data)\n",
    "var = np.var(data)\n",
    "std = np.std(data)\n",
    "norm_q95 = stats.norm.ppf(0.95)\n",
    "mean_conf = norm_q95 * std / np.sqrt(len(data))\n",
    "\n",
    "# Calculation of 95% confidence intervals for variance and standard deviation\n",
    "chi2_q95_left = stats.chi2.ppf((1 - 0.05 / 2.0), df=len(data) - 1)\n",
    "chi2_q95_right = stats.chi2.ppf(0.05 / 2.0, df=len(data) - 1)\n",
    "\n",
    "var_conf_left = var * (len(data) - 1) / chi2_q95_left\n",
    "var_conf_right = var * (len(data) - 1) / chi2_q95_right\n",
    "std_conf_left = np.sqrt(var_conf_left)\n",
    "std_conf_right = np.sqrt(var_conf_right)\n",
    "\n",
    "\n",
    "print(\"Sample mean: %0.3f +/- %0.3f\" % (mean, mean_conf))\n",
    "print(\"95%% Confidence interval of sample variance : (%0.3f; %0.3f)\"\n",
    "      % (var_conf_left, var_conf_right))\n",
    "print(\"95%% Confidence interval of sample standard deviation: (%0.3f; %0.3f)\"\n",
    "      % (std_conf_left, std_conf_right))"
   ]
  },
  {
   "cell_type": "code",
   "execution_count": 21,
   "metadata": {},
   "outputs": [
    {
     "data": {
      "text/plain": [
       "<matplotlib.legend.Legend at 0x247b57160f0>"
      ]
     },
     "execution_count": 21,
     "metadata": {},
     "output_type": "execute_result"
    },
    {
     "data": {
      "image/png": "[encoded data removed]",
      "text/plain": [
       "<Figure size 640x480 with 1 Axes>"
      ]
     },
     "metadata": {},
     "output_type": "display_data"
    }
   ],
   "source": [
    "d1 = stats.norm(estimated_mean, estimated_std)\n",
    "d2 = stats.norm(mean, std)\n",
    "\n",
    "x = sorted(data)\n",
    "# calculate density and apply mixture weights\n",
    "c1 = d1.pdf(x)\n",
    "c2 = d2.pdf(x)\n",
    "\n",
    "# plot everything\n",
    "plt.plot(x, c1, label='Bootstrap estimation')\n",
    "plt.plot(x, c2, label='Point esitmation')\n",
    "#plt.hist(data, density=True)\n",
    "plt.legend()"
   ]
  },
  {
   "cell_type": "markdown",
   "metadata": {},
   "source": [
    "## Comparision two means"
   ]
  },
  {
   "cell_type": "code",
   "execution_count": 36,
   "metadata": {},
   "outputs": [
    {
     "data": {
      "text/html": [
       "<div>\n",
       "<style scoped>\n",
       "    .dataframe tbody tr th:only-of-type {\n",
       "        vertical-align: middle;\n",
       "    }\n",
       "\n",
       "    .dataframe tbody tr th {\n",
       "        vertical-align: top;\n",
       "    }\n",
       "\n",
       "    .dataframe thead th {\n",
       "        text-align: right;\n",
       "    }\n",
       "</style>\n",
       "<table border=\"1\" class=\"dataframe\">\n",
       "  <thead>\n",
       "    <tr style=\"text-align: right;\">\n",
       "      <th></th>\n",
       "      <th>grouping</th>\n",
       "      <th>height</th>\n",
       "    </tr>\n",
       "  </thead>\n",
       "  <tbody>\n",
       "    <tr>\n",
       "      <th>0</th>\n",
       "      <td>men</td>\n",
       "      <td>181.5</td>\n",
       "    </tr>\n",
       "    <tr>\n",
       "      <th>1</th>\n",
       "      <td>men</td>\n",
       "      <td>187.3</td>\n",
       "    </tr>\n",
       "    <tr>\n",
       "      <th>2</th>\n",
       "      <td>men</td>\n",
       "      <td>175.3</td>\n",
       "    </tr>\n",
       "    <tr>\n",
       "      <th>3</th>\n",
       "      <td>men</td>\n",
       "      <td>178.3</td>\n",
       "    </tr>\n",
       "    <tr>\n",
       "      <th>4</th>\n",
       "      <td>men</td>\n",
       "      <td>169.0</td>\n",
       "    </tr>\n",
       "  </tbody>\n",
       "</table>\n",
       "</div>"
      ],
      "text/plain": [
       "  grouping  height\n",
       "0      men   181.5\n",
       "1      men   187.3\n",
       "2      men   175.3\n",
       "3      men   178.3\n",
       "4      men   169.0"
      ]
     },
     "execution_count": 36,
     "metadata": {},
     "output_type": "execute_result"
    }
   ],
   "source": [
    "import pandas as pd\n",
    "\n",
    "data = 'https://gist.githubusercontent.com/baskaufs/1a7a995c1b25d6e88b45/raw/4bb17ccc5c1e62c27627833a4f25380f27d30b35/t-test.csv'\n",
    "df = pd.read_csv(data)\n",
    "\n",
    "df.head()"
   ]
  },
  {
   "cell_type": "code",
   "execution_count": 37,
   "metadata": {},
   "outputs": [],
   "source": [
    "male = df.query('grouping == \"men\"')['height']\n",
    "female = df.query('grouping == \"women\"')['height']"
   ]
  },
  {
   "cell_type": "markdown",
   "metadata": {},
   "source": [
    "    Null hypotheses: Two group means are equal\n",
    "    Alternative hypotheses: Two group means are different (two-tailed)"
   ]
  },
  {
   "cell_type": "markdown",
   "metadata": {},
   "source": [
    "Assumption 1: Are the two samples independent?\n",
    "\n",
    "Assumption 2: Are the two groups’ data following a normal distribution?\n",
    "\n",
    "Assumption 3: Do the two samples have the same variances (Homogeneity of Variance)?"
   ]
  },
  {
   "cell_type": "code",
   "execution_count": 38,
   "metadata": {},
   "outputs": [
    {
     "data": {
      "text/html": [
       "<div>\n",
       "<style scoped>\n",
       "    .dataframe tbody tr th:only-of-type {\n",
       "        vertical-align: middle;\n",
       "    }\n",
       "\n",
       "    .dataframe tbody tr th {\n",
       "        vertical-align: top;\n",
       "    }\n",
       "\n",
       "    .dataframe thead tr th {\n",
       "        text-align: left;\n",
       "    }\n",
       "\n",
       "    .dataframe thead tr:last-of-type th {\n",
       "        text-align: right;\n",
       "    }\n",
       "</style>\n",
       "<table border=\"1\" class=\"dataframe\">\n",
       "  <thead>\n",
       "    <tr>\n",
       "      <th></th>\n",
       "      <th colspan=\"8\" halign=\"left\">height</th>\n",
       "    </tr>\n",
       "    <tr>\n",
       "      <th></th>\n",
       "      <th>count</th>\n",
       "      <th>mean</th>\n",
       "      <th>std</th>\n",
       "      <th>min</th>\n",
       "      <th>25%</th>\n",
       "      <th>50%</th>\n",
       "      <th>75%</th>\n",
       "      <th>max</th>\n",
       "    </tr>\n",
       "    <tr>\n",
       "      <th>grouping</th>\n",
       "      <th></th>\n",
       "      <th></th>\n",
       "      <th></th>\n",
       "      <th></th>\n",
       "      <th></th>\n",
       "      <th></th>\n",
       "      <th></th>\n",
       "      <th></th>\n",
       "    </tr>\n",
       "  </thead>\n",
       "  <tbody>\n",
       "    <tr>\n",
       "      <th>men</th>\n",
       "      <td>7.0</td>\n",
       "      <td>179.871429</td>\n",
       "      <td>6.216836</td>\n",
       "      <td>169.0</td>\n",
       "      <td>176.80</td>\n",
       "      <td>181.5</td>\n",
       "      <td>183.85</td>\n",
       "      <td>187.3</td>\n",
       "    </tr>\n",
       "    <tr>\n",
       "      <th>women</th>\n",
       "      <td>7.0</td>\n",
       "      <td>171.057143</td>\n",
       "      <td>5.697619</td>\n",
       "      <td>165.2</td>\n",
       "      <td>166.65</td>\n",
       "      <td>170.3</td>\n",
       "      <td>173.75</td>\n",
       "      <td>181.1</td>\n",
       "    </tr>\n",
       "  </tbody>\n",
       "</table>\n",
       "</div>"
      ],
      "text/plain": [
       "         height                                                           \n",
       "          count        mean       std    min     25%    50%     75%    max\n",
       "grouping                                                                  \n",
       "men         7.0  179.871429  6.216836  169.0  176.80  181.5  183.85  187.3\n",
       "women       7.0  171.057143  5.697619  165.2  166.65  170.3  173.75  181.1"
      ]
     },
     "execution_count": 38,
     "metadata": {},
     "output_type": "execute_result"
    }
   ],
   "source": [
    "df.groupby('grouping').describe()"
   ]
  },
  {
   "cell_type": "code",
   "execution_count": 39,
   "metadata": {},
   "outputs": [
    {
     "data": {
      "text/plain": [
       "ShapiroResult(statistic=np.float64(0.9550847949572829), pvalue=np.float64(0.7756238221291043))"
      ]
     },
     "execution_count": 39,
     "metadata": {},
     "output_type": "execute_result"
    }
   ],
   "source": [
    "stats.shapiro(male)"
   ]
  },
  {
   "cell_type": "code",
   "execution_count": 40,
   "metadata": {},
   "outputs": [
    {
     "data": {
      "text/plain": [
       "ShapiroResult(statistic=np.float64(0.9197604725000855), pvalue=np.float64(0.4675335779005911))"
      ]
     },
     "execution_count": 40,
     "metadata": {},
     "output_type": "execute_result"
    }
   ],
   "source": [
    "stats.shapiro(female)"
   ]
  },
  {
   "cell_type": "code",
   "execution_count": 41,
   "metadata": {},
   "outputs": [
    {
     "data": {
      "text/plain": [
       "TtestResult(statistic=np.float64(2.765444762721087), pvalue=np.float64(0.01710570152816618), df=np.float64(12.0))"
      ]
     },
     "metadata": {},
     "output_type": "display_data"
    }
   ],
   "source": [
    "res = stats.ttest_ind(male, female, \n",
    "                      equal_var=True)\n",
    "\n",
    "display(res)"
   ]
  },
  {
   "cell_type": "markdown",
   "metadata": {},
   "source": [
    "## Correlation analysis"
   ]
  },
  {
   "cell_type": "markdown",
   "metadata": {},
   "source": [
    "Once you have read a multivariate data set into python, the next step is usually to make a plot of the data.\n",
    "One common way of plotting multivariate data is to make a matrix scatterplot, showing each pair of variables plotted against each other."
   ]
  },
  {
   "cell_type": "code",
   "execution_count": 43,
   "metadata": {},
   "outputs": [
    {
     "data": {
      "text/html": [
       "<div>\n",
       "<style scoped>\n",
       "    .dataframe tbody tr th:only-of-type {\n",
       "        vertical-align: middle;\n",
       "    }\n",
       "\n",
       "    .dataframe tbody tr th {\n",
       "        vertical-align: top;\n",
       "    }\n",
       "\n",
       "    .dataframe thead th {\n",
       "        text-align: right;\n",
       "    }\n",
       "</style>\n",
       "<table border=\"1\" class=\"dataframe\">\n",
       "  <thead>\n",
       "    <tr style=\"text-align: right;\">\n",
       "      <th></th>\n",
       "      <th>grouping</th>\n",
       "      <th>height</th>\n",
       "    </tr>\n",
       "  </thead>\n",
       "  <tbody>\n",
       "    <tr>\n",
       "      <th>0</th>\n",
       "      <td>men</td>\n",
       "      <td>181.5</td>\n",
       "    </tr>\n",
       "    <tr>\n",
       "      <th>1</th>\n",
       "      <td>men</td>\n",
       "      <td>187.3</td>\n",
       "    </tr>\n",
       "    <tr>\n",
       "      <th>2</th>\n",
       "      <td>men</td>\n",
       "      <td>175.3</td>\n",
       "    </tr>\n",
       "    <tr>\n",
       "      <th>3</th>\n",
       "      <td>men</td>\n",
       "      <td>178.3</td>\n",
       "    </tr>\n",
       "    <tr>\n",
       "      <th>4</th>\n",
       "      <td>men</td>\n",
       "      <td>169.0</td>\n",
       "    </tr>\n",
       "    <tr>\n",
       "      <th>5</th>\n",
       "      <td>men</td>\n",
       "      <td>183.2</td>\n",
       "    </tr>\n",
       "    <tr>\n",
       "      <th>6</th>\n",
       "      <td>men</td>\n",
       "      <td>184.5</td>\n",
       "    </tr>\n",
       "    <tr>\n",
       "      <th>7</th>\n",
       "      <td>women</td>\n",
       "      <td>175.4</td>\n",
       "    </tr>\n",
       "    <tr>\n",
       "      <th>8</th>\n",
       "      <td>women</td>\n",
       "      <td>172.1</td>\n",
       "    </tr>\n",
       "    <tr>\n",
       "      <th>9</th>\n",
       "      <td>women</td>\n",
       "      <td>181.1</td>\n",
       "    </tr>\n",
       "    <tr>\n",
       "      <th>10</th>\n",
       "      <td>women</td>\n",
       "      <td>165.2</td>\n",
       "    </tr>\n",
       "    <tr>\n",
       "      <th>11</th>\n",
       "      <td>women</td>\n",
       "      <td>166.3</td>\n",
       "    </tr>\n",
       "    <tr>\n",
       "      <th>12</th>\n",
       "      <td>women</td>\n",
       "      <td>167.0</td>\n",
       "    </tr>\n",
       "    <tr>\n",
       "      <th>13</th>\n",
       "      <td>women</td>\n",
       "      <td>170.3</td>\n",
       "    </tr>\n",
       "  </tbody>\n",
       "</table>\n",
       "</div>"
      ],
      "text/plain": [
       "   grouping  height\n",
       "0       men   181.5\n",
       "1       men   187.3\n",
       "2       men   175.3\n",
       "3       men   178.3\n",
       "4       men   169.0\n",
       "5       men   183.2\n",
       "6       men   184.5\n",
       "7     women   175.4\n",
       "8     women   172.1\n",
       "9     women   181.1\n",
       "10    women   165.2\n",
       "11    women   166.3\n",
       "12    women   167.0\n",
       "13    women   170.3"
      ]
     },
     "execution_count": 43,
     "metadata": {},
     "output_type": "execute_result"
    }
   ],
   "source": [
    "df"
   ]
  },
  {
   "cell_type": "markdown",
   "metadata": {},
   "source": [
    "In this matrix scatterplot, the diagonal cells show histograms of each of the variables, in this case the concentrations of the first five chemicals (variables V2, V3, V4, V5, V6).\n",
    "\n",
    "Each of the off-diagonal cells is a scatterplot of two of the five chemicals, for example, the second cell in the first row is a scatterplot of V2 (y-axis) against V3 (x-axis).\n",
    "\n",
    "If you see an interesting scatterplot for two variables in the matrix scatterplot, you may want to plot that scatterplot in more detail, with the data points labelled by their group (their cultivar in this case)."
   ]
  },
  {
   "cell_type": "markdown",
   "metadata": {},
   "source": [
    "Another type of plot that is useful is a profile plot, which shows the variation in each of the variables, by plotting the value of each of the variables for each of the samples."
   ]
  },
  {
   "cell_type": "code",
   "execution_count": 44,
   "metadata": {},
   "outputs": [],
   "source": [
    "def calcWithinGroupsCovariance(variable1, variable2, groupvariable):\n",
    "    levels = sorted(set(groupvariable))\n",
    "    numlevels = len(levels)\n",
    "    Covw = 0.0\n",
    "    # get the covariance of variable 1 and variable 2 for each group:\n",
    "    for leveli in levels:\n",
    "        levelidata1 = variable1[groupvariable==leveli]\n",
    "        levelidata2 = variable2[groupvariable==leveli]\n",
    "        mean1 = np.mean(levelidata1)\n",
    "        mean2 = np.mean(levelidata2)\n",
    "        levelilength = len(levelidata1)\n",
    "        # get the covariance for this group:\n",
    "        term1 = 0.0\n",
    "        for levelidata1j, levelidata2j in zip(levelidata1, levelidata2):\n",
    "            term1 += (levelidata1j - mean1)*(levelidata2j - mean2)\n",
    "        Cov_groupi = term1 # covariance for this group\n",
    "        Covw += Cov_groupi\n",
    "    totallength = len(variable1)\n",
    "    Covw /= totallength - numlevels\n",
    "    return Covw"
   ]
  },
  {
   "cell_type": "code",
   "execution_count": 45,
   "metadata": {},
   "outputs": [
    {
     "data": {
      "text/plain": [
       "np.float64(0.28667830215140194)"
      ]
     },
     "execution_count": 45,
     "metadata": {},
     "output_type": "execute_result"
    }
   ],
   "source": [
    "calcWithinGroupsCovariance(X.V8, X.V11, y)"
   ]
  },
  {
   "cell_type": "code",
   "execution_count": 46,
   "metadata": {},
   "outputs": [],
   "source": [
    "def calcBetweenGroupsCovariance(variable1, variable2, groupvariable):\n",
    "    # find out how many values the group variable can take\n",
    "    levels = sorted(set(groupvariable))\n",
    "    numlevels = len(levels)\n",
    "    # calculate the grand means\n",
    "    variable1mean = np.mean(variable1)\n",
    "    variable2mean = np.mean(variable2)\n",
    "    # calculate the between-groups covariance\n",
    "    Covb = 0.0\n",
    "    for leveli in levels:\n",
    "        levelidata1 = variable1[groupvariable==leveli]\n",
    "        levelidata2 = variable2[groupvariable==leveli]\n",
    "        mean1 = np.mean(levelidata1)\n",
    "        mean2 = np.mean(levelidata2)\n",
    "        levelilength = len(levelidata1)\n",
    "        term1 = (mean1 - variable1mean) * (mean2 - variable2mean) * levelilength\n",
    "        Covb += term1\n",
    "    Covb /= numlevels - 1\n",
    "    return Covb"
   ]
  },
  {
   "cell_type": "code",
   "execution_count": 47,
   "metadata": {},
   "outputs": [
    {
     "data": {
      "text/plain": [
       "np.float64(-60.41077483591621)"
      ]
     },
     "execution_count": 47,
     "metadata": {},
     "output_type": "execute_result"
    }
   ],
   "source": [
    "calcBetweenGroupsCovariance(X.V8, X.V11, y)"
   ]
  },
  {
   "cell_type": "markdown",
   "metadata": {},
   "source": [
    "Thus, for V8 and V11, the between-groups covariance is -60.41 and the within-groups covariance is 0.29. Since the within-groups covariance is positive (0.29), it means V8 and V11 are positively related within groups: for individuals from the same group, individuals with a high value of V8 tend to have a high value of V11, and vice versa. Since the between-groups covariance is negative (-60.41), V8 and V11 are negatively related between groups: groups with a high mean value of V8 tend to have a low mean value of V11, and vice versa."
   ]
  },
  {
   "cell_type": "code",
   "execution_count": 48,
   "metadata": {},
   "outputs": [
    {
     "name": "stdout",
     "output_type": "stream",
     "text": [
      "p-value:\t 0.21008198597074354\n",
      "cor:\t\t 0.09439694091041403\n"
     ]
    }
   ],
   "source": [
    "corr = stats.pearsonr(X.V2, X.V3)\n",
    "print(\"p-value:\\t\", corr[1])\n",
    "print(\"cor:\\t\\t\", corr[0])"
   ]
  },
  {
   "cell_type": "markdown",
   "metadata": {},
   "source": [
    "This tells us that the correlation coefficient is about 0.094, which is a very weak correlation. Furthermore, the p-value for the statistical test of whether the correlation coefficient is significantly different from zero is 0.21. This is much greater than 0.05 (which we can use here as a cutoff for statistical significance), so there is very weak evidence that that the correlation is non-zero."
   ]
  },
  {
   "cell_type": "code",
   "execution_count": 49,
   "metadata": {},
   "outputs": [
    {
     "data": {
      "image/png": "[encoded data removed]",
      "text/plain": [
       "<Figure size 640x480 with 2 Axes>"
      ]
     },
     "metadata": {},
     "output_type": "display_data"
    }
   ],
   "source": [
    "corrmat = X.corr()\n",
    "sns.heatmap(corrmat, vmax=1., square=False).xaxis.tick_top()"
   ]
  },
  {
   "cell_type": "code",
   "execution_count": 52,
   "metadata": {},
   "outputs": [
    {
     "name": "stdout",
     "output_type": "stream",
     "text": [
      "SignificanceResult(statistic=np.float64(0.1404301775567423), pvalue=np.float64(0.06153270929535729))\n"
     ]
    }
   ],
   "source": [
    "import scipy.stats as stats\n",
    "\n",
    "print(stats.spearmanr(X.V3, X.V2))"
   ]
  },
  {
   "cell_type": "code",
   "execution_count": null,
   "metadata": {},
   "outputs": [],
   "source": []
  }
 ],
 "metadata": {
  "interpreter": {
   "hash": "39fa20ea55bc5d7a2dc42170e14aeb88f90d2d70bb3fcd86b7ae5085bbdb4347"
  },
  "kernelspec": {
   "display_name": "Python 3 (ipykernel)",
   "language": "python",
   "name": "python3"
  },
  "language_info": {
   "codemirror_mode": {
    "name": "ipython",
    "version": 3
   },
   "file_extension": ".py",
   "mimetype": "text/x-python",
   "name": "python",
   "nbconvert_exporter": "python",
   "pygments_lexer": "ipython3",
   "version": "3.12.1"
  }
 },
 "nbformat": 4,
 "nbformat_minor": 4
}
